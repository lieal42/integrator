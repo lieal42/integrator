{
 "cells": [
  {
   "cell_type": "markdown",
   "metadata": {},
   "source": [
    "## Dictionaries\n",
    "dictionaries are very similar to the associative container `map<T,K>` discussed in C++. They are also known as __hash tables__ in other languages, e.g. `perl`. The `{}` operator is used to create a `dict` object"
   ]
  },
  {
   "cell_type": "code",
   "execution_count": null,
   "metadata": {
    "scrolled": true
   },
   "outputs": [
    {
     "name": "stdout",
     "output_type": "stream",
     "text": [
      "['january', 'february', 'march', 'april', 'may', 'june', 'july', 'august', 'september', 'october', 'november', 'december']\n"
     ]
    }
   ],
   "source": [
    "months = ['january', 'february', 'march', 'april', 'may', 'june', 'july', 'august', 'september', 'october', 'november', 'december']\n",
    "print(months)\n",
    "days = {}\n",
    "for m in months:\n",
    "    days[m] = int(input(\"# of days in {0}: \".format(m)))\n",
    "print(days)"
   ]
  },
  {
   "cell_type": "markdown",
   "metadata": {},
   "source": [
    "## Manual creation\n",
    "You can also create a dictionary by hand"
   ]
  },
  {
   "cell_type": "code",
   "execution_count": null,
   "metadata": {},
   "outputs": [],
   "source": [
    "dict1 = { 'a' : 1, 'b' : (1,2,3), 'c' : ['one','two'], 'd' : 'example', }\n",
    "print(dict1)"
   ]
  },
  {
   "cell_type": "code",
   "execution_count": null,
   "metadata": {},
   "outputs": [],
   "source": [
    "students = { 'rio': {'name':'john', 'age':23, 'id':123456}, 'nairobi':{'name':'susan', 'id':123123, 'age':21},  'tokyo':{'name':'maria', 'id':123651, 'age':24}, }\n",
    "print(students)"
   ]
  },
  {
   "cell_type": "markdown",
   "metadata": {},
   "source": [
    "you can add a new value for a key"
   ]
  },
  {
   "cell_type": "code",
   "execution_count": null,
   "metadata": {},
   "outputs": [],
   "source": [
    "students['oslo'] = {'name':'', 'age':30, 'id':111111} \n",
    "print(students)"
   ]
  },
  {
   "cell_type": "markdown",
   "metadata": {},
   "source": [
    "If the key already is used, its value will be updated. This is similar to modifying elements of a list"
   ]
  },
  {
   "cell_type": "code",
   "execution_count": null,
   "metadata": {},
   "outputs": [],
   "source": [
    "students['oslo'] = {'name':'sergey', 'age':22} \n",
    "print(students)"
   ]
  },
  {
   "cell_type": "markdown",
   "metadata": {},
   "source": [
    "You can check if the dictionary contains a key"
   ]
  },
  {
   "cell_type": "code",
   "execution_count": null,
   "metadata": {},
   "outputs": [],
   "source": [
    "while True:\n",
    "    name = input(\"name (press return to end): \")  \n",
    "    if(name==''): break\n",
    "    if name not in students:\n",
    "        print(\"{0} not in the list. sorry.\".format(name))\n",
    "    else: \n",
    "        print(\"name: {0}\\t age: {1}\\t id: {2}\".format(students[name]['name'], students[name]['age'], students[name]['id']))\n",
    "    "
   ]
  },
  {
   "cell_type": "markdown",
   "metadata": {},
   "source": [
    "This if-else structure is very common with dictionaries. so in pythion there is a dedicated method\n",
    "```python\n",
    "value = some_dict.get(key, value_if_key_not_found)\n",
    "```"
   ]
  },
  {
   "cell_type": "code",
   "execution_count": null,
   "metadata": {},
   "outputs": [],
   "source": [
    "while True:\n",
    "    name = input(\"name (press return to end): \")  \n",
    "    if(name==''): break\n",
    "    val = students.get(name, \"not found\")\n",
    "    print(val)"
   ]
  },
  {
   "cell_type": "markdown",
   "metadata": {},
   "source": [
    "### Keys are unique\n",
    "- there can be only one value for a given key in a dict made of `key:value`\n",
    "- if you need more values for a key, then what you want is a dictionary of `key:[value]` "
   ]
  },
  {
   "cell_type": "code",
   "execution_count": null,
   "metadata": {},
   "outputs": [],
   "source": [
    "particles = { 'boson':['Z', 'gluon', 'W', 'photon'], 'meson':['pion', 'kaon'], 'quark':['u','d','s'], 'lepton':['electron', 'muon']}\n",
    "particles"
   ]
  },
  {
   "cell_type": "code",
   "execution_count": null,
   "metadata": {},
   "outputs": [],
   "source": [
    "particles['lepton'].append('tau')\n",
    "particles"
   ]
  },
  {
   "cell_type": "code",
   "execution_count": null,
   "metadata": {},
   "outputs": [],
   "source": [
    "particles.keys()"
   ]
  },
  {
   "cell_type": "code",
   "execution_count": null,
   "metadata": {},
   "outputs": [],
   "source": [
    "particles['meson']"
   ]
  },
  {
   "cell_type": "markdown",
   "metadata": {},
   "source": [
    "### iterating over dict \n",
    "by default the iterator gives you the keys"
   ]
  },
  {
   "cell_type": "code",
   "execution_count": null,
   "metadata": {},
   "outputs": [],
   "source": [
    "for p in particles:\n",
    "    print(p)"
   ]
  },
  {
   "cell_type": "markdown",
   "metadata": {},
   "source": [
    "You can also explicitly loop over keys"
   ]
  },
  {
   "cell_type": "code",
   "execution_count": null,
   "metadata": {},
   "outputs": [],
   "source": [
    "for k in particles.keys():\n",
    "    print(k)"
   ]
  },
  {
   "cell_type": "code",
   "execution_count": null,
   "metadata": {},
   "outputs": [],
   "source": [
    "for k in particles:\n",
    "    print(particles[k])"
   ]
  },
  {
   "cell_type": "markdown",
   "metadata": {},
   "source": [
    "### acccessing values without keys\n",
    "If you do not care about the kets but need all the values python provides with `values` function.\n",
    "\n",
    "This operation is also called __flattening__."
   ]
  },
  {
   "cell_type": "code",
   "execution_count": null,
   "metadata": {
    "scrolled": true
   },
   "outputs": [],
   "source": [
    "all_vals=[]\n",
    "for v in particles.values():\n",
    "    print(v)\n",
    "    all_vals.extend(v)\n",
    "print(all_vals)"
   ]
  },
  {
   "cell_type": "code",
   "execution_count": null,
   "metadata": {},
   "outputs": [],
   "source": [
    "dic2 = { 123: (1,2,3), 'one': [1.2, 2.3] , (1,2): 'tuple'}\n",
    "print(dic2)\n",
    "for i in dic2:\n",
    "    print( type(i), type(dic2[i]) )"
   ]
  },
  {
   "cell_type": "markdown",
   "metadata": {},
   "source": [
    "Same behavior can be obtained with a double loop"
   ]
  },
  {
   "cell_type": "code",
   "execution_count": null,
   "metadata": {},
   "outputs": [],
   "source": [
    "flat=[]\n",
    "for v in particles.values():\n",
    "    for i in v:\n",
    "        flat.append(i)\n",
    "print(flat)"
   ]
  },
  {
   "cell_type": "markdown",
   "metadata": {},
   "source": [
    "### Valid key types\n",
    "- Keys must be hashable\n",
    "    - immutable scalar type like int, float, string\n",
    "    - tuples\n",
    "- This means a unique identifier can be created based on your key.\n",
    "- youn can check if a variable is hashable or not in python"
   ]
  },
  {
   "cell_type": "code",
   "execution_count": null,
   "metadata": {},
   "outputs": [],
   "source": [
    "hash('boson')"
   ]
  },
  {
   "cell_type": "code",
   "execution_count": null,
   "metadata": {},
   "outputs": [],
   "source": [
    "hash((2,3,2.4))"
   ]
  },
  {
   "cell_type": "code",
   "execution_count": null,
   "metadata": {},
   "outputs": [],
   "source": [
    "hash(3.1234324)"
   ]
  },
  {
   "cell_type": "code",
   "execution_count": null,
   "metadata": {},
   "outputs": [],
   "source": [
    "c = 2.9\n",
    "hash(c)\n",
    "dict3 = { c:'value of c', 5.9:'value of something'}\n",
    "print(dict3)\n",
    "\n",
    "c = 5.4\n",
    "dict3[c] = 'new'\n",
    "print(dict3)\n",
    "\n",
    "c = 5.6\n",
    "dict3[-3.4] = 'new val'\n",
    "print(dict3)"
   ]
  },
  {
   "cell_type": "code",
   "execution_count": null,
   "metadata": {},
   "outputs": [],
   "source": [
    "hash([1,2.3])"
   ]
  },
  {
   "cell_type": "code",
   "execution_count": null,
   "metadata": {},
   "outputs": [],
   "source": [
    "d = [1,2,3]\n",
    "hash(d)"
   ]
  },
  {
   "cell_type": "markdown",
   "metadata": {},
   "source": [
    "## Set\n",
    "- an unordered collection of __unique__ elements\n",
    "- the natural example is the collection of the keys of a dictionary\n",
    "- a set is created with `{}` or with the `set` function\n",
    "\n",
    "consider our days dictionary that stores the days for each month"
   ]
  },
  {
   "cell_type": "code",
   "execution_count": null,
   "metadata": {},
   "outputs": [],
   "source": [
    "day_len = days.values()\n",
    "day_len"
   ]
  },
  {
   "cell_type": "markdown",
   "metadata": {},
   "source": [
    "we can create a set from this list"
   ]
  },
  {
   "cell_type": "code",
   "execution_count": null,
   "metadata": {},
   "outputs": [],
   "source": [
    "days_set = set( day_len)\n",
    "days_set\n",
    "print(days_set)\n",
    "new_set = {1,2,3,4,1, 34, 3, 2, 34}\n",
    "print(new_set)"
   ]
  },
  {
   "cell_type": "markdown",
   "metadata": {},
   "source": [
    "### Sets and dictionaries for data analysis"
   ]
  },
  {
   "cell_type": "code",
   "execution_count": null,
   "metadata": {},
   "outputs": [],
   "source": [
    "import random as r\n",
    "\n",
    "grades =[]\n",
    "\n",
    "for i in range(50):\n",
    "    grades.append( r.randrange(10,31))\n",
    "print(grades)"
   ]
  },
  {
   "cell_type": "markdown",
   "metadata": {},
   "source": [
    "Using `set` we find the unique values of grades"
   ]
  },
  {
   "cell_type": "code",
   "execution_count": null,
   "metadata": {},
   "outputs": [],
   "source": [
    "vals = set(grades)\n",
    "print(vals)\n",
    "grades.count(18)"
   ]
  },
  {
   "cell_type": "code",
   "execution_count": null,
   "metadata": {},
   "outputs": [],
   "source": [
    "data = {}\n",
    "for v in vals:\n",
    "    data[v] = grades.count(v)\n",
    "    print(\"grade: {0}  frequency: {1}\".format(v,data[v]))"
   ]
  },
  {
   "cell_type": "markdown",
   "metadata": {},
   "source": [
    "## Plotting a histogram\n",
    "\n",
    "all you need are two collections (lists in this case)\n",
    "- values on the x axis\n",
    "- the number of counts for each value of x\n",
    "\n",
    "We use the [matplotlib.pyplot.bar](https://matplotlib.org/3.1.1/api/_as_gen/matplotlib.pyplot.bar.html) function for this purpose"
   ]
  },
  {
   "cell_type": "code",
   "execution_count": null,
   "metadata": {},
   "outputs": [],
   "source": [
    "%matplotlib notebook\n",
    "import matplotlib.pyplot as plt\n",
    "\n",
    "plt.bar(list(data.keys()), list(data.values()), color='magenta', label=\"grades\")\n",
    "plt.title(\"distribution of grades in the exam\")\n",
    "plt.xlabel('grade')\n",
    "plt.ylabel('frequency')\n",
    "plt.grid()\n",
    "plt.legend()\n",
    "plt.show()"
   ]
  },
  {
   "cell_type": "markdown",
   "metadata": {},
   "source": [
    "You could also create a histogram using  [matplotlib.pyplot.hist](https://matplotlib.org/3.3.3/api/_as_gen/matplotlib.pyplot.hist.html)\n",
    "\n",
    "Note the strange-looking syntax since `hist` is returning more than one value! This is a feature of functions in python which we will discuss shortly"
   ]
  },
  {
   "cell_type": "code",
   "execution_count": null,
   "metadata": {},
   "outputs": [],
   "source": [
    "%matplotlib notebook\n",
    "n, bins, patches = plt.hist(grades, bins=len(set(grades)),facecolor='green')\n",
    "print(n)\n",
    "print(bins)"
   ]
  },
  {
   "cell_type": "markdown",
   "metadata": {},
   "source": [
    "## Set operations\n",
    "sets in python  support all mathematical operations for a mathematical set\n",
    "try `help(set)` for all functionalities"
   ]
  },
  {
   "cell_type": "code",
   "execution_count": null,
   "metadata": {},
   "outputs": [],
   "source": [
    "a = {0,1,2,3,4,5,6,7,8,9}\n",
    "even = {0,2,4,6,8}\n",
    "odd = {1,3,5,7,9}\n",
    "prime = {1,2,3,5,7,11,13,17,19}"
   ]
  },
  {
   "cell_type": "code",
   "execution_count": null,
   "metadata": {},
   "outputs": [],
   "source": [
    "a & even"
   ]
  },
  {
   "cell_type": "code",
   "execution_count": null,
   "metadata": {},
   "outputs": [],
   "source": [
    "even.intersection(prime)"
   ]
  },
  {
   "cell_type": "code",
   "execution_count": null,
   "metadata": {},
   "outputs": [],
   "source": [
    "a | prime"
   ]
  },
  {
   "cell_type": "code",
   "execution_count": null,
   "metadata": {},
   "outputs": [],
   "source": [
    "even.union(prime)"
   ]
  },
  {
   "cell_type": "code",
   "execution_count": null,
   "metadata": {},
   "outputs": [],
   "source": [
    "odd.difference(prime)"
   ]
  },
  {
   "cell_type": "markdown",
   "metadata": {},
   "source": [
    "# Comprehensions for List, Set, Dict\n",
    "- One of the lost-loved features of python\n",
    "- allows concise operation on collections without too many loops\n",
    "- output of the operation is a new collection (set, list, dict)\n",
    "\n",
    "## List comprehension\n",
    "the basic expression is\n",
    "\n",
    "```python\n",
    "[ expression for val in collection if some_condition ]\n",
    "```\n",
    "\n",
    "Let's see the previous example using a comprehension. Rather than writing the numbers by hand we can use a comprehension with an algorithm"
   ]
  },
  {
   "cell_type": "code",
   "execution_count": null,
   "metadata": {},
   "outputs": [],
   "source": [
    "a = { i for i in range(0,10)}\n",
    "print(a)\n",
    "\n",
    "even = { i for i in range(0,10,2)}\n",
    "print(even)\n",
    "\n",
    "odd = {i for i in range(1,10,2)}\n",
    "print(odd)\n",
    "\n",
    "prime = {1,2,3,5,7,11,13,17,19}"
   ]
  },
  {
   "cell_type": "markdown",
   "metadata": {},
   "source": [
    "### Generating random numbers\n",
    "Suppose we want to analyse the results of an exam. \n",
    "\n",
    "First we need to generate N grades between 10 and 30.\n",
    "\n",
    "The python [random](https://docs.python.org/3/library/random.html) module provided many useful functions for generation of random numbers or collections of numbers"
   ]
  },
  {
   "cell_type": "code",
   "execution_count": null,
   "metadata": {},
   "outputs": [],
   "source": [
    "import random as r\n",
    "\n",
    "n_students = 50\n",
    "\n",
    "voti = [ r.randrange(10,31) for i in range(n_students)]\n",
    "print(voti)"
   ]
  },
  {
   "cell_type": "markdown",
   "metadata": {},
   "source": [
    "The most basic question is how many people failed the exam.\n",
    "\n",
    "you could  do simple counting"
   ]
  },
  {
   "cell_type": "code",
   "execution_count": null,
   "metadata": {},
   "outputs": [],
   "source": [
    "nfail = 0\n",
    "for v in voti:\n",
    "    if v <18:\n",
    "        nfail+=1\n",
    "print(\"# grades <18:  %2d\"%(nfail))"
   ]
  },
  {
   "cell_type": "markdown",
   "metadata": {},
   "source": [
    "but in general having a list of information rather than just a count is more flexible for future analysis"
   ]
  },
  {
   "cell_type": "code",
   "execution_count": null,
   "metadata": {},
   "outputs": [],
   "source": [
    "failed = []\n",
    "for v in voti:\n",
    "    if v <18:\n",
    "        failed.append(v)\n",
    "print(\"# grades <18:  {0}\".format(len(failed)))"
   ]
  },
  {
   "cell_type": "markdown",
   "metadata": {},
   "source": [
    "You note that you did the following sequence of operations\n",
    "  - create a new empty list\n",
    "  - iterate over existing objects\n",
    "  - check some_condition on each object\n",
    "  - if positive then add object to new list\n",
    "\n",
    "In python this can be written concisely and in a natural language with what is called a __comprehension__."
   ]
  },
  {
   "cell_type": "code",
   "execution_count": null,
   "metadata": {},
   "outputs": [],
   "source": [
    "new_failed  = [ v for v in voti if v<18 ]\n",
    "good_grades = [ v for v in voti if v>=18 ]\n",
    "print(len(new_failed),len(good_grades))"
   ]
  },
  {
   "cell_type": "markdown",
   "metadata": {},
   "source": [
    "you can also also apply any function to each item \n"
   ]
  },
  {
   "cell_type": "code",
   "execution_count": null,
   "metadata": {},
   "outputs": [],
   "source": [
    "def isodd(x):\n",
    "    if x%2 != 0:\n",
    "        return True\n",
    "odds  = [ v for v in voti if isodd(v) ]\n",
    "evens  = [ v for v in voti if not isodd(v) ]\n",
    "print(len(odds))\n",
    "print(len(evens))\n",
    "\n",
    "import math\n",
    "sqrts = [ math.sqrt(v) for v in voti]\n",
    "print(sqrts[:10])"
   ]
  },
  {
   "cell_type": "markdown",
   "metadata": {},
   "source": [
    "Manipulation with strings is also very easy"
   ]
  },
  {
   "cell_type": "code",
   "execution_count": null,
   "metadata": {
    "scrolled": true
   },
   "outputs": [],
   "source": [
    "months"
   ]
  },
  {
   "cell_type": "code",
   "execution_count": null,
   "metadata": {},
   "outputs": [],
   "source": [
    "monthkeys = [ m[:3].upper() for m in months ]\n",
    "monthkeys"
   ]
  },
  {
   "cell_type": "markdown",
   "metadata": {},
   "source": [
    "## Another example with comprehensions: motion of a body under gravity\n",
    "we now revisit our program from last lecture to use comprehensions.\n",
    "\n",
    "The orignal example [gravity1](../lec23/examples/gravity1.py) is reported here again"
   ]
  },
  {
   "cell_type": "code",
   "execution_count": null,
   "metadata": {},
   "outputs": [],
   "source": [
    "# initial conditions\n",
    "g = 9.8\n",
    "h = 0.\n",
    "theta = radians(45)\n",
    "v0 = 10.\n",
    "dt=0.01\n",
    "\n",
    "#compute velocity components\n",
    "v0x = v0*math.cos(theta)\n",
    "v0y = v0*math.sin(theta)\n",
    "print(\"v0_x: %.3f m/s \\t v0_y: %.3f m/s\"%(v0x,v0y))\n",
    "\n",
    "t=0.\n",
    "x=[]\n",
    "y=[]\n",
    "xi=0\n",
    "yi=h\n",
    "\n",
    "while yi>=0:\n",
    "    x.append(xi)\n",
    "    y.append(yi)\n",
    "    t+=dt\n",
    "    xi=v0x*t\n",
    "    yi=h+v0y*t-0.5*g*t*t"
   ]
  },
  {
   "cell_type": "markdown",
   "metadata": {},
   "source": [
    "We can rewrite the computational part with comprehensions. Rather than computing the time at eah step, we first create a list of times to iterate over."
   ]
  },
  {
   "cell_type": "code",
   "execution_count": null,
   "metadata": {},
   "outputs": [],
   "source": [
    "import numpy as np\n",
    "import math\n",
    "\n",
    "# initial conditions\n",
    "g = 9.8\n",
    "h = 0.\n",
    "theta = radians(45)\n",
    "v0 = 10.\n",
    "dt=0.01\n",
    "\n",
    "#compute velocity components\n",
    "v0x = v0*math.cos(theta)\n",
    "v0y = v0*math.sin(theta)\n",
    "print(\"v0_x: %.3f m/s \\t v0_y: %.3f m/s\"%(v0x,v0y))\n",
    "\n",
    "x0 = 0\n",
    "y0 = h\n",
    "\n",
    "def x(t):\n",
    "    return x0+v0x*t\n",
    "\n",
    "def y(t):\n",
    "    return y0+v0y*t-0.5*g*t*t\n",
    "\n",
    "\n",
    "# generate list of times for sampling\n",
    "times = np.arange(0., 1000., 0.01).tolist() \n",
    "\n",
    "#print first 10 elements\n",
    "print(times[:10])\n",
    "\n",
    "# compute x(t_i)\n",
    "xi = [ x(t) for t in times if y(t)>=0.]\n",
    "\n",
    "# compute y(t_i)\n",
    "yi = [ y(t) for t in times if y(t)>=0. ]\n",
    "\n",
    "print( \"total steps:\\t %-4d\"%len(xi))\n",
    "print( \"last x:\\t\\t %.2f\"%xi[-1])\n",
    "print( \"last y:\\t\\t %.3f\"%yi[-1])"
   ]
  },
  {
   "cell_type": "markdown",
   "metadata": {},
   "source": [
    "### Comprehension with dictionary\n",
    "We now use a comprehension to invert our dict of months and days"
   ]
  },
  {
   "cell_type": "code",
   "execution_count": null,
   "metadata": {
    "scrolled": true
   },
   "outputs": [],
   "source": [
    "days"
   ]
  },
  {
   "cell_type": "code",
   "execution_count": null,
   "metadata": {},
   "outputs": [],
   "source": [
    "inv_map = { i: [] for i in set(days.values()) }\n",
    "print(inv_map)\n",
    "\n",
    "for i in days:\n",
    "    inv_map[days[i]].append(i)\n",
    "print(inv_map)"
   ]
  },
  {
   "cell_type": "markdown",
   "metadata": {},
   "source": [
    "# More on Functions\n",
    "We discuss some of the useful features of functions in python here \n",
    "\n",
    "## returning multiple values\n",
    "In C++ a function can return only one value\n",
    "```c++\n",
    "T function(args) {\n",
    " T val;\n",
    " // calculations\n",
    " return val;\n",
    "}\n",
    "```\n",
    "where T can be any type or class.\n",
    "\n",
    "In python instead we can return an arbitrary number of values of any type"
   ]
  },
  {
   "cell_type": "code",
   "execution_count": null,
   "metadata": {},
   "outputs": [],
   "source": [
    "def powers(x):\n",
    "    return x**2, x**3, x**4, x**5\n",
    "\n",
    "type(powers(3))\n",
    "myl = list(powers(2.2))\n",
    "print(myl)\n",
    "myt = powers(4.5)\n",
    "type(myt)"
   ]
  },
  {
   "cell_type": "markdown",
   "metadata": {},
   "source": [
    "### Example: calculating boost parameters\n",
    "\n",
    "Let's use the list and functions to compute simple kinematic information and boos parameters.\n",
    "\n",
    "For simplcity we assume the momentum along the x axis, but you can very easily generalize the example"
   ]
  },
  {
   "cell_type": "code",
   "execution_count": null,
   "metadata": {},
   "outputs": [],
   "source": [
    "import math as m\n",
    "\n",
    "m_pi = 0.140 # GeV\n",
    "p_pi = 1.2 # GeV\n",
    "\n",
    "def make_p4(mass,p):\n",
    "    return [m.sqrt(mass**2+p**2), p, 0, 0]# momentum along x axis\n",
    "\n",
    "    \n",
    "p4_pi = make_p4(m_pi, p_pi)\n",
    "print(p4_pi)\n",
    "\n",
    "\n",
    "def boost_params(p4):\n",
    "    p = m.sqrt(p4[1]**2+p4[2]**2+p4[3]**2)\n",
    "    E = p4[0]\n",
    "    mass = m.sqrt(E**2-p**2)\n",
    "    return p/E, E/mass, p/mass\n",
    "\n",
    "beta_pi, gamma_pi, betagamma_pi = boost_params(p4_pi)\n",
    "\n",
    "print(\"pi boost beta: {0:.3f} gamma: {1:.3f} betagamma: {2:.3f}\".format(beta_pi, gamma_pi, betagamma_pi) )\n"
   ]
  },
  {
   "cell_type": "markdown",
   "metadata": {},
   "source": [
    "Note that if you do not provide the necessary variables for all output, you get a set"
   ]
  },
  {
   "cell_type": "code",
   "execution_count": null,
   "metadata": {},
   "outputs": [],
   "source": [
    "m_K = 0.5 # GeV\n",
    "p_K = 3.1 # GeV\n",
    "boost_K = boost_params( make_p4(m_K, p_K) ) \n",
    "print(boost_K)\n",
    "print(type(boost_K))"
   ]
  },
  {
   "cell_type": "markdown",
   "metadata": {},
   "source": [
    "## The _ variable\n",
    "\n",
    "If you return more values you need to make sure that all of them are used when calling the function.\n",
    "\n",
    "Suppose we only need beta and gamma and not betagamma"
   ]
  },
  {
   "cell_type": "code",
   "execution_count": null,
   "metadata": {},
   "outputs": [],
   "source": [
    "m_B = 5.279 # GeV\n",
    "p_B = 0.3 # GeV\n",
    "\n",
    "beta_B, gamma_B = boost_params( make_p4(m_B, p_B)  )\n",
    "print(beta_B)"
   ]
  },
  {
   "cell_type": "markdown",
   "metadata": {},
   "source": [
    "as shown in this example, you are forced to have 3 variables in order for your function to work.\n",
    "This can be tedious because at times you might not need all these returned values, or simply do not care. Python has a solution for this as well. \n",
    "\n",
    "\n",
    "The `_`  is a special variable in python that can bse used for a number of purposes. One of them is to ignore values we do not care about.\n",
    "\n",
    "Suppose we want to use only the quadratic power "
   ]
  },
  {
   "cell_type": "code",
   "execution_count": null,
   "metadata": {},
   "outputs": [],
   "source": [
    "beta_B, *_ = boost_params( make_p4(m_B, p_B)  )\n",
    "\n",
    "print(\"B beta: \", beta_B)\n",
    "\n",
    "print(a, _)\n",
    "print(type(_))\n",
    "print(len(_))"
   ]
  },
  {
   "cell_type": "markdown",
   "metadata": {},
   "source": [
    "In this case `*_` means that 0 or more vales are unpacked and assigned to `_`. In this case `_` is a list of 3 objects. You can use `_` like any other variable\n"
   ]
  },
  {
   "cell_type": "code",
   "execution_count": null,
   "metadata": {
    "scrolled": true
   },
   "outputs": [],
   "source": [
    "print(_[0], _[1])"
   ]
  },
  {
   "cell_type": "markdown",
   "metadata": {},
   "source": [
    "Similarly"
   ]
  },
  {
   "cell_type": "code",
   "execution_count": null,
   "metadata": {},
   "outputs": [],
   "source": [
    "a, b,*_ = powers(5)\n",
    "print(a,b,_)\n",
    "\n",
    "a, b,c,_ = powers(13)\n",
    "print(a,b,c,_)\n",
    "\n",
    "a, _,c,_ = powers(13)\n",
    "print(a,c,_)\n",
    "\n",
    "a,* _,d = powers(13)\n",
    "print(a,d,_)\n",
    "\n"
   ]
  },
  {
   "cell_type": "markdown",
   "metadata": {},
   "source": [
    "### Better solution: a dictionary\n",
    "\n",
    "if the multiple values have special meanings you should also consider using a dictionary\n"
   ]
  },
  {
   "cell_type": "code",
   "execution_count": null,
   "metadata": {},
   "outputs": [],
   "source": [
    "def boost_dict(p4):\n",
    "    p = m.sqrt(p4[1]**2+p4[2]**2+p4[3]**2)\n",
    "    E = p4[0]\n",
    "    mass = m.sqrt(E**2-p**2)\n",
    "    return {'beta': p/E, 'gamma' : E/mass, 'betagamma':p/mass }\n",
    "\n",
    "m_mu = 0.106 # GeV\n",
    "p_mu = 0.020 # GeV\n",
    "\n",
    "boost_mu = boost_dict( make_p4(m_mu, p_mu) )\n",
    "\n",
    "print(boost_mu)\n",
    "\n",
    "print(\"mu beta: \", boost_mu['beta'])\n"
   ]
  },
  {
   "cell_type": "markdown",
   "metadata": {},
   "source": [
    "## Local and global scope\n",
    "\n",
    "There is an important difference with respect to C++ in what we have seen so far. A function can access variables defined before the function itself. But local variables in a function are not accessable after the function.\n",
    "\n",
    "Python allows also to define global variables but typically it is bad practice and a sign of bad design and choices so we will not discuss them."
   ]
  },
  {
   "cell_type": "code",
   "execution_count": null,
   "metadata": {
    "scrolled": true
   },
   "outputs": [],
   "source": [
    "\n",
    "g = 9.81\n",
    "v0 = 10.\n",
    "\n",
    "def x(t):\n",
    "    localb = \"local variable\"\n",
    "    val = v0*t\n",
    "    print(\"val: \", val,\" g: \", g, localb)\n",
    "    return val\n",
    "    \n",
    "print(x(2.3))\n",
    "print(localb)\n",
    "print(val)\n",
    "\n",
    "\n"
   ]
  },
  {
   "cell_type": "markdown",
   "metadata": {},
   "source": [
    "## Anonymous (Lambda) functions \n",
    "lambda functions are a special class of functions that consist of a simple single statement.\n",
    "\n",
    "Suppose we want to compute `1+x**2-x**3/pi` for elements of a list, using a comprehension\n",
    "\n",
    "Rather than definining standard function with \n",
    "```python\n",
    "def mysqr(x):\n",
    "    return x**2\n",
    "```\n",
    "\n",
    "we do something more light weight"
   ]
  },
  {
   "cell_type": "code",
   "execution_count": null,
   "metadata": {},
   "outputs": [],
   "source": [
    "import numpy as np\n",
    "def myf(x):\n",
    "    return 1+x**2-x**3/np.pi\n",
    "\n",
    "def apply_to_list(alist, f):\n",
    "    return [ f(x) for x in alist ]\n",
    "\n",
    "alist = np.random.normal(1., 0.3, 5).tolist()\n",
    "print(alist)\n",
    "print( apply_to_list(alist, myf) )\n"
   ]
  },
  {
   "cell_type": "markdown",
   "metadata": {},
   "source": [
    "Function `myf()` has really no other use other than when applied to a list. So its name is basiclaly useless. \n",
    "In fact we wanted now to apply a new function we would need to define a new useless function"
   ]
  },
  {
   "cell_type": "code",
   "execution_count": null,
   "metadata": {},
   "outputs": [],
   "source": [
    "def myf2(x):\n",
    "    return 1+np.log(x**2)+x*np.sin(x*np.pi)\n",
    "\n",
    "print( apply_to_list(alist, myf2) )\n"
   ]
  },
  {
   "cell_type": "markdown",
   "metadata": {},
   "source": [
    "In python we can create functions on the fly which do not have a name. Technically it means the function object does not have `__name__` attribute (equivalent of a C++ data member). We will discuss this next time when looking at classes in python. \n",
    "\n",
    "The solution with lambda function is quite simple"
   ]
  },
  {
   "cell_type": "code",
   "execution_count": null,
   "metadata": {
    "scrolled": true
   },
   "outputs": [],
   "source": [
    "print( apply_to_list(alist, lambda x: np.cos(x)+ np.exp(-x/2.)) )\n",
    "print( apply_to_list(alist, lambda x: x**2 ) )"
   ]
  },
  {
   "cell_type": "markdown",
   "metadata": {},
   "source": [
    "## Sorting lists with lambda functions\n",
    "a typical use of lambda functions is with sorting the lists\n"
   ]
  },
  {
   "cell_type": "code",
   "execution_count": null,
   "metadata": {},
   "outputs": [],
   "source": [
    "vals = np.random.uniform(0., 3., 5).tolist()\n",
    "print(vals)\n",
    "print( [ \"{0:0.3f}\".format(x) for x in vals ]   )\n",
    "\n",
    "vals.sort()\n",
    "print( [ \"%.3f\"%x for x in vals ]  )\n",
    "\n",
    "vals.sort(key=lambda x: np.sin(x))\n",
    "print( [ \"%.3f\"%x for x in vals ] )\n",
    "\n",
    "vals.sort(key=np.cos)\n",
    "print( [ \"%.3f\"%x for x in vals ] )\n",
    "\n",
    "\n",
    "vals.sort(key=lambda x: np.cos(2*x))\n",
    "print( [ \"%.3f\"%x for x in vals ] )\n",
    "\n"
   ]
  },
  {
   "cell_type": "markdown",
   "metadata": {},
   "source": [
    "As an addiitonal use, we can sort the numbers based on unique numerals appearing in the number itself"
   ]
  },
  {
   "cell_type": "code",
   "execution_count": null,
   "metadata": {},
   "outputs": [],
   "source": [
    "print( [ \"{0:0.3f}\".format(x) for x in vals ]   )\n",
    "new_vals = [ set(\"%.3f\"%x) for x in vals ]\n",
    "print( new_vals  )\n",
    "\n",
    "vals.sort(key=lambda x: len(set(\"%.3f\"%x)))\n",
    "print( [ \"%.3f\"%x for x in vals ] )\n"
   ]
  },
  {
   "cell_type": "markdown",
   "metadata": {},
   "source": [
    "# Numpy: Numerical Python package \n",
    "\n",
    "- [NumPy](https://www.numpy.org) is perhaps the most important  package for numerical computing in python\n",
    "- the n-dimentional array in NumPy used a basic  object in most python packages for data exchange\n",
    "  - we will look at its methods and semantics starting today through examples\n",
    "- some of the most important features of Num Py \n",
    "  - ndarray: multidimensional array for fast and efficient array-oriented operations and arithmetics\n",
    "  - mathematical functions for fast operation on  arrays  without using loops and iterations\n",
    "  - tools for I/O to and from disk\n",
    "  - Linear algebra\n",
    "  - random generation \n",
    "  - API to connect NumPy with C and C++ libraries"
   ]
  },
  {
   "cell_type": "markdown",
   "metadata": {},
   "source": [
    "# Numpy: Numerical Python package \n",
    "\n",
    "- [NumPy](https://www.numpy.org) is perhaps the most important  package for numerical computing in python\n",
    "- the n-dimentional array in NumPy used a basic  object in most python packages for data exchange\n",
    "  - we will look at its methods and semantics starting today through examples\n",
    "- some of the most important features of Num Py \n",
    "  - ndarray: multidimensional array for fast and efficient array-oriented operations and arithmetics\n",
    "  - mathematical functions for fast operation on  arrays  without using loops and iterations\n",
    "  - tools for I/O to and from disk\n",
    "  - Linear algebra\n",
    "  - random generation \n",
    "  - API to connect NumPy with C and C++ libraries\n",
    "  \n",
    "## NumPy ndarray: a multidimensional array object\n",
    "`ndarray` is an array that can have arbirary number of dimensions. We will see examples in 2D and 3D for calculations.\n",
    "\n",
    "Its main feature: vector calculations are extremely fast!\n",
    "\n",
    "Let's first see how much faster is an ndarray object"
   ]
  },
  {
   "cell_type": "code",
   "execution_count": null,
   "metadata": {
    "scrolled": true
   },
   "outputs": [],
   "source": [
    "import numpy as np\n",
    "import math as m\n",
    "\n",
    "my_arr = np.arange(1,100000)\n",
    "print(type(my_arr))\n",
    "\n",
    "my_list = list(range(1,100000))\n",
    "print(type(my_list))\n",
    "\n",
    "n_test = 100\n",
    "\n",
    "%time for _ in range(n_test): my_arr2 = my_arr * 2\n",
    "\n",
    "%time for _ in range(n_test): my_list2 = [ x*2 for x in my_list ]"
   ]
  },
  {
   "cell_type": "markdown",
   "metadata": {},
   "source": [
    "__NumPy based algorithms are generally 10 to 100 times faster than pure python counterparts!__"
   ]
  },
  {
   "cell_type": "code",
   "execution_count": null,
   "metadata": {},
   "outputs": [],
   "source": [
    "%time for _ in range(n_test): my_arr3 = my_arr **3\n",
    "\n",
    "%time for _ in range(n_test): my_list3 = [ x*x*x for x in my_list ]"
   ]
  },
  {
   "cell_type": "code",
   "execution_count": null,
   "metadata": {},
   "outputs": [],
   "source": [
    "%time for _ in range(n_test): my_arr3 = np.log(my_arr**2)\n",
    "\n",
    "%time for _ in range(n_test): my_list3 = [ m.log(x*x) for x in my_list ]"
   ]
  },
  {
   "cell_type": "markdown",
   "metadata": {},
   "source": [
    "# Simple plots with matplotlib\n",
    "In this example we plot a few different functions and include labels and legend.\n",
    "\n",
    "The colors are assigned automatically. You can also specify the color by using the proper parameter. See `help(plt.plot)` or visit to [matplotlib.pyplot.plot](https://matplotlib.org/api/_as_gen/matplotlib.pyplot.plot.html) for details.\n",
    "\n",
    "Note how plotting a function consists in sampling the x axis in an interval and then plotting the function for each point. The number of samples will determine how smooth the curve will be."
   ]
  },
  {
   "cell_type": "code",
   "execution_count": null,
   "metadata": {},
   "outputs": [],
   "source": [
    "%matplotlib notebook\n",
    "import matplotlib.pyplot as plt\n",
    "import numpy as np\n",
    "import math\n",
    "\n",
    "# try reducing the sampling to 10\n",
    "x = np.linspace(0.001, 2, 1000)\n",
    "\n",
    "plt.xlabel('x')\n",
    "plt.ylabel('f(x)')\n",
    "\n",
    "plt.title(\"Plot of basic functions\")\n",
    "\n",
    "\n",
    "plt.plot(x, np.sqrt(x), label='sqrt')\n",
    "plt.plot(x, x, label='linear')\n",
    "plt.plot(x, x**2, label='quadratic')\n",
    "plt.plot(x, x**3, label='cubic')\n",
    "plt.plot(x, 1-np.log(x), label='1-log')\n",
    "\n",
    "plt.ylim(0., 5.)\n",
    "plt.grid(True)\n",
    "plt.legend()\n",
    "\n",
    "plt.show()\n",
    "\n"
   ]
  },
  {
   "cell_type": "markdown",
   "metadata": {},
   "source": [
    "# Animated plots with matplotlib\n",
    "We are finally ready to complete the exercise of the moving body by animating the plot.\n",
    "\n",
    "The main difference is that instead of a simple `plt.plot(...)` command, we need to interact with the elements forming a plot. To understand the internals of the plot object take a look at this [matplotlib FAQ](https://matplotlib.org/faq/usage_faq.html).\n",
    "\n",
    "We use the simple version of the example with all values fixed and focus on the plotting part.\n",
    "\n",
    "First we replace [`plt.plot`](https://matplotlib.org/api/_as_gen/matplotlib.pyplot.plot.html) with the two separate statements:"
   ]
  },
  {
   "cell_type": "code",
   "execution_count": null,
   "metadata": {
    "scrolled": false
   },
   "outputs": [],
   "source": [
    "%matplotlib notebook\n",
    "import matplotlib.pyplot as plt\n",
    "import matplotlib.animation as animation\n",
    "import numpy as np\n",
    "import time\n",
    "\n",
    "\n",
    "# initial conditions\n",
    "g = 9.8\n",
    "h = 10.\n",
    "theta = (30./180.)*np.pi\n",
    "v0 = 30.\n",
    "dt=0.01\n",
    "\n",
    "#compute velocity components\n",
    "v0x = v0*np.cos(theta)\n",
    "v0y = v0*np.sin(theta)\n",
    "print(\"v0_x: %.1f m/s \\t v0_y: %.1f m/s\"%(v0x,v0y))\n",
    "\n",
    "x0 = 0\n",
    "y0 = h\n",
    "\n",
    "def x(t):\n",
    "    return x0+v0x*t\n",
    "\n",
    "def y(t):\n",
    "    return y0+v0y*t-0.5*g*t*t\n",
    "\n",
    "\n",
    "dt = 0.01\n",
    "# generate list of times for sampling\n",
    "#times = np.arange(0., 1000., dt).tolist() \n",
    "times = np.linspace(0., 1000., dt).tolist()\n",
    "\n",
    "#print first 10 elements\n",
    "print(times[:10])\n",
    "\n",
    "# compute x(t_i)\n",
    "xi = [ x(t) for t in times if y(t)>=0.]\n",
    "\n",
    "# compute y(t_i)\n",
    "yi = [ y(t) for t in times if y(t)>=0. ]\n",
    "\n",
    "# use 2D array to do one comprehension\n",
    "pos = np.array([ [x(t),y(t)] for t in times if y(t)>=0. ])\n",
    "\n",
    "\n",
    "print(\"max height: %.2f at x = %.2f\"%(max(yi),xi[yi.index(max(yi))]))\n",
    "\n",
    "# create a figure object\n",
    "fig = plt.figure()\n",
    "\n",
    "# add subplot (just 1) and set x and y limits based on data\n",
    "# ax is the object containing objects to be plotted\n",
    "ax = fig.add_subplot(111, autoscale_on=False, xlim=(-0.1, max(xi)*1.2), ylim=(-0.1,max(yi)*1.2) )\n",
    "ax.grid()\n",
    "ax.set_xlabel('x(t) [m]')\n",
    "ax.set_ylabel(\"y(t) [m]\")\n",
    "plt.title(\"trajectory of a projectile with $v_0$: %.1f m/s\\t $\\Theta_0$: %.1f$^\\circ$\"%(v0,theta))\n",
    "\n",
    "# plot \n",
    "#line, = ax.plot(xi, yi, '--', lw=2)\n",
    "line, = ax.plot(pos[:,0], pos[:,1],  lw=2)\n",
    "\n",
    "\n",
    "plt.show()"
   ]
  },
  {
   "cell_type": "markdown",
   "metadata": {},
   "source": [
    "Now we use the [`FuncAnimation`](https://matplotlib.org/api/_as_gen/matplotlib.animation.FuncAnimation.html) to animate the plot. The process consists in 3 steps\n",
    "- plot the initial state of the plot. In our case we plot the initial positions `xi[0]` and `yi[0]`\n",
    "- define a `animate` function that takes an argument and is called to update the info being displayed on the plot\n",
    "- call the `FuncAnimation` function that updates the figure by calling `animate` a number of times\n",
    "  - it has  a numnber of useful options such as whether to repeat the animation, change the frame rate, introduce a delay between repetitions"
   ]
  },
  {
   "cell_type": "code",
   "execution_count": null,
   "metadata": {},
   "outputs": [],
   "source": [
    "%matplotlib notebook\n",
    "import matplotlib.pyplot as plt\n",
    "import matplotlib.animation as animation\n",
    "import numpy as np\n",
    "import time\n",
    "\n",
    "\n",
    "# initial conditions\n",
    "g = 9.8\n",
    "h = 10.\n",
    "theta = (30./180.)*np.pi\n",
    "v0 = 30.\n",
    "dt=0.01\n",
    "\n",
    "#compute velocity components\n",
    "v0x = v0*np.cos(theta)\n",
    "v0y = v0*np.sin(theta)\n",
    "print(\"v0_x: %.3f m/s \\t v0_y: %.3f m/s\"%(v0x,v0y))\n",
    "\n",
    "x0 = 0\n",
    "y0 = h\n",
    "\n",
    "def x(t):\n",
    "    return x0+v0x*t\n",
    "\n",
    "def y(t):\n",
    "    return y0+v0y*t-0.5*g*t*t\n",
    "\n",
    "\n",
    "dt = 0.01\n",
    "# generate list of times for sampling\n",
    "times = np.arange(0., 1000., dt).tolist() \n",
    "\n",
    "#print first 10 elements\n",
    "print(times[:10])\n",
    "\n",
    "# compute x(t_i)\n",
    "xi = [ x(t) for t in times if y(t)>=0.]\n",
    "\n",
    "# compute y(t_i)\n",
    "yi = [ y(t) for t in times if y(t)>=0. ]\n",
    "\n",
    "print(\"max height: %.2f at x = %.2f\"%(max(yi),xi[yi.index(max(yi))]))\n",
    "\n",
    "\n",
    "\n",
    "## simple old plot\n",
    "#plt.plot(xi,yi)\n",
    "\n",
    "# create a figure object\n",
    "fig = plt.figure()\n",
    "\n",
    "# add subplot (just 1) and set x and y limits based on data\n",
    "# ax is the object containing objects to be plotted\n",
    "ax = fig.add_subplot(111, autoscale_on=False, xlim=(-0.1, max(xi)*1.2), ylim=(-0.1,max(yi)*1.2) )\n",
    "ax.grid()\n",
    "ax.set_xlabel('x(t) [m]')\n",
    "ax.set_ylabel(\"y(t) [m]\")\n",
    "plt.title(\"trajectory of a projectile with $v_0$: %.1f m/s\\t $\\Theta_0$: %.1f$^\\circ$\"%(v0,theta))\n",
    "\n",
    "\n",
    "\n",
    "# plot initial state of the plot\n",
    "line, = ax.plot(xi[0], yi[0], 'o-', lw=2)\n",
    "\n",
    "\n",
    "def animate(i):\n",
    "\n",
    "    line.set_data(xi[i], yi[i])\n",
    "    return line\n",
    "\n",
    "#ani = animation.FuncAnimation(fig, animate, np.arange(1, len(xi)), interval=1, blit=True, repeat_delay=1000)\n",
    "ani = animation.FuncAnimation(fig, animate, np.arange(1, len(xi)), interval=1, blit=True, repeat=True)\n",
    "\n",
    "\n",
    "plt.show()\n"
   ]
  },
  {
   "cell_type": "markdown",
   "metadata": {},
   "source": [
    "If you would like to keep the trajectory in the figure, you simply have to specify to plot all the point up to ith position by using slicing. Change `xi[i]` to `xi[:i]`."
   ]
  },
  {
   "cell_type": "code",
   "execution_count": null,
   "metadata": {},
   "outputs": [],
   "source": [
    "%matplotlib notebook\n",
    "import matplotlib.pyplot as plt\n",
    "import matplotlib.animation as animation\n",
    "import numpy as np\n",
    "import time\n",
    "\n",
    "\n",
    "# initial conditions\n",
    "g = 9.8\n",
    "h = 10.\n",
    "theta = (30./180.)*np.pi\n",
    "v0 = 30.\n",
    "dt=0.01\n",
    "\n",
    "#compute velocity components\n",
    "v0x = v0*np.cos(theta)\n",
    "v0y = v0*np.sin(theta)\n",
    "print(\"v0_x: %.3f m/s \\t v0_y: %.3f m/s\"%(v0x,v0y))\n",
    "\n",
    "x0 = 0\n",
    "y0 = h\n",
    "\n",
    "def x(t):\n",
    "    return x0+v0x*t\n",
    "\n",
    "def y(t):\n",
    "    return y0+v0y*t-0.5*g*t*t\n",
    "\n",
    "\n",
    "dt = 0.01\n",
    "# generate list of times for sampling\n",
    "times = np.arange(0., 1000., dt).tolist() \n",
    "\n",
    "#print first 10 elements\n",
    "print(times[:10])\n",
    "\n",
    "# compute x(t_i)\n",
    "xi = [ x(t) for t in times if y(t)>=0.]\n",
    "\n",
    "# compute y(t_i)\n",
    "yi = [ y(t) for t in times if y(t)>=0. ]\n",
    "\n",
    "print(\"max height: %.2f at x = %.2f\"%(max(yi),xi[yi.index(max(yi))]))\n",
    "\n",
    "\n",
    "# create a figure object\n",
    "fig = plt.figure()\n",
    "\n",
    "# add subplot (just 1) and set x and y limits based on data\n",
    "# ax is the object containing objects to be plotted\n",
    "ax = fig.add_subplot(111, autoscale_on=False, xlim=(-0.1, max(xi)*1.2), ylim=(-0.1,max(yi)*1.2) )\n",
    "ax.grid()\n",
    "ax.set_xlabel('x(t) [m]')\n",
    "ax.set_ylabel(\"y(t) [m]\")\n",
    "plt.title(\"trajectory of a projectile with $v_0$: %.1f m/s\\t $\\Theta_0$: %.1f$^\\circ$\"%(v0,theta))\n",
    "\n",
    "\n",
    "\n",
    "# plot initial state of the plot\n",
    "line, = ax.plot(xi[0], yi[0], '--', lw=1)\n",
    "ball, = ax.plot([], [], 'o-', lw=2, color='red')\n",
    "\n",
    "\n",
    "def animate(i):\n",
    "\n",
    "    line.set_data(xi[:i], yi[:i])\n",
    "    ball.set_data(xi[i], yi[i])\n",
    "    return line, ball\n",
    "\n",
    "#ani = animation.FuncAnimation(fig, animate, np.arange(1, len(xi)), interval=1, blit=True, repeat=True, repeat_delay=500)\n",
    "ani = animation.FuncAnimation(fig, animate, np.arange(1, len(xi)), interval=1, blit=True, repeat=False)\n",
    "\n",
    "\n",
    "plt.show()\n"
   ]
  },
  {
   "cell_type": "markdown",
   "metadata": {},
   "source": [
    "## adding legend and info\n",
    "Finally we add some useful info on the plot to report the time and the position.\n",
    "\n",
    "We do this by defining a template text for what we want to show and its format. The actual data is updated in animate as with the positions."
   ]
  },
  {
   "cell_type": "code",
   "execution_count": null,
   "metadata": {
    "scrolled": false
   },
   "outputs": [],
   "source": [
    "%matplotlib notebook\n",
    "import matplotlib.pyplot as plt\n",
    "import matplotlib.animation as animation\n",
    "import numpy as np\n",
    "import time\n",
    "\n",
    "\n",
    "# initial conditions\n",
    "g = 9.8\n",
    "h = 10.\n",
    "theta = (30./180.)*np.pi\n",
    "v0 = 30.\n",
    "dt=0.01\n",
    "\n",
    "#compute velocity components\n",
    "v0x = v0*np.cos(theta)\n",
    "v0y = v0*np.sin(theta)\n",
    "print(\"v0_x: %.3f m/s \\t v0_y: %.3f m/s\"%(v0x,v0y))\n",
    "\n",
    "x0 = 0\n",
    "y0 = h\n",
    "\n",
    "def x(t):\n",
    "    return x0+v0x*t\n",
    "\n",
    "def y(t):\n",
    "    return y0+v0y*t-0.5*g*t*t\n",
    "\n",
    "\n",
    "dt = 0.01\n",
    "# generate list of times for sampling\n",
    "times = np.arange(0., 1000., dt).tolist() \n",
    "\n",
    "# compute x(t_i)\n",
    "xi = [ x(t) for t in times if y(t)>=0.]\n",
    "\n",
    "# compute y(t_i)\n",
    "yi = [ y(t) for t in times if y(t)>=0. ]\n",
    "\n",
    "print(\"max height: %.2f at x = %.2f\"%(max(yi),xi[yi.index(max(yi))]))\n",
    "\n",
    "\n",
    "# create a figure object\n",
    "fig = plt.figure()\n",
    "\n",
    "# add subplot (just 1) and set x and y limits based on data\n",
    "# ax is the object containing objects to be plotted\n",
    "ax = fig.add_subplot(111, autoscale_on=False, xlim=(-0.1, max(xi)*1.2), ylim=(-0.1,max(yi)*1.2) )\n",
    "ax.grid()\n",
    "ax.set_xlabel('x(t) [m]')\n",
    "ax.set_ylabel(\"y(t) [m]\")\n",
    "plt.title(\"trajectory of a projectile with $v_0$: %.1f m/s\\t $\\Theta_0$: %.1f$^\\circ$\"%(v0,theta))\n",
    "\n",
    "\n",
    "\n",
    "# plot initial plot\n",
    "line, = ax.plot(xi[0], yi[0], lw=1)\n",
    "ball, = ax.plot([], [], 'o-', lw=2, color='red')\n",
    "\n",
    "\n",
    "# define a template info box to be shown\n",
    "info_template = 'time = %.1fs  x: %.2fm   y: %.3fm'\n",
    "info_text = ax.text(0.05, 0.95, '', transform=ax.transAxes)\n",
    "\n",
    "\n",
    "def animate(i):\n",
    "\n",
    "    line.set_data(xi[:i], yi[:i])\n",
    "    ball.set_data(xi[i], yi[i])\n",
    "    info_text.set_text(info_template % (times[i], xi[i],yi[i]))\n",
    "    return line, ball, info_text\n",
    "\n",
    "#ani = animation.FuncAnimation(fig, animate, np.arange(1, len(xi)), interval=1, blit=True, repeat_delay=1000)\n",
    "ani = animation.FuncAnimation(fig, animate, np.arange(1, len(xi)), interval=1, blit=True, repeat=False)\n",
    "\n",
    "\n",
    "plt.title(\"trajectory of a projectile with $v_0$: %.1f m/s\\t $\\Theta_0$: %.1f$^\\circ$\"%(v0,theta))\n",
    "plt.show()\n"
   ]
  },
  {
   "cell_type": "markdown",
   "metadata": {},
   "source": [
    "## Exercise\n",
    "- easy \n",
    "  - write position x of the max height and put an arrow pointing to the apex\n",
    "  - write the value of x and y on the plot near the actual position in real time\n",
    "  - add a slider to modify the value of some parameters interactively\n",
    "- medium difficulty\n",
    "  - write the solar system exercise with 2 simple bodies in python and use the animated plot to show the orbits of the bodies\n",
    "  - create an animated histogram for a Gaussian distribution\n",
    "  \n",
    "## Additional material\n",
    "- Take a look at this very nice example of the animation of a [double pendulum](https://matplotlib.org/gallery/animation/double_pendulum_sgskip.html)\n",
    "  - download the notebook and run it yourself\n",
    "  - note how it uses the integration methods from the [scipy](https://docs.scipy.org/doc/scipy/reference/index.html) package to integrate the equations of motion\n",
    "    - try using the same methods to resolve the equation of motion for the rotation of the earth around the sun"
   ]
  },
  {
   "cell_type": "markdown",
   "metadata": {},
   "source": [
    "## Using NumPy ndarray instead of Lists\n",
    "We now solve the same problem  of the projectile but this time using a 2D array to do just one comprhension to compute both x(t) and y(t).\n",
    "\n",
    "When plotting you have to use slicing to specify that the 1st column are the x values and the 2nd column are the y values."
   ]
  },
  {
   "cell_type": "code",
   "execution_count": null,
   "metadata": {},
   "outputs": [],
   "source": [
    "%matplotlib notebook\n",
    "import matplotlib.pyplot as plt\n",
    "import matplotlib.animation as animation\n",
    "import numpy as np\n",
    "import time\n",
    "\n",
    "\n",
    "# initial conditions\n",
    "g = 9.8\n",
    "h = 10.\n",
    "theta = (30./180.)*np.pi\n",
    "v0 = 30.\n",
    "dt=0.01\n",
    "\n",
    "#compute velocity components\n",
    "v0x = v0*np.cos(theta)\n",
    "v0y = v0*np.sin(theta)\n",
    "print(\"v0_x: %.1f m/s \\t v0_y: %.1f m/s\"%(v0x,v0y))\n",
    "\n",
    "x0 = 0\n",
    "y0 = h\n",
    "\n",
    "def x(t):\n",
    "    return x0+v0x*t\n",
    "\n",
    "def y(t):\n",
    "    return y0+v0y*t-0.5*g*t*t\n",
    "\n",
    "\n",
    "dt = 0.01\n",
    "# generate list of times for sampling\n",
    "times = np.arange(0., 1000., dt).tolist() \n",
    "\n",
    "#print first 10 elements\n",
    "print(times[:10])\n",
    "\n",
    "# use 2D array to do one comprehension\n",
    "pos = np.array([ [x(t),y(t)] for t in times if y(t)>=0. ])\n",
    "print(pos.shape)\n",
    "# create a figure object\n",
    "fig = plt.figure()\n",
    "\n",
    "# add subplot (just 1) and set x and y limits based on data\n",
    "# ax is the object containing objects to be plotted\n",
    "ax = fig.add_subplot(111, autoscale_on=False, xlim=(-0.1, max(pos[:,0])*1.2), ylim=(-0.1,max(pos[:,1])*1.2) )\n",
    "ax.grid()\n",
    "ax.set_xlabel('x(t) [m]')\n",
    "ax.set_ylabel(\"y(t) [m]\")\n",
    "plt.title(\"trajectory of a projectile with $v_0$: %.1f m/s\\t $\\Theta_0$: %.1f$^\\circ$\"%(v0,theta))\n",
    "\n",
    "# plot slices for ndarray\n",
    "line, = ax.plot(pos[:,0], pos[:,1],  lw=2, color='red')\n",
    "plt.show()\n",
    "\n",
    "xi = list(pos[:,0])\n",
    "yi = list(pos[:,1])\n",
    "print(\"max height: %.2f at x = %.2f\"%(max(yi),xi[yi.index(max(yi))]))\n"
   ]
  },
  {
   "cell_type": "markdown",
   "metadata": {},
   "source": [
    "## using function with multiple return value\n",
    "we now get rid of x(t) and y(t) and replace it with just one function pos(t) returning 2 values\n",
    "\n",
    "We use ndarray everywhere instaed of the list type. Howevere note that\n",
    "- to print the position of the maximum, using slices can cause some headache and confusion for who reads the code\n",
    "  - you can create lists xi and yi to make the code more readable\n",
    "- a slice does not have the same methods of a list. So for example you can not call `index()` on a slice so we create a list on the fly `list(pos[:,1]).index(max(pos[:,1]))`"
   ]
  },
  {
   "cell_type": "code",
   "execution_count": null,
   "metadata": {
    "scrolled": false
   },
   "outputs": [],
   "source": [
    "%matplotlib notebook\n",
    "import matplotlib.pyplot as plt\n",
    "import matplotlib.animation as animation\n",
    "import numpy as np\n",
    "import time\n",
    "\n",
    "\n",
    "# initial conditions\n",
    "g = 9.8\n",
    "h = 10.\n",
    "theta = (30./180.)*np.pi\n",
    "v0 = 30.\n",
    "dt=0.01\n",
    "\n",
    "#compute velocity components\n",
    "v0x = v0*np.cos(theta)\n",
    "v0y = v0*np.sin(theta)\n",
    "print(\"v0_x: %.1f m/s \\t v0_y: %.1f m/s\"%(v0x,v0y))\n",
    "\n",
    "x0 = 0\n",
    "y0 = h\n",
    "\n",
    "def pos(t):\n",
    "    return x0+v0x*t, y0+v0y*t-0.5*g*t*t\n",
    "\n",
    "\n",
    "dt = 0.01\n",
    "# generate list of times for sampling\n",
    "times = np.arange(0., 1000., dt).tolist() \n",
    "\n",
    "#print first 10 elements\n",
    "print(times[:10])\n",
    "\n",
    "\n",
    "# use 2D array to do one comprehension\n",
    "pos = np.array([ pos(t) for t in times if pos(t)[1]>=0. ])\n",
    "\n",
    "print(pos.shape)\n",
    "\n",
    "# you can create list for xi and yi\n",
    "#xi = list(pos[:,0])\n",
    "#yi = list(pos[:,1])\n",
    "#print(\"max height: %.2f at x = %.2f\"%(max(yi),xi[yi.index(max(yi))]))\n",
    "\n",
    "# or you can simply use the slicing again. In this case it can be a bit confusing\n",
    "# also note that index() is a method for a list not for slices.\n",
    "print(\"max height: %.2f at x = %.2f\"%(max(pos[:,1]),pos[ list(pos[:,1]).index(max(pos[:,1])),0 ] ) )\n",
    "\n",
    "\n",
    "\n",
    "# create a figure object\n",
    "fig = plt.figure()\n",
    "\n",
    "# add subplot (just 1) and set x and y limits based on data\n",
    "# ax is the object containing objects to be plotted\n",
    "ax = fig.add_subplot(111, autoscale_on=False, xlim=(-0.1, max(pos[:,0])*1.2), ylim=(-0.1,max(pos[:,1])*1.2) )\n",
    "ax.grid()\n",
    "ax.set_xlabel('x(t) [m]')\n",
    "ax.set_ylabel(\"y(t) [m]\")\n",
    "plt.title(\"trajectory of a projectile with $v_0$: %.1f m/s\\t $\\Theta_0$: %.1f$^\\circ$\"%(v0,theta))\n",
    "\n",
    "# plot slices for ndarray\n",
    "line, = ax.plot(pos[:,0], pos[:,1],  lw=2, color='red')\n",
    "\n",
    "plt.show()"
   ]
  },
  {
   "cell_type": "markdown",
   "metadata": {},
   "source": [
    "## Exercise\n",
    "- exetend the problem to 3D and use 3D plot to show the trajectory in space"
   ]
  }
 ],
 "metadata": {
  "kernelspec": {
   "display_name": "Python 3",
   "language": "python",
   "name": "python3"
  },
  "language_info": {
   "codemirror_mode": {
    "name": "ipython",
    "version": 3
   },
   "file_extension": ".py",
   "mimetype": "text/x-python",
   "name": "python",
   "nbconvert_exporter": "python",
   "pygments_lexer": "ipython3",
   "version": "3.8.2"
  }
 },
 "nbformat": 4,
 "nbformat_minor": 2
}
