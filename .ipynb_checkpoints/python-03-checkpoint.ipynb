{
 "cells": [
  {
   "cell_type": "code",
   "execution_count": null,
   "metadata": {
    "slideshow": {
     "slide_type": "slide"
    }
   },
   "outputs": [],
   "source": [
    "import numpy as np\n",
    "arr2 = np.array( [ [ 1,2,3], [4,5,6], [7,8,9]  ] )\n",
    "print(arr2)"
   ]
  },
  {
   "cell_type": "code",
   "execution_count": null,
   "metadata": {
    "scrolled": true
   },
   "outputs": [],
   "source": [
    "arr3 = np.random.rand(5,3)\n",
    "print(arr3)"
   ]
  },
  {
   "cell_type": "code",
   "execution_count": null,
   "metadata": {},
   "outputs": [],
   "source": [
    "arr4 = np.random.rand(3,2,2)\n",
    "print(arr4)"
   ]
  },
  {
   "cell_type": "markdown",
   "metadata": {},
   "source": [
    "## creating ndarrays\n",
    "As seen above, all NumPy functions and classes use ndarray as return type. You only need to specify the dimensions and the size of the array to be created\n",
    "\n",
    "### uniform random numbers"
   ]
  },
  {
   "cell_type": "code",
   "execution_count": null,
   "metadata": {
    "scrolled": false
   },
   "outputs": [],
   "source": [
    "np.random.rand(10,3)"
   ]
  },
  {
   "cell_type": "code",
   "execution_count": null,
   "metadata": {},
   "outputs": [],
   "source": [
    "np.random.rand(2,3,4)"
   ]
  },
  {
   "cell_type": "markdown",
   "metadata": {},
   "source": [
    "### array of zeros"
   ]
  },
  {
   "cell_type": "code",
   "execution_count": null,
   "metadata": {},
   "outputs": [],
   "source": [
    "v = np.zeros(3)\n",
    "print(v)\n",
    "print(np.zeros( (2,4)) )"
   ]
  },
  {
   "cell_type": "code",
   "execution_count": null,
   "metadata": {
    "scrolled": true
   },
   "outputs": [],
   "source": [
    "A = np.zeros((3,4) )\n",
    "print(A)"
   ]
  },
  {
   "cell_type": "markdown",
   "metadata": {},
   "source": [
    "### arrays of 1"
   ]
  },
  {
   "cell_type": "code",
   "execution_count": null,
   "metadata": {
    "scrolled": true
   },
   "outputs": [],
   "source": [
    "w = np.ones(4)\n",
    "print(w)\n",
    "print(np.ones( (2,4)) )"
   ]
  },
  {
   "cell_type": "markdown",
   "metadata": {},
   "source": [
    "you can specify the shape of the array with a tuple"
   ]
  },
  {
   "cell_type": "code",
   "execution_count": null,
   "metadata": {
    "scrolled": true
   },
   "outputs": [],
   "source": [
    "B = np.ones ( (3,4))\n",
    "print(B)\n",
    "\n",
    "val = 3.6*B\n",
    "print(val)\n",
    "\n",
    "print(val/2)"
   ]
  },
  {
   "cell_type": "markdown",
   "metadata": {},
   "source": [
    "Rather than multuplying ones by a scalar, you can directly create an array filled with a given value"
   ]
  },
  {
   "cell_type": "code",
   "execution_count": null,
   "metadata": {
    "scrolled": true
   },
   "outputs": [],
   "source": [
    "z = np.full( 4, fill_value=3.12)\n",
    "print(z)"
   ]
  },
  {
   "cell_type": "markdown",
   "metadata": {},
   "source": [
    "use a tuple to specify the shape of the array to be filled"
   ]
  },
  {
   "cell_type": "code",
   "execution_count": null,
   "metadata": {
    "scrolled": false
   },
   "outputs": [],
   "source": [
    "C = np.full( (2,3), fill_value=-4.3)\n",
    "print(C)"
   ]
  },
  {
   "cell_type": "markdown",
   "metadata": {},
   "source": [
    "### Identity array"
   ]
  },
  {
   "cell_type": "code",
   "execution_count": null,
   "metadata": {
    "scrolled": true,
    "slideshow": {
     "slide_type": "subslide"
    }
   },
   "outputs": [],
   "source": [
    "data = np.identity(7)\n",
    "print(data)"
   ]
  },
  {
   "cell_type": "markdown",
   "metadata": {},
   "source": [
    "operations with arrays"
   ]
  },
  {
   "cell_type": "code",
   "execution_count": null,
   "metadata": {
    "scrolled": true
   },
   "outputs": [],
   "source": [
    "print( 2.3*data )"
   ]
  },
  {
   "cell_type": "code",
   "execution_count": null,
   "metadata": {},
   "outputs": [],
   "source": [
    "d = data - C"
   ]
  },
  {
   "cell_type": "markdown",
   "metadata": {},
   "source": [
    "## Shape of arrays\n",
    "each ndarray is characterized by its \n",
    "- shape\n",
    "- size \n",
    "- type of data"
   ]
  },
  {
   "cell_type": "code",
   "execution_count": null,
   "metadata": {},
   "outputs": [],
   "source": [
    "data = np.array([ [-1., 2.3], [2.3, 4.5], [-8.4, 1.9] ])\n",
    "print(\"data\\n\",data)\n",
    "print(\"type: \",type(data))\n",
    "print(\"dimension:\\t\", data.ndim)\n",
    "print(\"shape: \", data.shape)\n",
    "print(\"data type: \",data.dtype)\n"
   ]
  },
  {
   "cell_type": "markdown",
   "metadata": {},
   "source": [
    "change type of data"
   ]
  },
  {
   "cell_type": "code",
   "execution_count": null,
   "metadata": {},
   "outputs": [],
   "source": [
    "data_int = np.array([ [-1., 2.3], [2.3, 4.5], [-8.4, 1.9] ], dtype=np.int64)\n",
    "print(data_int)"
   ]
  },
  {
   "cell_type": "markdown",
   "metadata": {},
   "source": [
    "## Reshaping arrays"
   ]
  },
  {
   "cell_type": "code",
   "execution_count": null,
   "metadata": {},
   "outputs": [],
   "source": [
    "data = np.arange(1,101)\n",
    "data"
   ]
  },
  {
   "cell_type": "code",
   "execution_count": null,
   "metadata": {
    "scrolled": false
   },
   "outputs": [],
   "source": [
    "mat1 = data.reshape(25,4)\n",
    "print(mat1)\n",
    "print(data)"
   ]
  },
  {
   "cell_type": "code",
   "execution_count": null,
   "metadata": {
    "scrolled": true
   },
   "outputs": [],
   "source": [
    "mat2 = mat1.reshape(10,10)\n",
    "print(mat2)"
   ]
  },
  {
   "cell_type": "markdown",
   "metadata": {},
   "source": [
    "__Note that the original data array has not been modified__"
   ]
  },
  {
   "cell_type": "code",
   "execution_count": null,
   "metadata": {
    "scrolled": true
   },
   "outputs": [],
   "source": [
    "data"
   ]
  },
  {
   "cell_type": "code",
   "execution_count": null,
   "metadata": {},
   "outputs": [],
   "source": [
    "data.reshape(9,8)"
   ]
  },
  {
   "cell_type": "markdown",
   "metadata": {},
   "source": [
    "You can create an array with the same shape of an existing array"
   ]
  },
  {
   "cell_type": "code",
   "execution_count": null,
   "metadata": {},
   "outputs": [],
   "source": [
    "np.empty_like(data)"
   ]
  },
  {
   "cell_type": "code",
   "execution_count": null,
   "metadata": {
    "scrolled": false
   },
   "outputs": [],
   "source": [
    "data2 = np.ones_like(data)\n",
    "print(data2)"
   ]
  },
  {
   "cell_type": "code",
   "execution_count": null,
   "metadata": {
    "scrolled": true
   },
   "outputs": [],
   "source": [
    "np.zeros_like(data)"
   ]
  },
  {
   "cell_type": "code",
   "execution_count": null,
   "metadata": {
    "scrolled": false
   },
   "outputs": [],
   "source": [
    "np.full_like(data, -4.5)"
   ]
  },
  {
   "cell_type": "markdown",
   "metadata": {},
   "source": [
    "Since the array used for the shape had integers, the new array is also made of integers, despite you providing `4.5` as fill_value. If you need a float array, then you have to specify it:"
   ]
  },
  {
   "cell_type": "code",
   "execution_count": null,
   "metadata": {
    "scrolled": false
   },
   "outputs": [],
   "source": [
    "np.full_like(data, fill_value=-4.5,dtype=np.float64)"
   ]
  },
  {
   "cell_type": "code",
   "execution_count": null,
   "metadata": {},
   "outputs": [],
   "source": [
    "data_2 = 1.*np.full_like(data, -4.5)\n",
    "print(data_2)"
   ]
  },
  {
   "cell_type": "markdown",
   "metadata": {},
   "source": [
    "## Operations with ndarray\n",
    "you can use an ndarray for  basic mathematical operations tyoically used with scalars.\n",
    "\n"
   ]
  },
  {
   "cell_type": "markdown",
   "metadata": {},
   "source": [
    "### Arithmetics with arrays"
   ]
  },
  {
   "cell_type": "code",
   "execution_count": null,
   "metadata": {
    "scrolled": false
   },
   "outputs": [],
   "source": [
    "data = np.arange(1,17).reshape(4,4)\n",
    "print(data)"
   ]
  },
  {
   "cell_type": "code",
   "execution_count": null,
   "metadata": {},
   "outputs": [],
   "source": [
    "data2 = np.ones_like(data)\n",
    "print(data2)"
   ]
  },
  {
   "cell_type": "code",
   "execution_count": null,
   "metadata": {
    "scrolled": false
   },
   "outputs": [],
   "source": [
    "data + data2"
   ]
  },
  {
   "cell_type": "code",
   "execution_count": null,
   "metadata": {},
   "outputs": [],
   "source": [
    "data - data2"
   ]
  },
  {
   "cell_type": "markdown",
   "metadata": {},
   "source": [
    "Division by an array applies the divison to each element. It is not the same as inverting an array"
   ]
  },
  {
   "cell_type": "code",
   "execution_count": null,
   "metadata": {},
   "outputs": [],
   "source": [
    "1./data"
   ]
  },
  {
   "cell_type": "code",
   "execution_count": null,
   "metadata": {
    "scrolled": false
   },
   "outputs": [],
   "source": [
    "10 / data"
   ]
  },
  {
   "cell_type": "markdown",
   "metadata": {},
   "source": [
    "Adding a scalar to an array, adds the same value to all cells"
   ]
  },
  {
   "cell_type": "code",
   "execution_count": null,
   "metadata": {},
   "outputs": [],
   "source": [
    "3+data"
   ]
  },
  {
   "cell_type": "code",
   "execution_count": null,
   "metadata": {},
   "outputs": [],
   "source": [
    "data_5 = 3.67+ np.sin(data)/data\n",
    "print(data_5)"
   ]
  },
  {
   "cell_type": "markdown",
   "metadata": {},
   "source": [
    "### functions\n",
    "you have to use the NumPy functions so __np.sin__ instead of __math.sin__"
   ]
  },
  {
   "cell_type": "code",
   "execution_count": null,
   "metadata": {
    "scrolled": false
   },
   "outputs": [],
   "source": [
    "datasq = data**2"
   ]
  },
  {
   "cell_type": "code",
   "execution_count": null,
   "metadata": {
    "scrolled": true
   },
   "outputs": [],
   "source": [
    "print(data)"
   ]
  },
  {
   "cell_type": "markdown",
   "metadata": {},
   "source": [
    "Note how applying the function __does not__ modify data. Instead a new array is returned. This is the same behavior as with scalars in other langguage and also in python."
   ]
  },
  {
   "cell_type": "code",
   "execution_count": null,
   "metadata": {
    "scrolled": true
   },
   "outputs": [],
   "source": [
    "data_sqr = data**2\n",
    "print(data_sqr)"
   ]
  },
  {
   "cell_type": "code",
   "execution_count": null,
   "metadata": {
    "scrolled": true
   },
   "outputs": [],
   "source": [
    "\n",
    "data_2 = np.log(data_sqr) + np.sin( data*np.pi)"
   ]
  },
  {
   "cell_type": "code",
   "execution_count": null,
   "metadata": {
    "scrolled": true
   },
   "outputs": [],
   "source": [
    "data_3 = np.sqrt( data_sqr )\n",
    "print(data_3)"
   ]
  },
  {
   "cell_type": "markdown",
   "metadata": {},
   "source": [
    "## Indexing and slicing"
   ]
  },
  {
   "cell_type": "code",
   "execution_count": null,
   "metadata": {
    "scrolled": true
   },
   "outputs": [],
   "source": [
    "data= np.arange(20).reshape(4,5)\n",
    "data"
   ]
  },
  {
   "cell_type": "code",
   "execution_count": null,
   "metadata": {},
   "outputs": [],
   "source": [
    "data[2:3,2:3].shape"
   ]
  },
  {
   "cell_type": "code",
   "execution_count": null,
   "metadata": {},
   "outputs": [],
   "source": [
    "data[2:4,2:4].shape"
   ]
  },
  {
   "cell_type": "code",
   "execution_count": null,
   "metadata": {},
   "outputs": [],
   "source": [
    "data[1:,:]"
   ]
  },
  {
   "cell_type": "code",
   "execution_count": null,
   "metadata": {},
   "outputs": [],
   "source": [
    "data[:,4]"
   ]
  },
  {
   "cell_type": "code",
   "execution_count": null,
   "metadata": {},
   "outputs": [],
   "source": [
    "data[:2,3:7]"
   ]
  },
  {
   "cell_type": "markdown",
   "metadata": {},
   "source": [
    "**As with the lists, all operations return a refernce to the original array, unless you make a copy**"
   ]
  },
  {
   "cell_type": "code",
   "execution_count": null,
   "metadata": {},
   "outputs": [],
   "source": [
    "x = data[:2,1:3]\n",
    "print(x)"
   ]
  },
  {
   "cell_type": "code",
   "execution_count": null,
   "metadata": {},
   "outputs": [],
   "source": [
    "x[0]"
   ]
  },
  {
   "cell_type": "code",
   "execution_count": null,
   "metadata": {},
   "outputs": [],
   "source": [
    "x[0][1]"
   ]
  },
  {
   "cell_type": "code",
   "execution_count": null,
   "metadata": {},
   "outputs": [],
   "source": [
    "x[0][1] = -5.55\n",
    "print(x)\n",
    "print(data)"
   ]
  },
  {
   "cell_type": "markdown",
   "metadata": {},
   "source": [
    "So you have modified not just x, but also the original data array!"
   ]
  },
  {
   "cell_type": "code",
   "execution_count": null,
   "metadata": {
    "scrolled": false
   },
   "outputs": [],
   "source": [
    "data= np.arange(16).reshape(4,4)\n",
    "print(data)"
   ]
  },
  {
   "cell_type": "markdown",
   "metadata": {},
   "source": [
    "If this is not what you want, then you have to create a new copy by calling the constructor"
   ]
  },
  {
   "cell_type": "code",
   "execution_count": null,
   "metadata": {},
   "outputs": [],
   "source": [
    "x = np.array( data[0])\n",
    "print(x)"
   ]
  },
  {
   "cell_type": "code",
   "execution_count": null,
   "metadata": {},
   "outputs": [],
   "source": [
    "x[1:3]"
   ]
  },
  {
   "cell_type": "code",
   "execution_count": null,
   "metadata": {
    "scrolled": true
   },
   "outputs": [],
   "source": [
    "x[1:3] = [ -2, -4]\n",
    "print(x)"
   ]
  },
  {
   "cell_type": "markdown",
   "metadata": {},
   "source": [
    "Although you have modified `x` `data` has not changed"
   ]
  },
  {
   "cell_type": "code",
   "execution_count": null,
   "metadata": {
    "scrolled": true
   },
   "outputs": [],
   "source": [
    "print(data)"
   ]
  },
  {
   "cell_type": "markdown",
   "metadata": {},
   "source": [
    "## converting and casting\n",
    "When using `arange()` the array's type is integer."
   ]
  },
  {
   "cell_type": "code",
   "execution_count": null,
   "metadata": {},
   "outputs": [],
   "source": [
    "data= np.arange(42).reshape(6,7)\n",
    "data"
   ]
  },
  {
   "cell_type": "code",
   "execution_count": null,
   "metadata": {},
   "outputs": [],
   "source": [
    "print(data[2])"
   ]
  },
  {
   "cell_type": "markdown",
   "metadata": {},
   "source": [
    "Sometimes you might want to change its type for floating point calculations"
   ]
  },
  {
   "cell_type": "code",
   "execution_count": null,
   "metadata": {},
   "outputs": [],
   "source": [
    "data[2][0] = -np.pi\n",
    "data"
   ]
  },
  {
   "cell_type": "code",
   "execution_count": null,
   "metadata": {},
   "outputs": [],
   "source": [
    "data_float = data.astype( np.float64)\n",
    "print(data_float)"
   ]
  },
  {
   "cell_type": "code",
   "execution_count": null,
   "metadata": {},
   "outputs": [],
   "source": [
    "data_float[4][5] = -1.24\n",
    "print(data_float)"
   ]
  },
  {
   "cell_type": "markdown",
   "metadata": {},
   "source": [
    "Note that `astype()` returned a copy of the array and our original array `data` has not been modified"
   ]
  },
  {
   "cell_type": "code",
   "execution_count": null,
   "metadata": {},
   "outputs": [],
   "source": [
    "print(data)"
   ]
  },
  {
   "cell_type": "markdown",
   "metadata": {},
   "source": [
    "## Boolean arrays\n",
    "As with all operations, also logical opertions are vectorised"
   ]
  },
  {
   "cell_type": "code",
   "execution_count": null,
   "metadata": {
    "scrolled": true
   },
   "outputs": [],
   "source": [
    "data = np.random.normal(0,1., 25).reshape(5,5)\n",
    "print(data)"
   ]
  },
  {
   "cell_type": "markdown",
   "metadata": {},
   "source": [
    "check if the elements satisfy a condition"
   ]
  },
  {
   "cell_type": "code",
   "execution_count": null,
   "metadata": {
    "scrolled": true
   },
   "outputs": [],
   "source": [
    "print(data > 0)"
   ]
  },
  {
   "cell_type": "markdown",
   "metadata": {},
   "source": [
    "print only positive values"
   ]
  },
  {
   "cell_type": "code",
   "execution_count": null,
   "metadata": {
    "scrolled": true
   },
   "outputs": [],
   "source": [
    "posdata = data[data>0]\n",
    "print( posdata )"
   ]
  },
  {
   "cell_type": "markdown",
   "metadata": {},
   "source": [
    "however note that now it does not have the original shape"
   ]
  },
  {
   "cell_type": "code",
   "execution_count": null,
   "metadata": {},
   "outputs": [],
   "source": [
    "print( type(posdata))\n",
    "print( \"shape: \", np.shape(posdata) )"
   ]
  },
  {
   "cell_type": "code",
   "execution_count": null,
   "metadata": {
    "scrolled": true
   },
   "outputs": [],
   "source": [
    "data = np.random.normal(0,1., 10)\n",
    "print(data)\n",
    "data > 0."
   ]
  },
  {
   "cell_type": "markdown",
   "metadata": {},
   "source": [
    "Since booleans are converted automatically to 0 and 1, you can easy count tem by using the `sum` function"
   ]
  },
  {
   "cell_type": "code",
   "execution_count": null,
   "metadata": {},
   "outputs": [],
   "source": [
    "(data >0).sum()"
   ]
  },
  {
   "cell_type": "markdown",
   "metadata": {},
   "source": [
    "## slicing with booleans"
   ]
  },
  {
   "cell_type": "markdown",
   "metadata": {},
   "source": [
    "Logial arrays can be used to slice and index an array!\n",
    "\n",
    "In this case we want the array with just the positive cells"
   ]
  },
  {
   "cell_type": "code",
   "execution_count": null,
   "metadata": {
    "scrolled": false
   },
   "outputs": [],
   "source": [
    "pos_vals = data[ data> 0. ]\n",
    "print(type(pos_vals), pos_vals.shape)"
   ]
  },
  {
   "cell_type": "code",
   "execution_count": null,
   "metadata": {},
   "outputs": [],
   "source": [
    "pos_vals[0]"
   ]
  },
  {
   "cell_type": "code",
   "execution_count": null,
   "metadata": {},
   "outputs": [],
   "source": [
    "pos_vals[0] = -1"
   ]
  },
  {
   "cell_type": "code",
   "execution_count": null,
   "metadata": {},
   "outputs": [],
   "source": [
    "print (pos_vals)"
   ]
  },
  {
   "cell_type": "code",
   "execution_count": null,
   "metadata": {},
   "outputs": [],
   "source": [
    "print(data)"
   ]
  },
  {
   "cell_type": "markdown",
   "metadata": {},
   "source": [
    "Note how slicing with boolean array, creates a new array and is not a reference to the original array"
   ]
  },
  {
   "cell_type": "markdown",
   "metadata": {},
   "source": [
    "## Example: computing tails of a  Gaussian "
   ]
  },
  {
   "cell_type": "code",
   "execution_count": null,
   "metadata": {},
   "outputs": [],
   "source": [
    "mu =1.0\n",
    "sig = 0.2\n",
    "nsig = 3\n",
    "nvals = 10000000\n",
    "data = np.random.normal(mu,sig, nvals)\n",
    "print( (abs(data-mu)>nsig*sig).sum()   )\n",
    "tail = data[ abs(data-mu)>nsig*sig  ]\n",
    "print(len(tail))\n",
    "print(\"fraction of points beyond %.1f sigma: %.1f\"%(nsig,100*len(tail)/nvals),\"%\")\n",
    "print(\"fraction of points within %.1f sigma: %.1f\"%(nsig,100*(nvals-len(tail))/nvals),\"%\")"
   ]
  },
  {
   "cell_type": "markdown",
   "metadata": {},
   "source": [
    "# Random walks with ndarrays\n",
    "\n",
    "In this example we use ndarray to solve the classical problem of random walk\n",
    "\n",
    "The typical C like solution is"
   ]
  },
  {
   "cell_type": "code",
   "execution_count": null,
   "metadata": {
    "scrolled": false
   },
   "outputs": [],
   "source": [
    "%matplotlib notebook\n",
    "import numpy as np\n",
    "import matplotlib.pyplot as plt\n",
    "\n",
    "nstep = 100\n",
    "\n",
    "x = 0\n",
    "position = [x] \n",
    "\n",
    "\n",
    "for i in range(nstep):\n",
    "    step = 1\n",
    "    if np.random.uniform(0.,1.) < 0.5: step = -1\n",
    "    x += step\n",
    "    position.append(x)    \n",
    "\n",
    "    \n",
    "plt.plot(position[:nstep])\n",
    "plt.grid()\n",
    "plt.xlabel('step')\n",
    "plt.ylabel('position')\n"
   ]
  },
  {
   "cell_type": "markdown",
   "metadata": {},
   "source": [
    "## Random walk with arrays\n",
    " We now note that the position of the walk is the cumulative sum of random numbers. we can use this to convert the problem to using arrays only"
   ]
  },
  {
   "cell_type": "code",
   "execution_count": null,
   "metadata": {},
   "outputs": [],
   "source": [
    "\n",
    "import numpy as np\n",
    "import matplotlib.pyplot as plt\n",
    "\n",
    "nsteps = 10000"
   ]
  },
  {
   "cell_type": "markdown",
   "metadata": {},
   "source": [
    " - first we draw the random numbers for all `nsteps` at once, think of it as a coin"
   ]
  },
  {
   "cell_type": "code",
   "execution_count": null,
   "metadata": {
    "scrolled": true
   },
   "outputs": [],
   "source": [
    "draws = np.random.randint(0,2, size=nsteps)\n",
    "print(draws)\n",
    "print ( (draws==1).sum()/nsteps )\n",
    "print( (draws<1).sum()/nsteps )"
   ]
  },
  {
   "cell_type": "markdown",
   "metadata": {},
   "source": [
    "Based on the drawn coins, we decide the steps, if positive or negative"
   ]
  },
  {
   "cell_type": "code",
   "execution_count": null,
   "metadata": {},
   "outputs": [],
   "source": [
    "steps = np.where(draws>0, 1, -1)\n",
    "print(steps)"
   ]
  },
  {
   "cell_type": "markdown",
   "metadata": {},
   "source": [
    "- then we compute the cumulative sum of random numers"
   ]
  },
  {
   "cell_type": "code",
   "execution_count": null,
   "metadata": {
    "scrolled": true
   },
   "outputs": [],
   "source": [
    "walk = steps.cumsum()\n",
    "print(walk)\n",
    "print(steps.sum())"
   ]
  },
  {
   "cell_type": "markdown",
   "metadata": {},
   "source": [
    "The cumulative sum on an array, sums all values in cells before a given position."
   ]
  },
  {
   "cell_type": "code",
   "execution_count": null,
   "metadata": {},
   "outputs": [],
   "source": [
    "%matplotlib notebook\n",
    "plt.plot(walk)\n",
    "plt.grid()\n",
    "plt.xlabel('step')\n",
    "plt.ylabel('position')\n",
    "\n"
   ]
  },
  {
   "cell_type": "markdown",
   "metadata": {},
   "source": [
    "\n",
    "finding information about the walk and doing analysis is now trivial.\n",
    "\n",
    "The maximum position is"
   ]
  },
  {
   "cell_type": "code",
   "execution_count": null,
   "metadata": {},
   "outputs": [],
   "source": [
    "print(walk.max())\n",
    "print(walk.argmax())\n",
    "print(len(walk))"
   ]
  },
  {
   "cell_type": "markdown",
   "metadata": {},
   "source": [
    "`argmax()` provides the first index where the `max()` value has occured. Similarly for the minimum"
   ]
  },
  {
   "cell_type": "code",
   "execution_count": null,
   "metadata": {},
   "outputs": [],
   "source": [
    "print(walk.min())\n",
    "print(walk.argmin())\n",
    "print(len(walk))"
   ]
  },
  {
   "cell_type": "markdown",
   "metadata": {},
   "source": [
    "But we want to find the location (positive or negative) with the largest distance. This can be easily done with vector operations"
   ]
  },
  {
   "cell_type": "code",
   "execution_count": null,
   "metadata": {},
   "outputs": [],
   "source": [
    "print(np.abs(walk))\n",
    "print(np.abs(walk).max())"
   ]
  },
  {
   "cell_type": "code",
   "execution_count": null,
   "metadata": {
    "scrolled": true
   },
   "outputs": [],
   "source": [
    "print(np.abs(walk).argmax())"
   ]
  },
  {
   "cell_type": "markdown",
   "metadata": {},
   "source": [
    "We can also easily find the time at which we cross a certain position. For example we want to find when the position is back to origin. This is done using the boolean arrays"
   ]
  },
  {
   "cell_type": "code",
   "execution_count": null,
   "metadata": {},
   "outputs": [],
   "source": [
    "np.abs(walk) == 0"
   ]
  },
  {
   "cell_type": "code",
   "execution_count": null,
   "metadata": {},
   "outputs": [],
   "source": [
    "(np.abs(walk)==0).max()"
   ]
  },
  {
   "cell_type": "markdown",
   "metadata": {},
   "source": [
    "in a boolean array `max()` corresponds to `True` value. So using `argmax()` we can find when for the first time the particle crosses again the origin"
   ]
  },
  {
   "cell_type": "code",
   "execution_count": null,
   "metadata": {},
   "outputs": [],
   "source": [
    "(np.abs(walk)==0).argmax()"
   ]
  },
  {
   "cell_type": "markdown",
   "metadata": {},
   "source": [
    "## Simulating many random walks at once\n",
    "\n",
    "We now want to simulate `nexp` random walks and study statistics about number of crossings, maximum distance, etc. Instead of using nested loops, we can simplhy use 2D array to keep track of steps for `nexp` experiments.\n",
    "\n",
    "In fact the only place we change the code, is the extraction of random numbers to decide direction of the random walk."
   ]
  },
  {
   "cell_type": "code",
   "execution_count": null,
   "metadata": {},
   "outputs": [],
   "source": [
    "import numpy as np\n",
    "import matplotlib.pyplot as plt\n",
    "\n",
    "nsteps = 1000\n",
    "nexp = 1000\n",
    "\n",
    "draws = np.random.randint(0,2, size=(nexp,nsteps) )\n",
    "print(draws.shape)\n",
    "\n",
    "steps = np.where(draws>0, 1, -1)\n",
    "print(steps.shape)\n",
    "\n",
    "\n",
    "walks = steps.cumsum(1)\n",
    "print(walks.shape)"
   ]
  },
  {
   "cell_type": "markdown",
   "metadata": {},
   "source": [
    "By calling `cumsum(1)` we summing over the 1-th dimensions, which are the columns. Recall that each row represents and experiment. columns are the draws or the steps for a given experiment. So by summing the steps over the columns, we obtain the random walk for each experiment."
   ]
  },
  {
   "cell_type": "code",
   "execution_count": null,
   "metadata": {},
   "outputs": [],
   "source": [
    "walks"
   ]
  },
  {
   "cell_type": "markdown",
   "metadata": {},
   "source": [
    "The maximum distance ever reached in all experiments is "
   ]
  },
  {
   "cell_type": "code",
   "execution_count": null,
   "metadata": {
    "scrolled": false
   },
   "outputs": [],
   "source": [
    "np.abs(walks).max()"
   ]
  },
  {
   "cell_type": "markdown",
   "metadata": {},
   "source": [
    "We can also find out the maximum distance for each experiment. Thjis is done by using the [`numpy.amax`](https://docs.scipy.org/doc/numpy-1.15.0/reference/generated/numpy.amax.html) function. We want to find the maximum along columns (axis =1 ) for each experiment (row)"
   ]
  },
  {
   "cell_type": "code",
   "execution_count": null,
   "metadata": {},
   "outputs": [],
   "source": [
    "max_experiment = np.amax( np.abs(walks),1   )\n",
    "print(max_experiment.shape)\n",
    "print(max_experiment)"
   ]
  },
  {
   "cell_type": "markdown",
   "metadata": {},
   "source": [
    "For sanity check we see that the maximum distance across experiments is"
   ]
  },
  {
   "cell_type": "code",
   "execution_count": null,
   "metadata": {},
   "outputs": [],
   "source": [
    "print(\"max ever: \",max_experiment.max(),\" in experiment : \", max_experiment.argmax())"
   ]
  },
  {
   "cell_type": "markdown",
   "metadata": {},
   "source": [
    "which occured in this experiment"
   ]
  },
  {
   "cell_type": "code",
   "execution_count": null,
   "metadata": {},
   "outputs": [],
   "source": [
    "max_experiment.argmax()"
   ]
  },
  {
   "cell_type": "markdown",
   "metadata": {},
   "source": [
    "Similarly the smallest maximum distance ever reached is"
   ]
  },
  {
   "cell_type": "code",
   "execution_count": null,
   "metadata": {},
   "outputs": [],
   "source": [
    "max_experiment.min()"
   ]
  },
  {
   "cell_type": "markdown",
   "metadata": {},
   "source": [
    "Finally we make a histogram of the maximum distance ever reached. Wd use\n",
    "- `numpy.amax` funnction to compute the max for each experiment\n",
    "- `set` to create unique list of distances reached\n",
    "- `list` and `count` to compute frequency for each max distance- a dictionary to store the frequency for each max distance\n"
   ]
  },
  {
   "cell_type": "code",
   "execution_count": null,
   "metadata": {
    "scrolled": false
   },
   "outputs": [],
   "source": [
    "max_dict = { i:list(max_experiment).count(i)   for i in set(max_experiment)  }\n",
    "    \n",
    "%matplotlib notebook\n",
    "import matplotlib.pyplot as plt\n",
    "plt.bar( list(max_dict.keys()), list(max_dict.values()), color='blue' ) \n",
    "plt.grid()\n",
    "plt.xlabel('maximum distance')\n",
    "plt.ylabel('experiments')"
   ]
  },
  {
   "cell_type": "markdown",
   "metadata": {},
   "source": [
    "### Computig crossing of a position\n",
    "\n",
    "With booleans arrays we can easily check if the walk ever goes back  to the origin or any given position"
   ]
  },
  {
   "cell_type": "code",
   "execution_count": null,
   "metadata": {},
   "outputs": [],
   "source": [
    "hits_home = (np.abs(walks)==0).any(1)\n"
   ]
  },
  {
   "cell_type": "markdown",
   "metadata": {},
   "source": [
    "Similarly we can check how many times a certain distance has been reached"
   ]
  },
  {
   "cell_type": "code",
   "execution_count": null,
   "metadata": {
    "scrolled": true
   },
   "outputs": [],
   "source": [
    "hits_x = (np.abs(walks)==30).any(1)\n",
    "print(hits_x.sum())"
   ]
  },
  {
   "cell_type": "markdown",
   "metadata": {},
   "source": [
    "Plot a given experiment"
   ]
  },
  {
   "cell_type": "code",
   "execution_count": null,
   "metadata": {},
   "outputs": [],
   "source": [
    "%matplotlib notebook\n",
    "plt.plot(walks[np.random.randint(0,nexp),:])\n",
    "plt.grid()\n",
    "plt.xlabel('step')\n",
    "plt.ylabel('position')"
   ]
  },
  {
   "cell_type": "markdown",
   "metadata": {},
   "source": [
    "Plot the experiment with the smallest maximum distance"
   ]
  },
  {
   "cell_type": "code",
   "execution_count": null,
   "metadata": {
    "scrolled": false
   },
   "outputs": [],
   "source": [
    "%matplotlib notebook\n",
    "plt.plot(walks[max_experiment.argmin(),:])\n",
    "plt.grid()\n",
    "plt.xlabel('step')\n",
    "plt.ylabel('position')"
   ]
  },
  {
   "cell_type": "markdown",
   "metadata": {},
   "source": [
    "Plot the experiment with the largest maximum distance"
   ]
  },
  {
   "cell_type": "code",
   "execution_count": null,
   "metadata": {},
   "outputs": [],
   "source": [
    "%matplotlib notebook\n",
    "plt.plot(walks[max_experiment.argmax(),:])\n",
    "plt.grid()\n",
    "plt.xlabel('step')\n",
    "plt.ylabel('position')"
   ]
  },
  {
   "cell_type": "markdown",
   "metadata": {},
   "source": [
    "### Exercise\n",
    "- use animation to show the experimets in sequence\n",
    "- simulate the random walk in 2D and 3D and compute the fraction of experiments going back to the origin or reaching an arbitrary distance from the origin"
   ]
  },
  {
   "cell_type": "markdown",
   "metadata": {},
   "source": [
    "# I/O with files \n",
    "\n",
    "Today we cover some practical aspects of python that make it a great language for scripting. While the same is possibile with bash and other shells, the OOP aspect of python and its high level semantics make it very easy for a beginner to write their first scripts.\n",
    "\n",
    "- Input/Output with files\n",
    "  - with statement\n",
    "  - parsing lines\n",
    "  - lines as lists\n",
    "  - splitting lines into lists\n",
    "  \n",
    "- json format for storage\n",
    "  - example of json usage\n",
    "  - storing python objects and reading them back\n",
    "  - storing custom python objects\n",
    "   [custom serialize](https://realpython.com/python-json/)\n",
    "  \n",
    "- functions with variable number of arguments\n",
    "  - example of printf\n"
   ]
  },
  {
   "cell_type": "markdown",
   "metadata": {},
   "source": [
    "# File handling\n",
    "\n",
    "Basic I/O with files is almost identical to C, at first.\n",
    "\n",
    "- You need to open a file object on disk before writing information into it\n",
    "- Opening a file can fail\n",
    "  - location does not exist\n",
    "  - no write privilege for the location\n",
    "\n",
    "By default a file is opened in **read** mode"
   ]
  },
  {
   "cell_type": "code",
   "execution_count": null,
   "metadata": {
    "scrolled": false
   },
   "outputs": [],
   "source": [
    "fname = '/tmp/data.txt'\n",
    "f = open(fname)"
   ]
  },
  {
   "cell_type": "markdown",
   "metadata": {},
   "source": [
    "You must specify the **write** mode to store data in a file in output"
   ]
  },
  {
   "cell_type": "code",
   "execution_count": null,
   "metadata": {
    "scrolled": true
   },
   "outputs": [],
   "source": [
    "fname = '/tmp/data.txt'\n",
    "\n",
    "f = open(fname,mode='w')"
   ]
  },
  {
   "cell_type": "markdown",
   "metadata": {},
   "source": [
    "In this case the user does not have write permissions in `/`.\n",
    "\n",
    "Possible modes are:\n",
    "```\n",
    "========= ===============================================================\n",
    "Character Meaning\n",
    "--------- ---------------------------------------------------------------\n",
    "'r'       open for reading (default)\n",
    "'w'       open for writing, truncating the file first\n",
    "'x'       create a new file and open it for writing\n",
    "'a'       open for writing, appending to the end of the file if it exists\n",
    "'b'       binary mode\n",
    "'t'       text mode (default)\n",
    "'+'       open a disk file for updating (reading and writing)\n",
    "========= ===============================================================\n",
    "```\n",
    "So by default a text file is opened in read mode.\n",
    "\n",
    "We now store some values in a file to simulate data.\n",
    "\n",
    "It is important to close the file to make sure all data are flushed from memory to disk and the file handle closed properly"
   ]
  },
  {
   "cell_type": "code",
   "execution_count": null,
   "metadata": {},
   "outputs": [],
   "source": [
    "import os \n",
    "\n",
    "fname = 'data.txt'\n",
    "f = open(fname,'w')\n",
    "\n",
    "f.write('first file in python\\n')\n",
    "    \n",
    "f.close()\n",
    "\n",
    "os.listdir()"
   ]
  },
  {
   "cell_type": "markdown",
   "metadata": {},
   "source": [
    "## getting rid of `close()`\n",
    "\n",
    "To make it less C-like and feel more like python we can get rid of `close()` is usinng the `with` statement"
   ]
  },
  {
   "cell_type": "code",
   "execution_count": null,
   "metadata": {},
   "outputs": [],
   "source": [
    "fname = 'data2.txt'\n",
    "with open(fname,'w') as ofile:\n",
    "  ofile.write('first file in python\\n')\n",
    "\n",
    "os.listdir()"
   ]
  },
  {
   "cell_type": "markdown",
   "metadata": {},
   "source": [
    "`with` makes sure that ofile is an open file handle in the `with` scope. Once it ends you can no more use the handle, because `close()` has been called autmatically"
   ]
  },
  {
   "cell_type": "markdown",
   "metadata": {},
   "source": [
    "## Storing lists and multiple values\n",
    "\n",
    "You can use the C-style output to format and store elements of a list"
   ]
  },
  {
   "cell_type": "code",
   "execution_count": null,
   "metadata": {},
   "outputs": [],
   "source": [
    "import random\n",
    "\n",
    "nevents = 3\n",
    "\n",
    "fname = 'data1.txt'\n",
    "with open(fname,'w') as f:\n",
    "    for i in range(nevents):\n",
    "        measurements = [ random.random() for j in range(10) ]\n",
    "        for val in measurements:\n",
    "            f.write(\"%.3f\\t\"%val)\n",
    "        f.write('\\n')\n"
   ]
  },
  {
   "cell_type": "markdown",
   "metadata": {},
   "source": [
    "A more python-style is to use a new `writelines()` function and comprehensions"
   ]
  },
  {
   "cell_type": "code",
   "execution_count": null,
   "metadata": {},
   "outputs": [],
   "source": [
    "import random\n",
    "\n",
    "nevents = 3\n",
    "\n",
    "fname = 'data2.txt'\n",
    "with open(fname,'w') as f:\n",
    "    for i in range(nevents):\n",
    "        measurements = [ random.random() for j in range(10) ]\n",
    "        f.writelines(\"%.3f\\t\"%val for val in measurements)\n",
    "        f.write('\\n')"
   ]
  },
  {
   "cell_type": "markdown",
   "metadata": {},
   "source": [
    "which can be further reduced"
   ]
  },
  {
   "cell_type": "code",
   "execution_count": null,
   "metadata": {},
   "outputs": [],
   "source": [
    "import random\n",
    "\n",
    "nevents = 3\n",
    "\n",
    "fname = 'data2.txt'\n",
    "with open(fname,'w') as f:\n",
    "    for i in range(nevents):\n",
    "        f.writelines(\"%.3f\\t\"%val for val in [ random.random() for j in range(10) ] )\n",
    "        f.write('\\n')\n"
   ]
  },
  {
   "cell_type": "markdown",
   "metadata": {},
   "source": [
    "## Input from file\n",
    "\n",
    "A file can be read in a single string and then split into lines and columns. "
   ]
  },
  {
   "cell_type": "code",
   "execution_count": null,
   "metadata": {
    "scrolled": true
   },
   "outputs": [],
   "source": [
    "fname = 'data2.txt'\n",
    "\n",
    "f = open(fname)\n",
    "file = f.read()\n",
    "print(file)\n",
    "\n",
    "vals = file.split()\n",
    "print(vals)\n",
    "print(type(vals))"
   ]
  },
  {
   "cell_type": "markdown",
   "metadata": {},
   "source": [
    "You could also read the file as a list of iines, each line marked by a newline `\\n`"
   ]
  },
  {
   "cell_type": "code",
   "execution_count": null,
   "metadata": {},
   "outputs": [],
   "source": [
    "fname = 'data2.txt'\n",
    "lines = [l for l in open(fname)]\n",
    "print(lines)"
   ]
  },
  {
   "cell_type": "markdown",
   "metadata": {},
   "source": [
    "However you note that you have `\\t` and `\\n` as part of the strigf being read in! Fixing this is easy"
   ]
  },
  {
   "cell_type": "code",
   "execution_count": null,
   "metadata": {},
   "outputs": [],
   "source": [
    "fname = 'data2.txt'\n",
    "lines = [l.strip() for l in open(fname)]\n",
    "print(lines)"
   ]
  },
  {
   "cell_type": "markdown",
   "metadata": {},
   "source": [
    "this has removed the `\\n`. We now split each line using `\\t` as the separator"
   ]
  },
  {
   "cell_type": "code",
   "execution_count": null,
   "metadata": {},
   "outputs": [],
   "source": [
    "fname = 'data2.txt'\n",
    "lines = [l.strip() for l in open(fname)]\n",
    "data = [ l.split('\\t') for l in lines ]\n",
    "print(data)\n",
    "print(data[2:])"
   ]
  },
  {
   "cell_type": "markdown",
   "metadata": {},
   "source": [
    "even more concisely"
   ]
  },
  {
   "cell_type": "code",
   "execution_count": null,
   "metadata": {},
   "outputs": [],
   "source": [
    "fname = 'data2.txt'\n",
    "data = [ l.split('\\t') for l in [line.strip() for line in open(fname)] ]\n",
    "print(data)"
   ]
  },
  {
   "cell_type": "markdown",
   "metadata": {},
   "source": [
    "### exercise\n",
    "- change the separator and use `,` or `:` to store and read back data files"
   ]
  },
  {
   "cell_type": "markdown",
   "metadata": {},
   "source": [
    "## Storing Lists, Dicts, and Tuples\n",
    "\n",
    "As you have seen with the example above, there is no automatic writing of objects. So for a dictionary you need to take care of formatting the output file. "
   ]
  },
  {
   "cell_type": "code",
   "execution_count": null,
   "metadata": {},
   "outputs": [],
   "source": [
    "import random\n",
    "\n",
    "datum = {'val':-1.1, 'err':0.2}\n",
    "\n",
    "fname = 'data4.txt'\n",
    "\n",
    "with open(fname,'w') as f:\n",
    "    f.writelines(\"%s\\t\"%v for v in datum.keys())\n",
    "    f.write('\\n')\n",
    "    for i in range(10):\n",
    "        datum['val'] = random.uniform(-3.,3.)\n",
    "        datum['err'] = random.normalvariate(0., 0.2)\n",
    "        f.writelines(\"%.3f\\t\"%val for val in datum.values() )\n",
    "        f.write('\\n')\n"
   ]
  },
  {
   "cell_type": "markdown",
   "metadata": {},
   "source": [
    "### Exercise\n",
    "- use a dictionary to store data for 3 keys of different type\n",
    "- store 100 dictionary instances in file\n",
    "- read back and populate dictionary objects from file"
   ]
  },
  {
   "cell_type": "markdown",
   "metadata": {},
   "source": [
    "## Storing NumPy objects\n",
    "\n",
    "NumPy provides built-in functions to easily store and read ndarrays in binary and text format  without iterating over each element"
   ]
  },
  {
   "cell_type": "code",
   "execution_count": null,
   "metadata": {},
   "outputs": [],
   "source": [
    "import numpy as np\n",
    "import os\n",
    "\n",
    "matrix = np.random.randn(100,10)\n",
    "\n",
    "fname = 'npdata1'\n",
    "np.save(fname+'.npy', matrix)\n",
    "np.savetxt(fname+'.txt', matrix)\n"
   ]
  },
  {
   "cell_type": "markdown",
   "metadata": {},
   "source": [
    "Reading the file is also simple with `load()`"
   ]
  },
  {
   "cell_type": "code",
   "execution_count": null,
   "metadata": {},
   "outputs": [],
   "source": [
    "vals = np.load(fname+'.npy')\n",
    "\n",
    "print(vals.shape)\n",
    "print(vals[:1,])"
   ]
  },
  {
   "cell_type": "markdown",
   "metadata": {},
   "source": [
    "The [Python Data Analysis Library (pandas)](http://pandas.pydata.org) provides even more efficient tools and data formats to handle data for analysis and their storage to file."
   ]
  },
  {
   "cell_type": "markdown",
   "metadata": {},
   "source": [
    "## Data storage with pickle and JSON \n",
    "\n",
    "With NumPy we saw the first example of using the binary format to easy store an array.\n",
    "\n",
    "Previously we had oly saved data in text files by iterating over elements of lists and dictionaries.\n",
    "\n",
    "Python provides a built-in [pickle]() library for easy storage of lists and other built-in python objects in binary format. "
   ]
  },
  {
   "cell_type": "code",
   "execution_count": null,
   "metadata": {
    "scrolled": true
   },
   "outputs": [],
   "source": [
    "import random\n",
    "import pickle\n",
    "import os\n",
    "\n",
    "datum = {'val':-1.1, 'err':0.2}\n",
    "\n",
    "fname = 'pickle1.data'\n",
    "with open(fname,'wb') as f:\n",
    "    pickle.dump(datum,f)\n",
    "\n",
    "os.listdir()"
   ]
  },
  {
   "cell_type": "markdown",
   "metadata": {},
   "source": [
    "Readig back is also easy"
   ]
  },
  {
   "cell_type": "code",
   "execution_count": null,
   "metadata": {},
   "outputs": [],
   "source": [
    "\n",
    "fname = 'pickle1.data'\n",
    "with open(fname,'rb') as f:\n",
    "    indata = pickle.load(f)\n",
    "\n",
    "print(indata)\n"
   ]
  },
  {
   "cell_type": "markdown",
   "metadata": {},
   "source": [
    "## JSON \n",
    "\n",
    "However, a commonly used format for data storage that is cross platform and cross language is [JSON (JavaScript Object Notation](https://www.json.org).\n",
    "\n",
    "The JSON librray in python allows you to convert python objects (including your custom classes) into JSON for storage.\n",
    "\n",
    "Converting or enconding an object into JSON is commonly called **serialization**. Converting from JSON to python objects is referred to as **deserialization**. For  more details and introduction see this nice webpage on [working with JSON](https://realpython.com/python-json/). \n",
    "\n",
    "Here is an example of dictionary and list stored in JSON files.\n",
    "\n",
    "There are two functions commonly used\n",
    "- `dump()`: convert an object into JSON and possibly write to file\n",
    "- `dumps()` note the extra **s**: converto to JSON string but cannot interact with file\n",
    "The two functions are identical except for the file interaction."
   ]
  },
  {
   "cell_type": "code",
   "execution_count": null,
   "metadata": {
    "scrolled": true
   },
   "outputs": [],
   "source": [
    "import json\n",
    "import os\n",
    "\n",
    "datum = {'val':-1.1, 'err':0.2}\n",
    "\n",
    "x = json.dumps(datum)\n",
    "print(x)\n",
    "\n",
    "data = [z for z in range(10)]\n",
    "y = json.dumps(data)\n",
    "\n",
    "print(y)\n",
    "\n",
    "with open('data.json','w') as of:\n",
    "    json.dump([datum, data], of)\n",
    " \n",
    "os.listdir()"
   ]
  },
  {
   "cell_type": "markdown",
   "metadata": {},
   "source": [
    "Now we read back or deserialize the data from file"
   ]
  },
  {
   "cell_type": "code",
   "execution_count": null,
   "metadata": {
    "scrolled": true
   },
   "outputs": [],
   "source": [
    "with open('data.json') as infile:\n",
    "    indata = json.load(infile)\n",
    "print(indata)\n",
    "datum = indata[0]\n",
    "data = indata[1]\n",
    "print(datum, data)"
   ]
  },
  {
   "cell_type": "markdown",
   "metadata": {},
   "source": [
    "# Functions with arbitrary number of arguments\n",
    "\n",
    "As you have seen, `print()` function can have a variable number of arguments. The same behaviour can easily be defined for any custom defined function for both positioal and keyword arguments\n",
    "\n",
    "## positional arguments\n",
    "\n",
    "Additional arguments are taken via the special `*arg` argument which is a tuple of additional positional arguments"
   ]
  },
  {
   "cell_type": "code",
   "execution_count": null,
   "metadata": {},
   "outputs": [],
   "source": [
    "def myfunc(a, *arg):\n",
    "    print(\"positional arguments: %s %s\"%(a,arg))\n",
    "    if len(arg):\n",
    "        for x in arg:\n",
    "            print('[%s]\\t'%x)\n",
    "        print('\\n')\n",
    "\n",
    "myfunc(1.1)\n",
    "myfunc('ciao')\n",
    "myfunc(-0.2, 0.3, 'ciao')\n",
    "myfunc(-0.2, 0.3, 'ciao', 'hello', -2, 100)"
   ]
  },
  {
   "cell_type": "markdown",
   "metadata": {},
   "source": [
    "## keyword arguments\n",
    "\n",
    "For optional keyword arguments the `**kargs` feature is used"
   ]
  },
  {
   "cell_type": "code",
   "execution_count": null,
   "metadata": {},
   "outputs": [],
   "source": [
    "def myf2(a,mu=0.0, sig=0.1, **karg):\n",
    "    print(\"a: %s\"%(a))\n",
    "    print(\"keyword arguments: %s %s %s\"%(mu,sig,karg))\n",
    "    if len(karg):\n",
    "        for x in karg:\n",
    "            print('[%s]\\t'%x)\n",
    "            \n",
    "        print('\\n')\n",
    "myf2(0.1)\n",
    "myf2(0.3, sig=0.5)\n",
    "myf2(0.3, color='red')\n",
    "myf2(0.3, color='red', mu=0.6)"
   ]
  },
  {
   "cell_type": "markdown",
   "metadata": {},
   "source": [
    "The additional keyword arguments are stored as a dictionary."
   ]
  },
  {
   "cell_type": "code",
   "execution_count": null,
   "metadata": {},
   "outputs": [],
   "source": [
    "def myf3(a,mu=0.0, sig=0.1, **karg):\n",
    "    print(\"a: %s\"%(a))\n",
    "    print(\"keyword arguments: %s %s %s\"%(mu,sig,karg))\n",
    "    if len(karg):\n",
    "        for x in karg.keys():\n",
    "            print('[%s = %s]\\t'%(x, karg[x]))\n",
    "        print('\\n')\n",
    "myf3(0.1)\n",
    "myf3(0.3, color='red', mu=0.6)"
   ]
  },
  {
   "cell_type": "markdown",
   "metadata": {},
   "source": [
    "You can also combine both positional and keyword arguments for the most generic function"
   ]
  },
  {
   "cell_type": "code",
   "execution_count": null,
   "metadata": {},
   "outputs": [],
   "source": [
    "def myf4(a,*arg, mu=0.0, sig=0.1, **karg):\n",
    "    print(\"function called\")\n",
    "    print(\"positional a: %s %s\"%(a,arg))\n",
    "    if len(arg):\n",
    "        for x in arg:\n",
    "            print('[%s]\\t'%x)\n",
    "        print('\\n')\n",
    "    print(\"keyword: %s %s %s\"%(mu,sig,karg))    \n",
    "    if len(karg):\n",
    "        for x in karg.keys():\n",
    "            print('[%s = %s]\\t'%(x, karg[x]))\n",
    "        print('\\n')\n",
    "    print('\\n')\n",
    "myf4(-0.1)\n",
    "myf4(-0.1,10.1)\n",
    "myf4(-0.1,mu=10.1)"
   ]
  },
  {
   "cell_type": "code",
   "execution_count": null,
   "metadata": {},
   "outputs": [],
   "source": [
    "myf4(0.3,'x','y', 0.9, color='red', mu=0.6, thick=1.1, fill='true')"
   ]
  },
  {
   "cell_type": "markdown",
   "metadata": {},
   "source": [
    "## Command line arguments for python programs\n",
    "\n",
    "The sys module gives easy access to command line arguments as a list. An example is in [app1.py](examples/app1.py)"
   ]
  },
  {
   "cell_type": "code",
   "execution_count": null,
   "metadata": {},
   "outputs": [],
   "source": [
    "# %load examples/app1.py\n",
    "import sys, os\n",
    "\n",
    "print(\"Running \"+__file__)\n",
    "\n",
    "print(\"Running \"+os.path.basename(__file__))\n",
    "\n",
    "\n",
    "print(\"program called with %d arguments\"%len(sys.argv))\n",
    "\n",
    "for a in sys.argv:\n",
    "    print(a)\n"
   ]
  }
 ],
 "metadata": {
  "kernelspec": {
   "display_name": "Python 3",
   "language": "python",
   "name": "python3"
  },
  "language_info": {
   "codemirror_mode": {
    "name": "ipython",
    "version": 3
   },
   "file_extension": ".py",
   "mimetype": "text/x-python",
   "name": "python",
   "nbconvert_exporter": "python",
   "pygments_lexer": "ipython3",
   "version": "3.8.2"
  }
 },
 "nbformat": 4,
 "nbformat_minor": 2
}
