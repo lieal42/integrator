{
 "cells": [
  {
   "cell_type": "markdown",
   "metadata": {
    "slideshow": {
     "slide_type": "slide"
    }
   },
   "source": [
    "# Input from keyboard\n",
    "\n",
    "`input()` acquires simple text from keyboard. "
   ]
  },
  {
   "cell_type": "code",
   "execution_count": 1,
   "metadata": {
    "slideshow": {
     "slide_type": "subslide"
    }
   },
   "outputs": [
    {
     "name": "stdout",
     "output_type": "stream",
     "text": [
      "insert a number: 2\n",
      "your input: 2\n"
     ]
    },
    {
     "ename": "TypeError",
     "evalue": "'>' not supported between instances of 'str' and 'int'",
     "output_type": "error",
     "traceback": [
      "\u001b[0;31m---------------------------------------------------------------------------\u001b[0m",
      "\u001b[0;31mTypeError\u001b[0m                                 Traceback (most recent call last)",
      "\u001b[0;32m<ipython-input-1-0b5bf50bc996>\u001b[0m in \u001b[0;36m<module>\u001b[0;34m\u001b[0m\n\u001b[1;32m      1\u001b[0m \u001b[0mz\u001b[0m \u001b[0;34m=\u001b[0m \u001b[0minput\u001b[0m\u001b[0;34m(\u001b[0m\u001b[0;34m\"insert a number: \"\u001b[0m\u001b[0;34m)\u001b[0m\u001b[0;34m\u001b[0m\u001b[0;34m\u001b[0m\u001b[0m\n\u001b[1;32m      2\u001b[0m \u001b[0mprint\u001b[0m\u001b[0;34m(\u001b[0m\u001b[0;34m\"your input: \"\u001b[0m\u001b[0;34m+\u001b[0m\u001b[0mz\u001b[0m\u001b[0;34m)\u001b[0m\u001b[0;34m\u001b[0m\u001b[0;34m\u001b[0m\u001b[0m\n\u001b[0;32m----> 3\u001b[0;31m \u001b[0;32mif\u001b[0m \u001b[0mz\u001b[0m\u001b[0;34m>\u001b[0m\u001b[0;36m0\u001b[0m\u001b[0;34m:\u001b[0m\u001b[0;34m\u001b[0m\u001b[0;34m\u001b[0m\u001b[0m\n\u001b[0m\u001b[1;32m      4\u001b[0m     \u001b[0mprint\u001b[0m\u001b[0;34m(\u001b[0m\u001b[0;34m\"positive number: \"\u001b[0m\u001b[0;34m,\u001b[0m \u001b[0mz\u001b[0m\u001b[0;34m)\u001b[0m\u001b[0;34m\u001b[0m\u001b[0;34m\u001b[0m\u001b[0m\n",
      "\u001b[0;31mTypeError\u001b[0m: '>' not supported between instances of 'str' and 'int'"
     ]
    }
   ],
   "source": [
    "z = input(\"insert a number: \")\n",
    "print(\"your input: \"+z)\n",
    "if z>0:\n",
    "    print(\"positive number: \", z)"
   ]
  },
  {
   "cell_type": "markdown",
   "metadata": {
    "slideshow": {
     "slide_type": "subslide"
    }
   },
   "source": [
    "`z` is simple text and cannot be used with the `>` operator. \n",
    "\n",
    "You need to explicitly convert to the type you need."
   ]
  },
  {
   "cell_type": "code",
   "execution_count": 2,
   "metadata": {
    "slideshow": {
     "slide_type": "subslide"
    }
   },
   "outputs": [
    {
     "name": "stdout",
     "output_type": "stream",
     "text": [
      "insert integer: 2\n",
      "x =  2\n"
     ]
    }
   ],
   "source": [
    "x = int(input(\"insert integer: \"))\n",
    "print (\"x = \", x)"
   ]
  },
  {
   "cell_type": "code",
   "execution_count": 3,
   "metadata": {
    "slideshow": {
     "slide_type": "subslide"
    }
   },
   "outputs": [
    {
     "name": "stdout",
     "output_type": "stream",
     "text": [
      "insert integer: 2\n",
      "a rational number? 1.2\n",
      "x: 2 > y:1.2\n"
     ]
    }
   ],
   "source": [
    "x = int(input(\"insert integer: \"))\n",
    "y = float( input(\"a rational number? \"))\n",
    "\n",
    "if x > y:\n",
    "    print(\"x: {0} > y:{1}\".format(x,y)  )\n",
    "else: \n",
    "    print(\"y: {1} > x:{0}\".format(x,y) )\n",
    "\n"
   ]
  },
  {
   "cell_type": "markdown",
   "metadata": {},
   "source": [
    "# built-in types\n",
    "\n",
    "Commonly used numerical and string types are\n",
    "\n",
    "type | Description |\n",
    ":----|:-----------\n",
    " str | similar to C++ string \n",
    " float | C double precision \n",
    " complex | complex number with real parts x + yj\n",
    " int | integer \n",
    " bool | boolean variable. special integer with just 1 bit\n",
    "\n",
    "you have to explicitly convert `input()` to desired type for use.\n"
   ]
  },
  {
   "cell_type": "code",
   "execution_count": 4,
   "metadata": {},
   "outputs": [
    {
     "name": "stdout",
     "output_type": "stream",
     "text": [
      "insert an integer: 2345\n",
      "2345\n"
     ]
    }
   ],
   "source": [
    "anint = int( input(\"insert an integer: \"))\n",
    "print(anint)"
   ]
  },
  {
   "cell_type": "markdown",
   "metadata": {},
   "source": [
    "by putting the explicit cast, you will have an error if a floating point number is provided in input.\n",
    "There is no automatic conversion!"
   ]
  },
  {
   "cell_type": "code",
   "execution_count": 5,
   "metadata": {},
   "outputs": [
    {
     "name": "stdout",
     "output_type": "stream",
     "text": [
      "insert a float: 2\n",
      "2.0\n"
     ]
    }
   ],
   "source": [
    "afloat = float( input(\"insert a float: \"))\n",
    "print(afloat)"
   ]
  },
  {
   "cell_type": "markdown",
   "metadata": {},
   "source": [
    "However an integer literal can be used as float:"
   ]
  },
  {
   "cell_type": "code",
   "execution_count": 6,
   "metadata": {},
   "outputs": [
    {
     "name": "stdout",
     "output_type": "stream",
     "text": [
      "insert a float: 2.6\n",
      "2.6\n"
     ]
    }
   ],
   "source": [
    "afloat = float( input(\"insert a float: \"))\n",
    "print(afloat)"
   ]
  },
  {
   "cell_type": "code",
   "execution_count": 7,
   "metadata": {},
   "outputs": [
    {
     "name": "stdout",
     "output_type": "stream",
     "text": [
      "insert a complex number: 3\n",
      "(3+0j)\n"
     ]
    }
   ],
   "source": [
    "acomplex = complex( input(\"insert a complex number: \"))\n",
    "print(acomplex)"
   ]
  },
  {
   "cell_type": "markdown",
   "metadata": {},
   "source": [
    "## bool type\n",
    "same as bool in C++. used for logical operation and uses just one bit to store the info"
   ]
  },
  {
   "cell_type": "code",
   "execution_count": null,
   "metadata": {},
   "outputs": [],
   "source": [
    "c = 2.3 < 3\n",
    "print(c,type(c),c.bit_length())\n",
    "\n",
    "c = bool(0)\n",
    "print(c,c.bit_length())\n",
    "\n",
    "c = bool(-3)\n",
    "print(c,c.bit_length())\n",
    "\n",
    "d = True\n",
    "print(d, int(d))\n",
    "\n",
    "print(type(2.3), type(True), type(\"hello\"))"
   ]
  },
  {
   "cell_type": "markdown",
   "metadata": {},
   "source": [
    "## integers in python\n",
    "Unlike in C/C++, you can have arbitrarily large integers in python"
   ]
  },
  {
   "cell_type": "code",
   "execution_count": null,
   "metadata": {},
   "outputs": [],
   "source": [
    "j = 3**334\n",
    "print(j)\n",
    "print(type(j))\n",
    "print( (3**11567).bit_length())"
   ]
  },
  {
   "cell_type": "markdown",
   "metadata": {},
   "source": [
    "## Integer in arbitrary base\n",
    "\n",
    "A neat feature of integers in python is easy conversion to an arbitrary base"
   ]
  },
  {
   "cell_type": "code",
   "execution_count": null,
   "metadata": {},
   "outputs": [],
   "source": [
    "int('101',base=2)"
   ]
  },
  {
   "cell_type": "code",
   "execution_count": null,
   "metadata": {},
   "outputs": [],
   "source": [
    "int('101', base=3)"
   ]
  },
  {
   "cell_type": "code",
   "execution_count": null,
   "metadata": {},
   "outputs": [],
   "source": [
    "int('101', base=5)"
   ]
  },
  {
   "cell_type": "code",
   "execution_count": null,
   "metadata": {},
   "outputs": [],
   "source": [
    "int('101', base=7)"
   ]
  },
  {
   "cell_type": "code",
   "execution_count": null,
   "metadata": {},
   "outputs": [],
   "source": [
    "int('101', base=8)"
   ]
  },
  {
   "cell_type": "code",
   "execution_count": null,
   "metadata": {},
   "outputs": [],
   "source": [
    "int('101', base=16)"
   ]
  },
  {
   "cell_type": "code",
   "execution_count": null,
   "metadata": {},
   "outputs": [],
   "source": [
    "int('1F',base=16)"
   ]
  },
  {
   "cell_type": "code",
   "execution_count": null,
   "metadata": {},
   "outputs": [],
   "source": [
    "int('FF01',base=16)+int('1110001',base=2)"
   ]
  },
  {
   "cell_type": "markdown",
   "metadata": {},
   "source": [
    "# Inline help and inspection\n",
    "In addition to `?` in jupyter, you can use the inline help facility in the interactive python session:"
   ]
  },
  {
   "cell_type": "code",
   "execution_count": null,
   "metadata": {},
   "outputs": [],
   "source": [
    "help(int)"
   ]
  },
  {
   "cell_type": "markdown",
   "metadata": {},
   "source": [
    "and since everything is an object in python, you can list the attributes, data and functions which are all objects, within any object."
   ]
  },
  {
   "cell_type": "code",
   "execution_count": null,
   "metadata": {},
   "outputs": [],
   "source": [
    "dir(int)"
   ]
  },
  {
   "cell_type": "code",
   "execution_count": null,
   "metadata": {},
   "outputs": [],
   "source": [
    "help(int.bit_length)"
   ]
  },
  {
   "cell_type": "code",
   "execution_count": null,
   "metadata": {},
   "outputs": [],
   "source": [
    "help(bin)"
   ]
  },
  {
   "cell_type": "markdown",
   "metadata": {},
   "source": [
    "There are actually built-in functions for easy base conversion"
   ]
  },
  {
   "cell_type": "code",
   "execution_count": null,
   "metadata": {},
   "outputs": [],
   "source": [
    "c = 23\n",
    "print( bin(c), oct(c), hex(c))\n",
    "\n",
    "0x1F + 3 +0b111"
   ]
  },
  {
   "cell_type": "markdown",
   "metadata": {},
   "source": [
    "So finally you can quickly exercise your ability to convert between hexadecimal and binary bases."
   ]
  },
  {
   "cell_type": "code",
   "execution_count": null,
   "metadata": {},
   "outputs": [],
   "source": [
    "print( hex(0b00011000))"
   ]
  },
  {
   "cell_type": "markdown",
   "metadata": {},
   "source": [
    "# Flow control in python\n",
    "The main difference with respect to C++ is the lack of `}` and `;` and use of `:` and indentation for logical structure\n",
    "\n",
    "## If/elif/else "
   ]
  },
  {
   "cell_type": "code",
   "execution_count": null,
   "metadata": {},
   "outputs": [],
   "source": [
    "x = float(input(\"insert a number: \"))\n",
    "if x < 0 :\n",
    "    pass\n",
    "elif x < 1:\n",
    "    print(\"0 < x < 1\")\n",
    "else:\n",
    "    print(\"x > 1\")\n",
    "    "
   ]
  },
  {
   "cell_type": "markdown",
   "metadata": {},
   "source": [
    "The new keyword `pass` is needed for an empty scope. It does not skip anything. It only tells the interpreter that in this scope there is nothing to do. It is equivalent to `{}` in C++."
   ]
  },
  {
   "cell_type": "markdown",
   "metadata": {},
   "source": [
    "## while loop"
   ]
  },
  {
   "cell_type": "code",
   "execution_count": null,
   "metadata": {},
   "outputs": [],
   "source": [
    "w = -2\n",
    "while w<0 or w>1:\n",
    "    w = float(input(\"insert x in [0,1]: \"))"
   ]
  },
  {
   "cell_type": "markdown",
   "metadata": {},
   "source": [
    "You can now easily create a user interface for input with control over user input"
   ]
  },
  {
   "cell_type": "code",
   "execution_count": null,
   "metadata": {},
   "outputs": [],
   "source": [
    "while True:\n",
    "    w = float(input(\"insert x in [0,1]: \"))\n",
    "    if w>=0 and w<=1: break"
   ]
  },
  {
   "cell_type": "markdown",
   "metadata": {},
   "source": [
    "## for loop\n",
    "we have already seen the use of a for loop that requires a sequence of objects to iterate over\n"
   ]
  },
  {
   "cell_type": "code",
   "execution_count": null,
   "metadata": {},
   "outputs": [],
   "source": [
    "for i in range(1,11,2):\n",
    "    print(\"i: %-3d\\t i^2: %d\"%(i, i**2))\n",
    "    print(\"i: {0}\\t i^2: {1}\".format(i,i**2))"
   ]
  },
  {
   "cell_type": "markdown",
   "metadata": {},
   "source": [
    "In this example you can also use the C-style `fprintf` formatting for displaying information."
   ]
  },
  {
   "cell_type": "markdown",
   "metadata": {},
   "source": [
    "# Functions\n",
    "\n",
    "as in other languages  function is defined by its name and its argguments. But there is no return type nor you need to specify the type of arguments. Any object can be the input to any function.\n",
    "\n",
    "The generic structure of a function is\n",
    "```python\n",
    "def function(arg1, arg2, arg3=val):\n",
    "    statements\n",
    "    return value\n",
    "```\n",
    "\n",
    "If a function does not return a value, a `None` value is returned automatically"
   ]
  },
  {
   "cell_type": "code",
   "execution_count": null,
   "metadata": {},
   "outputs": [],
   "source": [
    "def decay(x, a=0.3, b=0.7):\n",
    "    if x < a:\n",
    "        print(\"two body decay\")\n",
    "    elif x<b:\n",
    "        print(\"three body decay\")\n",
    "    else:\n",
    "        print(\"decay to 4 or more bodies\")\n",
    "    \n",
    "decay(0.4)\n",
    "decay(0.9, b=0.6)\n",
    "# also decay() has a return type\n",
    "v = decay(0.003)\n",
    "print( type(v))\n",
    "\n",
    "# import NumPy module\n",
    "import numpy as np\n",
    "x = np.random.random()\n",
    "print(\"x = %.4f\"%x)\n",
    "decay(x)\n"
   ]
  },
  {
   "cell_type": "markdown",
   "metadata": {},
   "source": [
    "# python application and modules\n",
    "An important difference with respect to C++ is the lack of an entry point.\n",
    "\n",
    "A typical C/C++ application `app.cc` is\n",
    "```c++\n",
    "#include <stdio>\n",
    "#include<math>\n",
    "\n",
    "double uniform(double,double);\n",
    "\n",
    "int main() {\n",
    "  /*   code goes here */\n",
    "  return 0;\n",
    "}\n",
    "\n",
    "double uniform(double a,double b) {\n",
    "  /* implement uniform */\n",
    "  return something\n",
    "}\n",
    "```\n",
    "you compile and link the application using the math library as\n",
    "```\n",
    "g++ -o /tmp/app.exe -lm app.cc\n",
    "```\n",
    "and finally run the executable\n",
    "```\n",
    "/tmp/app.exe\n",
    "```\n",
    "\n",
    "Running the executable means that the oeprating system calls the `main()` function in `app.exe`.\n",
    "\n",
    "**In python however there is no such thing!**\n",
    "\n",
    "A program is any file containing python statements. Being an interpreted language, all statements are executed as they appear in the file.\n",
    "\n",
    "\n",
    "The following example showing the use of modules and namespace are available at [examples/python](https://github.com/rahatlou/CMP/tree/CMP2020/examples/python)\n",
    "\n",
    "\n",
    "Our first program is `example11.py`"
   ]
  },
  {
   "cell_type": "code",
   "execution_count": null,
   "metadata": {},
   "outputs": [],
   "source": [
    "# this is my first module\n",
    "\n",
    "print(\"==== running example1.py\")\n",
    "\n",
    "a = 2.3\n",
    "b = 4.5\n",
    "c = a/b\n",
    "\n",
    "def line(x, m=1., q=0.):\n",
    "  print(\"x: {2}, m: {0}, q: {1}\".format(m,q,x))\n",
    "  return m*x+q\n",
    "\n",
    "#print using ''\n",
    "print('a = {0}, b = {1}, c = {2}'.format( a, b, c) )\n",
    "\n",
    "\n",
    "print( line(2., q=2.3) )\n",
    "print( line(0., q=-1.3) )\n",
    "print(\"==== end of example1.py\")"
   ]
  },
  {
   "cell_type": "markdown",
   "metadata": {},
   "source": [
    "__Reminder__: you can execute the program from the command line with \n",
    "```\n",
    "python3 example11.py\n",
    "```\n",
    "In jupyter you can run a local file (with path relative to directory where you started the notebook session) by using the magic `%run` command.\n",
    "\n",
    "In this case I am already in  \n",
    "```\n",
    "$ pwd\n",
    "/Users/rahatlou/Didattica/Computing Methods in Physics/lec22\n",
    "```"
   ]
  },
  {
   "cell_type": "code",
   "execution_count": null,
   "metadata": {},
   "outputs": [],
   "source": [
    "%run ../examples/python/example11.py"
   ]
  },
  {
   "cell_type": "markdown",
   "metadata": {},
   "source": [
    "## Our first module\n",
    "We now want to use the `line()` function in this examples in other programs. Rather than copying the code by hand we want to use a library model, or what is called a __module__ in python. \n",
    "\n",
    "Unlike C there is  no special setup to create a module.\n",
    "\n",
    "We write a second program `example12.py`\n",
    "```python\n",
    "import example11\n",
    "\n",
    "import example11\n",
    "\n",
    "print('===== running example12.py ===== ')\n",
    "\n",
    "x = float(input(\"insert x:\"))\n",
    "y = example11.line(x)\n",
    "print( y )\n",
    "\n",
    "# a much shorter way\n",
    "print( example11.line( float( input(\"insert x:\")  )  )  )\n",
    "```\n",
    "then execute from the command line\n",
    "\n",
    "```shell\n",
    "$ python3 example12.py\n",
    "==== running example1.py\n",
    "a = 2.3, b = 4.5, c = 0.5111111111111111\n",
    "x: 2.0, m: 1.0, q: 2.3\n",
    "4.3\n",
    "x: 0.0, m: 1.0, q: -1.3\n",
    "-1.3\n",
    "==== end of example1.py\n",
    "===== running example12.py ===== \n",
    "insert x:-123\n",
    "x: -123.0, m: 1.0, q: 0.0\n",
    "-123.0\n",
    "insert x:23\n",
    "x: 23.0, m: 1.0, q: 0.0\n",
    "23.0\n",
    "```"
   ]
  },
  {
   "cell_type": "markdown",
   "metadata": {},
   "source": [
    "There are 2 important aspects to note\n",
    "  1. the function `line()` belongs to the `example11` namespace. So you __must__ use `example11.line` to call the functions\n",
    "  2. by importing `example11` in addition to the function `line` you also execute the rest of the python program\n",
    "  This is expected because __python is an interpreted language__ \n",
    "  \n",
    "let's address these 2 issues\n",
    "\n",
    "### importing only some objects of a module\n",
    "To address the first issue we can do the following in `example13.py`\n",
    "```python\n",
    "from  example13 import line\n",
    "\n",
    "print(\"++++ executing \"+ __file__)\n",
    "\n",
    "print( line( -3.4, q=0.5 )  )\n",
    "```\n",
    "Now when we run the program:\n",
    "```shell\n",
    "$ python3 example13.py \n",
    "==== running example1.py\n",
    "a = 2.3, b = 4.5, c = 0.5111111111111111\n",
    "x: 2.0, m: 1.0, q: 2.3\n",
    "4.3\n",
    "x: 0.0, m: 1.0, q: -1.3\n",
    "-1.3\n",
    "==== end of example1.py\n",
    "++++ executing example13.py\n",
    "x: -3.4, m: 1.0, q: 0.5\n",
    "-2.9\n",
    "```"
   ]
  },
  {
   "cell_type": "markdown",
   "metadata": {},
   "source": [
    "### importing objects from a module with a new name\n",
    "A different approach is shown in (`example14.py`) where line is imported with a new name `p1`\n",
    "```python\n",
    "from  example11 import line as p1\n",
    "\n",
    "print(\"++++ executing \"+ __file__)\n",
    "\n",
    "print( p1( -3.4, q=0.5 )  )\n",
    "```\n",
    "which produces\n",
    "\n",
    "```shell\n",
    "$ python3 example14.py\n",
    "==== running example1.py\n",
    "a = 2.3, b = 4.5, c = 0.5111111111111111\n",
    "x: 2.0, m: 1.0, q: 2.3\n",
    "4.3\n",
    "x: 0.0, m: 1.0, q: -1.3\n",
    "-1.3\n",
    "==== end of example1.py\n",
    "++++ executing example14.py\n",
    "x: -3.4, m: 1.0, q: 0.5\n",
    "-2.9\n",
    "```"
   ]
  },
  {
   "cell_type": "markdown",
   "metadata": {},
   "source": [
    "### what is imported? \n",
    "All objects defined in a module are available when a module is imported. \n",
    "\n",
    "This is shown in `example15.py`\n",
    "```python \n",
    "$ cat example15.py \n",
    "import example11\n",
    "\n",
    "print(\"++++ executing file: \"+ __file__)\n",
    "\n",
    "print( \"callig example11.line( 2.34, q=0.5 ): \", example11.line( 2.34, q=0.5 )  )\n",
    "\n",
    "print( \"example11.a: %f\"%example11.a )\n",
    "```\n",
    "and when running in the terminal\n",
    "\n",
    "```shell\n",
    "$ python3 example15.py\n",
    "==== running example1.py\n",
    "a = 2.3, b = 4.5, c = 0.5111111111111111\n",
    "x: 2.0, m: 1.0, q: 2.3\n",
    "4.3\n",
    "x: 0.0, m: 1.0, q: -1.3\n",
    "-1.3\n",
    "==== end of example1.py\n",
    "++++ executing file: example15.py\n",
    "x: 2.34, m: 1.0, q: 0.5\n",
    "callig example11.line( 2.34, q=0.5 ):  2.84\n",
    "example11.a: 2.300000\n",
    "```"
   ]
  },
  {
   "cell_type": "markdown",
   "metadata": {},
   "source": [
    "### importing only objects without executing statements\n",
    "We now solve our sec0nd problem which is how to avoid running the statements in `example11.py`  when importing it as a module.\n",
    "\n",
    "This can be done with a more advanced feature of python which we will understand better in future lecture. The solution is actually trivial. A modified version of `example11.py` is `mymodule.py`\n",
    "```python\n",
    "# this is my first module\n",
    "a = 2.3\n",
    "b = 4.5\n",
    "c = a/b\n",
    "\n",
    "def line(x, m=1., q=0.):\n",
    "  print(\"=== in line === x: {2}, m: {0}, q: {1}\".format(m,q,x))\n",
    "  return m*x+q\n",
    "\n",
    "print(\"__name__ : \"+  __name__ + \" in \" + __file__)\n",
    "\n",
    "\n",
    "if __name__ == \"__main__\":\n",
    "  print(\"executing \"+  __name__ + \" in \" + __file__)\n",
    "\n",
    "  #print using ''\n",
    "  print('a = {0}, b = {1}, c = {2}'.format( a, b, c) )\n",
    "  print( \"calling line(): \", line(2., q=2.3) )\n",
    "  print( \"calling line()\", line(0., q=-1.3) )\n",
    "\n",
    "  def p1(x, m=1., q=0.):\n",
    "     print(\"x: {2}, m: {0}, q: {1}\".format(m,q,x))\n",
    "     return m*x+q\n",
    "```\n",
    "which has this behavior\n",
    "```shell\n",
    "$ python3 mymodule.py \n",
    "__name__ : __main__ in mymodule.py\n",
    "executing __main__ in mymodule.py\n",
    "\n",
    "a = 2.3, b = 4.5, c = 0.5111111111111111\n",
    "\n",
    "=== in line === x: 2.0, m: 1.0, q: 2.3\n",
    "calling line():  4.3\n",
    "\n",
    "=== in line === x: 0.0, m: 1.0, q: -1.3\n",
    "calling line() -1.3\n",
    "```"
   ]
  },
  {
   "cell_type": "markdown",
   "metadata": {},
   "source": [
    "To understand this better look at in `example16.py`\n",
    "```python\n",
    "import mymodule\n",
    "\n",
    "print(\"++++ executing namespace \" + __name__ + \" in file: \" +  __file__)\n",
    "\n",
    "# local a variable\n",
    "a = 'test string'\n",
    "\n",
    "# any object in mymodule can be used\n",
    "# and there is no confusion with local a\n",
    "print( \"mymodule.a: %f\"%mymodule.a )\n",
    "print( \"local a: \", a )\n",
    "\n",
    "## use line function from mymodule\n",
    "print( mymodule.line( 2.34, q=0.5 )  )\n",
    "\n",
    "## function p1 is defined in mymodule but cannot be used because\n",
    "## behind __name__ == \"__main__\" in mymodule\n",
    "##\n",
    "print( mymodule.p1( 2.34, q=0.5 )  )\n",
    "```"
   ]
  },
  {
   "cell_type": "markdown",
   "metadata": {},
   "source": [
    "At runtime we get the following error\n",
    "```shell\n",
    "$ python3 example16.py\n",
    "__name__ : mymodule in /Users/rahatlou/Sites/Didattica/cmp/examples/python/mymodule.py\n",
    "\n",
    "++++ executing namespace __main__ in file: example16.py\n",
    "\n",
    "mymodule.a: 2.300000\n",
    "local a:  test string\n",
    "\n",
    "=== in line === x: 2.34, m: 1.0, q: 0.5\n",
    "2.84\n",
    "Traceback (most recent call last):\n",
    "  File \"example16.py\", line 19, in <module>\n",
    "    print( mymodule.p1( 2.34, q=0.5 )  )\n",
    "AttributeError: module 'mymodule' has no attribute 'p1'\n",
    "```"
   ]
  },
  {
   "cell_type": "markdown",
   "metadata": {},
   "source": [
    "When `mymodule` is imported it has its own namespace which is not `__main__`. Therefore at anytime only the python program being executed has the `__main__` namespace as desired.\n"
   ]
  },
  {
   "cell_type": "markdown",
   "metadata": {},
   "source": [
    "# Built-in data structures: containers and sequences\n",
    "\n",
    "- One of the great and popular features of python is the presence of built-in containers for sequenes of objects.\n",
    "  - These are similar to STL containers discussed in C++.\n",
    "\n",
    "- Since in python everything is an object and all objects can be refrenced in the same way, containers can include objects of different type\n",
    "  - this is unlike anything seen in C++\n",
    "  \n",
    "- these built-in types and the reference-driven flexibility of python has made it very popular for data analysis\n",
    "\n",
    "- basic built-in data structures in python are\n",
    "  - tuple\n",
    "  - list\n",
    "  - set\n",
    "  - dictionary\n",
    "  \n",
    "- Today we only focus on these types\n",
    "- We will introduce more advanced types when discussing [NumPy](https://www.numpy.org) and [pandas](http://pandas.pydata.org) packages, e.g.\n",
    "  - ndarrays\n",
    "  - series\n",
    "  - time series\n",
    "  - DataFrame"
   ]
  },
  {
   "cell_type": "markdown",
   "metadata": {},
   "source": [
    "## Tuples\n",
    "\n",
    "- sequence of python objects\n",
    "  - fixed length\n",
    "  - immutable\n",
    "\n",
    "to create a tuple simply separate its elements with a `,`"
   ]
  },
  {
   "cell_type": "code",
   "execution_count": null,
   "metadata": {},
   "outputs": [],
   "source": [
    "a = 'lec23', 'lec24', 'lec25'\n",
    "print(a)\n"
   ]
  },
  {
   "cell_type": "code",
   "execution_count": null,
   "metadata": {},
   "outputs": [],
   "source": [
    "len(a)"
   ]
  },
  {
   "cell_type": "markdown",
   "metadata": {},
   "source": [
    "a tuple can contain different type of objects"
   ]
  },
  {
   "cell_type": "code",
   "execution_count": null,
   "metadata": {},
   "outputs": [],
   "source": [
    "b = 'paul', 24, 1.75, 85.3\n",
    "print(b)"
   ]
  },
  {
   "cell_type": "code",
   "execution_count": null,
   "metadata": {},
   "outputs": [],
   "source": [
    "print(a,b)"
   ]
  },
  {
   "cell_type": "markdown",
   "metadata": {},
   "source": [
    "## access tuple elements\n",
    "Access to the i-th element of a tuple is done with `[]` operator"
   ]
  },
  {
   "cell_type": "code",
   "execution_count": null,
   "metadata": {},
   "outputs": [],
   "source": [
    "print(a[2])\n",
    "print(b[3])\n",
    "print(type(b[1]))\n",
    "print(len(b))\n",
    "print(b[4])"
   ]
  },
  {
   "cell_type": "markdown",
   "metadata": {},
   "source": [
    "Note how there is protection against out-of-bound access to tuples."
   ]
  },
  {
   "cell_type": "markdown",
   "metadata": {},
   "source": [
    "## empty or one-element tuple"
   ]
  },
  {
   "cell_type": "code",
   "execution_count": null,
   "metadata": {},
   "outputs": [],
   "source": [
    "c = ()\n",
    "print(type(c),c)\n",
    "\n",
    "d = 'something',\n",
    "print(type(d),d)\n",
    "\n"
   ]
  },
  {
   "cell_type": "markdown",
   "metadata": {},
   "source": [
    "Note that the `,` is critical to distinguish a on-element tuple from a normal variable."
   ]
  },
  {
   "cell_type": "code",
   "execution_count": null,
   "metadata": {},
   "outputs": [],
   "source": [
    "e = 'valore'\n",
    "print(type(e), e)\n",
    "\n",
    "g = ('something')\n",
    "print(type(g),g)\n",
    "\n",
    "\n",
    "f = 'valore',\n",
    "print(type(f), f)\n",
    "\n",
    "\n",
    "h = ('another',)\n",
    "print(type(h), h)"
   ]
  },
  {
   "cell_type": "markdown",
   "metadata": {},
   "source": [
    "## conversion to tuple"
   ]
  },
  {
   "cell_type": "code",
   "execution_count": null,
   "metadata": {},
   "outputs": [],
   "source": [
    "print(range(3,10))"
   ]
  },
  {
   "cell_type": "code",
   "execution_count": null,
   "metadata": {},
   "outputs": [],
   "source": [
    "tup = range(10)\n",
    "print(\"length: \",len(tup))\n",
    "print(\"tup:\",tup)"
   ]
  },
  {
   "cell_type": "markdown",
   "metadata": {},
   "source": [
    "Note how tup is not a tuple but simply a refernce to function call `range(10)`.\n",
    "\n",
    "If you want a tuple you have to explicitly convert the output of `range(10)` to be a tuple"
   ]
  },
  {
   "cell_type": "code",
   "execution_count": null,
   "metadata": {},
   "outputs": [],
   "source": [
    "tup = tuple(range(10))\n",
    "print(\"length: \", len(tup))\n",
    "print(\"tup: \", tup)"
   ]
  },
  {
   "cell_type": "markdown",
   "metadata": {},
   "source": [
    "Iterating over a tuple is easy"
   ]
  },
  {
   "cell_type": "code",
   "execution_count": null,
   "metadata": {},
   "outputs": [],
   "source": [
    "for i in tup:\n",
    "    print(i)"
   ]
  },
  {
   "cell_type": "markdown",
   "metadata": {},
   "source": [
    "## converting strings to tuples\n"
   ]
  },
  {
   "cell_type": "code",
   "execution_count": null,
   "metadata": {},
   "outputs": [],
   "source": [
    "tup = tuple(\"hello world\")\n",
    "print(\"tup: \",tup)\n",
    "print(len(tup))\n",
    "\n",
    "for i in tup:\n",
    "    print(i)\n",
    "\n",
    "for i in tup:\n",
    "    print(i,end=\":\")\n",
    "    \n",
    "print(\"\\n\")    \n"
   ]
  },
  {
   "cell_type": "markdown",
   "metadata": {},
   "source": [
    "## Tuples can contain any object\n",
    "even a function is a valid object"
   ]
  },
  {
   "cell_type": "code",
   "execution_count": null,
   "metadata": {},
   "outputs": [],
   "source": [
    "def myprod(a,b=3.145,scale=1.0):\n",
    "    return a*b*scale\n",
    "\n",
    "tup = (1, 'name', myprod)\n",
    "print(\"tup: \",tup)\n",
    "\n",
    "for i in tup:\n",
    "    print(type(i))"
   ]
  },
  {
   "cell_type": "code",
   "execution_count": null,
   "metadata": {},
   "outputs": [],
   "source": [
    "scale = 3.2\n",
    "print(tup[2](3,4))\n",
    "print(myprod(2,scale=scale))"
   ]
  },
  {
   "cell_type": "markdown",
   "metadata": {},
   "source": [
    "a tuple can contain tuples as its elements"
   ]
  },
  {
   "cell_type": "code",
   "execution_count": null,
   "metadata": {},
   "outputs": [],
   "source": [
    "x = a,b,c, tup\n",
    "\n",
    "for i in x:\n",
    "    print(\"i: \", i)"
   ]
  },
  {
   "cell_type": "code",
   "execution_count": null,
   "metadata": {},
   "outputs": [],
   "source": [
    "print(x[2])\n",
    "print(x[0])\n",
    "print(x[3][2](3,5))"
   ]
  },
  {
   "cell_type": "markdown",
   "metadata": {},
   "source": [
    "## Tuple is immutable\n",
    "You can bind a variable to a new tuple but you cannot change an element of a tuple"
   ]
  },
  {
   "cell_type": "code",
   "execution_count": null,
   "metadata": {},
   "outputs": [],
   "source": [
    "print(b)"
   ]
  },
  {
   "cell_type": "code",
   "execution_count": null,
   "metadata": {},
   "outputs": [],
   "source": [
    "b[0] = 'one'"
   ]
  },
  {
   "cell_type": "code",
   "execution_count": null,
   "metadata": {},
   "outputs": [],
   "source": [
    "y = 'one', a, (2,3)\n",
    "print(y)\n",
    "print(b)"
   ]
  },
  {
   "cell_type": "code",
   "execution_count": null,
   "metadata": {},
   "outputs": [],
   "source": [
    "b = y\n",
    "print(b)"
   ]
  },
  {
   "cell_type": "code",
   "execution_count": null,
   "metadata": {},
   "outputs": [],
   "source": [
    "ntuple  = 'lec23', 'lec27', 'lec25', 'lec25', 3.14, 3.56, 3.97\n",
    "b = ntuple\n",
    "print(b)\n",
    "print(b.index('lec25'))\n",
    "print(b.count('lec25'))\n",
    "print(b.count(3.14))\n",
    "print(type(b.count('lec25')))"
   ]
  },
  {
   "cell_type": "markdown",
   "metadata": {},
   "source": [
    "## Tuple methods\n",
    "given the limitation of tuple, content and size are immutable, there are very few methods. (checkout `dir(tuple)`)\n",
    "\n",
    "One very useful one is `count()`"
   ]
  },
  {
   "cell_type": "code",
   "execution_count": null,
   "metadata": {},
   "outputs": [],
   "source": [
    "grades = [30, 22, 24, 23, 30, 18, 24, 27, 28, 28, 25, 24, 22, 30, 30, 18, 20]\n",
    "grades.count(30)"
   ]
  },
  {
   "cell_type": "markdown",
   "metadata": {},
   "source": [
    "## Lists\n",
    "- Lists are also a collection of objects but unlike tuples they are mutable\n",
    "  - variable length\n",
    "  - each element can be modified\n",
    "  "
   ]
  },
  {
   "cell_type": "code",
   "execution_count": null,
   "metadata": {
    "scrolled": true
   },
   "outputs": [],
   "source": [
    "alist = [2,3,4]\n",
    "print(alist)\n",
    "print(alist[2])\n",
    "alist[2] = -3\n",
    "print(alist)"
   ]
  },
  {
   "cell_type": "markdown",
   "metadata": {},
   "source": [
    "lists (and tuples) are protected against out of range index"
   ]
  },
  {
   "cell_type": "code",
   "execution_count": null,
   "metadata": {},
   "outputs": [],
   "source": [
    "print(len(alist))\n",
    "alist[3]"
   ]
  },
  {
   "cell_type": "markdown",
   "metadata": {},
   "source": [
    "A list can cantain any type of data. In this example the list is made of strings, float, int, function, lists, and tuples"
   ]
  },
  {
   "cell_type": "code",
   "execution_count": null,
   "metadata": {},
   "outputs": [],
   "source": [
    "alist = ['one', 2, 3.24, myprod, (23,24), ['lec1', 'lec2', [myprod,3.14]]]\n",
    "print(alist)\n",
    "print(alist[5][2][0](6,7))"
   ]
  },
  {
   "cell_type": "markdown",
   "metadata": {},
   "source": [
    "## lists and tuples\n",
    "- a list is created using the `[]` operator or the explicit type `list`\n",
    "- a tuple is created with the `()` operator or the explicit type `tuple`\n",
    "- Lists and tuples are semantically similar\n",
    "  - many functions can take a tuple or a list\n",
    "  \n",
    "- Lists are used in data analysis to store data from iterators or generators"
   ]
  },
  {
   "cell_type": "code",
   "execution_count": null,
   "metadata": {},
   "outputs": [],
   "source": [
    "values  = range(-3,10, 2)\n",
    "print(values)\n",
    "print(list(values))\n",
    "print(tuple(values))"
   ]
  },
  {
   "cell_type": "markdown",
   "metadata": {},
   "source": [
    "Note that as with tuples, you have to convert the output of `range` to be a list."
   ]
  },
  {
   "cell_type": "markdown",
   "metadata": {},
   "source": [
    "## list from tuple\n",
    "you can create a list from a tuple by explicit conversion "
   ]
  },
  {
   "cell_type": "code",
   "execution_count": null,
   "metadata": {},
   "outputs": [],
   "source": [
    "print(a)\n",
    "blist = list(a)\n",
    "print(blist)\n",
    "blist[2] = 'lec28'\n",
    "blist\n",
    "a = tuple(blist)\n",
    "print(a)"
   ]
  },
  {
   "cell_type": "markdown",
   "metadata": {},
   "source": [
    "## Manipulating lists\n",
    "\n",
    "### adding and removing elements\n",
    "to add an element at the end of the list"
   ]
  },
  {
   "cell_type": "code",
   "execution_count": null,
   "metadata": {},
   "outputs": [],
   "source": [
    "clist = ['one', 2, 3.14, 4, 'five']\n",
    "clist.append(6)\n",
    "print(clist)"
   ]
  },
  {
   "cell_type": "markdown",
   "metadata": {},
   "source": [
    "We can also insert a value at a specific location by providing the index"
   ]
  },
  {
   "cell_type": "code",
   "execution_count": null,
   "metadata": {},
   "outputs": [],
   "source": [
    "clist.insert(2, 'two')\n",
    "print(clist)"
   ]
  },
  {
   "cell_type": "markdown",
   "metadata": {},
   "source": [
    "note how the new element is inserted __before__ the indicated index. \n",
    "\n",
    "You can also remove an element from the list at a specific location with `pop`"
   ]
  },
  {
   "cell_type": "code",
   "execution_count": null,
   "metadata": {},
   "outputs": [],
   "source": [
    "clist.pop(2)\n",
    "print(clist)"
   ]
  },
  {
   "cell_type": "markdown",
   "metadata": {},
   "source": [
    "The `insert` and `pop` methods have a return value. \n",
    "\n",
    "In particular with `pop` it is useful to see the value you have removed from the list"
   ]
  },
  {
   "cell_type": "code",
   "execution_count": null,
   "metadata": {},
   "outputs": [],
   "source": [
    "x = clist.insert(2, 'test')\n",
    "print (x)\n",
    "x = clist.pop(2)\n",
    "print(x)\n",
    "print(clist)"
   ]
  },
  {
   "cell_type": "markdown",
   "metadata": {},
   "source": [
    "### removing by value\n",
    "Although not very efficient, you can remove a given value from the list. It will only remove the first such occurance. python will linearly go through all elements until it finds the first occurance"
   ]
  },
  {
   "cell_type": "code",
   "execution_count": null,
   "metadata": {},
   "outputs": [],
   "source": [
    "print(4 in clist)\n",
    "print(clist)\n",
    "clist.append(4)\n",
    "print(clist)"
   ]
  },
  {
   "cell_type": "code",
   "execution_count": null,
   "metadata": {},
   "outputs": [],
   "source": [
    "if 4 in clist:\n",
    "    clist.remove(4)\n",
    "print(clist)\n"
   ]
  },
  {
   "cell_type": "code",
   "execution_count": null,
   "metadata": {},
   "outputs": [],
   "source": [
    "if 4 in clist:\n",
    "    clist.remove(4)\n",
    "print(clist)"
   ]
  },
  {
   "cell_type": "markdown",
   "metadata": {},
   "source": [
    "### combining lists\n",
    "you can use `+` to combine or extend exisiting or new lists"
   ]
  },
  {
   "cell_type": "code",
   "execution_count": null,
   "metadata": {},
   "outputs": [],
   "source": [
    "print(blist)\n",
    "print(clist)\n",
    "all = blist + ['id', 'name', 'major']\n",
    "print(all)"
   ]
  },
  {
   "cell_type": "markdown",
   "metadata": {},
   "source": [
    "Note that this is very different than doing"
   ]
  },
  {
   "cell_type": "code",
   "execution_count": null,
   "metadata": {},
   "outputs": [],
   "source": [
    "all = [blist,'id', 'name', 'major']\n",
    "print(all)"
   ]
  },
  {
   "cell_type": "markdown",
   "metadata": {},
   "source": [
    "The most efficient way to extend a list is with `extend`. It can take one or more elements to be added"
   ]
  },
  {
   "cell_type": "code",
   "execution_count": null,
   "metadata": {},
   "outputs": [],
   "source": [
    "print(all.index('id'))\n",
    "print(all[-1])\n",
    "print(all[-3])"
   ]
  },
  {
   "cell_type": "code",
   "execution_count": null,
   "metadata": {
    "scrolled": false
   },
   "outputs": [],
   "source": [
    "all.extend([2,3,4, 'test', 'python'])\n",
    "print(all)\n",
    "all.append(4.56)\n",
    "print(all)\n",
    "all.extend( (2,3))\n",
    "print(all)\n",
    "all.append( (2,3))\n",
    "print(all)\n",
    "print(all[ all.index( (2,3)) ][1])\n",
    "print(all[-1][1])"
   ]
  },
  {
   "cell_type": "markdown",
   "metadata": {},
   "source": [
    "### Difference between append and extend"
   ]
  },
  {
   "cell_type": "code",
   "execution_count": null,
   "metadata": {},
   "outputs": [],
   "source": [
    "lista_1 = [ 1, 2, 3]\n",
    "lista_2 = [1,2,3]\n",
    "\n",
    "lista_3 = [10,11]\n",
    "\n",
    "lista_1.append(lista_3)\n",
    "lista_2.extend(lista_3)"
   ]
  },
  {
   "cell_type": "code",
   "execution_count": null,
   "metadata": {},
   "outputs": [],
   "source": [
    "print(\"append to a list: \", lista_1)\n",
    "print(\"extending a list: \", lista_2)"
   ]
  },
  {
   "cell_type": "markdown",
   "metadata": {},
   "source": [
    "### sorting a list\n",
    "lists of elements that can be compared to each other can be sorted"
   ]
  },
  {
   "cell_type": "code",
   "execution_count": null,
   "metadata": {},
   "outputs": [],
   "source": [
    "all.sort()\n",
    "print(all)\n"
   ]
  },
  {
   "cell_type": "code",
   "execution_count": null,
   "metadata": {},
   "outputs": [],
   "source": [
    "months = ['january', 'february', 'march', 'april', 'may', 'june', 'july', 'august', 'september', 'october', 'november', 'december']\n",
    "print(months)"
   ]
  },
  {
   "cell_type": "code",
   "execution_count": null,
   "metadata": {},
   "outputs": [],
   "source": [
    "months.sort()\n",
    "print(months)"
   ]
  },
  {
   "cell_type": "code",
   "execution_count": null,
   "metadata": {},
   "outputs": [],
   "source": [
    "months.sort(key=len)\n",
    "print(months)"
   ]
  },
  {
   "cell_type": "code",
   "execution_count": null,
   "metadata": {},
   "outputs": [],
   "source": [
    "help(list.sort)"
   ]
  },
  {
   "cell_type": "code",
   "execution_count": null,
   "metadata": {},
   "outputs": [],
   "source": [
    "months.sort(key=len,reverse=True)\n",
    "print(months)"
   ]
  },
  {
   "cell_type": "markdown",
   "metadata": {},
   "source": [
    "### sort vs sorted\n",
    "in this example `sort()` is **applied** to the object and **modifies** it. Instead we might prefer keeping the data intact and have a new sorted copy"
   ]
  },
  {
   "cell_type": "code",
   "execution_count": null,
   "metadata": {},
   "outputs": [],
   "source": [
    "months = ['january', 'february', 'march', 'april', 'may', 'june', 'july', 'august', 'september', 'october', 'november', 'december']\n",
    "print(months)\n",
    "\n",
    "sorted_months_byname = sorted(months)\n",
    "print(sorted_months_byname)\n",
    "\n",
    "sorted_months_bylen = sorted(months, key=len)\n",
    "print(sorted_months_bylen)\n",
    "\n",
    "help(sorted)"
   ]
  },
  {
   "cell_type": "markdown",
   "metadata": {},
   "source": [
    "### lists and strings"
   ]
  },
  {
   "cell_type": "code",
   "execution_count": null,
   "metadata": {},
   "outputs": [],
   "source": [
    "chars = list(\"in a far away galaxy\")\n",
    "print(chars)\n",
    "chars.count(' ')\n"
   ]
  },
  {
   "cell_type": "markdown",
   "metadata": {},
   "source": [
    "### enumerate function\n",
    "useful python function  to keep track of index while iterating on a collection, e.g. a list.\n",
    "\n",
    "see how in python the `for` loop takes advantage of `numerate`"
   ]
  },
  {
   "cell_type": "code",
   "execution_count": null,
   "metadata": {
    "scrolled": true
   },
   "outputs": [],
   "source": [
    "for i,m in enumerate(months):\n",
    "    print(\"month %-2d: %s\"%(i+1,m))"
   ]
  },
  {
   "cell_type": "markdown",
   "metadata": {},
   "source": [
    "### slicing\n",
    "one of most popular featurs in data analysis with python is the possibility of accessing a subset of a collection by specifying the indices"
   ]
  },
  {
   "cell_type": "code",
   "execution_count": null,
   "metadata": {},
   "outputs": [],
   "source": [
    "print(months[:3])"
   ]
  },
  {
   "cell_type": "code",
   "execution_count": null,
   "metadata": {},
   "outputs": [],
   "source": [
    "print(months[4:6])"
   ]
  },
  {
   "cell_type": "code",
   "execution_count": null,
   "metadata": {
    "scrolled": true
   },
   "outputs": [],
   "source": [
    "print(months[5:])\n",
    "print(len(months[6:]))"
   ]
  },
  {
   "cell_type": "code",
   "execution_count": null,
   "metadata": {},
   "outputs": [],
   "source": [
    "print(months[:-2])\n",
    "print(months[-2:])\n",
    "print(months[-6:-2])"
   ]
  },
  {
   "cell_type": "markdown",
   "metadata": {},
   "source": [
    "### references and lists\n",
    "in python all collection objects are handled as a reference. This is shown explicitly in this example"
   ]
  },
  {
   "cell_type": "code",
   "execution_count": null,
   "metadata": {},
   "outputs": [],
   "source": [
    "newlist = months\n",
    "print(newlist)"
   ]
  },
  {
   "cell_type": "code",
   "execution_count": null,
   "metadata": {
    "scrolled": true
   },
   "outputs": [],
   "source": [
    "newlist.append('NewMonth')\n",
    "print(months)"
   ]
  },
  {
   "cell_type": "markdown",
   "metadata": {},
   "source": [
    "so `newlist` __is not a new copy__. `newlist` and `months` are simply two references to the same list object!\n",
    "\n",
    "to have a new copy you have to use the explcit conversion"
   ]
  },
  {
   "cell_type": "code",
   "execution_count": null,
   "metadata": {},
   "outputs": [],
   "source": [
    "newlist = list(months)\n",
    "newlist.append('CrazyMonth')\n",
    "print(months)\n",
    "print(newlist)"
   ]
  },
  {
   "cell_type": "markdown",
   "metadata": {},
   "source": [
    "# Using a list for plotting\n",
    "\n",
    "## motion of a body under gravity\n",
    "We want to simulate the motion of a body under gravity. This is one of the first exercises in __Laboratorio di Calcolo__. This time we also want to quickly plot the trajectory to check our equations."
   ]
  },
  {
   "cell_type": "code",
   "execution_count": null,
   "metadata": {},
   "outputs": [],
   "source": [
    "%matplotlib notebook\n",
    "import matplotlib.pyplot as plt\n",
    "import math\n",
    "\n",
    "\n",
    "# initial conditions\n",
    "g = 9.8\n",
    "h = 0.\n",
    "theta = math.radians(45.)\n",
    "v0 = 1.\n",
    "dt=0.01\n",
    "        \n",
    "#compute velocity components\n",
    "v0x = v0*math.cos(theta)\n",
    "v0y = v0*math.sin(theta)\n",
    "print(\"v0_x: %.3f m/s \\t v0_y: %.3f m/s\"%(v0x,v0y))\n",
    "\n",
    "t=0.\n",
    "x=[]\n",
    "y=[]\n",
    "xi=0\n",
    "yi=h\n",
    "\n",
    "while yi>=0:\n",
    "    x.append(xi)\n",
    "    y.append(yi)\n",
    "    t+=dt\n",
    "    xi=v0x*t\n",
    "    yi=h+v0y*t-0.5*g*t*t\n",
    "\n",
    "#print(x,y)\n",
    "plt.plot(x,y, label='trajectory', color='red', marker='.')\n",
    "plt.legend()"
   ]
  },
  {
   "cell_type": "markdown",
   "metadata": {},
   "source": [
    "To make it more flexible we could ask the user to provide initial conditons"
   ]
  },
  {
   "cell_type": "code",
   "execution_count": null,
   "metadata": {},
   "outputs": [],
   "source": [
    "%matplotlib notebook\n",
    "import matplotlib.pyplot as plt\n",
    "import math\n",
    "\n",
    "# initial conditions\n",
    "g = 9.8\n",
    "h = 0.\n",
    "\n",
    "v0 = 10.\n",
    "dt=0.1\n",
    "\n",
    "theta = 45\n",
    "while True:\n",
    "    theta = float(input(\"angle theta in [0,90] degrees: \"))\n",
    "    if(theta>0 and theta<90): break\n",
    "theta = math.radians(theta)\n",
    "\n",
    "#compute velocity components\n",
    "v0x = v0*math.cos(theta)\n",
    "v0y = v0*math.sin(theta)\n",
    "print(\"v0_x: %.3f m/s \\t v0_y: %.3f m/s\"%(v0x,v0y))\n",
    "\n",
    "t=0.\n",
    "x=[]\n",
    "y=[]\n",
    "xi=0\n",
    "yi=h\n",
    "\n",
    "while yi>=0:\n",
    "    x.append(xi)\n",
    "    y.append(yi)\n",
    "    t+=dt\n",
    "    xi=v0x*t\n",
    "    yi=h+v0y*t-0.5*g*t*t\n",
    "\n",
    "#print(x,y)\n",
    "plt.plot(x,y)"
   ]
  },
  {
   "cell_type": "markdown",
   "metadata": {},
   "source": [
    "__To make it more user friendly we could provide a default value for the angle!__\n",
    "\n",
    "We do this by providing a default and pressing return w/o any input"
   ]
  },
  {
   "cell_type": "code",
   "execution_count": null,
   "metadata": {},
   "outputs": [],
   "source": [
    "%matplotlib notebook\n",
    "import matplotlib.pyplot as plt\n",
    "import math\n",
    "\n",
    "# initial conditions\n",
    "g = 9.8\n",
    "h = 0.\n",
    "\n",
    "v0 = 10.\n",
    "dt=0.01\n",
    "\n",
    "theta = 23.\n",
    "while True:\n",
    "    x = input(\"angle theta in [0,90] degrees (press return for {0} degree): \".format(theta))\n",
    "    if x == \"\" : break\n",
    "    theta  = float(x)\n",
    "    if(theta>0 and theta<90): break\n",
    "theta = math.radians(theta)\n",
    " \n",
    "#compute velocity components\n",
    "v0x = v0*math.cos(theta)\n",
    "v0y = v0*math.sin(theta)\n",
    "print(\"v0_x: %.3f m/s \\t v0_y: %.3f m/s\"%(v0x,v0y))\n",
    "\n",
    "t=0.\n",
    "x=[]\n",
    "y=[]\n",
    "xi=0\n",
    "yi=h\n",
    "\n",
    "while yi>=0:\n",
    "    x.append(xi)\n",
    "    y.append(yi)\n",
    "    t+=dt\n",
    "    xi=v0x*t\n",
    "    yi=h+v0y*t-0.5*g*t*t\n",
    "\n",
    "#print(x,y)\n",
    "plt.plot(x,y)"
   ]
  },
  {
   "cell_type": "markdown",
   "metadata": {},
   "source": [
    "We now change all the variables to be configurable by the user"
   ]
  },
  {
   "cell_type": "code",
   "execution_count": null,
   "metadata": {
    "scrolled": false
   },
   "outputs": [],
   "source": [
    "%matplotlib notebook\n",
    "import matplotlib.pyplot as plt\n",
    "import math\n",
    "\n",
    "g = 9.8\n",
    "\n",
    "h = 0.\n",
    "while True:\n",
    "    x = input(\"initial height h in m: (press return for h = 0 m): \")\n",
    "    if x == \"\":  break\n",
    "    h = float(x)\n",
    "    if(h>=0): break\n",
    "\n",
    "\n",
    "theta = 20.\n",
    "while True:\n",
    "    x = input(\"angle theta in [0,90] degrees (press return for {0} degree): \".format(theta))\n",
    "    if x == \"\" : break\n",
    "    theta  = float(x)\n",
    "    if(theta>0 and theta<90): break\n",
    "theta = math.radians(theta)\n",
    "        \n",
    "\n",
    "v0 = 10.\n",
    "while True:\n",
    "    x = input(\"insert v_0 > 0 in m/s (press return for {0} m/s): \".format(v0))\n",
    "    if x == \"\":  break\n",
    "    v0 = float(x)\n",
    "    if(v0>0): break\n",
    "\n",
    "dt=0.1\n",
    "while True:\n",
    "    x = input(\"insert dt > 0 in sec (press return for {0} sec): \".format(dt))\n",
    "    if x == \"\": break\n",
    "    dt = float(x)\n",
    "    if(dt>0): break\n",
    "      \n",
    "        \n",
    "v0x = v0*math.cos(theta)\n",
    "v0y = v0*math.sin(theta)\n",
    "\n",
    "print(\"v0_x: %.3f m/s \\t v0_y: %.3f m/s\"%(v0x,v0y))\n",
    "\n",
    "t=0.\n",
    "x=[]\n",
    "y=[]\n",
    "xi=0\n",
    "yi=h\n",
    "\n",
    "while yi>=0:\n",
    "    x.append(xi)\n",
    "    y.append(yi)\n",
    "    t+=dt\n",
    "    xi=v0x*t\n",
    "    yi=h+v0y*t-0.5*g*t*t\n",
    "\n",
    "#print(x,y)\n",
    "plt.plot(x,y, label='trajectory', color='red', marker='.')\n",
    "plt.legend()\n",
    "\n",
    "# we also make the plot nicer\n",
    "plt.title('motion under gravity')\n",
    "plt.xlabel(\"x [m]\")\n",
    "plt.ylabel(\"y [m]\")\n",
    "plt.grid(True)\n",
    "plt.xlim(-0.1, max(x)*1.1)\n",
    "plt.ylim(-0.1,max(y)*1.10)\n"
   ]
  },
  {
   "cell_type": "code",
   "execution_count": null,
   "metadata": {},
   "outputs": [],
   "source": []
  }
 ],
 "metadata": {
  "kernelspec": {
   "display_name": "Python 3",
   "language": "python",
   "name": "python3"
  },
  "language_info": {
   "codemirror_mode": {
    "name": "ipython",
    "version": 3
   },
   "file_extension": ".py",
   "mimetype": "text/x-python",
   "name": "python",
   "nbconvert_exporter": "python",
   "pygments_lexer": "ipython3",
   "version": "3.8.2"
  }
 },
 "nbformat": 4,
 "nbformat_minor": 2
}
