{
 "cells": [
  {
   "cell_type": "markdown",
   "metadata": {},
   "source": [
    "## Dictionaries\n",
    "dictionaries are very similar to the associative container `map<T,K>` discussed in C++. They are also known as __hash tables__ in other languages, e.g. `perl`. The `{}` operator is used to create a `dict` object\n",
    "\n",
    "The syntax is  \n",
    "```python\n",
    "{ key : value, key: value, ... }\n",
    "```"
   ]
  },
  {
   "cell_type": "code",
   "execution_count": null,
   "metadata": {
    "scrolled": true
   },
   "outputs": [],
   "source": [
    "months = ['january', 'february', 'march', 'april', 'may', 'june', 'july', 'august', 'september', 'october', 'november', 'december']\n",
    "day_months = [ 31, 28, 31, 30, 31 , 30, 31, 31, 30, 31, 30 , 31]\n",
    "print(months)\n",
    "print(day_months)\n",
    "\n",
    "print(\"month: \", months[0], \" has \", day_months[0], \" days\")\n"
   ]
  },
  {
   "cell_type": "code",
   "execution_count": null,
   "metadata": {
    "scrolled": true
   },
   "outputs": [],
   "source": [
    "days = {}\n",
    "for m in months:\n",
    "    days[m] = int(input(\"# of days in {0}: \".format(m)))\n",
    "print(days)"
   ]
  },
  {
   "cell_type": "code",
   "execution_count": null,
   "metadata": {},
   "outputs": [],
   "source": [
    "print(days['january'])\n",
    "print(days['march'])"
   ]
  },
  {
   "cell_type": "markdown",
   "metadata": {},
   "source": [
    "## Manual creation\n",
    "You can also create a dictionary by hand"
   ]
  },
  {
   "cell_type": "code",
   "execution_count": null,
   "metadata": {},
   "outputs": [],
   "source": [
    "dict1 = { 'a' : 1, 'b' : (1,2,3), 'c' : ['one','two'], 'd' : 'example', 56 : 'name'}\n",
    "print(dict1)"
   ]
  },
  {
   "cell_type": "code",
   "execution_count": null,
   "metadata": {},
   "outputs": [],
   "source": [
    "students = { 'rio': {'name':'john', 'age':23, 'id':123456}, 'nairobi':{'name':'susan', 'id':123123, 'age':21},  'tokyo':{'name':'maria', 'id':123651, 'age':24}, }\n",
    "print(students)"
   ]
  },
  {
   "cell_type": "markdown",
   "metadata": {},
   "source": [
    "you can add a new value for a key"
   ]
  },
  {
   "cell_type": "code",
   "execution_count": null,
   "metadata": {},
   "outputs": [],
   "source": [
    "students['oslo'] = {'name':'', 'age':30, 'id':111111} \n",
    "print(students)"
   ]
  },
  {
   "cell_type": "markdown",
   "metadata": {},
   "source": [
    "If the key already is used, its value will be updated. This is similar to modifying elements of a list"
   ]
  },
  {
   "cell_type": "code",
   "execution_count": null,
   "metadata": {},
   "outputs": [],
   "source": [
    "students['oslo'] = {'name':'sergey', 'age':22} \n",
    "print(students)"
   ]
  },
  {
   "cell_type": "markdown",
   "metadata": {},
   "source": [
    "You can check if the dictionary contains a key"
   ]
  },
  {
   "cell_type": "code",
   "execution_count": null,
   "metadata": {},
   "outputs": [],
   "source": [
    "while True:\n",
    "    name = input(\"name (press return to end): \")  \n",
    "    if(name==''): break\n",
    "    if name not in students:\n",
    "        print(\"{0} not in the list. sorry.\".format(name))\n",
    "    else: \n",
    "        print(\"name: {0}\\t age: {1}\\t id: {2}\".format(students[name]['name'], students[name]['age'], students[name]['id']))\n",
    "    "
   ]
  },
  {
   "cell_type": "markdown",
   "metadata": {},
   "source": [
    "This if-else structure is very common with dictionaries. so in pythion there is a dedicated method\n",
    "```python\n",
    "value = some_dict.get(key, value_if_key_not_found)\n",
    "```"
   ]
  },
  {
   "cell_type": "code",
   "execution_count": null,
   "metadata": {},
   "outputs": [],
   "source": [
    "while True:\n",
    "    name = input(\"name (press return to end): \")  \n",
    "    if(name==''): break\n",
    "    val = students.get(name, \"not found\")\n",
    "    print(val)"
   ]
  },
  {
   "cell_type": "markdown",
   "metadata": {},
   "source": [
    "### Keys are unique\n",
    "- there can be only one value for a given key in a dict made of `key:value`\n",
    "- if you need more values for a key, then what you want is a dictionary of `key:[value]` "
   ]
  },
  {
   "cell_type": "code",
   "execution_count": null,
   "metadata": {},
   "outputs": [],
   "source": [
    "particles = { 'boson':['Z', 'gluon', 'W', 'photon'], 'meson':['pion', 'kaon'], 'quark':['u','d','s'], 'lepton':['electron', 'muon']}\n",
    "particles"
   ]
  },
  {
   "cell_type": "code",
   "execution_count": null,
   "metadata": {},
   "outputs": [],
   "source": [
    "particles['lepton'].append('tau')\n",
    "particles"
   ]
  },
  {
   "cell_type": "code",
   "execution_count": null,
   "metadata": {},
   "outputs": [],
   "source": [
    "particles.keys()"
   ]
  },
  {
   "cell_type": "code",
   "execution_count": null,
   "metadata": {},
   "outputs": [],
   "source": [
    "particles['meson']"
   ]
  },
  {
   "cell_type": "markdown",
   "metadata": {},
   "source": [
    "### iterating over dict \n",
    "by default the iterator gives you the keys"
   ]
  },
  {
   "cell_type": "code",
   "execution_count": null,
   "metadata": {},
   "outputs": [],
   "source": [
    "for p in particles:\n",
    "    print(p)"
   ]
  },
  {
   "cell_type": "markdown",
   "metadata": {},
   "source": [
    "You can also explicitly loop over keys"
   ]
  },
  {
   "cell_type": "code",
   "execution_count": null,
   "metadata": {},
   "outputs": [],
   "source": [
    "for k in particles.keys():\n",
    "    print(k)"
   ]
  },
  {
   "cell_type": "code",
   "execution_count": null,
   "metadata": {},
   "outputs": [],
   "source": [
    "for k in particles:\n",
    "    print(particles[k])"
   ]
  },
  {
   "cell_type": "markdown",
   "metadata": {},
   "source": [
    "### acccessing values without keys\n",
    "If you do not care about the kets but need all the values python provides with `values` function.\n",
    "\n",
    "This operation is also called __flattening__."
   ]
  },
  {
   "cell_type": "code",
   "execution_count": null,
   "metadata": {
    "scrolled": true
   },
   "outputs": [],
   "source": [
    "all_vals=[]\n",
    "all_vals_2 = []\n",
    "\n",
    "for v in particles.values():\n",
    "    print(\"looping over keys in dict\")\n",
    "    print(v)\n",
    "    all_vals.extend(v)\n",
    "    all_vals_2.append(v)\n",
    "\n",
    "print(\"all_vals (flattened)\")\n",
    "print(all_vals)\n",
    "\n",
    "print(\"all_vals (not flattened)\")\n",
    "\n",
    "print(all_vals_2)"
   ]
  },
  {
   "cell_type": "code",
   "execution_count": null,
   "metadata": {},
   "outputs": [],
   "source": [
    "dic2 = { 123: (1,2,3), 'one': [1.2, 2.3] , (1,2): 'tuple'}\n",
    "print(dic2)\n",
    "for i in dic2:\n",
    "    print( type(i), type(dic2[i]) )"
   ]
  },
  {
   "cell_type": "markdown",
   "metadata": {},
   "source": [
    "Same behavior can be obtained with a double loop"
   ]
  },
  {
   "cell_type": "code",
   "execution_count": null,
   "metadata": {},
   "outputs": [],
   "source": [
    "flat=[]\n",
    "for v in particles.values():\n",
    "    for i in v:\n",
    "        flat.append(i)\n",
    "print(flat)"
   ]
  },
  {
   "cell_type": "markdown",
   "metadata": {},
   "source": [
    "### Valid key types\n",
    "- Keys must be hashable\n",
    "    - immutable scalar type like int, float, string\n",
    "    - tuples\n",
    "- This means a unique identifier can be created based on your key.\n",
    "- youn can check if a variable is hashable or not in python"
   ]
  },
  {
   "cell_type": "code",
   "execution_count": null,
   "metadata": {},
   "outputs": [],
   "source": [
    "hash('boson')"
   ]
  },
  {
   "cell_type": "code",
   "execution_count": null,
   "metadata": {},
   "outputs": [],
   "source": [
    "hash((2,3,2.4))"
   ]
  },
  {
   "cell_type": "code",
   "execution_count": null,
   "metadata": {},
   "outputs": [],
   "source": [
    "hash(3.1234324)"
   ]
  },
  {
   "cell_type": "code",
   "execution_count": null,
   "metadata": {},
   "outputs": [],
   "source": [
    "c = 2.9\n",
    "print(hash(c))\n",
    "dict3 = { c:'value of c', 5.9:'value of something'}\n",
    "print(dict3)\n",
    "\n",
    "c = 5.4\n",
    "dict3[c] = 'new'\n",
    "print(dict3)\n",
    "\n",
    "c = 5.6\n",
    "dict3[-3.4] = 'new val'\n",
    "print(dict3)"
   ]
  },
  {
   "cell_type": "code",
   "execution_count": null,
   "metadata": {},
   "outputs": [],
   "source": [
    "dict4 = { [1,2] : 'value'}"
   ]
  },
  {
   "cell_type": "code",
   "execution_count": null,
   "metadata": {},
   "outputs": [],
   "source": [
    "hash([1,2])"
   ]
  },
  {
   "cell_type": "markdown",
   "metadata": {},
   "source": [
    "## Set\n",
    "\n",
    "so far we have seen the following data types\n",
    "- tuple: `(v1, v2, v3,...)`\n",
    "- list `[v1, v2, v3, ... ]`\n",
    "- dictionary: `{ k1:v1, k2:v2, ...}`"
   ]
  },
  {
   "cell_type": "code",
   "execution_count": null,
   "metadata": {},
   "outputs": [],
   "source": [
    "my_tuple = (1,2,3, 2, 2, 3, 1)\n",
    "my_list = [1,2,3, 2, 2, 3 , 1]\n",
    "my_dict = { 'one': [1,2], 'two': 'name', 3 : 'something else', 4 : [1,2]}"
   ]
  },
  {
   "cell_type": "markdown",
   "metadata": {},
   "source": [
    "A **set** is\n",
    "\n",
    "- an unordered collection of __unique__ elements\n",
    "- the natural example is the collection of the keys of a dictionary\n",
    "\n",
    "A set is created with `{}` or with the `set` function\n",
    "```python\n",
    "{ v1, v2, v3, ...}\n",
    "```\n",
    "\n",
    "consider our days dictionary that stores the days for each month"
   ]
  },
  {
   "cell_type": "code",
   "execution_count": null,
   "metadata": {},
   "outputs": [],
   "source": [
    "day_len = days.values()\n",
    "day_len"
   ]
  },
  {
   "cell_type": "markdown",
   "metadata": {},
   "source": [
    "we can create a set from this list"
   ]
  },
  {
   "cell_type": "code",
   "execution_count": null,
   "metadata": {},
   "outputs": [],
   "source": [
    "days_set = set( day_len)\n",
    "\n",
    "print(days_set)\n",
    "\n",
    "new_set = {1,2,3,4,1, 34, 3, 2, 34}\n",
    "print(new_set)"
   ]
  },
  {
   "cell_type": "code",
   "execution_count": null,
   "metadata": {},
   "outputs": [],
   "source": [
    "print( set(my_tuple))"
   ]
  },
  {
   "cell_type": "markdown",
   "metadata": {},
   "source": [
    "### Sets and dictionaries for data analysis"
   ]
  },
  {
   "cell_type": "code",
   "execution_count": null,
   "metadata": {},
   "outputs": [],
   "source": [
    "import random as r\n",
    "\n",
    "grades =[]\n",
    "\n",
    "for i in range(50):\n",
    "    grades.append( r.randrange(10,31))\n",
    "print(grades)"
   ]
  },
  {
   "cell_type": "markdown",
   "metadata": {},
   "source": [
    "Using `set` we find the unique values of grades"
   ]
  },
  {
   "cell_type": "code",
   "execution_count": null,
   "metadata": {},
   "outputs": [],
   "source": [
    "vals = set(grades)\n",
    "print(vals)\n",
    "grades.count(18)\n",
    "print(grades.count(23))"
   ]
  },
  {
   "cell_type": "code",
   "execution_count": null,
   "metadata": {},
   "outputs": [],
   "source": [
    "data = {}\n",
    "for v in vals:\n",
    "    data[v] = grades.count(v)\n",
    "    print(\"grade: {0}  frequency: {1}\".format(v,data[v]))"
   ]
  },
  {
   "cell_type": "markdown",
   "metadata": {},
   "source": [
    "## Plotting a histogram\n",
    "\n",
    "all you need are two collections (lists in this case)\n",
    "- values on the x axis\n",
    "- the number of counts for each value of x\n",
    "\n",
    "We use the [matplotlib.pyplot.bar](https://matplotlib.org/3.1.1/api/_as_gen/matplotlib.pyplot.bar.html) function for this purpose"
   ]
  },
  {
   "cell_type": "code",
   "execution_count": null,
   "metadata": {},
   "outputs": [],
   "source": [
    "%matplotlib notebook\n",
    "import matplotlib.pyplot as plt\n",
    "\n",
    "plt.bar(list(data.keys()), list(data.values()), color='magenta', label=\"grades\")\n",
    "plt.title(\"distribution of grades in the exam\")\n",
    "plt.xlabel('grade')\n",
    "plt.ylabel('frequency')\n",
    "plt.grid()\n",
    "plt.legend()\n",
    "plt.show()"
   ]
  },
  {
   "cell_type": "markdown",
   "metadata": {},
   "source": [
    "You could also create a histogram using  [matplotlib.pyplot.hist](https://matplotlib.org/3.3.3/api/_as_gen/matplotlib.pyplot.hist.html)\n",
    "\n",
    "Note the strange-looking syntax since `hist` is returning more than one value! This is a feature of functions in python which we will discuss shortly"
   ]
  },
  {
   "cell_type": "code",
   "execution_count": null,
   "metadata": {},
   "outputs": [],
   "source": [
    "%matplotlib notebook\n",
    "n, bins, patches = plt.hist(grades, bins=len(set(grades)),facecolor='green')\n",
    "print(n)\n",
    "print(bins)"
   ]
  },
  {
   "cell_type": "markdown",
   "metadata": {},
   "source": [
    "## Set operations\n",
    "sets in python  support all mathematical operations for a mathematical set\n",
    "try `help(set)` for all functionalities"
   ]
  },
  {
   "cell_type": "code",
   "execution_count": null,
   "metadata": {},
   "outputs": [],
   "source": [
    "a = {0,1,2,3,4,5,6,7,8,9}\n",
    "even = {0,2,4,6,8}\n",
    "odd = {1,3,5,7,9}\n",
    "prime = {1,2,3,5,7,11,13,17,19}"
   ]
  },
  {
   "cell_type": "code",
   "execution_count": null,
   "metadata": {},
   "outputs": [],
   "source": [
    "a & even"
   ]
  },
  {
   "cell_type": "code",
   "execution_count": null,
   "metadata": {},
   "outputs": [],
   "source": [
    "even.intersection(prime)"
   ]
  },
  {
   "cell_type": "code",
   "execution_count": null,
   "metadata": {},
   "outputs": [],
   "source": [
    "a | prime"
   ]
  },
  {
   "cell_type": "code",
   "execution_count": null,
   "metadata": {},
   "outputs": [],
   "source": [
    "even.union(prime)"
   ]
  },
  {
   "cell_type": "code",
   "execution_count": null,
   "metadata": {},
   "outputs": [],
   "source": [
    "odd.difference(prime)"
   ]
  },
  {
   "cell_type": "markdown",
   "metadata": {},
   "source": [
    "# Comprehensions for List, Set, Dict\n",
    "- One of the lost-loved features of python\n",
    "- allows concise operation on collections without too many loops\n",
    "- output of the operation is a new collection (set, list, dict)\n",
    "\n",
    "## List comprehension\n",
    "the basic expression is\n",
    "\n",
    "```python\n",
    "[ expression for val in collection if some_condition ]\n",
    "```\n",
    "\n",
    "Let's see the previous example using a comprehension. Rather than writing the numbers by hand we can use a comprehension with an algorithm"
   ]
  },
  {
   "cell_type": "code",
   "execution_count": null,
   "metadata": {},
   "outputs": [],
   "source": [
    "a = { i for i in range(0,10)}\n",
    "print(a)\n",
    "\n",
    "aa = set()\n",
    "for j in range(10):\n",
    "    aa.add(j)\n",
    "print(aa)"
   ]
  },
  {
   "cell_type": "code",
   "execution_count": null,
   "metadata": {},
   "outputs": [],
   "source": [
    "even = { i for i in range(0,10,2)}\n",
    "print(even)\n",
    "\n",
    "odd = {i for i in range(1,10,2)}\n",
    "print(odd)\n",
    "\n",
    "prime = {1,2,3,5,7,11,13,17,19}"
   ]
  },
  {
   "cell_type": "markdown",
   "metadata": {},
   "source": [
    "### Generating random numbers\n",
    "Suppose we want to analyse the results of an exam. \n",
    "\n",
    "First we need to generate N grades between 10 and 30.\n",
    "\n",
    "The python [random](https://docs.python.org/3/library/random.html) module provided many useful functions for generation of random numbers or collections of numbers"
   ]
  },
  {
   "cell_type": "code",
   "execution_count": null,
   "metadata": {},
   "outputs": [],
   "source": [
    "import random as r\n",
    "\n",
    "n_students = 50\n",
    "\n",
    "voti = [ r.randrange(10,31) for i in range(n_students)]\n",
    "print(voti)"
   ]
  },
  {
   "cell_type": "markdown",
   "metadata": {},
   "source": [
    "The most basic question is how many people failed the exam.\n",
    "\n",
    "you could  do simple counting"
   ]
  },
  {
   "cell_type": "code",
   "execution_count": null,
   "metadata": {},
   "outputs": [],
   "source": [
    "nfail = 0\n",
    "for v in voti:\n",
    "    if v <18:\n",
    "        nfail+=1\n",
    "print(\"# grades <18:  %2d\"%(nfail))"
   ]
  },
  {
   "cell_type": "markdown",
   "metadata": {},
   "source": [
    "but in general having a list of information rather than just a count is more flexible for future analysis"
   ]
  },
  {
   "cell_type": "code",
   "execution_count": null,
   "metadata": {},
   "outputs": [],
   "source": [
    "failed = []\n",
    "for v in voti:\n",
    "    if v <18:\n",
    "        failed.append(v)\n",
    "print(\"# grades <18:  {0}\".format(len(failed)))"
   ]
  },
  {
   "cell_type": "markdown",
   "metadata": {},
   "source": [
    "You note that you did the following sequence of operations\n",
    "  - create a new empty list\n",
    "  - iterate over existing objects\n",
    "  - check some_condition on each object\n",
    "  - if positive then add object to new list\n",
    "\n",
    "In python this can be written concisely and in a natural language with what is called a __comprehension__."
   ]
  },
  {
   "cell_type": "code",
   "execution_count": null,
   "metadata": {},
   "outputs": [],
   "source": [
    "new_failed  = [ v for v in voti if v<18 ]\n",
    "good_grades = [ v for v in voti if v>=18 ]\n",
    "print(len(new_failed),len(good_grades))"
   ]
  },
  {
   "cell_type": "markdown",
   "metadata": {},
   "source": [
    "you can also also apply any function to each item \n"
   ]
  },
  {
   "cell_type": "code",
   "execution_count": null,
   "metadata": {},
   "outputs": [],
   "source": [
    "def isodd(x):\n",
    "    if x%2 != 0:\n",
    "        return True\n",
    "odds  = [ v for v in voti if isodd(v) ]\n",
    "evens  = [ v for v in voti if not isodd(v) ]\n",
    "print(len(odds))\n",
    "print(len(evens))\n",
    "\n",
    "import math\n",
    "sqrts = [ math.sqrt(v) for v in voti]\n",
    "print(sqrts[:10])"
   ]
  },
  {
   "cell_type": "markdown",
   "metadata": {},
   "source": [
    "Manipulation with strings is also very easy"
   ]
  },
  {
   "cell_type": "markdown",
   "metadata": {},
   "source": [
    "## Another example with comprehensions: motion of a body under gravity\n",
    "we now revisit our program from last lecture to use comprehensions.\n",
    "\n",
    "The orignal example [gravity1](../examples/python/gravity1.py) is reported here again"
   ]
  },
  {
   "cell_type": "code",
   "execution_count": null,
   "metadata": {},
   "outputs": [],
   "source": [
    "import math as m\n",
    "# initial conditions\n",
    "g = 9.8\n",
    "h = 0.\n",
    "theta = m.radians(45)\n",
    "v0 = 10.\n",
    "dt=0.01\n",
    "\n",
    "#compute velocity components\n",
    "v0x = v0*math.cos(theta)\n",
    "v0y = v0*math.sin(theta)\n",
    "print(\"v0_x: %.3f m/s \\t v0_y: %.3f m/s\"%(v0x,v0y))\n",
    "\n",
    "t=0.\n",
    "x=[]\n",
    "y=[]\n",
    "xi=0\n",
    "yi=h\n",
    "\n",
    "while yi>=0:\n",
    "    x.append(xi)\n",
    "    y.append(yi)\n",
    "    t+=dt\n",
    "    xi=v0x*t\n",
    "    yi=h+v0y*t-0.5*g*t*t"
   ]
  },
  {
   "cell_type": "markdown",
   "metadata": {},
   "source": [
    "We can rewrite the computational part with comprehensions. Rather than computing the time at eah step, we first create a list of times to iterate over."
   ]
  },
  {
   "cell_type": "code",
   "execution_count": null,
   "metadata": {},
   "outputs": [],
   "source": [
    "import numpy as np\n",
    "import math\n",
    "\n",
    "# initial conditions\n",
    "g = 9.8\n",
    "h = 0.\n",
    "theta = math.radians(45)\n",
    "v0 = 10.\n",
    "dt=0.01\n",
    "\n",
    "#compute velocity components\n",
    "v0x = v0*math.cos(theta)\n",
    "v0y = v0*math.sin(theta)\n",
    "print(\"v0_x: %.3f m/s \\t v0_y: %.3f m/s\"%(v0x,v0y))\n",
    "\n",
    "x0 = 0\n",
    "y0 = h\n",
    "\n",
    "def x(t):\n",
    "    return x0+v0x*t\n",
    "\n",
    "def y(t):\n",
    "    return y0+v0y*t-0.5*g*t*t\n",
    "\n",
    "\n",
    "# generate list of times for sampling\n",
    "times = np.arange(0., 1000., 0.01).tolist() \n",
    "\n",
    "#print first 10 elements\n",
    "print(times[:10])\n",
    "\n",
    "# compute x(t_i)\n",
    "xi = [ x(t) for t in times if y(t)>=0.]\n",
    "\n",
    "# compute y(t_i)\n",
    "yi = [ y(t) for t in times if y(t)>=0. ]\n",
    "\n",
    "print( \"total steps:\\t %-4d\"%len(xi))\n",
    "print( \"last x:\\t\\t %.2f\"%xi[-1])\n",
    "print( \"last y:\\t\\t %.3f\"%yi[-1])"
   ]
  },
  {
   "cell_type": "markdown",
   "metadata": {},
   "source": [
    "### Comprehension with dictionary\n",
    "We now use a comprehension to invert our dict of months and days"
   ]
  },
  {
   "cell_type": "code",
   "execution_count": null,
   "metadata": {
    "scrolled": true
   },
   "outputs": [],
   "source": [
    "days"
   ]
  },
  {
   "cell_type": "code",
   "execution_count": null,
   "metadata": {},
   "outputs": [],
   "source": [
    "days.values()"
   ]
  },
  {
   "cell_type": "code",
   "execution_count": null,
   "metadata": {},
   "outputs": [],
   "source": [
    "set(days.values())"
   ]
  },
  {
   "cell_type": "code",
   "execution_count": null,
   "metadata": {},
   "outputs": [],
   "source": [
    "inv_map = { i: [] for i in set(days.values()) }\n",
    "print(inv_map)\n",
    "\n"
   ]
  },
  {
   "cell_type": "code",
   "execution_count": null,
   "metadata": {},
   "outputs": [],
   "source": [
    "for i in days:\n",
    "    inv_map[days[i]].append(i)\n",
    "print(inv_map)"
   ]
  },
  {
   "cell_type": "markdown",
   "metadata": {},
   "source": [
    "### Exercise\n",
    "write the above cell as a comprehension"
   ]
  },
  {
   "cell_type": "markdown",
   "metadata": {},
   "source": [
    "# More on Functions\n",
    "We discuss some of the useful features of functions in python here \n",
    "\n",
    "## returning multiple values\n",
    "In C++ a function can return only one value\n",
    "```c++\n",
    "T function(args) {\n",
    " T val;\n",
    " // calculations\n",
    " return val;\n",
    "}\n",
    "```\n",
    "where T can be any type or class.\n",
    "\n",
    "In python instead we can return an arbitrary number of values of any type"
   ]
  },
  {
   "cell_type": "code",
   "execution_count": null,
   "metadata": {},
   "outputs": [],
   "source": [
    "def powers(x):\n",
    "    return x**2, x**3, x**4, x**5\n",
    "\n",
    "print(type(powers(3)))\n",
    "\n",
    "myt = powers(4.5)\n",
    "print(type(myt))\n",
    "print(myt)\n"
   ]
  },
  {
   "cell_type": "code",
   "execution_count": null,
   "metadata": {},
   "outputs": [],
   "source": [
    "myl = list(powers(2.2))\n",
    "print(myl)"
   ]
  },
  {
   "cell_type": "markdown",
   "metadata": {},
   "source": [
    "### Example: calculating boost parameters\n",
    "\n",
    "Let's use the list and functions to compute simple kinematic information and boos parameters.\n",
    "\n",
    "For simplcity we assume the momentum along the x axis, but you can very easily generalize the example"
   ]
  },
  {
   "cell_type": "code",
   "execution_count": null,
   "metadata": {},
   "outputs": [],
   "source": [
    "import math as m\n",
    "\n",
    "m_pi = 0.140 # GeV\n",
    "p_pi = 1.2 # GeV\n",
    "\n",
    "def make_p4(mass,p):\n",
    "    return [m.sqrt(mass**2+p**2), p, 0, 0]# momentum along x axis [E, px, py, pz]\n",
    "\n",
    "    \n",
    "p4_pi = make_p4(m_pi, p_pi)\n",
    "print(p4_pi)\n",
    "\n",
    "\n",
    "def boost_params(p4):\n",
    "    p = m.sqrt(p4[1]**2+p4[2]**2+p4[3]**2)\n",
    "    E = p4[0]\n",
    "    mass = m.sqrt(E**2-p**2)\n",
    "    return p/E, E/mass, p/mass #beta, gamma, bata x gamma\n",
    "\n",
    "beta_pi, gamma_pi, betagamma_pi = boost_params(p4_pi)\n",
    "\n",
    "print(\"pi boost beta: {0:.3f} gamma: {1:.3f} betagamma: {2:.3f}\".format(beta_pi, gamma_pi, betagamma_pi) )\n"
   ]
  },
  {
   "cell_type": "markdown",
   "metadata": {},
   "source": [
    "Note that if you do not provide the necessary variables for all output, you get a set"
   ]
  },
  {
   "cell_type": "code",
   "execution_count": null,
   "metadata": {},
   "outputs": [],
   "source": [
    "m_K = 0.5 # GeV\n",
    "p_K = 3.1 # GeV\n",
    "boost_K = boost_params( make_p4(m_K, p_K) ) \n",
    "print(boost_K)\n",
    "print(type(boost_K))"
   ]
  },
  {
   "cell_type": "markdown",
   "metadata": {},
   "source": [
    "## The _ variable\n",
    "\n",
    "If you return more values you need to make sure that all of them are used when calling the function.\n",
    "\n",
    "Suppose we only need beta and gamma and not betagamma"
   ]
  },
  {
   "cell_type": "code",
   "execution_count": null,
   "metadata": {},
   "outputs": [],
   "source": [
    "m_B = 5.279 # GeV\n",
    "p_B = 0.3 # GeV\n",
    "\n",
    "beta_B, gamma_B = boost_params( make_p4(m_B, p_B)  )\n",
    "print(beta_B)"
   ]
  },
  {
   "cell_type": "markdown",
   "metadata": {},
   "source": [
    "as shown in this example, you are forced to have 3 variables in order for your function to work.\n",
    "This can be tedious because at times you might not need all these returned values, or simply do not care. Python has a solution for this as well. \n",
    "\n",
    "\n",
    "The `_`  is a special variable in python that can bse used for a number of purposes. One of them is to ignore values we do not care about.\n",
    "\n",
    "Suppose we want to use only the quadratic power "
   ]
  },
  {
   "cell_type": "code",
   "execution_count": null,
   "metadata": {},
   "outputs": [],
   "source": [
    "beta_B, *_ = boost_params( make_p4(m_B, p_B)  )\n",
    "\n",
    "print(\"B beta: \", beta_B)\n",
    "\n",
    "print( _)\n",
    "print(type(_))\n",
    "print(len(_))"
   ]
  },
  {
   "cell_type": "markdown",
   "metadata": {},
   "source": [
    "In this case `*_` means that 0 or more vales are unpacked and assigned to `_`. In this case `_` is a list of 3 objects. You can use `_` like any other variable\n"
   ]
  },
  {
   "cell_type": "code",
   "execution_count": null,
   "metadata": {
    "scrolled": true
   },
   "outputs": [],
   "source": [
    "print(_[0], _[1])"
   ]
  },
  {
   "cell_type": "markdown",
   "metadata": {},
   "source": [
    "Similarly"
   ]
  },
  {
   "cell_type": "code",
   "execution_count": null,
   "metadata": {},
   "outputs": [],
   "source": [
    "a, b,*_ = powers(5)\n",
    "print(a,b,_)\n",
    "\n",
    "a, b,c,_ = powers(13)\n",
    "print(a,b,c,_)\n",
    "\n",
    "a, _,c,_ = powers(13)\n",
    "print(a,c,_)\n",
    "\n",
    "a,* _,d = powers(13)\n",
    "print(a,d,_)\n",
    "\n"
   ]
  },
  {
   "cell_type": "markdown",
   "metadata": {},
   "source": [
    "### Better solution: a dictionary\n",
    "\n",
    "if the multiple values have special meanings you should also consider using a dictionary\n"
   ]
  },
  {
   "cell_type": "code",
   "execution_count": null,
   "metadata": {},
   "outputs": [],
   "source": [
    "def boost_dict(p4):\n",
    "    p = m.sqrt(p4[1]**2+p4[2]**2+p4[3]**2)\n",
    "    E = p4[0]\n",
    "    mass = m.sqrt(E**2-p**2)\n",
    "    return {'beta': p/E, 'gamma' : E/mass, 'betagamma':p/mass }\n",
    "\n",
    "m_mu = 0.106 # GeV\n",
    "p_mu = 0.020 # GeV\n",
    "\n",
    "boost_mu = boost_dict( make_p4(m_mu, p_mu) )\n",
    "\n",
    "print(boost_mu)\n",
    "\n",
    "print(\"mu beta: \", boost_mu['beta'])\n"
   ]
  },
  {
   "cell_type": "markdown",
   "metadata": {},
   "source": [
    "## Local and global scope\n",
    "\n",
    "There is an important difference with respect to C++ in what we have seen so far. A function can access variables defined before the function itself. But local variables in a function are not accessable after the function.\n",
    "\n",
    "Python allows also to define global variables but typically it is bad practice and a sign of bad design and choices so we will not discuss them."
   ]
  },
  {
   "cell_type": "code",
   "execution_count": null,
   "metadata": {
    "scrolled": true
   },
   "outputs": [],
   "source": [
    "\n",
    "g = 9.81\n",
    "v0 = 10.\n",
    "\n",
    "def x(t):\n",
    "    localb = \"local variable\"\n",
    "    val = v0*t\n",
    "    print(\"val: \", val,\" g: \", g, localb)\n",
    "    return val\n",
    "    \n",
    "print(x(2.3))\n",
    "print(val)\n",
    "print(localb)\n",
    "\n",
    "\n",
    "\n"
   ]
  },
  {
   "cell_type": "markdown",
   "metadata": {},
   "source": [
    "## Anonymous (Lambda) functions \n",
    "lambda functions are a special class of functions that consist of a simple single statement.\n",
    "\n",
    "Suppose we want to compute `1+x**2-x**3/pi` for elements of a list, using a comprehension\n",
    "\n",
    "Rather than definining standard function with \n",
    "```python\n",
    "def mysqr(x):\n",
    "    return x**2\n",
    "```\n",
    "\n",
    "we do something more light weight"
   ]
  },
  {
   "cell_type": "code",
   "execution_count": null,
   "metadata": {},
   "outputs": [],
   "source": [
    "import numpy as np\n",
    "def myf(x):\n",
    "    return 1+x**2-x**3/np.pi\n",
    "\n",
    "def apply_to_list(alist, f):\n",
    "    return [ f(x) for x in alist ]\n",
    "\n",
    "alist = np.random.normal(1., 0.3, 5).tolist()\n",
    "print(alist)\n",
    "print( apply_to_list(alist, myf) )\n"
   ]
  },
  {
   "cell_type": "markdown",
   "metadata": {},
   "source": [
    "Function `myf()` has really no other use other than when applied to a list. So its name is basiclaly useless. \n",
    "In fact we wanted now to apply a new function we would need to define a new useless function"
   ]
  },
  {
   "cell_type": "code",
   "execution_count": null,
   "metadata": {},
   "outputs": [],
   "source": [
    "def myf2(x):\n",
    "    return 1+np.log(x**2)+x*np.sin(x*np.pi)\n",
    "\n",
    "print( apply_to_list(alist, myf2) )\n"
   ]
  },
  {
   "cell_type": "markdown",
   "metadata": {},
   "source": [
    "In python we can create functions on the fly which do not have a name. Technically it means the function object does not have `__name__` attribute (equivalent of a C++ data member). We will discuss this next time when looking at classes in python. \n",
    "\n",
    "The solution with lambda function is quite simple"
   ]
  },
  {
   "cell_type": "code",
   "execution_count": null,
   "metadata": {
    "scrolled": true
   },
   "outputs": [],
   "source": [
    "print( apply_to_list(alist, lambda x: np.cos(x)+ np.exp(-x/2.)) )\n",
    "print( apply_to_list(alist, lambda x: x**2 ) )"
   ]
  },
  {
   "cell_type": "markdown",
   "metadata": {},
   "source": [
    "## Sorting lists with lambda functions\n",
    "a typical use of lambda functions is with sorting the lists\n"
   ]
  },
  {
   "cell_type": "code",
   "execution_count": null,
   "metadata": {},
   "outputs": [],
   "source": [
    "vals = np.random.uniform(0., 3., 5).tolist()\n",
    "print(vals)\n",
    "print( [ \"{0:0.3f}\".format(x) for x in vals ]   )\n",
    "\n",
    "vals.sort()\n",
    "print( [ \"%.3f\"%x for x in vals ]  )\n",
    "\n",
    "vals.sort(key=lambda x: np.sin(x))\n",
    "print( [ \"%.3f\"%x for x in vals ] )\n",
    "\n",
    "vals.sort(key=np.cos)\n",
    "print( [ \"%.3f\"%x for x in vals ] )\n",
    "\n",
    "\n",
    "vals.sort(key=lambda x: np.cos(2*x))\n",
    "print( [ \"%.3f\"%x for x in vals ] )\n",
    "\n"
   ]
  },
  {
   "cell_type": "markdown",
   "metadata": {},
   "source": [
    "As an addiitonal use, we can sort the numbers based on unique numerals appearing in the number itself"
   ]
  },
  {
   "cell_type": "code",
   "execution_count": null,
   "metadata": {},
   "outputs": [],
   "source": [
    "print( [ \"{0:0.3f}\".format(x) for x in vals ]   )\n",
    "new_vals = [ set(\"%.3f\"%x) for x in vals ]\n",
    "print( new_vals  )\n",
    "\n",
    "vals.sort(key=lambda x: len(set(\"%.3f\"%x)))\n",
    "print( [ \"%.3f\"%x for x in vals ] )\n"
   ]
  },
  {
   "cell_type": "markdown",
   "metadata": {},
   "source": [
    "# Numpy: Numerical Python package \n",
    "\n",
    "- [NumPy](https://www.numpy.org) is perhaps the most important  package for numerical computing in python\n",
    "- the n-dimentional array in NumPy used a basic  object in most python packages for data exchange\n",
    "  - we will look at its methods and semantics starting today through examples\n",
    "- some of the most important features of Num Py \n",
    "  - ndarray: multidimensional array for fast and efficient array-oriented operations and arithmetics\n",
    "  - mathematical functions for fast operation on  arrays  without using loops and iterations\n",
    "  - tools for I/O to and from disk\n",
    "  - Linear algebra\n",
    "  - random generation \n",
    "  - API to connect NumPy with C and C++ libraries\n",
    "  \n",
    "## NumPy ndarray: a multidimensional array object\n",
    "`ndarray` is an array that can have arbirary number of dimensions. We will see examples in 2D and 3D for calculations.\n",
    "\n",
    "Its main feature: vector calculations are extremely fast!\n",
    "\n",
    "Let's first see how much faster is an ndarray object"
   ]
  },
  {
   "cell_type": "code",
   "execution_count": null,
   "metadata": {
    "scrolled": true
   },
   "outputs": [],
   "source": [
    "import numpy as np\n",
    "import math as m\n",
    "\n",
    "nmax = 100000\n",
    "\n",
    "my_arr = np.arange(1,nmax)\n",
    "print(type(my_arr))\n",
    "#print(my_arr)\n",
    "\n",
    "my_list = list(range(1,nmax))\n",
    "print(type(my_list))\n",
    "\n",
    "n_test = 100\n",
    "\n",
    "%time for _ in range(n_test): my_arr2 = my_arr * 2\n",
    "\n",
    "%time for _ in range(n_test): my_list2 = [ x*2 for x in my_list ]\n",
    "    \n",
    "#print(my_arr2)"
   ]
  },
  {
   "cell_type": "markdown",
   "metadata": {},
   "source": [
    "__NumPy based algorithms are generally 10 to 100 times faster than pure python counterparts!__"
   ]
  },
  {
   "cell_type": "code",
   "execution_count": null,
   "metadata": {},
   "outputs": [],
   "source": [
    "%time for _ in range(n_test): my_arr3 = my_arr **3\n",
    "\n",
    "%time for _ in range(n_test): my_list3 = [ x*x*x for x in my_list ]"
   ]
  },
  {
   "cell_type": "code",
   "execution_count": null,
   "metadata": {},
   "outputs": [],
   "source": [
    "%time for _ in range(n_test): my_arr3 = np.log(my_arr**2)\n",
    "\n",
    "%time for _ in range(n_test): my_list3 = [ m.log(x*x) for x in my_list ]"
   ]
  },
  {
   "cell_type": "markdown",
   "metadata": {},
   "source": [
    "# Simple plots with matplotlib\n",
    "In this example we plot a few different functions and include labels and legend.\n",
    "\n",
    "The colors are assigned automatically. You can also specify the color by using the proper parameter. See `help(plt.plot)` or visit to [matplotlib.pyplot.plot](https://matplotlib.org/api/_as_gen/matplotlib.pyplot.plot.html) for details.\n",
    "\n",
    "Note how plotting a function consists in sampling the x axis in an interval and then plotting the function for each point. The number of samples will determine how smooth the curve will be."
   ]
  },
  {
   "cell_type": "code",
   "execution_count": null,
   "metadata": {},
   "outputs": [],
   "source": [
    "%matplotlib notebook\n",
    "import matplotlib.pyplot as plt\n",
    "import numpy as np\n",
    "import math\n",
    "\n",
    "# see what happens when reducing the #samples to 10\n",
    "x = np.linspace(0.001, 2, 10000)\n",
    "\n",
    "plt.xlabel('x')\n",
    "plt.ylabel('f(x)')\n",
    "\n",
    "plt.title(\"Plot of basic functions\")\n",
    "\n",
    "\n",
    "plt.plot(x, np.sqrt(x), label='sqrt')\n",
    "plt.plot(x, x, label='linear')\n",
    "plt.plot(x, x**2, label='quadratic')\n",
    "plt.plot(x, x**3, label='cubic')\n",
    "plt.plot(x, 1-np.log(x), label='1-log')\n",
    "\n",
    "plt.ylim(0., 5.)\n",
    "plt.grid(True)\n",
    "plt.legend()\n",
    "\n",
    "plt.show()\n",
    "\n"
   ]
  },
  {
   "cell_type": "markdown",
   "metadata": {},
   "source": [
    "# Animated plots with matplotlib\n",
    "We are finally ready to complete the exercise of the moving body by animating the plot.\n",
    "\n",
    "The main difference is that instead of a simple `plt.plot(...)` command, we need to interact with the elements forming a plot. To understand the internals of the plot object take a look at this [matplotlib FAQ](https://matplotlib.org/faq/usage_faq.html).\n",
    "\n",
    "We use the simple version of the example with all values fixed and focus on the plotting part.\n",
    "\n",
    "First we replace [`plt.plot`](https://matplotlib.org/api/_as_gen/matplotlib.pyplot.plot.html) with the two separate statements:"
   ]
  },
  {
   "cell_type": "code",
   "execution_count": 1,
   "metadata": {
    "scrolled": false
   },
   "outputs": [
    {
     "name": "stdout",
     "output_type": "stream",
     "text": [
      "v0_x: 26.0 m/s \t v0_y: 15.0 m/s\n",
      "first time values [0.  0.1 0.2 0.3 0.4 0.5 0.6 0.7 0.8 0.9]\n",
      "positions [x y]:\n",
      " [[ 0.         10.        ]\n",
      " [ 2.59807621 11.451     ]\n",
      " [ 5.19615242 12.804     ]\n",
      " [ 7.79422863 14.059     ]\n",
      " [10.39230485 15.216     ]\n",
      " [12.99038106 16.275     ]\n",
      " [15.58845727 17.236     ]\n",
      " [18.18653348 18.099     ]\n",
      " [20.78460969 18.864     ]\n",
      " [23.3826859  19.531     ]\n",
      " [25.98076211 20.1       ]\n",
      " [28.57883832 20.571     ]\n",
      " [31.17691454 20.944     ]\n",
      " [33.77499075 21.219     ]\n",
      " [36.37306696 21.396     ]\n",
      " [38.97114317 21.475     ]\n",
      " [41.56921938 21.456     ]\n",
      " [44.16729559 21.339     ]\n",
      " [46.7653718  21.124     ]\n",
      " [49.36344802 20.811     ]\n",
      " [51.96152423 20.4       ]\n",
      " [54.55960044 19.891     ]\n",
      " [57.15767665 19.284     ]\n",
      " [59.75575286 18.579     ]\n",
      " [62.35382907 17.776     ]\n",
      " [64.95190528 16.875     ]\n",
      " [67.5499815  15.876     ]\n",
      " [70.14805771 14.779     ]\n",
      " [72.74613392 13.584     ]\n",
      " [75.34421013 12.291     ]\n",
      " [77.94228634 10.9       ]\n",
      " [80.54036255  9.411     ]\n",
      " [83.13843876  7.824     ]\n",
      " [85.73651497  6.139     ]\n",
      " [88.33459119  4.356     ]\n",
      " [90.9326674   2.475     ]\n",
      " [93.53074361  0.496     ]]\n"
     ]
    }
   ],
   "source": [
    "%matplotlib notebook\n",
    "import matplotlib.pyplot as plt\n",
    "import matplotlib.animation as animation\n",
    "import numpy as np\n",
    "import time\n",
    "import math\n",
    "\n",
    "# initial conditions\n",
    "g = 9.8\n",
    "h = 10.\n",
    "theta = math.radians(30)\n",
    "v0 = 30.\n",
    "dt=0.01\n",
    "\n",
    "#compute velocity components\n",
    "v0x = v0*np.cos(theta)\n",
    "v0y = v0*np.sin(theta)\n",
    "print(\"v0_x: %.1f m/s \\t v0_y: %.1f m/s\"%(v0x,v0y))\n",
    "\n",
    "x0 = 0\n",
    "y0 = h\n",
    "\n",
    "def x(t):\n",
    "    return x0+v0x*t\n",
    "\n",
    "def y(t):\n",
    "    return y0+v0y*t-0.5*g*t*t\n",
    "\n",
    "\n",
    "dt=0.1\n",
    "# generate list of times for sampling\n",
    "times = np.arange(0., 1000., dt)\n",
    "\n",
    "#print first 10 elements\n",
    "print(\"first time values\", times[:10])\n",
    "\n",
    "\n",
    "# compute x(t_i)\n",
    "xi = [ x(t) for t in times if y(t)>=0.]\n",
    "\n",
    "# compute y(t_i)\n",
    "yi = [ y(t) for t in times if y(t)>=0. ]\n",
    "\n",
    "# use 2D array to do one comprehension\n",
    "pos = np.array([ [x(t),y(t)] for t in times if y(t)>=0. ])\n",
    "\n",
    "print(\"positions [x y]:\\n\",pos)"
   ]
  },
  {
   "cell_type": "markdown",
   "metadata": {},
   "source": [
    "Note the two very useful functions used on arrays\n",
    "- `max(alist)`: return the max value contained in `alist`\n",
    "- `alist.index(value)`: returns the index of `value` in `alist`"
   ]
  },
  {
   "cell_type": "code",
   "execution_count": 2,
   "metadata": {},
   "outputs": [
    {
     "name": "stdout",
     "output_type": "stream",
     "text": [
      "max height: 21.48 at x = 38.97\n"
     ]
    },
    {
     "data": {
      "application/javascript": [
       "/* Put everything inside the global mpl namespace */\n",
       "window.mpl = {};\n",
       "\n",
       "\n",
       "mpl.get_websocket_type = function() {\n",
       "    if (typeof(WebSocket) !== 'undefined') {\n",
       "        return WebSocket;\n",
       "    } else if (typeof(MozWebSocket) !== 'undefined') {\n",
       "        return MozWebSocket;\n",
       "    } else {\n",
       "        alert('Your browser does not have WebSocket support. ' +\n",
       "              'Please try Chrome, Safari or Firefox ≥ 6. ' +\n",
       "              'Firefox 4 and 5 are also supported but you ' +\n",
       "              'have to enable WebSockets in about:config.');\n",
       "    };\n",
       "}\n",
       "\n",
       "mpl.figure = function(figure_id, websocket, ondownload, parent_element) {\n",
       "    this.id = figure_id;\n",
       "\n",
       "    this.ws = websocket;\n",
       "\n",
       "    this.supports_binary = (this.ws.binaryType != undefined);\n",
       "\n",
       "    if (!this.supports_binary) {\n",
       "        var warnings = document.getElementById(\"mpl-warnings\");\n",
       "        if (warnings) {\n",
       "            warnings.style.display = 'block';\n",
       "            warnings.textContent = (\n",
       "                \"This browser does not support binary websocket messages. \" +\n",
       "                    \"Performance may be slow.\");\n",
       "        }\n",
       "    }\n",
       "\n",
       "    this.imageObj = new Image();\n",
       "\n",
       "    this.context = undefined;\n",
       "    this.message = undefined;\n",
       "    this.canvas = undefined;\n",
       "    this.rubberband_canvas = undefined;\n",
       "    this.rubberband_context = undefined;\n",
       "    this.format_dropdown = undefined;\n",
       "\n",
       "    this.image_mode = 'full';\n",
       "\n",
       "    this.root = $('<div/>');\n",
       "    this._root_extra_style(this.root)\n",
       "    this.root.attr('style', 'display: inline-block');\n",
       "\n",
       "    $(parent_element).append(this.root);\n",
       "\n",
       "    this._init_header(this);\n",
       "    this._init_canvas(this);\n",
       "    this._init_toolbar(this);\n",
       "\n",
       "    var fig = this;\n",
       "\n",
       "    this.waiting = false;\n",
       "\n",
       "    this.ws.onopen =  function () {\n",
       "            fig.send_message(\"supports_binary\", {value: fig.supports_binary});\n",
       "            fig.send_message(\"send_image_mode\", {});\n",
       "            if (mpl.ratio != 1) {\n",
       "                fig.send_message(\"set_dpi_ratio\", {'dpi_ratio': mpl.ratio});\n",
       "            }\n",
       "            fig.send_message(\"refresh\", {});\n",
       "        }\n",
       "\n",
       "    this.imageObj.onload = function() {\n",
       "            if (fig.image_mode == 'full') {\n",
       "                // Full images could contain transparency (where diff images\n",
       "                // almost always do), so we need to clear the canvas so that\n",
       "                // there is no ghosting.\n",
       "                fig.context.clearRect(0, 0, fig.canvas.width, fig.canvas.height);\n",
       "            }\n",
       "            fig.context.drawImage(fig.imageObj, 0, 0);\n",
       "        };\n",
       "\n",
       "    this.imageObj.onunload = function() {\n",
       "        fig.ws.close();\n",
       "    }\n",
       "\n",
       "    this.ws.onmessage = this._make_on_message_function(this);\n",
       "\n",
       "    this.ondownload = ondownload;\n",
       "}\n",
       "\n",
       "mpl.figure.prototype._init_header = function() {\n",
       "    var titlebar = $(\n",
       "        '<div class=\"ui-dialog-titlebar ui-widget-header ui-corner-all ' +\n",
       "        'ui-helper-clearfix\"/>');\n",
       "    var titletext = $(\n",
       "        '<div class=\"ui-dialog-title\" style=\"width: 100%; ' +\n",
       "        'text-align: center; padding: 3px;\"/>');\n",
       "    titlebar.append(titletext)\n",
       "    this.root.append(titlebar);\n",
       "    this.header = titletext[0];\n",
       "}\n",
       "\n",
       "\n",
       "\n",
       "mpl.figure.prototype._canvas_extra_style = function(canvas_div) {\n",
       "\n",
       "}\n",
       "\n",
       "\n",
       "mpl.figure.prototype._root_extra_style = function(canvas_div) {\n",
       "\n",
       "}\n",
       "\n",
       "mpl.figure.prototype._init_canvas = function() {\n",
       "    var fig = this;\n",
       "\n",
       "    var canvas_div = $('<div/>');\n",
       "\n",
       "    canvas_div.attr('style', 'position: relative; clear: both; outline: 0');\n",
       "\n",
       "    function canvas_keyboard_event(event) {\n",
       "        return fig.key_event(event, event['data']);\n",
       "    }\n",
       "\n",
       "    canvas_div.keydown('key_press', canvas_keyboard_event);\n",
       "    canvas_div.keyup('key_release', canvas_keyboard_event);\n",
       "    this.canvas_div = canvas_div\n",
       "    this._canvas_extra_style(canvas_div)\n",
       "    this.root.append(canvas_div);\n",
       "\n",
       "    var canvas = $('<canvas/>');\n",
       "    canvas.addClass('mpl-canvas');\n",
       "    canvas.attr('style', \"left: 0; top: 0; z-index: 0; outline: 0\")\n",
       "\n",
       "    this.canvas = canvas[0];\n",
       "    this.context = canvas[0].getContext(\"2d\");\n",
       "\n",
       "    var backingStore = this.context.backingStorePixelRatio ||\n",
       "\tthis.context.webkitBackingStorePixelRatio ||\n",
       "\tthis.context.mozBackingStorePixelRatio ||\n",
       "\tthis.context.msBackingStorePixelRatio ||\n",
       "\tthis.context.oBackingStorePixelRatio ||\n",
       "\tthis.context.backingStorePixelRatio || 1;\n",
       "\n",
       "    mpl.ratio = (window.devicePixelRatio || 1) / backingStore;\n",
       "\n",
       "    var rubberband = $('<canvas/>');\n",
       "    rubberband.attr('style', \"position: absolute; left: 0; top: 0; z-index: 1;\")\n",
       "\n",
       "    var pass_mouse_events = true;\n",
       "\n",
       "    canvas_div.resizable({\n",
       "        start: function(event, ui) {\n",
       "            pass_mouse_events = false;\n",
       "        },\n",
       "        resize: function(event, ui) {\n",
       "            fig.request_resize(ui.size.width, ui.size.height);\n",
       "        },\n",
       "        stop: function(event, ui) {\n",
       "            pass_mouse_events = true;\n",
       "            fig.request_resize(ui.size.width, ui.size.height);\n",
       "        },\n",
       "    });\n",
       "\n",
       "    function mouse_event_fn(event) {\n",
       "        if (pass_mouse_events)\n",
       "            return fig.mouse_event(event, event['data']);\n",
       "    }\n",
       "\n",
       "    rubberband.mousedown('button_press', mouse_event_fn);\n",
       "    rubberband.mouseup('button_release', mouse_event_fn);\n",
       "    // Throttle sequential mouse events to 1 every 20ms.\n",
       "    rubberband.mousemove('motion_notify', mouse_event_fn);\n",
       "\n",
       "    rubberband.mouseenter('figure_enter', mouse_event_fn);\n",
       "    rubberband.mouseleave('figure_leave', mouse_event_fn);\n",
       "\n",
       "    canvas_div.on(\"wheel\", function (event) {\n",
       "        event = event.originalEvent;\n",
       "        event['data'] = 'scroll'\n",
       "        if (event.deltaY < 0) {\n",
       "            event.step = 1;\n",
       "        } else {\n",
       "            event.step = -1;\n",
       "        }\n",
       "        mouse_event_fn(event);\n",
       "    });\n",
       "\n",
       "    canvas_div.append(canvas);\n",
       "    canvas_div.append(rubberband);\n",
       "\n",
       "    this.rubberband = rubberband;\n",
       "    this.rubberband_canvas = rubberband[0];\n",
       "    this.rubberband_context = rubberband[0].getContext(\"2d\");\n",
       "    this.rubberband_context.strokeStyle = \"#000000\";\n",
       "\n",
       "    this._resize_canvas = function(width, height) {\n",
       "        // Keep the size of the canvas, canvas container, and rubber band\n",
       "        // canvas in synch.\n",
       "        canvas_div.css('width', width)\n",
       "        canvas_div.css('height', height)\n",
       "\n",
       "        canvas.attr('width', width * mpl.ratio);\n",
       "        canvas.attr('height', height * mpl.ratio);\n",
       "        canvas.attr('style', 'width: ' + width + 'px; height: ' + height + 'px;');\n",
       "\n",
       "        rubberband.attr('width', width);\n",
       "        rubberband.attr('height', height);\n",
       "    }\n",
       "\n",
       "    // Set the figure to an initial 600x600px, this will subsequently be updated\n",
       "    // upon first draw.\n",
       "    this._resize_canvas(600, 600);\n",
       "\n",
       "    // Disable right mouse context menu.\n",
       "    $(this.rubberband_canvas).bind(\"contextmenu\",function(e){\n",
       "        return false;\n",
       "    });\n",
       "\n",
       "    function set_focus () {\n",
       "        canvas.focus();\n",
       "        canvas_div.focus();\n",
       "    }\n",
       "\n",
       "    window.setTimeout(set_focus, 100);\n",
       "}\n",
       "\n",
       "mpl.figure.prototype._init_toolbar = function() {\n",
       "    var fig = this;\n",
       "\n",
       "    var nav_element = $('<div/>');\n",
       "    nav_element.attr('style', 'width: 100%');\n",
       "    this.root.append(nav_element);\n",
       "\n",
       "    // Define a callback function for later on.\n",
       "    function toolbar_event(event) {\n",
       "        return fig.toolbar_button_onclick(event['data']);\n",
       "    }\n",
       "    function toolbar_mouse_event(event) {\n",
       "        return fig.toolbar_button_onmouseover(event['data']);\n",
       "    }\n",
       "\n",
       "    for(var toolbar_ind in mpl.toolbar_items) {\n",
       "        var name = mpl.toolbar_items[toolbar_ind][0];\n",
       "        var tooltip = mpl.toolbar_items[toolbar_ind][1];\n",
       "        var image = mpl.toolbar_items[toolbar_ind][2];\n",
       "        var method_name = mpl.toolbar_items[toolbar_ind][3];\n",
       "\n",
       "        if (!name) {\n",
       "            // put a spacer in here.\n",
       "            continue;\n",
       "        }\n",
       "        var button = $('<button/>');\n",
       "        button.addClass('ui-button ui-widget ui-state-default ui-corner-all ' +\n",
       "                        'ui-button-icon-only');\n",
       "        button.attr('role', 'button');\n",
       "        button.attr('aria-disabled', 'false');\n",
       "        button.click(method_name, toolbar_event);\n",
       "        button.mouseover(tooltip, toolbar_mouse_event);\n",
       "\n",
       "        var icon_img = $('<span/>');\n",
       "        icon_img.addClass('ui-button-icon-primary ui-icon');\n",
       "        icon_img.addClass(image);\n",
       "        icon_img.addClass('ui-corner-all');\n",
       "\n",
       "        var tooltip_span = $('<span/>');\n",
       "        tooltip_span.addClass('ui-button-text');\n",
       "        tooltip_span.html(tooltip);\n",
       "\n",
       "        button.append(icon_img);\n",
       "        button.append(tooltip_span);\n",
       "\n",
       "        nav_element.append(button);\n",
       "    }\n",
       "\n",
       "    var fmt_picker_span = $('<span/>');\n",
       "\n",
       "    var fmt_picker = $('<select/>');\n",
       "    fmt_picker.addClass('mpl-toolbar-option ui-widget ui-widget-content');\n",
       "    fmt_picker_span.append(fmt_picker);\n",
       "    nav_element.append(fmt_picker_span);\n",
       "    this.format_dropdown = fmt_picker[0];\n",
       "\n",
       "    for (var ind in mpl.extensions) {\n",
       "        var fmt = mpl.extensions[ind];\n",
       "        var option = $(\n",
       "            '<option/>', {selected: fmt === mpl.default_extension}).html(fmt);\n",
       "        fmt_picker.append(option);\n",
       "    }\n",
       "\n",
       "    // Add hover states to the ui-buttons\n",
       "    $( \".ui-button\" ).hover(\n",
       "        function() { $(this).addClass(\"ui-state-hover\");},\n",
       "        function() { $(this).removeClass(\"ui-state-hover\");}\n",
       "    );\n",
       "\n",
       "    var status_bar = $('<span class=\"mpl-message\"/>');\n",
       "    nav_element.append(status_bar);\n",
       "    this.message = status_bar[0];\n",
       "}\n",
       "\n",
       "mpl.figure.prototype.request_resize = function(x_pixels, y_pixels) {\n",
       "    // Request matplotlib to resize the figure. Matplotlib will then trigger a resize in the client,\n",
       "    // which will in turn request a refresh of the image.\n",
       "    this.send_message('resize', {'width': x_pixels, 'height': y_pixels});\n",
       "}\n",
       "\n",
       "mpl.figure.prototype.send_message = function(type, properties) {\n",
       "    properties['type'] = type;\n",
       "    properties['figure_id'] = this.id;\n",
       "    this.ws.send(JSON.stringify(properties));\n",
       "}\n",
       "\n",
       "mpl.figure.prototype.send_draw_message = function() {\n",
       "    if (!this.waiting) {\n",
       "        this.waiting = true;\n",
       "        this.ws.send(JSON.stringify({type: \"draw\", figure_id: this.id}));\n",
       "    }\n",
       "}\n",
       "\n",
       "\n",
       "mpl.figure.prototype.handle_save = function(fig, msg) {\n",
       "    var format_dropdown = fig.format_dropdown;\n",
       "    var format = format_dropdown.options[format_dropdown.selectedIndex].value;\n",
       "    fig.ondownload(fig, format);\n",
       "}\n",
       "\n",
       "\n",
       "mpl.figure.prototype.handle_resize = function(fig, msg) {\n",
       "    var size = msg['size'];\n",
       "    if (size[0] != fig.canvas.width || size[1] != fig.canvas.height) {\n",
       "        fig._resize_canvas(size[0], size[1]);\n",
       "        fig.send_message(\"refresh\", {});\n",
       "    };\n",
       "}\n",
       "\n",
       "mpl.figure.prototype.handle_rubberband = function(fig, msg) {\n",
       "    var x0 = msg['x0'] / mpl.ratio;\n",
       "    var y0 = (fig.canvas.height - msg['y0']) / mpl.ratio;\n",
       "    var x1 = msg['x1'] / mpl.ratio;\n",
       "    var y1 = (fig.canvas.height - msg['y1']) / mpl.ratio;\n",
       "    x0 = Math.floor(x0) + 0.5;\n",
       "    y0 = Math.floor(y0) + 0.5;\n",
       "    x1 = Math.floor(x1) + 0.5;\n",
       "    y1 = Math.floor(y1) + 0.5;\n",
       "    var min_x = Math.min(x0, x1);\n",
       "    var min_y = Math.min(y0, y1);\n",
       "    var width = Math.abs(x1 - x0);\n",
       "    var height = Math.abs(y1 - y0);\n",
       "\n",
       "    fig.rubberband_context.clearRect(\n",
       "        0, 0, fig.canvas.width / mpl.ratio, fig.canvas.height / mpl.ratio);\n",
       "\n",
       "    fig.rubberband_context.strokeRect(min_x, min_y, width, height);\n",
       "}\n",
       "\n",
       "mpl.figure.prototype.handle_figure_label = function(fig, msg) {\n",
       "    // Updates the figure title.\n",
       "    fig.header.textContent = msg['label'];\n",
       "}\n",
       "\n",
       "mpl.figure.prototype.handle_cursor = function(fig, msg) {\n",
       "    var cursor = msg['cursor'];\n",
       "    switch(cursor)\n",
       "    {\n",
       "    case 0:\n",
       "        cursor = 'pointer';\n",
       "        break;\n",
       "    case 1:\n",
       "        cursor = 'default';\n",
       "        break;\n",
       "    case 2:\n",
       "        cursor = 'crosshair';\n",
       "        break;\n",
       "    case 3:\n",
       "        cursor = 'move';\n",
       "        break;\n",
       "    }\n",
       "    fig.rubberband_canvas.style.cursor = cursor;\n",
       "}\n",
       "\n",
       "mpl.figure.prototype.handle_message = function(fig, msg) {\n",
       "    fig.message.textContent = msg['message'];\n",
       "}\n",
       "\n",
       "mpl.figure.prototype.handle_draw = function(fig, msg) {\n",
       "    // Request the server to send over a new figure.\n",
       "    fig.send_draw_message();\n",
       "}\n",
       "\n",
       "mpl.figure.prototype.handle_image_mode = function(fig, msg) {\n",
       "    fig.image_mode = msg['mode'];\n",
       "}\n",
       "\n",
       "mpl.figure.prototype.updated_canvas_event = function() {\n",
       "    // Called whenever the canvas gets updated.\n",
       "    this.send_message(\"ack\", {});\n",
       "}\n",
       "\n",
       "// A function to construct a web socket function for onmessage handling.\n",
       "// Called in the figure constructor.\n",
       "mpl.figure.prototype._make_on_message_function = function(fig) {\n",
       "    return function socket_on_message(evt) {\n",
       "        if (evt.data instanceof Blob) {\n",
       "            /* FIXME: We get \"Resource interpreted as Image but\n",
       "             * transferred with MIME type text/plain:\" errors on\n",
       "             * Chrome.  But how to set the MIME type?  It doesn't seem\n",
       "             * to be part of the websocket stream */\n",
       "            evt.data.type = \"image/png\";\n",
       "\n",
       "            /* Free the memory for the previous frames */\n",
       "            if (fig.imageObj.src) {\n",
       "                (window.URL || window.webkitURL).revokeObjectURL(\n",
       "                    fig.imageObj.src);\n",
       "            }\n",
       "\n",
       "            fig.imageObj.src = (window.URL || window.webkitURL).createObjectURL(\n",
       "                evt.data);\n",
       "            fig.updated_canvas_event();\n",
       "            fig.waiting = false;\n",
       "            return;\n",
       "        }\n",
       "        else if (typeof evt.data === 'string' && evt.data.slice(0, 21) == \"data:image/png;base64\") {\n",
       "            fig.imageObj.src = evt.data;\n",
       "            fig.updated_canvas_event();\n",
       "            fig.waiting = false;\n",
       "            return;\n",
       "        }\n",
       "\n",
       "        var msg = JSON.parse(evt.data);\n",
       "        var msg_type = msg['type'];\n",
       "\n",
       "        // Call the  \"handle_{type}\" callback, which takes\n",
       "        // the figure and JSON message as its only arguments.\n",
       "        try {\n",
       "            var callback = fig[\"handle_\" + msg_type];\n",
       "        } catch (e) {\n",
       "            console.log(\"No handler for the '\" + msg_type + \"' message type: \", msg);\n",
       "            return;\n",
       "        }\n",
       "\n",
       "        if (callback) {\n",
       "            try {\n",
       "                // console.log(\"Handling '\" + msg_type + \"' message: \", msg);\n",
       "                callback(fig, msg);\n",
       "            } catch (e) {\n",
       "                console.log(\"Exception inside the 'handler_\" + msg_type + \"' callback:\", e, e.stack, msg);\n",
       "            }\n",
       "        }\n",
       "    };\n",
       "}\n",
       "\n",
       "// from http://stackoverflow.com/questions/1114465/getting-mouse-location-in-canvas\n",
       "mpl.findpos = function(e) {\n",
       "    //this section is from http://www.quirksmode.org/js/events_properties.html\n",
       "    var targ;\n",
       "    if (!e)\n",
       "        e = window.event;\n",
       "    if (e.target)\n",
       "        targ = e.target;\n",
       "    else if (e.srcElement)\n",
       "        targ = e.srcElement;\n",
       "    if (targ.nodeType == 3) // defeat Safari bug\n",
       "        targ = targ.parentNode;\n",
       "\n",
       "    // jQuery normalizes the pageX and pageY\n",
       "    // pageX,Y are the mouse positions relative to the document\n",
       "    // offset() returns the position of the element relative to the document\n",
       "    var x = e.pageX - $(targ).offset().left;\n",
       "    var y = e.pageY - $(targ).offset().top;\n",
       "\n",
       "    return {\"x\": x, \"y\": y};\n",
       "};\n",
       "\n",
       "/*\n",
       " * return a copy of an object with only non-object keys\n",
       " * we need this to avoid circular references\n",
       " * http://stackoverflow.com/a/24161582/3208463\n",
       " */\n",
       "function simpleKeys (original) {\n",
       "  return Object.keys(original).reduce(function (obj, key) {\n",
       "    if (typeof original[key] !== 'object')\n",
       "        obj[key] = original[key]\n",
       "    return obj;\n",
       "  }, {});\n",
       "}\n",
       "\n",
       "mpl.figure.prototype.mouse_event = function(event, name) {\n",
       "    var canvas_pos = mpl.findpos(event)\n",
       "\n",
       "    if (name === 'button_press')\n",
       "    {\n",
       "        this.canvas.focus();\n",
       "        this.canvas_div.focus();\n",
       "    }\n",
       "\n",
       "    var x = canvas_pos.x * mpl.ratio;\n",
       "    var y = canvas_pos.y * mpl.ratio;\n",
       "\n",
       "    this.send_message(name, {x: x, y: y, button: event.button,\n",
       "                             step: event.step,\n",
       "                             guiEvent: simpleKeys(event)});\n",
       "\n",
       "    /* This prevents the web browser from automatically changing to\n",
       "     * the text insertion cursor when the button is pressed.  We want\n",
       "     * to control all of the cursor setting manually through the\n",
       "     * 'cursor' event from matplotlib */\n",
       "    event.preventDefault();\n",
       "    return false;\n",
       "}\n",
       "\n",
       "mpl.figure.prototype._key_event_extra = function(event, name) {\n",
       "    // Handle any extra behaviour associated with a key event\n",
       "}\n",
       "\n",
       "mpl.figure.prototype.key_event = function(event, name) {\n",
       "\n",
       "    // Prevent repeat events\n",
       "    if (name == 'key_press')\n",
       "    {\n",
       "        if (event.which === this._key)\n",
       "            return;\n",
       "        else\n",
       "            this._key = event.which;\n",
       "    }\n",
       "    if (name == 'key_release')\n",
       "        this._key = null;\n",
       "\n",
       "    var value = '';\n",
       "    if (event.ctrlKey && event.which != 17)\n",
       "        value += \"ctrl+\";\n",
       "    if (event.altKey && event.which != 18)\n",
       "        value += \"alt+\";\n",
       "    if (event.shiftKey && event.which != 16)\n",
       "        value += \"shift+\";\n",
       "\n",
       "    value += 'k';\n",
       "    value += event.which.toString();\n",
       "\n",
       "    this._key_event_extra(event, name);\n",
       "\n",
       "    this.send_message(name, {key: value,\n",
       "                             guiEvent: simpleKeys(event)});\n",
       "    return false;\n",
       "}\n",
       "\n",
       "mpl.figure.prototype.toolbar_button_onclick = function(name) {\n",
       "    if (name == 'download') {\n",
       "        this.handle_save(this, null);\n",
       "    } else {\n",
       "        this.send_message(\"toolbar_button\", {name: name});\n",
       "    }\n",
       "};\n",
       "\n",
       "mpl.figure.prototype.toolbar_button_onmouseover = function(tooltip) {\n",
       "    this.message.textContent = tooltip;\n",
       "};\n",
       "mpl.toolbar_items = [[\"Home\", \"Reset original view\", \"fa fa-home icon-home\", \"home\"], [\"Back\", \"Back to previous view\", \"fa fa-arrow-left icon-arrow-left\", \"back\"], [\"Forward\", \"Forward to next view\", \"fa fa-arrow-right icon-arrow-right\", \"forward\"], [\"\", \"\", \"\", \"\"], [\"Pan\", \"Pan axes with left mouse, zoom with right\", \"fa fa-arrows icon-move\", \"pan\"], [\"Zoom\", \"Zoom to rectangle\", \"fa fa-square-o icon-check-empty\", \"zoom\"], [\"\", \"\", \"\", \"\"], [\"Download\", \"Download plot\", \"fa fa-floppy-o icon-save\", \"download\"]];\n",
       "\n",
       "mpl.extensions = [\"eps\", \"jpeg\", \"pdf\", \"png\", \"ps\", \"raw\", \"svg\", \"tif\"];\n",
       "\n",
       "mpl.default_extension = \"png\";var comm_websocket_adapter = function(comm) {\n",
       "    // Create a \"websocket\"-like object which calls the given IPython comm\n",
       "    // object with the appropriate methods. Currently this is a non binary\n",
       "    // socket, so there is still some room for performance tuning.\n",
       "    var ws = {};\n",
       "\n",
       "    ws.close = function() {\n",
       "        comm.close()\n",
       "    };\n",
       "    ws.send = function(m) {\n",
       "        //console.log('sending', m);\n",
       "        comm.send(m);\n",
       "    };\n",
       "    // Register the callback with on_msg.\n",
       "    comm.on_msg(function(msg) {\n",
       "        //console.log('receiving', msg['content']['data'], msg);\n",
       "        // Pass the mpl event to the overridden (by mpl) onmessage function.\n",
       "        ws.onmessage(msg['content']['data'])\n",
       "    });\n",
       "    return ws;\n",
       "}\n",
       "\n",
       "mpl.mpl_figure_comm = function(comm, msg) {\n",
       "    // This is the function which gets called when the mpl process\n",
       "    // starts-up an IPython Comm through the \"matplotlib\" channel.\n",
       "\n",
       "    var id = msg.content.data.id;\n",
       "    // Get hold of the div created by the display call when the Comm\n",
       "    // socket was opened in Python.\n",
       "    var element = $(\"#\" + id);\n",
       "    var ws_proxy = comm_websocket_adapter(comm)\n",
       "\n",
       "    function ondownload(figure, format) {\n",
       "        window.open(figure.imageObj.src);\n",
       "    }\n",
       "\n",
       "    var fig = new mpl.figure(id, ws_proxy,\n",
       "                           ondownload,\n",
       "                           element.get(0));\n",
       "\n",
       "    // Call onopen now - mpl needs it, as it is assuming we've passed it a real\n",
       "    // web socket which is closed, not our websocket->open comm proxy.\n",
       "    ws_proxy.onopen();\n",
       "\n",
       "    fig.parent_element = element.get(0);\n",
       "    fig.cell_info = mpl.find_output_cell(\"<div id='\" + id + \"'></div>\");\n",
       "    if (!fig.cell_info) {\n",
       "        console.error(\"Failed to find cell for figure\", id, fig);\n",
       "        return;\n",
       "    }\n",
       "\n",
       "    var output_index = fig.cell_info[2]\n",
       "    var cell = fig.cell_info[0];\n",
       "\n",
       "};\n",
       "\n",
       "mpl.figure.prototype.handle_close = function(fig, msg) {\n",
       "    var width = fig.canvas.width/mpl.ratio\n",
       "    fig.root.unbind('remove')\n",
       "\n",
       "    // Update the output cell to use the data from the current canvas.\n",
       "    fig.push_to_output();\n",
       "    var dataURL = fig.canvas.toDataURL();\n",
       "    // Re-enable the keyboard manager in IPython - without this line, in FF,\n",
       "    // the notebook keyboard shortcuts fail.\n",
       "    IPython.keyboard_manager.enable()\n",
       "    $(fig.parent_element).html('<img src=\"' + dataURL + '\" width=\"' + width + '\">');\n",
       "    fig.close_ws(fig, msg);\n",
       "}\n",
       "\n",
       "mpl.figure.prototype.close_ws = function(fig, msg){\n",
       "    fig.send_message('closing', msg);\n",
       "    // fig.ws.close()\n",
       "}\n",
       "\n",
       "mpl.figure.prototype.push_to_output = function(remove_interactive) {\n",
       "    // Turn the data on the canvas into data in the output cell.\n",
       "    var width = this.canvas.width/mpl.ratio\n",
       "    var dataURL = this.canvas.toDataURL();\n",
       "    this.cell_info[1]['text/html'] = '<img src=\"' + dataURL + '\" width=\"' + width + '\">';\n",
       "}\n",
       "\n",
       "mpl.figure.prototype.updated_canvas_event = function() {\n",
       "    // Tell IPython that the notebook contents must change.\n",
       "    IPython.notebook.set_dirty(true);\n",
       "    this.send_message(\"ack\", {});\n",
       "    var fig = this;\n",
       "    // Wait a second, then push the new image to the DOM so\n",
       "    // that it is saved nicely (might be nice to debounce this).\n",
       "    setTimeout(function () { fig.push_to_output() }, 1000);\n",
       "}\n",
       "\n",
       "mpl.figure.prototype._init_toolbar = function() {\n",
       "    var fig = this;\n",
       "\n",
       "    var nav_element = $('<div/>');\n",
       "    nav_element.attr('style', 'width: 100%');\n",
       "    this.root.append(nav_element);\n",
       "\n",
       "    // Define a callback function for later on.\n",
       "    function toolbar_event(event) {\n",
       "        return fig.toolbar_button_onclick(event['data']);\n",
       "    }\n",
       "    function toolbar_mouse_event(event) {\n",
       "        return fig.toolbar_button_onmouseover(event['data']);\n",
       "    }\n",
       "\n",
       "    for(var toolbar_ind in mpl.toolbar_items){\n",
       "        var name = mpl.toolbar_items[toolbar_ind][0];\n",
       "        var tooltip = mpl.toolbar_items[toolbar_ind][1];\n",
       "        var image = mpl.toolbar_items[toolbar_ind][2];\n",
       "        var method_name = mpl.toolbar_items[toolbar_ind][3];\n",
       "\n",
       "        if (!name) { continue; };\n",
       "\n",
       "        var button = $('<button class=\"btn btn-default\" href=\"#\" title=\"' + name + '\"><i class=\"fa ' + image + ' fa-lg\"></i></button>');\n",
       "        button.click(method_name, toolbar_event);\n",
       "        button.mouseover(tooltip, toolbar_mouse_event);\n",
       "        nav_element.append(button);\n",
       "    }\n",
       "\n",
       "    // Add the status bar.\n",
       "    var status_bar = $('<span class=\"mpl-message\" style=\"text-align:right; float: right;\"/>');\n",
       "    nav_element.append(status_bar);\n",
       "    this.message = status_bar[0];\n",
       "\n",
       "    // Add the close button to the window.\n",
       "    var buttongrp = $('<div class=\"btn-group inline pull-right\"></div>');\n",
       "    var button = $('<button class=\"btn btn-mini btn-primary\" href=\"#\" title=\"Stop Interaction\"><i class=\"fa fa-power-off icon-remove icon-large\"></i></button>');\n",
       "    button.click(function (evt) { fig.handle_close(fig, {}); } );\n",
       "    button.mouseover('Stop Interaction', toolbar_mouse_event);\n",
       "    buttongrp.append(button);\n",
       "    var titlebar = this.root.find($('.ui-dialog-titlebar'));\n",
       "    titlebar.prepend(buttongrp);\n",
       "}\n",
       "\n",
       "mpl.figure.prototype._root_extra_style = function(el){\n",
       "    var fig = this\n",
       "    el.on(\"remove\", function(){\n",
       "\tfig.close_ws(fig, {});\n",
       "    });\n",
       "}\n",
       "\n",
       "mpl.figure.prototype._canvas_extra_style = function(el){\n",
       "    // this is important to make the div 'focusable\n",
       "    el.attr('tabindex', 0)\n",
       "    // reach out to IPython and tell the keyboard manager to turn it's self\n",
       "    // off when our div gets focus\n",
       "\n",
       "    // location in version 3\n",
       "    if (IPython.notebook.keyboard_manager) {\n",
       "        IPython.notebook.keyboard_manager.register_events(el);\n",
       "    }\n",
       "    else {\n",
       "        // location in version 2\n",
       "        IPython.keyboard_manager.register_events(el);\n",
       "    }\n",
       "\n",
       "}\n",
       "\n",
       "mpl.figure.prototype._key_event_extra = function(event, name) {\n",
       "    var manager = IPython.notebook.keyboard_manager;\n",
       "    if (!manager)\n",
       "        manager = IPython.keyboard_manager;\n",
       "\n",
       "    // Check for shift+enter\n",
       "    if (event.shiftKey && event.which == 13) {\n",
       "        this.canvas_div.blur();\n",
       "        // select the cell after this one\n",
       "        var index = IPython.notebook.find_cell_index(this.cell_info[0]);\n",
       "        IPython.notebook.select(index + 1);\n",
       "    }\n",
       "}\n",
       "\n",
       "mpl.figure.prototype.handle_save = function(fig, msg) {\n",
       "    fig.ondownload(fig, null);\n",
       "}\n",
       "\n",
       "\n",
       "mpl.find_output_cell = function(html_output) {\n",
       "    // Return the cell and output element which can be found *uniquely* in the notebook.\n",
       "    // Note - this is a bit hacky, but it is done because the \"notebook_saving.Notebook\"\n",
       "    // IPython event is triggered only after the cells have been serialised, which for\n",
       "    // our purposes (turning an active figure into a static one), is too late.\n",
       "    var cells = IPython.notebook.get_cells();\n",
       "    var ncells = cells.length;\n",
       "    for (var i=0; i<ncells; i++) {\n",
       "        var cell = cells[i];\n",
       "        if (cell.cell_type === 'code'){\n",
       "            for (var j=0; j<cell.output_area.outputs.length; j++) {\n",
       "                var data = cell.output_area.outputs[j];\n",
       "                if (data.data) {\n",
       "                    // IPython >= 3 moved mimebundle to data attribute of output\n",
       "                    data = data.data;\n",
       "                }\n",
       "                if (data['text/html'] == html_output) {\n",
       "                    return [cell, data, j];\n",
       "                }\n",
       "            }\n",
       "        }\n",
       "    }\n",
       "}\n",
       "\n",
       "// Register the function which deals with the matplotlib target/channel.\n",
       "// The kernel may be null if the page has been refreshed.\n",
       "if (IPython.notebook.kernel != null) {\n",
       "    IPython.notebook.kernel.comm_manager.register_target('matplotlib', mpl.mpl_figure_comm);\n",
       "}\n"
      ],
      "text/plain": [
       "<IPython.core.display.Javascript object>"
      ]
     },
     "metadata": {},
     "output_type": "display_data"
    },
    {
     "data": {
      "text/html": [
       "<img src=\"data:image/png;base64,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\" width=\"640\">"
      ],
      "text/plain": [
       "<IPython.core.display.HTML object>"
      ]
     },
     "metadata": {},
     "output_type": "display_data"
    }
   ],
   "source": [
    "print(\"max height: %.2f at x = %.2f\"%(max(yi), xi[ yi.index( max(yi) )  ]  )  )\n",
    "\n",
    "# create a figure object\n",
    "fig = plt.figure()\n",
    "\n",
    "# add subplot (just 1) and set x and y limits based on data\n",
    "# ax is the object containing objects to be plotted\n",
    "ax = fig.add_subplot(111, autoscale_on=False, xlim=(-0.1, max(xi)*1.2), ylim=(-0.1,max(yi)*1.2) )\n",
    "ax.grid()\n",
    "ax.set_xlabel('x(t) [m]')\n",
    "ax.set_ylabel(\"y(t) [m]\")\n",
    "plt.title(\"trajectory of a projectile with $v_0$: %.1f m/s\\t $\\Theta_0$: %.1f$^\\circ$\"%(v0,theta))\n",
    "\n",
    "# try also '--', 'x','.'\n",
    "ax.plot(pos[:,0], pos[:,1], '.', lw=2)\n",
    "\n",
    "plt.show()"
   ]
  },
  {
   "cell_type": "markdown",
   "metadata": {},
   "source": [
    "Now we use the [`FuncAnimation`](https://matplotlib.org/api/_as_gen/matplotlib.animation.FuncAnimation.html) to animate the plot. The process consists in 3 steps\n",
    "- plot the initial state of the plot. In our case we plot the initial positions `xi[0]` and `yi[0]`\n",
    "- define a `animate` function that takes an argument and is called to update the info being displayed on the plot\n",
    "- call the `FuncAnimation` function that updates the figure by calling `animate` a number of times\n",
    "  - it has  a numnber of useful options such as whether to repeat the animation, change the frame rate, introduce a delay between repetitions"
   ]
  },
  {
   "cell_type": "code",
   "execution_count": null,
   "metadata": {},
   "outputs": [],
   "source": [
    "%matplotlib notebook\n",
    "import matplotlib.pyplot as plt\n",
    "import matplotlib.animation as animation\n",
    "import numpy as np\n",
    "import time\n",
    "\n",
    "\n",
    "# initial conditions\n",
    "g = 9.8\n",
    "h = 10.\n",
    "theta = math.radians(45)\n",
    "v0 = 30.\n",
    "dt=0.01\n",
    "\n",
    "#compute velocity components\n",
    "v0x = v0*np.cos(theta)\n",
    "v0y = v0*np.sin(theta)\n",
    "print(\"v0_x: %.3f m/s \\t v0_y: %.3f m/s\"%(v0x,v0y))\n",
    "\n",
    "x0 = 0\n",
    "y0 = h\n",
    "\n",
    "def x(t):\n",
    "    return x0+v0x*t\n",
    "\n",
    "def y(t):\n",
    "    return y0+v0y*t-0.5*g*t*t\n",
    "\n",
    "# generate list of times for sampling\n",
    "times = np.arange(0., 1000., dt)\n",
    "\n",
    "#print first 10 elements\n",
    "print(times[:10])\n",
    "\n",
    "# compute x(t_i)\n",
    "xi = [ x(t) for t in times if y(t)>=0.]\n",
    "\n",
    "# compute y(t_i)\n",
    "yi = [ y(t) for t in times if y(t)>=0. ]\n",
    "\n",
    "print(\"max height: %.2f at x = %.2f\"%(max(yi),xi[yi.index(max(yi))]))\n",
    "\n",
    "# create a figure object\n",
    "fig = plt.figure()\n",
    "\n",
    "# add subplot (just 1) and set x and y limits based on data\n",
    "# ax is the object containing objects to be plotted\n",
    "ax = fig.add_subplot(111, autoscale_on=False, xlim=(-0.1, max(xi)*1.2), ylim=(-0.1,max(yi)*1.2) )\n",
    "ax.grid()\n",
    "ax.set_xlabel('x(t) [m]')\n",
    "ax.set_ylabel(\"y(t) [m]\")\n",
    "plt.title(\"trajectory of a projectile with $v_0$: %.1f m/s\\t $\\Theta_0$: %.1f$^\\circ$\"%(v0,theta))\n",
    "\n",
    "\n",
    "# plot initial state of the plot\n",
    "line = ax.plot(xi[0], yi[0], 'o-', lw=2)\n",
    "\n",
    "# each call to animate with argument i\n",
    "# modifies the line[0] object which is the plot being shown\n",
    "# in our case we use i to draw the i-th position\n",
    "def update_plots(i):\n",
    "    # draw the i-th position\n",
    "    line[0].set_data(xi[i], yi[i])\n",
    "    return line[0]\n",
    "\n",
    "\n",
    "# call FuncAnimation to redraw the 'fig' object using the 'animate' function with argument \n",
    "# which is an int given by np.arange(1, len(xi))\n",
    "\n",
    "#ani = animation.FuncAnimation(fig, animate, np.arange(1, len(xi)), interval=1, blit=True, repeat_delay=1000)\n",
    "ani = animation.FuncAnimation(fig, update_plots, np.arange(1, len(xi)), interval=1, blit=True, repeat=True)\n",
    "\n",
    "\n",
    "plt.show()\n"
   ]
  },
  {
   "cell_type": "markdown",
   "metadata": {},
   "source": [
    "If you would like to keep the trajectory in the figure, you simply have to specify to plot all the point up to ith position by using **slicing**. \n",
    "\n",
    "Change `xi[i]` to `xi[:i]`."
   ]
  },
  {
   "cell_type": "code",
   "execution_count": null,
   "metadata": {},
   "outputs": [],
   "source": [
    "%matplotlib notebook\n",
    "import matplotlib.pyplot as plt\n",
    "import matplotlib.animation as animation\n",
    "import numpy as np\n",
    "import time\n",
    "\n",
    "\n",
    "# initial conditions\n",
    "g = 9.8\n",
    "h = 10.\n",
    "theta = math.radians(30)\n",
    "v0 = 30.\n",
    "dt=0.01\n",
    "\n",
    "#compute velocity components\n",
    "v0x = v0*np.cos(theta)\n",
    "v0y = v0*np.sin(theta)\n",
    "print(\"v0_x: %.3f m/s \\t v0_y: %.3f m/s\"%(v0x,v0y))\n",
    "\n",
    "x0 = 0\n",
    "y0 = h\n",
    "\n",
    "def x(t):\n",
    "    return x0+v0x*t\n",
    "\n",
    "def y(t):\n",
    "    return y0+v0y*t-0.5*g*t*t\n",
    "\n",
    "\n",
    "# generate list of times for sampling\n",
    "times = np.arange(0., 1000., dt) \n",
    "\n",
    "#print first 10 elements\n",
    "print(times[:10])\n",
    "\n",
    "# compute x(t_i)\n",
    "xi = [ x(t) for t in times if y(t)>=0.]\n",
    "\n",
    "# compute y(t_i)\n",
    "yi = [ y(t) for t in times if y(t)>=0. ]\n",
    "\n",
    "print(\"max height: %.2f at x = %.2f\"%(max(yi),xi[yi.index(max(yi))]))\n",
    "\n",
    "\n",
    "# create a figure object\n",
    "fig = plt.figure()\n",
    "\n",
    "# add subplot (just 1) and set x and y limits based on data\n",
    "# ax is the object containing objects to be plotted\n",
    "ax = fig.add_subplot(111, autoscale_on=False, xlim=(-0.1, max(xi)*1.2), ylim=(-0.1,max(yi)*1.2) )\n",
    "ax.grid()\n",
    "ax.set_xlabel('x(t) [m]')\n",
    "ax.set_ylabel(\"y(t) [m]\")\n",
    "plt.title(\"trajectory of a projectile with $v_0$: %.1f m/s\\t $\\Theta_0$: %.1f$^\\circ$\"%(v0,theta))\n",
    "\n",
    "\n",
    "\n",
    "# plot initial state of the plot\n",
    "line = ax.plot(xi[0], yi[0], '--', lw=1)\n",
    "ball = ax.plot([], [], 'o-', lw=2, color='red')"
   ]
  },
  {
   "cell_type": "markdown",
   "metadata": {},
   "source": [
    "In this example we have used the `subplot` function. In principal a figure can now contain multiple plots and\n",
    "`ax.plot()` returns a list of objects, even if it contains only one object ([matplotlib.axes.Axes.plot](https://matplotlib.org/3.3.3/api/_as_gen/matplotlib.axes.Axes.plot.html))"
   ]
  },
  {
   "cell_type": "code",
   "execution_count": null,
   "metadata": {},
   "outputs": [],
   "source": [
    "#line is a list of objects\n",
    "print(type(line))\n",
    "print(line)\n",
    "\n",
    "print(type(ball))\n",
    "print(ball)\n"
   ]
  },
  {
   "cell_type": "markdown",
   "metadata": {},
   "source": [
    "we can use the `_` variable to use just the object contained in the list"
   ]
  },
  {
   "cell_type": "code",
   "execution_count": null,
   "metadata": {},
   "outputs": [],
   "source": [
    "# plot initial state of the plot\n",
    "line,*_ = ax.plot(xi[0], yi[0], '--', lw=1)\n",
    "ball,*_ = ax.plot([], [], 'o-', lw=2, color='red')\n",
    "\n",
    "print(type(line))\n",
    "print(line)"
   ]
  },
  {
   "cell_type": "markdown",
   "metadata": {},
   "source": [
    "Now, define a function that camn be called a number of time to update what needs to be shown"
   ]
  },
  {
   "cell_type": "code",
   "execution_count": null,
   "metadata": {},
   "outputs": [],
   "source": [
    "def update_plots(i):\n",
    "\n",
    "    # draw the line from 0th -> i-th position\n",
    "    line.set_data(xi[:i], yi[:i])\n",
    "    # draw the ball ONLY at the i-th position\n",
    "    ball.set_data(xi[i], yi[i])\n",
    "    return line, ball\n",
    "\n",
    "# call FuncAnimation to redraw the 'fig' object using the 'animate' function with argument \n",
    "# which is an int given by np.arange(1, len(xi))\n",
    "\n",
    "#ani = animation.FuncAnimation(fig, animate, np.arange(1, len(xi)), interval=1, blit=True, repeat=True, repeat_delay=500)\n",
    "ani = animation.FuncAnimation(fig, update_plots, np.arange(1, len(xi)), interval=1, blit=True, repeat=True)\n",
    "\n",
    "\n",
    "plt.show()"
   ]
  },
  {
   "cell_type": "markdown",
   "metadata": {},
   "source": [
    "## adding legend and info\n",
    "Finally we add some useful info on the plot to report the time and the position.\n",
    "\n",
    "We do this by defining a template text for what we want to show and its format. The actual data is updated in animate as with the positions."
   ]
  },
  {
   "cell_type": "code",
   "execution_count": null,
   "metadata": {
    "scrolled": false
   },
   "outputs": [],
   "source": [
    "%matplotlib notebook\n",
    "import matplotlib.pyplot as plt\n",
    "import matplotlib.animation as animation\n",
    "import numpy as np\n",
    "import time\n",
    "\n",
    "\n",
    "# initial conditions\n",
    "g = 9.8\n",
    "h = 10.\n",
    "theta = math.radians(30)\n",
    "v0 = 30.\n",
    "dt=0.01\n",
    "\n",
    "#compute velocity components\n",
    "v0x = v0*np.cos(theta)\n",
    "v0y = v0*np.sin(theta)\n",
    "print(\"v0_x: %.3f m/s \\t v0_y: %.3f m/s\"%(v0x,v0y))\n",
    "\n",
    "x0 = 0\n",
    "y0 = h\n",
    "\n",
    "def x(t):\n",
    "    return x0+v0x*t\n",
    "\n",
    "def y(t):\n",
    "    return y0+v0y*t-0.5*g*t*t\n",
    "\n",
    "\n",
    "# generate list of times for sampling\n",
    "times = np.arange(0., 1000., dt)\n",
    "\n",
    "# compute x(t_i)\n",
    "xi = [ x(t) for t in times if y(t)>=0.]\n",
    "\n",
    "# compute y(t_i)\n",
    "yi = [ y(t) for t in times if y(t)>=0. ]\n",
    "\n",
    "print(\"max height: %.2f at x = %.2f\"%(max(yi),xi[yi.index(max(yi))]))\n",
    "\n",
    "\n",
    "# create a figure object\n",
    "fig = plt.figure()\n",
    "\n",
    "# add subplot (just 1) and set x and y limits based on data\n",
    "# ax is the object containing objects to be plotted\n",
    "ax = fig.add_subplot(111, autoscale_on=False, xlim=(-0.1, max(xi)*1.2), ylim=(-0.1,max(yi)*1.2) )\n",
    "ax.grid()\n",
    "ax.set_xlabel('x(t) [m]')\n",
    "ax.set_ylabel(\"y(t) [m]\")\n",
    "plt.title(\"trajectory of a projectile with $v_0$: %.1f m/s\\t $\\Theta_0$: %.1f$^\\circ$\"%(v0,theta))\n",
    "\n",
    "\n",
    "\n",
    "# plot initial plot\n",
    "line,*_ = ax.plot(xi[0], yi[0], lw=1)\n",
    "ball,*_ = ax.plot([], [], 'o-', lw=2, color='red')\n",
    "\n",
    "\n",
    "# define a template info box to be shown\n",
    "info_template = 'time = %.1fs  x: %.2fm   y: %.3fm'\n",
    "info_text = ax.text(0.05, 0.95, '', transform=ax.transAxes)\n",
    "\n",
    "# call FuncAnimation to redraw the 'fig' object using the 'animate' function with argument \n",
    "# which is an int given by np.arange(1, len(xi))\n",
    "#\n",
    "# at each step we do 3 things\n",
    "# draw the line from 0 -> i-th position\n",
    "# draw the point at i-th position\n",
    "# update the text box with the time and position at i-th position\n",
    "\n",
    "def update_plots(i):\n",
    "\n",
    "    line.set_data(xi[:i], yi[:i])\n",
    "    ball.set_data(xi[i], yi[i])\n",
    "    # provide the numerical data to info_template to form an actual string\n",
    "    info_text.set_text(info_template % (times[i], xi[i],yi[i]))\n",
    "    return line, ball, info_text\n",
    "\n",
    "#ani = animation.FuncAnimation(fig, animate, np.arange(1, len(xi)), interval=1, blit=True, repeat_delay=1000)\n",
    "ani = animation.FuncAnimation(fig, update_plots, np.arange(1, len(xi)), interval=1, blit=True, repeat=False)\n",
    "\n",
    "\n",
    "plt.title(\"trajectory of a projectile with $v_0$: %.1f m/s\\t $\\Theta_0$: %.1f$^\\circ$\"%(v0,theta))\n",
    "plt.show()\n"
   ]
  },
  {
   "cell_type": "markdown",
   "metadata": {},
   "source": [
    "## Exercise\n",
    "- easy \n",
    "  - write position x of the max height and put an arrow pointing to the apex\n",
    "  - write the value of x and y on the plot near the actual position in real time\n",
    "  - add a slider to modify the value of some parameters interactively\n",
    "- medium difficulty\n",
    "  - write the solar system exercise with 2 simple bodies in python and use the animated plot to show the orbits of the bodies\n",
    "  - create an animated histogram for a Gaussian distribution\n",
    "  \n",
    "## Additional material\n",
    "- Take a look at this very nice example of the animation of a [double pendulum](https://matplotlib.org/gallery/animation/double_pendulum_sgskip.html)\n",
    "  - download the notebook and run it yourself\n",
    "  - note how it uses the integration methods from the [scipy](https://docs.scipy.org/doc/scipy/reference/index.html) package to integrate the equations of motion\n",
    "    - try using the same methods to resolve the equation of motion for the rotation of the earth around the sun"
   ]
  },
  {
   "cell_type": "markdown",
   "metadata": {},
   "source": [
    "## Using NumPy ndarray instead of Lists\n",
    "We now solve the same problem  of the projectile but this time using a 2D array to do just one comprhension to compute both x(t) and y(t).\n",
    "\n",
    "When plotting you have to use slicing to specify that column `0` are the x values and column `1` are the y values."
   ]
  },
  {
   "cell_type": "code",
   "execution_count": null,
   "metadata": {},
   "outputs": [],
   "source": [
    "%matplotlib notebook\n",
    "import matplotlib.pyplot as plt\n",
    "import matplotlib.animation as animation\n",
    "import numpy as np\n",
    "import time\n",
    "import math\n",
    "\n",
    "\n",
    "# initial conditions\n",
    "g = 9.8\n",
    "h = 10.\n",
    "theta = math.radians(30)\n",
    "v0 = 30.\n",
    "dt=0.01\n",
    "\n",
    "#compute velocity components\n",
    "v0x = v0*np.cos(theta)\n",
    "v0y = v0*np.sin(theta)\n",
    "print(\"v0_x: %.1f m/s \\t v0_y: %.1f m/s\"%(v0x,v0y))\n",
    "\n",
    "x0 = 0\n",
    "y0 = h\n",
    "\n",
    "def x(t):\n",
    "    return x0+v0x*t\n",
    "\n",
    "def y(t):\n",
    "    return y0+v0y*t-0.5*g*t*t\n",
    "\n",
    "\n",
    "\n",
    "# generate list of times for sampling\n",
    "times = np.arange(0., 1000., dt)\n",
    "\n",
    "#print first 10 elements\n",
    "print(times[:10])\n",
    "\n",
    "# use 2D array to do one comprehension\n",
    "pos = np.array([ [x(t),y(t)] for t in times if y(t)>=0. ])\n",
    "print(pos.shape)\n",
    "# create a figure object\n",
    "fig = plt.figure()\n",
    "\n",
    "# add subplot (just 1) and set x and y limits based on data\n",
    "# ax is the object containing objects to be plotted\n",
    "ax = fig.add_subplot(111, autoscale_on=False, xlim=(-0.1, max(pos[:,0])*1.2), ylim=(-0.1,max(pos[:,1])*1.2) )\n",
    "ax.grid()\n",
    "ax.set_xlabel('x(t) [m]')\n",
    "ax.set_ylabel(\"y(t) [m]\")\n",
    "plt.title(\"trajectory of a projectile with $v_0$: %.1f m/s\\t $\\Theta_0$: %.1f$^\\circ$\"%(v0,theta))\n",
    "\n",
    "# plot slices for ndarray\n",
    "line,*_ = ax.plot(pos[:,0], pos[:,1],  lw=2, color='red')\n",
    "plt.show()\n",
    "\n",
    "xi = list(pos[:,0])\n",
    "yi = list(pos[:,1])\n",
    "print(\"max height: %.2f at x = %.2f\"%(max(yi),xi[yi.index(max(yi))]))\n"
   ]
  },
  {
   "cell_type": "markdown",
   "metadata": {},
   "source": [
    "## Example: function with multiple return value\n",
    "we now get rid of x(t) and y(t) and replace it with just one function pos(t) returning 2 values\n",
    "\n",
    "We use ndarray everywhere instaed of the list type. Howevere note that\n",
    "- to print the position of the maximum, using slices can cause some headache and confusion for who reads the code\n",
    "  - you can create lists xi and yi to make the code more readable\n",
    "- a slice does not have the same methods of a list. So for example you can not call `index()` on a slice so we create a list on the fly `list(pos[:,1]).index(max(pos[:,1]))`"
   ]
  },
  {
   "cell_type": "code",
   "execution_count": null,
   "metadata": {
    "scrolled": false
   },
   "outputs": [],
   "source": [
    "%matplotlib notebook\n",
    "import matplotlib.pyplot as plt\n",
    "import matplotlib.animation as animation\n",
    "import numpy as np\n",
    "import time\n",
    "\n",
    "\n",
    "# initial conditions\n",
    "g = 9.8\n",
    "h = 10.\n",
    "theta = math.radians(30)\n",
    "v0 = 30.\n",
    "dt=0.1\n",
    "\n",
    "#compute velocity components\n",
    "v0x = v0*np.cos(theta)\n",
    "v0y = v0*np.sin(theta)\n",
    "print(\"v0_x: %.1f m/s \\t v0_y: %.1f m/s\"%(v0x,v0y))\n",
    "\n",
    "x0 = 0\n",
    "y0 = h\n",
    "\n",
    "def pos(t):\n",
    "    return x0+v0x*t, y0+v0y*t-0.5*g*t*t\n",
    "\n",
    "\n",
    "# generate list of times for sampling\n",
    "times = np.arange(0., 100., dt)\n",
    "\n",
    "# use 2D array to do one comprehension\n",
    "pos = np.array([ pos(t) for t in times if pos(t)[1]>=0. ])"
   ]
  },
  {
   "cell_type": "markdown",
   "metadata": {},
   "source": [
    "use slicing to see the data"
   ]
  },
  {
   "cell_type": "code",
   "execution_count": null,
   "metadata": {
    "scrolled": false
   },
   "outputs": [],
   "source": [
    "print(\"shape of array\")\n",
    "print(pos.shape)\n",
    "\n",
    "\n",
    "print(\"all array elements\")\n",
    "\n",
    "print(pos)"
   ]
  },
  {
   "cell_type": "markdown",
   "metadata": {},
   "source": [
    "Print coordinate `x`\n",
    "- all rows with :\n",
    "- only column=0"
   ]
  },
  {
   "cell_type": "code",
   "execution_count": null,
   "metadata": {
    "scrolled": true
   },
   "outputs": [],
   "source": [
    "print(\"only print x\")\n",
    "print(\"all rows but column=0\")\n",
    "print(pos[:,0])"
   ]
  },
  {
   "cell_type": "markdown",
   "metadata": {},
   "source": [
    "print only the `y` coordinate\n",
    "- all rows with :\n",
    "- column = 1"
   ]
  },
  {
   "cell_type": "code",
   "execution_count": null,
   "metadata": {},
   "outputs": [],
   "source": [
    "print(\"only print y\")\n",
    "print(\"all rows but column=1\")\n",
    "print(pos[:,1])"
   ]
  },
  {
   "cell_type": "markdown",
   "metadata": {},
   "source": [
    "you can  use slicing again to find the max heigh. In this case it can be a bit confusing\n",
    "\n",
    "also note that `index()` is a method for a list not for slices.\n"
   ]
  },
  {
   "cell_type": "code",
   "execution_count": null,
   "metadata": {},
   "outputs": [],
   "source": [
    "# maximum y\n",
    "max_y = max(pos[:,1])\n",
    "print(  \"max y: \", max(pos[:,1]) )\n"
   ]
  },
  {
   "cell_type": "code",
   "execution_count": null,
   "metadata": {},
   "outputs": [],
   "source": [
    "# index of the maximum y\n",
    "i_max_y = list(pos[:,1]).index(max_y) \n",
    "print( \"index of max y:\", i_max_y )"
   ]
  },
  {
   "cell_type": "code",
   "execution_count": null,
   "metadata": {},
   "outputs": [],
   "source": [
    "# x of max y is the x value with the same index\n",
    "max_x = pos[ i_max_y, 0]\n",
    "print(\"x of max y:\", max_x)"
   ]
  },
  {
   "cell_type": "code",
   "execution_count": null,
   "metadata": {},
   "outputs": [],
   "source": [
    "# print it alltogether\n",
    "print(\"max height: %.2f at x = %.2f\"%(max(pos[:,1]),pos[ list(pos[:,1]).index(max(pos[:,1])),0 ] ) )"
   ]
  },
  {
   "cell_type": "code",
   "execution_count": null,
   "metadata": {},
   "outputs": [],
   "source": [
    "# create a figure object\n",
    "fig = plt.figure()\n",
    "\n",
    "# add subplot (just 1) and set x and y limits based on data\n",
    "# ax is the object containing objects to be plotted\n",
    "ax = fig.add_subplot(111, autoscale_on=False, xlim=(-0.1, max(pos[:,0])*1.2), ylim=(-0.1,max(pos[:,1])*1.2) )\n",
    "ax.grid()\n",
    "ax.set_xlabel('x(t) [m]')\n",
    "ax.set_ylabel(\"y(t) [m]\")\n",
    "plt.title(\"trajectory of a projectile with $v_0$: %.1f m/s\\t $\\Theta_0$: %.1f$^\\circ$\"%(v0,theta))\n",
    "\n",
    "# plot slices for ndarray\n",
    "line = ax.plot(pos[:,0], pos[:,1],  lw=2, color='red')\n",
    "\n",
    "plt.show()"
   ]
  },
  {
   "cell_type": "markdown",
   "metadata": {},
   "source": [
    "## Exercise\n",
    "- exetend the problem to 3D and use 3D plot to show the trajectory in space using [mplot3d](https://matplotlib.org/mpl_toolkits/mplot3d/tutorial.html)\n",
    "- plot the motion of a body $m$ that at a time $t$ (extracted randomly) splits in 2 bodys of mass $m_1$ and $m_2$ ($m_1 + m_2 = m$)\n",
    "- plot the motion of a particle of mass $M$ and lifetime $\\tau$ that decays at a time $t$ (extracted from an exponential) to two lighter particles. For example use $B^0 \\rightarrow K^+ \\pi^-$"
   ]
  },
  {
   "cell_type": "code",
   "execution_count": null,
   "metadata": {},
   "outputs": [],
   "source": []
  }
 ],
 "metadata": {
  "kernelspec": {
   "display_name": "Python 3",
   "language": "python",
   "name": "python3"
  },
  "language_info": {
   "codemirror_mode": {
    "name": "ipython",
    "version": 3
   },
   "file_extension": ".py",
   "mimetype": "text/x-python",
   "name": "python",
   "nbconvert_exporter": "python",
   "pygments_lexer": "ipython3",
   "version": "3.8.2"
  }
 },
 "nbformat": 4,
 "nbformat_minor": 2
}
