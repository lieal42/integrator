{
 "cells": [
  {
   "cell_type": "code",
   "execution_count": 1,
   "metadata": {
    "slideshow": {
     "slide_type": "slide"
    }
   },
   "outputs": [
    {
     "name": "stdout",
     "output_type": "stream",
     "text": [
      "[[1 2 3]\n",
      " [4 5 6]\n",
      " [7 8 9]]\n"
     ]
    }
   ],
   "source": [
    "import numpy as np\n",
    "arr2 = np.array( [ [ 1,2,3], [4,5,6], [7,8,9]  ] )\n",
    "print(arr2)"
   ]
  },
  {
   "cell_type": "code",
   "execution_count": 2,
   "metadata": {
    "scrolled": true
   },
   "outputs": [
    {
     "name": "stdout",
     "output_type": "stream",
     "text": [
      "[[0.58701609 0.50860378 0.31377142]\n",
      " [0.11619047 0.23887786 0.77409391]\n",
      " [0.08157756 0.85897946 0.21474411]\n",
      " [0.57596767 0.24556679 0.82484664]\n",
      " [0.69750529 0.23688907 0.52268726]]\n"
     ]
    }
   ],
   "source": [
    "arr3 = np.random.rand(5,3)\n",
    "print(arr3)"
   ]
  },
  {
   "cell_type": "code",
   "execution_count": 3,
   "metadata": {},
   "outputs": [
    {
     "name": "stdout",
     "output_type": "stream",
     "text": [
      "[[[0.4033434  0.06622672]\n",
      "  [0.44226329 0.59651083]]\n",
      "\n",
      " [[0.53265615 0.41658395]\n",
      "  [0.96127861 0.39971862]]\n",
      "\n",
      " [[0.97345911 0.09108791]\n",
      "  [0.27492067 0.23785269]]]\n"
     ]
    }
   ],
   "source": [
    "arr4 = np.random.rand(3,2,2)\n",
    "print(arr4)"
   ]
  },
  {
   "cell_type": "markdown",
   "metadata": {},
   "source": [
    "## creating ndarrays\n",
    "As seen above, all NumPy functions and classes use ndarray as return type. You only need to specify the dimensions and the size of the array to be created\n",
    "\n",
    "### uniform random numbers"
   ]
  },
  {
   "cell_type": "code",
   "execution_count": 4,
   "metadata": {
    "scrolled": false
   },
   "outputs": [
    {
     "data": {
      "text/plain": [
       "array([[0.18156093, 0.15040033, 0.45400605],\n",
       "       [0.82238061, 0.91811595, 0.07383522],\n",
       "       [0.81674822, 0.86314793, 0.01431863],\n",
       "       [0.31819529, 0.94490718, 0.27461721],\n",
       "       [0.63839815, 0.75207155, 0.83797029],\n",
       "       [0.10149375, 0.59751123, 0.68106598],\n",
       "       [0.20471986, 0.88998368, 0.21599342],\n",
       "       [0.10868004, 0.36234238, 0.17893737],\n",
       "       [0.4570143 , 0.98858079, 0.68452598],\n",
       "       [0.97150112, 0.53547259, 0.00862546]])"
      ]
     },
     "execution_count": 4,
     "metadata": {},
     "output_type": "execute_result"
    }
   ],
   "source": [
    "np.random.rand(10,3)"
   ]
  },
  {
   "cell_type": "code",
   "execution_count": 5,
   "metadata": {},
   "outputs": [
    {
     "data": {
      "text/plain": [
       "array([[[0.90196066, 0.29022861, 0.68365261, 0.00317073],\n",
       "        [0.81348157, 0.39541555, 0.69352444, 0.18410175],\n",
       "        [0.53347808, 0.52300708, 0.1813218 , 0.78181804]],\n",
       "\n",
       "       [[0.61528481, 0.03947577, 0.56091481, 0.52082934],\n",
       "        [0.34173969, 0.00498274, 0.45233987, 0.33356153],\n",
       "        [0.62954759, 0.72456232, 0.28996673, 0.31861643]]])"
      ]
     },
     "execution_count": 5,
     "metadata": {},
     "output_type": "execute_result"
    }
   ],
   "source": [
    "np.random.rand(2,3,4)"
   ]
  },
  {
   "cell_type": "markdown",
   "metadata": {},
   "source": [
    "### array of zeros"
   ]
  },
  {
   "cell_type": "code",
   "execution_count": 6,
   "metadata": {},
   "outputs": [
    {
     "name": "stdout",
     "output_type": "stream",
     "text": [
      "[0. 0. 0.]\n",
      "[[0. 0. 0. 0.]\n",
      " [0. 0. 0. 0.]]\n"
     ]
    }
   ],
   "source": [
    "v = np.zeros(3)\n",
    "print(v)\n",
    "print(np.zeros( (2,4)) )"
   ]
  },
  {
   "cell_type": "code",
   "execution_count": 7,
   "metadata": {
    "scrolled": true
   },
   "outputs": [
    {
     "name": "stdout",
     "output_type": "stream",
     "text": [
      "[[0. 0. 0. 0.]\n",
      " [0. 0. 0. 0.]\n",
      " [0. 0. 0. 0.]]\n"
     ]
    }
   ],
   "source": [
    "A = np.zeros((3,4) )\n",
    "print(A)"
   ]
  },
  {
   "cell_type": "markdown",
   "metadata": {},
   "source": [
    "### arrays of 1"
   ]
  },
  {
   "cell_type": "code",
   "execution_count": 8,
   "metadata": {
    "scrolled": true
   },
   "outputs": [
    {
     "name": "stdout",
     "output_type": "stream",
     "text": [
      "[1. 1. 1. 1.]\n",
      "[[1. 1. 1. 1.]\n",
      " [1. 1. 1. 1.]]\n"
     ]
    }
   ],
   "source": [
    "w = np.ones(4)\n",
    "print(w)\n",
    "print(np.ones( (2,4)) )"
   ]
  },
  {
   "cell_type": "markdown",
   "metadata": {},
   "source": [
    "you can specify the shape of the array with a tuple"
   ]
  },
  {
   "cell_type": "code",
   "execution_count": 9,
   "metadata": {
    "scrolled": true
   },
   "outputs": [
    {
     "name": "stdout",
     "output_type": "stream",
     "text": [
      "[[1. 1. 1. 1.]\n",
      " [1. 1. 1. 1.]\n",
      " [1. 1. 1. 1.]]\n",
      "[[3.6 3.6 3.6 3.6]\n",
      " [3.6 3.6 3.6 3.6]\n",
      " [3.6 3.6 3.6 3.6]]\n",
      "[[1.8 1.8 1.8 1.8]\n",
      " [1.8 1.8 1.8 1.8]\n",
      " [1.8 1.8 1.8 1.8]]\n"
     ]
    }
   ],
   "source": [
    "B = np.ones ( (3,4))\n",
    "print(B)\n",
    "\n",
    "val = 3.6*B\n",
    "print(val)\n",
    "\n",
    "print(val/2)"
   ]
  },
  {
   "cell_type": "markdown",
   "metadata": {},
   "source": [
    "Rather than multuplying ones by a scalar, you can directly create an array filled with a given value"
   ]
  },
  {
   "cell_type": "code",
   "execution_count": 10,
   "metadata": {
    "scrolled": true
   },
   "outputs": [
    {
     "name": "stdout",
     "output_type": "stream",
     "text": [
      "[3.12 3.12 3.12 3.12]\n"
     ]
    }
   ],
   "source": [
    "z = np.full( 4, fill_value=3.12)\n",
    "print(z)"
   ]
  },
  {
   "cell_type": "markdown",
   "metadata": {},
   "source": [
    "use a tuple to specify the shape of the array to be filled"
   ]
  },
  {
   "cell_type": "code",
   "execution_count": 11,
   "metadata": {
    "scrolled": false
   },
   "outputs": [
    {
     "name": "stdout",
     "output_type": "stream",
     "text": [
      "[[-4.3 -4.3 -4.3]\n",
      " [-4.3 -4.3 -4.3]]\n"
     ]
    }
   ],
   "source": [
    "C = np.full( (2,3), fill_value=-4.3)\n",
    "print(C)"
   ]
  },
  {
   "cell_type": "markdown",
   "metadata": {},
   "source": [
    "### Identity array"
   ]
  },
  {
   "cell_type": "code",
   "execution_count": 17,
   "metadata": {
    "scrolled": true,
    "slideshow": {
     "slide_type": "subslide"
    }
   },
   "outputs": [
    {
     "name": "stdout",
     "output_type": "stream",
     "text": [
      "[[1. 0. 0. 0. 0. 0. 0.]\n",
      " [0. 1. 0. 0. 0. 0. 0.]\n",
      " [0. 0. 1. 0. 0. 0. 0.]\n",
      " [0. 0. 0. 1. 0. 0. 0.]\n",
      " [0. 0. 0. 0. 1. 0. 0.]\n",
      " [0. 0. 0. 0. 0. 1. 0.]\n",
      " [0. 0. 0. 0. 0. 0. 1.]]\n"
     ]
    }
   ],
   "source": [
    "data = np.identity(7)\n",
    "print(data)"
   ]
  },
  {
   "cell_type": "markdown",
   "metadata": {},
   "source": [
    "operations with arrays"
   ]
  },
  {
   "cell_type": "code",
   "execution_count": 18,
   "metadata": {
    "scrolled": true
   },
   "outputs": [
    {
     "name": "stdout",
     "output_type": "stream",
     "text": [
      "[[2.3 0.  0.  0.  0.  0.  0. ]\n",
      " [0.  2.3 0.  0.  0.  0.  0. ]\n",
      " [0.  0.  2.3 0.  0.  0.  0. ]\n",
      " [0.  0.  0.  2.3 0.  0.  0. ]\n",
      " [0.  0.  0.  0.  2.3 0.  0. ]\n",
      " [0.  0.  0.  0.  0.  2.3 0. ]\n",
      " [0.  0.  0.  0.  0.  0.  2.3]]\n"
     ]
    }
   ],
   "source": [
    "print( 2.3*data )"
   ]
  },
  {
   "cell_type": "code",
   "execution_count": 19,
   "metadata": {},
   "outputs": [
    {
     "ename": "ValueError",
     "evalue": "operands could not be broadcast together with shapes (7,7) (2,3) ",
     "output_type": "error",
     "traceback": [
      "\u001b[0;31m---------------------------------------------------------------------------\u001b[0m",
      "\u001b[0;31mValueError\u001b[0m                                Traceback (most recent call last)",
      "\u001b[0;32m<ipython-input-19-a884b75f9b40>\u001b[0m in \u001b[0;36m<module>\u001b[0;34m\u001b[0m\n\u001b[0;32m----> 1\u001b[0;31m \u001b[0md\u001b[0m \u001b[0;34m=\u001b[0m \u001b[0mdata\u001b[0m \u001b[0;34m-\u001b[0m \u001b[0mC\u001b[0m\u001b[0;34m\u001b[0m\u001b[0;34m\u001b[0m\u001b[0m\n\u001b[0m",
      "\u001b[0;31mValueError\u001b[0m: operands could not be broadcast together with shapes (7,7) (2,3) "
     ]
    }
   ],
   "source": [
    "d = data - C"
   ]
  },
  {
   "cell_type": "markdown",
   "metadata": {},
   "source": [
    "## Shape of arrays\n",
    "each ndarray is characterized by its \n",
    "- shape\n",
    "- size \n",
    "- type of data"
   ]
  },
  {
   "cell_type": "code",
   "execution_count": 20,
   "metadata": {},
   "outputs": [
    {
     "name": "stdout",
     "output_type": "stream",
     "text": [
      "data\n",
      " [[-1.   2.3]\n",
      " [ 2.3  4.5]\n",
      " [-8.4  1.9]]\n",
      "type:  <class 'numpy.ndarray'>\n",
      "dimension:\t 2\n",
      "shape:  (3, 2)\n",
      "data type:  float64\n"
     ]
    }
   ],
   "source": [
    "data = np.array([ [-1., 2.3], [2.3, 4.5], [-8.4, 1.9] ])\n",
    "print(\"data\\n\",data)\n",
    "print(\"type: \",type(data))\n",
    "print(\"dimension:\\t\", data.ndim)\n",
    "print(\"shape: \", data.shape)\n",
    "print(\"data type: \",data.dtype)\n"
   ]
  },
  {
   "cell_type": "markdown",
   "metadata": {},
   "source": [
    "change type of data"
   ]
  },
  {
   "cell_type": "code",
   "execution_count": 21,
   "metadata": {},
   "outputs": [
    {
     "name": "stdout",
     "output_type": "stream",
     "text": [
      "[[-1  2]\n",
      " [ 2  4]\n",
      " [-8  1]]\n"
     ]
    }
   ],
   "source": [
    "data_int = np.array([ [-1., 2.3], [2.3, 4.5], [-8.4, 1.9] ], dtype=np.int64)\n",
    "print(data_int)"
   ]
  },
  {
   "cell_type": "markdown",
   "metadata": {},
   "source": [
    "## Reshaping arrays"
   ]
  },
  {
   "cell_type": "code",
   "execution_count": 22,
   "metadata": {},
   "outputs": [
    {
     "name": "stdout",
     "output_type": "stream",
     "text": [
      "[  1   2   3   4   5   6   7   8   9  10  11  12  13  14  15  16  17  18\n",
      "  19  20  21  22  23  24  25  26  27  28  29  30  31  32  33  34  35  36\n",
      "  37  38  39  40  41  42  43  44  45  46  47  48  49  50  51  52  53  54\n",
      "  55  56  57  58  59  60  61  62  63  64  65  66  67  68  69  70  71  72\n",
      "  73  74  75  76  77  78  79  80  81  82  83  84  85  86  87  88  89  90\n",
      "  91  92  93  94  95  96  97  98  99 100]\n",
      "1\n"
     ]
    }
   ],
   "source": [
    "data = np.arange(1,101)\n",
    "print(data)\n",
    "print(data.ndim)"
   ]
  },
  {
   "cell_type": "code",
   "execution_count": 23,
   "metadata": {
    "scrolled": false
   },
   "outputs": [
    {
     "name": "stdout",
     "output_type": "stream",
     "text": [
      "[[  1   2   3   4]\n",
      " [  5   6   7   8]\n",
      " [  9  10  11  12]\n",
      " [ 13  14  15  16]\n",
      " [ 17  18  19  20]\n",
      " [ 21  22  23  24]\n",
      " [ 25  26  27  28]\n",
      " [ 29  30  31  32]\n",
      " [ 33  34  35  36]\n",
      " [ 37  38  39  40]\n",
      " [ 41  42  43  44]\n",
      " [ 45  46  47  48]\n",
      " [ 49  50  51  52]\n",
      " [ 53  54  55  56]\n",
      " [ 57  58  59  60]\n",
      " [ 61  62  63  64]\n",
      " [ 65  66  67  68]\n",
      " [ 69  70  71  72]\n",
      " [ 73  74  75  76]\n",
      " [ 77  78  79  80]\n",
      " [ 81  82  83  84]\n",
      " [ 85  86  87  88]\n",
      " [ 89  90  91  92]\n",
      " [ 93  94  95  96]\n",
      " [ 97  98  99 100]]\n",
      "[  1   2   3   4   5   6   7   8   9  10  11  12  13  14  15  16  17  18\n",
      "  19  20  21  22  23  24  25  26  27  28  29  30  31  32  33  34  35  36\n",
      "  37  38  39  40  41  42  43  44  45  46  47  48  49  50  51  52  53  54\n",
      "  55  56  57  58  59  60  61  62  63  64  65  66  67  68  69  70  71  72\n",
      "  73  74  75  76  77  78  79  80  81  82  83  84  85  86  87  88  89  90\n",
      "  91  92  93  94  95  96  97  98  99 100]\n"
     ]
    }
   ],
   "source": [
    "mat1 = data.reshape(25,4)\n",
    "print(mat1)\n",
    "print(data)"
   ]
  },
  {
   "cell_type": "code",
   "execution_count": 24,
   "metadata": {
    "scrolled": true
   },
   "outputs": [
    {
     "name": "stdout",
     "output_type": "stream",
     "text": [
      "[[  1   2   3   4   5   6   7   8   9  10]\n",
      " [ 11  12  13  14  15  16  17  18  19  20]\n",
      " [ 21  22  23  24  25  26  27  28  29  30]\n",
      " [ 31  32  33  34  35  36  37  38  39  40]\n",
      " [ 41  42  43  44  45  46  47  48  49  50]\n",
      " [ 51  52  53  54  55  56  57  58  59  60]\n",
      " [ 61  62  63  64  65  66  67  68  69  70]\n",
      " [ 71  72  73  74  75  76  77  78  79  80]\n",
      " [ 81  82  83  84  85  86  87  88  89  90]\n",
      " [ 91  92  93  94  95  96  97  98  99 100]]\n"
     ]
    }
   ],
   "source": [
    "mat2 = mat1.reshape(10,10)\n",
    "print(mat2)"
   ]
  },
  {
   "cell_type": "markdown",
   "metadata": {},
   "source": [
    "__Note that the original data array has not been modified__"
   ]
  },
  {
   "cell_type": "code",
   "execution_count": 38,
   "metadata": {
    "scrolled": true
   },
   "outputs": [
    {
     "data": {
      "text/plain": [
       "array([  1,   2,   3,   4,   5,   6,   7,   8,   9,  10,  11,  12,  13,\n",
       "        14,  15,  16,  17,  18,  19,  20,  21,  22,  23,  24,  25,  26,\n",
       "        27,  28,  29,  30,  31,  32,  33,  34,  35,  36,  37,  38,  39,\n",
       "        40,  41,  42,  43,  44,  45,  46,  47,  48,  49,  50,  51,  52,\n",
       "        53,  54,  55,  56,  57,  58,  59,  60,  61,  62,  63,  64,  65,\n",
       "        66,  67,  68,  69,  70,  71,  72,  73,  74,  75,  76,  77,  78,\n",
       "        79,  80,  81,  82,  83,  84,  85,  86,  87,  88,  89,  90,  91,\n",
       "        92,  93,  94,  95,  96,  97,  98,  99, 100])"
      ]
     },
     "execution_count": 38,
     "metadata": {},
     "output_type": "execute_result"
    }
   ],
   "source": [
    "data"
   ]
  },
  {
   "cell_type": "code",
   "execution_count": 26,
   "metadata": {},
   "outputs": [
    {
     "ename": "ValueError",
     "evalue": "cannot reshape array of size 100 into shape (9,8)",
     "output_type": "error",
     "traceback": [
      "\u001b[0;31m---------------------------------------------------------------------------\u001b[0m",
      "\u001b[0;31mValueError\u001b[0m                                Traceback (most recent call last)",
      "\u001b[0;32m<ipython-input-26-2babdf38d876>\u001b[0m in \u001b[0;36m<module>\u001b[0;34m\u001b[0m\n\u001b[0;32m----> 1\u001b[0;31m \u001b[0mdata\u001b[0m\u001b[0;34m.\u001b[0m\u001b[0mreshape\u001b[0m\u001b[0;34m(\u001b[0m\u001b[0;36m9\u001b[0m\u001b[0;34m,\u001b[0m\u001b[0;36m8\u001b[0m\u001b[0;34m)\u001b[0m\u001b[0;34m\u001b[0m\u001b[0;34m\u001b[0m\u001b[0m\n\u001b[0m",
      "\u001b[0;31mValueError\u001b[0m: cannot reshape array of size 100 into shape (9,8)"
     ]
    }
   ],
   "source": [
    "data.reshape(9,8)"
   ]
  },
  {
   "cell_type": "markdown",
   "metadata": {},
   "source": [
    "You can create an array with the same shape of an existing array"
   ]
  },
  {
   "cell_type": "code",
   "execution_count": 39,
   "metadata": {},
   "outputs": [
    {
     "name": "stdout",
     "output_type": "stream",
     "text": [
      "[4616189618054758400 4616189618054758400 4616189618054758400\n",
      " 4616189618054758400 4616189618054758400 4616189618054758400\n",
      " 4616189618054758400 4616189618054758400 4616189618054758400\n",
      " 4616189618054758400 4616189618054758400 4616189618054758400\n",
      " 4616189618054758400 4616189618054758400 4616189618054758400\n",
      " 4616189618054758400 4616189618054758400 4616189618054758400\n",
      " 4616189618054758400 4616189618054758400 4616189618054758400\n",
      " 4616189618054758400 4616189618054758400 4616189618054758400\n",
      " 4616189618054758400 4616189618054758400 4616189618054758400\n",
      " 4616189618054758400 4616189618054758400 4616189618054758400\n",
      " 4616189618054758400 4616189618054758400 4616189618054758400\n",
      " 4616189618054758400 4616189618054758400 4616189618054758400\n",
      " 4616189618054758400 4616189618054758400 4616189618054758400\n",
      " 4616189618054758400 4616189618054758400 4616189618054758400\n",
      " 4616189618054758400 4616189618054758400 4616189618054758400\n",
      " 4616189618054758400 4616189618054758400 4616189618054758400\n",
      " 4616189618054758400 4616189618054758400 4616189618054758400\n",
      " 4616189618054758400 4616189618054758400 4616189618054758400\n",
      " 4616189618054758400 4616189618054758400 4616189618054758400\n",
      " 4616189618054758400 4616189618054758400 4616189618054758400\n",
      " 4616189618054758400 4616189618054758400 4616189618054758400\n",
      " 4616189618054758400 4616189618054758400 4616189618054758400\n",
      " 4616189618054758400 4616189618054758400 4616189618054758400\n",
      " 4616189618054758400 4616189618054758400 4616189618054758400\n",
      " 4616189618054758400 4616189618054758400 4616189618054758400\n",
      " 4616189618054758400 4616189618054758400 4616189618054758400\n",
      " 4616189618054758400 4616189618054758400 4616189618054758400\n",
      " 4616189618054758400 4616189618054758400 4616189618054758400\n",
      " 4616189618054758400 4616189618054758400 4616189618054758400\n",
      " 4616189618054758400 4616189618054758400 4616189618054758400\n",
      " 4616189618054758400 4616189618054758400 4616189618054758400\n",
      " 4616189618054758400 4616189618054758400 4616189618054758400\n",
      " 4616189618054758400 4616189618054758400 4616189618054758400\n",
      " 4616189618054758400]\n"
     ]
    }
   ],
   "source": [
    "y = np.empty_like(data)\n",
    "print(y)"
   ]
  },
  {
   "cell_type": "code",
   "execution_count": 40,
   "metadata": {
    "scrolled": false
   },
   "outputs": [
    {
     "name": "stdout",
     "output_type": "stream",
     "text": [
      "[1 1 1 1 1 1 1 1 1 1 1 1 1 1 1 1 1 1 1 1 1 1 1 1 1 1 1 1 1 1 1 1 1 1 1 1 1\n",
      " 1 1 1 1 1 1 1 1 1 1 1 1 1 1 1 1 1 1 1 1 1 1 1 1 1 1 1 1 1 1 1 1 1 1 1 1 1\n",
      " 1 1 1 1 1 1 1 1 1 1 1 1 1 1 1 1 1 1 1 1 1 1 1 1 1 1]\n"
     ]
    }
   ],
   "source": [
    "data2 = np.ones_like(data)\n",
    "print(data2)"
   ]
  },
  {
   "cell_type": "code",
   "execution_count": 41,
   "metadata": {
    "scrolled": true
   },
   "outputs": [
    {
     "data": {
      "text/plain": [
       "array([0, 0, 0, 0, 0, 0, 0, 0, 0, 0, 0, 0, 0, 0, 0, 0, 0, 0, 0, 0, 0, 0,\n",
       "       0, 0, 0, 0, 0, 0, 0, 0, 0, 0, 0, 0, 0, 0, 0, 0, 0, 0, 0, 0, 0, 0,\n",
       "       0, 0, 0, 0, 0, 0, 0, 0, 0, 0, 0, 0, 0, 0, 0, 0, 0, 0, 0, 0, 0, 0,\n",
       "       0, 0, 0, 0, 0, 0, 0, 0, 0, 0, 0, 0, 0, 0, 0, 0, 0, 0, 0, 0, 0, 0,\n",
       "       0, 0, 0, 0, 0, 0, 0, 0, 0, 0, 0, 0])"
      ]
     },
     "execution_count": 41,
     "metadata": {},
     "output_type": "execute_result"
    }
   ],
   "source": [
    "np.zeros_like(data)"
   ]
  },
  {
   "cell_type": "code",
   "execution_count": 42,
   "metadata": {
    "scrolled": false
   },
   "outputs": [
    {
     "data": {
      "text/plain": [
       "array([-4, -4, -4, -4, -4, -4, -4, -4, -4, -4, -4, -4, -4, -4, -4, -4, -4,\n",
       "       -4, -4, -4, -4, -4, -4, -4, -4, -4, -4, -4, -4, -4, -4, -4, -4, -4,\n",
       "       -4, -4, -4, -4, -4, -4, -4, -4, -4, -4, -4, -4, -4, -4, -4, -4, -4,\n",
       "       -4, -4, -4, -4, -4, -4, -4, -4, -4, -4, -4, -4, -4, -4, -4, -4, -4,\n",
       "       -4, -4, -4, -4, -4, -4, -4, -4, -4, -4, -4, -4, -4, -4, -4, -4, -4,\n",
       "       -4, -4, -4, -4, -4, -4, -4, -4, -4, -4, -4, -4, -4, -4, -4])"
      ]
     },
     "execution_count": 42,
     "metadata": {},
     "output_type": "execute_result"
    }
   ],
   "source": [
    "np.full_like(data, -4.5)"
   ]
  },
  {
   "cell_type": "markdown",
   "metadata": {},
   "source": [
    "Since the array used for the shape had integers, the new array is also made of integers, despite you providing `4.5` as fill_value. If you need a float array, then you have to specify it:"
   ]
  },
  {
   "cell_type": "code",
   "execution_count": 43,
   "metadata": {
    "scrolled": false
   },
   "outputs": [
    {
     "data": {
      "text/plain": [
       "array([-4.5, -4.5, -4.5, -4.5, -4.5, -4.5, -4.5, -4.5, -4.5, -4.5, -4.5,\n",
       "       -4.5, -4.5, -4.5, -4.5, -4.5, -4.5, -4.5, -4.5, -4.5, -4.5, -4.5,\n",
       "       -4.5, -4.5, -4.5, -4.5, -4.5, -4.5, -4.5, -4.5, -4.5, -4.5, -4.5,\n",
       "       -4.5, -4.5, -4.5, -4.5, -4.5, -4.5, -4.5, -4.5, -4.5, -4.5, -4.5,\n",
       "       -4.5, -4.5, -4.5, -4.5, -4.5, -4.5, -4.5, -4.5, -4.5, -4.5, -4.5,\n",
       "       -4.5, -4.5, -4.5, -4.5, -4.5, -4.5, -4.5, -4.5, -4.5, -4.5, -4.5,\n",
       "       -4.5, -4.5, -4.5, -4.5, -4.5, -4.5, -4.5, -4.5, -4.5, -4.5, -4.5,\n",
       "       -4.5, -4.5, -4.5, -4.5, -4.5, -4.5, -4.5, -4.5, -4.5, -4.5, -4.5,\n",
       "       -4.5, -4.5, -4.5, -4.5, -4.5, -4.5, -4.5, -4.5, -4.5, -4.5, -4.5,\n",
       "       -4.5])"
      ]
     },
     "execution_count": 43,
     "metadata": {},
     "output_type": "execute_result"
    }
   ],
   "source": [
    "np.full_like(data, fill_value=-4.5,dtype=np.float64)"
   ]
  },
  {
   "cell_type": "code",
   "execution_count": 32,
   "metadata": {},
   "outputs": [
    {
     "name": "stdout",
     "output_type": "stream",
     "text": [
      "[-4. -4. -4. -4. -4. -4. -4. -4. -4. -4. -4. -4. -4. -4. -4. -4. -4. -4.\n",
      " -4. -4. -4. -4. -4. -4. -4. -4. -4. -4. -4. -4. -4. -4. -4. -4. -4. -4.\n",
      " -4. -4. -4. -4. -4. -4. -4. -4. -4. -4. -4. -4. -4. -4. -4. -4. -4. -4.\n",
      " -4. -4. -4. -4. -4. -4. -4. -4. -4. -4. -4. -4. -4. -4. -4. -4. -4. -4.\n",
      " -4. -4. -4. -4. -4. -4. -4. -4. -4. -4. -4. -4. -4. -4. -4. -4. -4. -4.\n",
      " -4. -4. -4. -4. -4. -4. -4. -4. -4. -4.]\n"
     ]
    }
   ],
   "source": [
    "data_2 = 1.*np.full_like(data, -4.5)\n",
    "print(data_2)"
   ]
  },
  {
   "cell_type": "markdown",
   "metadata": {},
   "source": [
    "## Operations with ndarray\n",
    "you can use an ndarray for  basic mathematical operations tyoically used with scalars.\n",
    "\n"
   ]
  },
  {
   "cell_type": "markdown",
   "metadata": {},
   "source": [
    "### Arithmetics with arrays"
   ]
  },
  {
   "cell_type": "code",
   "execution_count": 44,
   "metadata": {
    "scrolled": false
   },
   "outputs": [
    {
     "name": "stdout",
     "output_type": "stream",
     "text": [
      "[[ 1  2  3  4]\n",
      " [ 5  6  7  8]\n",
      " [ 9 10 11 12]\n",
      " [13 14 15 16]]\n"
     ]
    }
   ],
   "source": [
    "data = np.arange(1,17).reshape(4,4)\n",
    "print(data)"
   ]
  },
  {
   "cell_type": "code",
   "execution_count": 45,
   "metadata": {},
   "outputs": [
    {
     "name": "stdout",
     "output_type": "stream",
     "text": [
      "[[1 1 1 1]\n",
      " [1 1 1 1]\n",
      " [1 1 1 1]\n",
      " [1 1 1 1]]\n"
     ]
    }
   ],
   "source": [
    "data2 = np.ones_like(data)\n",
    "print(data2)"
   ]
  },
  {
   "cell_type": "code",
   "execution_count": 46,
   "metadata": {
    "scrolled": false
   },
   "outputs": [
    {
     "data": {
      "text/plain": [
       "array([[ 2,  3,  4,  5],\n",
       "       [ 6,  7,  8,  9],\n",
       "       [10, 11, 12, 13],\n",
       "       [14, 15, 16, 17]])"
      ]
     },
     "execution_count": 46,
     "metadata": {},
     "output_type": "execute_result"
    }
   ],
   "source": [
    "data + data2"
   ]
  },
  {
   "cell_type": "code",
   "execution_count": 47,
   "metadata": {},
   "outputs": [
    {
     "data": {
      "text/plain": [
       "array([[ 0,  1,  2,  3],\n",
       "       [ 4,  5,  6,  7],\n",
       "       [ 8,  9, 10, 11],\n",
       "       [12, 13, 14, 15]])"
      ]
     },
     "execution_count": 47,
     "metadata": {},
     "output_type": "execute_result"
    }
   ],
   "source": [
    "data - data2"
   ]
  },
  {
   "cell_type": "markdown",
   "metadata": {},
   "source": [
    "Division by an array applies the divison to each element. It is not the same as inverting an array"
   ]
  },
  {
   "cell_type": "code",
   "execution_count": 48,
   "metadata": {},
   "outputs": [
    {
     "data": {
      "text/plain": [
       "array([[1.        , 0.5       , 0.33333333, 0.25      ],\n",
       "       [0.2       , 0.16666667, 0.14285714, 0.125     ],\n",
       "       [0.11111111, 0.1       , 0.09090909, 0.08333333],\n",
       "       [0.07692308, 0.07142857, 0.06666667, 0.0625    ]])"
      ]
     },
     "execution_count": 48,
     "metadata": {},
     "output_type": "execute_result"
    }
   ],
   "source": [
    "1./data"
   ]
  },
  {
   "cell_type": "code",
   "execution_count": null,
   "metadata": {
    "scrolled": false
   },
   "outputs": [],
   "source": [
    "10 / data"
   ]
  },
  {
   "cell_type": "markdown",
   "metadata": {},
   "source": [
    "Adding a scalar to an array, adds the same value to all cells"
   ]
  },
  {
   "cell_type": "code",
   "execution_count": 49,
   "metadata": {},
   "outputs": [
    {
     "data": {
      "text/plain": [
       "array([[ 4,  5,  6,  7],\n",
       "       [ 8,  9, 10, 11],\n",
       "       [12, 13, 14, 15],\n",
       "       [16, 17, 18, 19]])"
      ]
     },
     "execution_count": 49,
     "metadata": {},
     "output_type": "execute_result"
    }
   ],
   "source": [
    "3+data"
   ]
  },
  {
   "cell_type": "code",
   "execution_count": 50,
   "metadata": {},
   "outputs": [
    {
     "name": "stdout",
     "output_type": "stream",
     "text": [
      "[[4.51147098 4.12464871 3.71704    3.48079938]\n",
      " [3.47821515 3.62343075 3.76385523 3.79366978]\n",
      " [3.71579094 3.61559789 3.5790918  3.62528559]\n",
      " [3.70232054 3.74075767 3.71335252 3.65200604]]\n"
     ]
    }
   ],
   "source": [
    "data_5 = 3.67+ np.sin(data)/data\n",
    "print(data_5)"
   ]
  },
  {
   "cell_type": "markdown",
   "metadata": {},
   "source": [
    "### functions\n",
    "you have to use the NumPy functions so __np.sin__ instead of __math.sin__"
   ]
  },
  {
   "cell_type": "code",
   "execution_count": 51,
   "metadata": {
    "scrolled": false
   },
   "outputs": [],
   "source": [
    "datasq = data**2"
   ]
  },
  {
   "cell_type": "code",
   "execution_count": 52,
   "metadata": {
    "scrolled": true
   },
   "outputs": [
    {
     "name": "stdout",
     "output_type": "stream",
     "text": [
      "[[ 1  2  3  4]\n",
      " [ 5  6  7  8]\n",
      " [ 9 10 11 12]\n",
      " [13 14 15 16]]\n"
     ]
    }
   ],
   "source": [
    "print(data)"
   ]
  },
  {
   "cell_type": "markdown",
   "metadata": {},
   "source": [
    "Note how applying the function __does not__ modify data. Instead a new array is returned. This is the same behavior as with scalars in other langguage and also in python."
   ]
  },
  {
   "cell_type": "code",
   "execution_count": 53,
   "metadata": {
    "scrolled": true
   },
   "outputs": [
    {
     "name": "stdout",
     "output_type": "stream",
     "text": [
      "[[  1   4   9  16]\n",
      " [ 25  36  49  64]\n",
      " [ 81 100 121 144]\n",
      " [169 196 225 256]]\n"
     ]
    }
   ],
   "source": [
    "data_sqr = data**2\n",
    "print(data_sqr)"
   ]
  },
  {
   "cell_type": "code",
   "execution_count": 54,
   "metadata": {
    "scrolled": true
   },
   "outputs": [],
   "source": [
    "\n",
    "data_2 = np.log(data_sqr) + np.sin( data*np.pi)"
   ]
  },
  {
   "cell_type": "code",
   "execution_count": 55,
   "metadata": {
    "scrolled": true
   },
   "outputs": [
    {
     "name": "stdout",
     "output_type": "stream",
     "text": [
      "[[ 1.  2.  3.  4.]\n",
      " [ 5.  6.  7.  8.]\n",
      " [ 9. 10. 11. 12.]\n",
      " [13. 14. 15. 16.]]\n"
     ]
    }
   ],
   "source": [
    "data_3 = np.sqrt( data_sqr )\n",
    "print(data_3)"
   ]
  },
  {
   "cell_type": "markdown",
   "metadata": {},
   "source": [
    "## Indexing and slicing"
   ]
  },
  {
   "cell_type": "code",
   "execution_count": 56,
   "metadata": {
    "scrolled": true
   },
   "outputs": [
    {
     "data": {
      "text/plain": [
       "array([[ 0,  1,  2,  3,  4],\n",
       "       [ 5,  6,  7,  8,  9],\n",
       "       [10, 11, 12, 13, 14],\n",
       "       [15, 16, 17, 18, 19]])"
      ]
     },
     "execution_count": 56,
     "metadata": {},
     "output_type": "execute_result"
    }
   ],
   "source": [
    "data= np.arange(20).reshape(4,5)\n",
    "data"
   ]
  },
  {
   "cell_type": "code",
   "execution_count": 57,
   "metadata": {},
   "outputs": [
    {
     "data": {
      "text/plain": [
       "(1, 1)"
      ]
     },
     "execution_count": 57,
     "metadata": {},
     "output_type": "execute_result"
    }
   ],
   "source": [
    "data[2:3,2:3].shape"
   ]
  },
  {
   "cell_type": "code",
   "execution_count": 58,
   "metadata": {},
   "outputs": [
    {
     "data": {
      "text/plain": [
       "(2, 2)"
      ]
     },
     "execution_count": 58,
     "metadata": {},
     "output_type": "execute_result"
    }
   ],
   "source": [
    "data[2:4,2:4].shape"
   ]
  },
  {
   "cell_type": "code",
   "execution_count": 59,
   "metadata": {},
   "outputs": [
    {
     "data": {
      "text/plain": [
       "array([[ 5,  6,  7,  8,  9],\n",
       "       [10, 11, 12, 13, 14],\n",
       "       [15, 16, 17, 18, 19]])"
      ]
     },
     "execution_count": 59,
     "metadata": {},
     "output_type": "execute_result"
    }
   ],
   "source": [
    "data[1:,:]"
   ]
  },
  {
   "cell_type": "code",
   "execution_count": 60,
   "metadata": {},
   "outputs": [
    {
     "data": {
      "text/plain": [
       "array([ 4,  9, 14, 19])"
      ]
     },
     "execution_count": 60,
     "metadata": {},
     "output_type": "execute_result"
    }
   ],
   "source": [
    "data[:,4]"
   ]
  },
  {
   "cell_type": "code",
   "execution_count": 61,
   "metadata": {},
   "outputs": [
    {
     "data": {
      "text/plain": [
       "array([[3, 4],\n",
       "       [8, 9]])"
      ]
     },
     "execution_count": 61,
     "metadata": {},
     "output_type": "execute_result"
    }
   ],
   "source": [
    "data[:2,3:7]"
   ]
  },
  {
   "cell_type": "markdown",
   "metadata": {},
   "source": [
    "**As with the lists, all operations return a refernce to the original array, unless you make a copy**"
   ]
  },
  {
   "cell_type": "code",
   "execution_count": 62,
   "metadata": {},
   "outputs": [
    {
     "name": "stdout",
     "output_type": "stream",
     "text": [
      "[[1 2]\n",
      " [6 7]]\n"
     ]
    }
   ],
   "source": [
    "x = data[:2,1:3]\n",
    "print(x)"
   ]
  },
  {
   "cell_type": "code",
   "execution_count": 63,
   "metadata": {},
   "outputs": [
    {
     "data": {
      "text/plain": [
       "array([1, 2])"
      ]
     },
     "execution_count": 63,
     "metadata": {},
     "output_type": "execute_result"
    }
   ],
   "source": [
    "x[0]"
   ]
  },
  {
   "cell_type": "code",
   "execution_count": 64,
   "metadata": {},
   "outputs": [
    {
     "data": {
      "text/plain": [
       "2"
      ]
     },
     "execution_count": 64,
     "metadata": {},
     "output_type": "execute_result"
    }
   ],
   "source": [
    "x[0][1]"
   ]
  },
  {
   "cell_type": "code",
   "execution_count": 65,
   "metadata": {},
   "outputs": [
    {
     "name": "stdout",
     "output_type": "stream",
     "text": [
      "[[ 1 -5]\n",
      " [ 6  7]]\n",
      "[[ 0  1 -5  3  4]\n",
      " [ 5  6  7  8  9]\n",
      " [10 11 12 13 14]\n",
      " [15 16 17 18 19]]\n"
     ]
    }
   ],
   "source": [
    "x[0][1] = -5.55\n",
    "print(x)\n",
    "print(data)"
   ]
  },
  {
   "cell_type": "markdown",
   "metadata": {},
   "source": [
    "So you have modified not just x, but also the original data array!"
   ]
  },
  {
   "cell_type": "code",
   "execution_count": 66,
   "metadata": {
    "scrolled": false
   },
   "outputs": [
    {
     "name": "stdout",
     "output_type": "stream",
     "text": [
      "[[ 0  1  2  3]\n",
      " [ 4  5  6  7]\n",
      " [ 8  9 10 11]\n",
      " [12 13 14 15]]\n"
     ]
    }
   ],
   "source": [
    "data= np.arange(16).reshape(4,4)\n",
    "print(data)"
   ]
  },
  {
   "cell_type": "markdown",
   "metadata": {},
   "source": [
    "If this is not what you want, then you have to create a new copy by calling the constructor"
   ]
  },
  {
   "cell_type": "code",
   "execution_count": 67,
   "metadata": {},
   "outputs": [
    {
     "name": "stdout",
     "output_type": "stream",
     "text": [
      "[0 1 2 3]\n"
     ]
    }
   ],
   "source": [
    "x = np.array( data[0])\n",
    "print(x)"
   ]
  },
  {
   "cell_type": "code",
   "execution_count": 68,
   "metadata": {},
   "outputs": [
    {
     "data": {
      "text/plain": [
       "array([1, 2])"
      ]
     },
     "execution_count": 68,
     "metadata": {},
     "output_type": "execute_result"
    }
   ],
   "source": [
    "x[1:3]"
   ]
  },
  {
   "cell_type": "code",
   "execution_count": 69,
   "metadata": {
    "scrolled": true
   },
   "outputs": [
    {
     "name": "stdout",
     "output_type": "stream",
     "text": [
      "[ 0 -2 -4  3]\n"
     ]
    }
   ],
   "source": [
    "x[1:3] = [ -2, -4]\n",
    "print(x)"
   ]
  },
  {
   "cell_type": "markdown",
   "metadata": {},
   "source": [
    "Although you have modified `x` `data` has not changed"
   ]
  },
  {
   "cell_type": "code",
   "execution_count": 70,
   "metadata": {
    "scrolled": true
   },
   "outputs": [
    {
     "name": "stdout",
     "output_type": "stream",
     "text": [
      "[[ 0  1  2  3]\n",
      " [ 4  5  6  7]\n",
      " [ 8  9 10 11]\n",
      " [12 13 14 15]]\n"
     ]
    }
   ],
   "source": [
    "print(data)"
   ]
  },
  {
   "cell_type": "markdown",
   "metadata": {},
   "source": [
    "## converting and casting\n",
    "When using `arange()` the array's type is integer."
   ]
  },
  {
   "cell_type": "code",
   "execution_count": 71,
   "metadata": {},
   "outputs": [
    {
     "data": {
      "text/plain": [
       "array([[ 0,  1,  2,  3,  4,  5,  6],\n",
       "       [ 7,  8,  9, 10, 11, 12, 13],\n",
       "       [14, 15, 16, 17, 18, 19, 20],\n",
       "       [21, 22, 23, 24, 25, 26, 27],\n",
       "       [28, 29, 30, 31, 32, 33, 34],\n",
       "       [35, 36, 37, 38, 39, 40, 41]])"
      ]
     },
     "execution_count": 71,
     "metadata": {},
     "output_type": "execute_result"
    }
   ],
   "source": [
    "data= np.arange(42).reshape(6,7)\n",
    "data"
   ]
  },
  {
   "cell_type": "code",
   "execution_count": 72,
   "metadata": {},
   "outputs": [
    {
     "name": "stdout",
     "output_type": "stream",
     "text": [
      "[14 15 16 17 18 19 20]\n"
     ]
    }
   ],
   "source": [
    "print(data[2])"
   ]
  },
  {
   "cell_type": "markdown",
   "metadata": {},
   "source": [
    "Sometimes you might want to change its type for floating point calculations"
   ]
  },
  {
   "cell_type": "code",
   "execution_count": 73,
   "metadata": {},
   "outputs": [
    {
     "data": {
      "text/plain": [
       "array([[ 0,  1,  2,  3,  4,  5,  6],\n",
       "       [ 7,  8,  9, 10, 11, 12, 13],\n",
       "       [-3, 15, 16, 17, 18, 19, 20],\n",
       "       [21, 22, 23, 24, 25, 26, 27],\n",
       "       [28, 29, 30, 31, 32, 33, 34],\n",
       "       [35, 36, 37, 38, 39, 40, 41]])"
      ]
     },
     "execution_count": 73,
     "metadata": {},
     "output_type": "execute_result"
    }
   ],
   "source": [
    "data[2][0] = -np.pi\n",
    "data"
   ]
  },
  {
   "cell_type": "code",
   "execution_count": 74,
   "metadata": {},
   "outputs": [
    {
     "name": "stdout",
     "output_type": "stream",
     "text": [
      "[[ 0.  1.  2.  3.  4.  5.  6.]\n",
      " [ 7.  8.  9. 10. 11. 12. 13.]\n",
      " [-3. 15. 16. 17. 18. 19. 20.]\n",
      " [21. 22. 23. 24. 25. 26. 27.]\n",
      " [28. 29. 30. 31. 32. 33. 34.]\n",
      " [35. 36. 37. 38. 39. 40. 41.]]\n"
     ]
    }
   ],
   "source": [
    "data_float = data.astype( np.float64)\n",
    "print(data_float)"
   ]
  },
  {
   "cell_type": "code",
   "execution_count": 75,
   "metadata": {},
   "outputs": [
    {
     "name": "stdout",
     "output_type": "stream",
     "text": [
      "[[ 0.    1.    2.    3.    4.    5.    6.  ]\n",
      " [ 7.    8.    9.   10.   11.   12.   13.  ]\n",
      " [-3.   15.   16.   17.   18.   19.   20.  ]\n",
      " [21.   22.   23.   24.   25.   26.   27.  ]\n",
      " [28.   29.   30.   31.   32.   -1.24 34.  ]\n",
      " [35.   36.   37.   38.   39.   40.   41.  ]]\n"
     ]
    }
   ],
   "source": [
    "data_float[4][5] = -1.24\n",
    "print(data_float)"
   ]
  },
  {
   "cell_type": "markdown",
   "metadata": {},
   "source": [
    "Note that `astype()` returned a copy of the array and our original array `data` has not been modified"
   ]
  },
  {
   "cell_type": "code",
   "execution_count": 76,
   "metadata": {},
   "outputs": [
    {
     "name": "stdout",
     "output_type": "stream",
     "text": [
      "[[ 0  1  2  3  4  5  6]\n",
      " [ 7  8  9 10 11 12 13]\n",
      " [-3 15 16 17 18 19 20]\n",
      " [21 22 23 24 25 26 27]\n",
      " [28 29 30 31 32 33 34]\n",
      " [35 36 37 38 39 40 41]]\n"
     ]
    }
   ],
   "source": [
    "print(data)"
   ]
  },
  {
   "cell_type": "markdown",
   "metadata": {},
   "source": [
    "## Boolean arrays\n",
    "As with all operations, also logical opertions are vectorised"
   ]
  },
  {
   "cell_type": "code",
   "execution_count": 77,
   "metadata": {
    "scrolled": true
   },
   "outputs": [
    {
     "name": "stdout",
     "output_type": "stream",
     "text": [
      "[[-1.35924959 -0.28377992 -0.0570748  -0.61547104  0.35250522]\n",
      " [ 3.50503984 -0.49463948  1.02902792 -0.64116142  0.45257088]\n",
      " [-1.01991676 -0.04712473 -1.27130945 -0.1337558  -1.37750922]\n",
      " [-1.09879624 -0.28509442  1.38109636 -0.88810374 -1.29487071]\n",
      " [-0.78475756  0.61264027  1.21977814  1.56705442  0.83333265]]\n"
     ]
    }
   ],
   "source": [
    "data = np.random.normal(0,1., 25).reshape(5,5)\n",
    "print(data)"
   ]
  },
  {
   "cell_type": "markdown",
   "metadata": {},
   "source": [
    "check if the elements satisfy a condition"
   ]
  },
  {
   "cell_type": "code",
   "execution_count": 78,
   "metadata": {
    "scrolled": true
   },
   "outputs": [
    {
     "name": "stdout",
     "output_type": "stream",
     "text": [
      "[[False False False False  True]\n",
      " [ True False  True False  True]\n",
      " [False False False False False]\n",
      " [False False  True False False]\n",
      " [False  True  True  True  True]]\n"
     ]
    }
   ],
   "source": [
    "print(data > 0)"
   ]
  },
  {
   "cell_type": "markdown",
   "metadata": {},
   "source": [
    "print only positive values"
   ]
  },
  {
   "cell_type": "code",
   "execution_count": 79,
   "metadata": {
    "scrolled": true
   },
   "outputs": [
    {
     "name": "stdout",
     "output_type": "stream",
     "text": [
      "[0.35250522 3.50503984 1.02902792 0.45257088 1.38109636 0.61264027\n",
      " 1.21977814 1.56705442 0.83333265]\n"
     ]
    }
   ],
   "source": [
    "posdata = data[data>0]\n",
    "print( posdata )"
   ]
  },
  {
   "cell_type": "markdown",
   "metadata": {},
   "source": [
    "however note that now it does not have the original shape"
   ]
  },
  {
   "cell_type": "code",
   "execution_count": 80,
   "metadata": {},
   "outputs": [
    {
     "name": "stdout",
     "output_type": "stream",
     "text": [
      "<class 'numpy.ndarray'>\n",
      "shape:  (9,)\n"
     ]
    }
   ],
   "source": [
    "print( type(posdata))\n",
    "print( \"shape: \", np.shape(posdata) )"
   ]
  },
  {
   "cell_type": "code",
   "execution_count": 81,
   "metadata": {
    "scrolled": true
   },
   "outputs": [
    {
     "name": "stdout",
     "output_type": "stream",
     "text": [
      "[ 0.68288359 -0.31130551 -0.31103257 -0.88184134  0.57312288 -0.41463266\n",
      "  0.14868275 -0.63097339 -0.45149956  0.02422838]\n"
     ]
    },
    {
     "data": {
      "text/plain": [
       "array([ True, False, False, False,  True, False,  True, False, False,\n",
       "        True])"
      ]
     },
     "execution_count": 81,
     "metadata": {},
     "output_type": "execute_result"
    }
   ],
   "source": [
    "data = np.random.normal(0,1., 10)\n",
    "print(data)\n",
    "data > 0."
   ]
  },
  {
   "cell_type": "markdown",
   "metadata": {},
   "source": [
    "Since booleans are converted automatically to 0 and 1, you can easy count tem by using the `sum` function"
   ]
  },
  {
   "cell_type": "code",
   "execution_count": 82,
   "metadata": {},
   "outputs": [
    {
     "data": {
      "text/plain": [
       "4"
      ]
     },
     "execution_count": 82,
     "metadata": {},
     "output_type": "execute_result"
    }
   ],
   "source": [
    "(data >0).sum()"
   ]
  },
  {
   "cell_type": "markdown",
   "metadata": {},
   "source": [
    "## slicing with booleans"
   ]
  },
  {
   "cell_type": "markdown",
   "metadata": {},
   "source": [
    "Logial arrays can be used to slice and index an array!\n",
    "\n",
    "In this case we want the array with just the positive cells"
   ]
  },
  {
   "cell_type": "code",
   "execution_count": 83,
   "metadata": {
    "scrolled": false
   },
   "outputs": [
    {
     "name": "stdout",
     "output_type": "stream",
     "text": [
      "<class 'numpy.ndarray'> (4,)\n"
     ]
    }
   ],
   "source": [
    "pos_vals = data[ data> 0. ]\n",
    "print(type(pos_vals), pos_vals.shape)"
   ]
  },
  {
   "cell_type": "code",
   "execution_count": 84,
   "metadata": {},
   "outputs": [
    {
     "data": {
      "text/plain": [
       "0.6828835863597719"
      ]
     },
     "execution_count": 84,
     "metadata": {},
     "output_type": "execute_result"
    }
   ],
   "source": [
    "pos_vals[0]"
   ]
  },
  {
   "cell_type": "code",
   "execution_count": 85,
   "metadata": {},
   "outputs": [],
   "source": [
    "pos_vals[0] = -1"
   ]
  },
  {
   "cell_type": "code",
   "execution_count": 86,
   "metadata": {},
   "outputs": [
    {
     "name": "stdout",
     "output_type": "stream",
     "text": [
      "[-1.          0.57312288  0.14868275  0.02422838]\n"
     ]
    }
   ],
   "source": [
    "print (pos_vals)"
   ]
  },
  {
   "cell_type": "code",
   "execution_count": 87,
   "metadata": {},
   "outputs": [
    {
     "name": "stdout",
     "output_type": "stream",
     "text": [
      "[ 0.68288359 -0.31130551 -0.31103257 -0.88184134  0.57312288 -0.41463266\n",
      "  0.14868275 -0.63097339 -0.45149956  0.02422838]\n"
     ]
    }
   ],
   "source": [
    "print(data)"
   ]
  },
  {
   "cell_type": "markdown",
   "metadata": {},
   "source": [
    "Note how slicing with boolean array, creates a new array and is not a reference to the original array"
   ]
  },
  {
   "cell_type": "markdown",
   "metadata": {},
   "source": [
    "## Example: computing tails of a  Gaussian "
   ]
  },
  {
   "cell_type": "code",
   "execution_count": 88,
   "metadata": {},
   "outputs": [
    {
     "name": "stdout",
     "output_type": "stream",
     "text": [
      "27038\n",
      "27038\n",
      "fraction of points beyond 3.0 sigma: 0.3 %\n",
      "fraction of points within 3.0 sigma: 99.7 %\n"
     ]
    }
   ],
   "source": [
    "mu =1.0\n",
    "sig = 0.2\n",
    "nsig = 3\n",
    "nvals = 10000000\n",
    "data = np.random.normal(mu,sig, nvals)\n",
    "print( (abs(data-mu)>nsig*sig).sum()   )\n",
    "tail = data[ abs(data-mu)>nsig*sig  ]\n",
    "print(len(tail))\n",
    "print(\"fraction of points beyond %.1f sigma: %.1f\"%(nsig,100*len(tail)/nvals),\"%\")\n",
    "print(\"fraction of points within %.1f sigma: %.1f\"%(nsig,100*(nvals-len(tail))/nvals),\"%\")"
   ]
  },
  {
   "cell_type": "markdown",
   "metadata": {},
   "source": [
    "# Random walks with ndarrays\n",
    "\n",
    "In this example we use ndarray to solve the classical problem of random walk\n",
    "\n",
    "The typical C like solution is"
   ]
  },
  {
   "cell_type": "code",
   "execution_count": 93,
   "metadata": {
    "scrolled": false
   },
   "outputs": [
    {
     "data": {
      "application/javascript": [
       "/* Put everything inside the global mpl namespace */\n",
       "window.mpl = {};\n",
       "\n",
       "\n",
       "mpl.get_websocket_type = function() {\n",
       "    if (typeof(WebSocket) !== 'undefined') {\n",
       "        return WebSocket;\n",
       "    } else if (typeof(MozWebSocket) !== 'undefined') {\n",
       "        return MozWebSocket;\n",
       "    } else {\n",
       "        alert('Your browser does not have WebSocket support. ' +\n",
       "              'Please try Chrome, Safari or Firefox ≥ 6. ' +\n",
       "              'Firefox 4 and 5 are also supported but you ' +\n",
       "              'have to enable WebSockets in about:config.');\n",
       "    };\n",
       "}\n",
       "\n",
       "mpl.figure = function(figure_id, websocket, ondownload, parent_element) {\n",
       "    this.id = figure_id;\n",
       "\n",
       "    this.ws = websocket;\n",
       "\n",
       "    this.supports_binary = (this.ws.binaryType != undefined);\n",
       "\n",
       "    if (!this.supports_binary) {\n",
       "        var warnings = document.getElementById(\"mpl-warnings\");\n",
       "        if (warnings) {\n",
       "            warnings.style.display = 'block';\n",
       "            warnings.textContent = (\n",
       "                \"This browser does not support binary websocket messages. \" +\n",
       "                    \"Performance may be slow.\");\n",
       "        }\n",
       "    }\n",
       "\n",
       "    this.imageObj = new Image();\n",
       "\n",
       "    this.context = undefined;\n",
       "    this.message = undefined;\n",
       "    this.canvas = undefined;\n",
       "    this.rubberband_canvas = undefined;\n",
       "    this.rubberband_context = undefined;\n",
       "    this.format_dropdown = undefined;\n",
       "\n",
       "    this.image_mode = 'full';\n",
       "\n",
       "    this.root = $('<div/>');\n",
       "    this._root_extra_style(this.root)\n",
       "    this.root.attr('style', 'display: inline-block');\n",
       "\n",
       "    $(parent_element).append(this.root);\n",
       "\n",
       "    this._init_header(this);\n",
       "    this._init_canvas(this);\n",
       "    this._init_toolbar(this);\n",
       "\n",
       "    var fig = this;\n",
       "\n",
       "    this.waiting = false;\n",
       "\n",
       "    this.ws.onopen =  function () {\n",
       "            fig.send_message(\"supports_binary\", {value: fig.supports_binary});\n",
       "            fig.send_message(\"send_image_mode\", {});\n",
       "            if (mpl.ratio != 1) {\n",
       "                fig.send_message(\"set_dpi_ratio\", {'dpi_ratio': mpl.ratio});\n",
       "            }\n",
       "            fig.send_message(\"refresh\", {});\n",
       "        }\n",
       "\n",
       "    this.imageObj.onload = function() {\n",
       "            if (fig.image_mode == 'full') {\n",
       "                // Full images could contain transparency (where diff images\n",
       "                // almost always do), so we need to clear the canvas so that\n",
       "                // there is no ghosting.\n",
       "                fig.context.clearRect(0, 0, fig.canvas.width, fig.canvas.height);\n",
       "            }\n",
       "            fig.context.drawImage(fig.imageObj, 0, 0);\n",
       "        };\n",
       "\n",
       "    this.imageObj.onunload = function() {\n",
       "        fig.ws.close();\n",
       "    }\n",
       "\n",
       "    this.ws.onmessage = this._make_on_message_function(this);\n",
       "\n",
       "    this.ondownload = ondownload;\n",
       "}\n",
       "\n",
       "mpl.figure.prototype._init_header = function() {\n",
       "    var titlebar = $(\n",
       "        '<div class=\"ui-dialog-titlebar ui-widget-header ui-corner-all ' +\n",
       "        'ui-helper-clearfix\"/>');\n",
       "    var titletext = $(\n",
       "        '<div class=\"ui-dialog-title\" style=\"width: 100%; ' +\n",
       "        'text-align: center; padding: 3px;\"/>');\n",
       "    titlebar.append(titletext)\n",
       "    this.root.append(titlebar);\n",
       "    this.header = titletext[0];\n",
       "}\n",
       "\n",
       "\n",
       "\n",
       "mpl.figure.prototype._canvas_extra_style = function(canvas_div) {\n",
       "\n",
       "}\n",
       "\n",
       "\n",
       "mpl.figure.prototype._root_extra_style = function(canvas_div) {\n",
       "\n",
       "}\n",
       "\n",
       "mpl.figure.prototype._init_canvas = function() {\n",
       "    var fig = this;\n",
       "\n",
       "    var canvas_div = $('<div/>');\n",
       "\n",
       "    canvas_div.attr('style', 'position: relative; clear: both; outline: 0');\n",
       "\n",
       "    function canvas_keyboard_event(event) {\n",
       "        return fig.key_event(event, event['data']);\n",
       "    }\n",
       "\n",
       "    canvas_div.keydown('key_press', canvas_keyboard_event);\n",
       "    canvas_div.keyup('key_release', canvas_keyboard_event);\n",
       "    this.canvas_div = canvas_div\n",
       "    this._canvas_extra_style(canvas_div)\n",
       "    this.root.append(canvas_div);\n",
       "\n",
       "    var canvas = $('<canvas/>');\n",
       "    canvas.addClass('mpl-canvas');\n",
       "    canvas.attr('style', \"left: 0; top: 0; z-index: 0; outline: 0\")\n",
       "\n",
       "    this.canvas = canvas[0];\n",
       "    this.context = canvas[0].getContext(\"2d\");\n",
       "\n",
       "    var backingStore = this.context.backingStorePixelRatio ||\n",
       "\tthis.context.webkitBackingStorePixelRatio ||\n",
       "\tthis.context.mozBackingStorePixelRatio ||\n",
       "\tthis.context.msBackingStorePixelRatio ||\n",
       "\tthis.context.oBackingStorePixelRatio ||\n",
       "\tthis.context.backingStorePixelRatio || 1;\n",
       "\n",
       "    mpl.ratio = (window.devicePixelRatio || 1) / backingStore;\n",
       "\n",
       "    var rubberband = $('<canvas/>');\n",
       "    rubberband.attr('style', \"position: absolute; left: 0; top: 0; z-index: 1;\")\n",
       "\n",
       "    var pass_mouse_events = true;\n",
       "\n",
       "    canvas_div.resizable({\n",
       "        start: function(event, ui) {\n",
       "            pass_mouse_events = false;\n",
       "        },\n",
       "        resize: function(event, ui) {\n",
       "            fig.request_resize(ui.size.width, ui.size.height);\n",
       "        },\n",
       "        stop: function(event, ui) {\n",
       "            pass_mouse_events = true;\n",
       "            fig.request_resize(ui.size.width, ui.size.height);\n",
       "        },\n",
       "    });\n",
       "\n",
       "    function mouse_event_fn(event) {\n",
       "        if (pass_mouse_events)\n",
       "            return fig.mouse_event(event, event['data']);\n",
       "    }\n",
       "\n",
       "    rubberband.mousedown('button_press', mouse_event_fn);\n",
       "    rubberband.mouseup('button_release', mouse_event_fn);\n",
       "    // Throttle sequential mouse events to 1 every 20ms.\n",
       "    rubberband.mousemove('motion_notify', mouse_event_fn);\n",
       "\n",
       "    rubberband.mouseenter('figure_enter', mouse_event_fn);\n",
       "    rubberband.mouseleave('figure_leave', mouse_event_fn);\n",
       "\n",
       "    canvas_div.on(\"wheel\", function (event) {\n",
       "        event = event.originalEvent;\n",
       "        event['data'] = 'scroll'\n",
       "        if (event.deltaY < 0) {\n",
       "            event.step = 1;\n",
       "        } else {\n",
       "            event.step = -1;\n",
       "        }\n",
       "        mouse_event_fn(event);\n",
       "    });\n",
       "\n",
       "    canvas_div.append(canvas);\n",
       "    canvas_div.append(rubberband);\n",
       "\n",
       "    this.rubberband = rubberband;\n",
       "    this.rubberband_canvas = rubberband[0];\n",
       "    this.rubberband_context = rubberband[0].getContext(\"2d\");\n",
       "    this.rubberband_context.strokeStyle = \"#000000\";\n",
       "\n",
       "    this._resize_canvas = function(width, height) {\n",
       "        // Keep the size of the canvas, canvas container, and rubber band\n",
       "        // canvas in synch.\n",
       "        canvas_div.css('width', width)\n",
       "        canvas_div.css('height', height)\n",
       "\n",
       "        canvas.attr('width', width * mpl.ratio);\n",
       "        canvas.attr('height', height * mpl.ratio);\n",
       "        canvas.attr('style', 'width: ' + width + 'px; height: ' + height + 'px;');\n",
       "\n",
       "        rubberband.attr('width', width);\n",
       "        rubberband.attr('height', height);\n",
       "    }\n",
       "\n",
       "    // Set the figure to an initial 600x600px, this will subsequently be updated\n",
       "    // upon first draw.\n",
       "    this._resize_canvas(600, 600);\n",
       "\n",
       "    // Disable right mouse context menu.\n",
       "    $(this.rubberband_canvas).bind(\"contextmenu\",function(e){\n",
       "        return false;\n",
       "    });\n",
       "\n",
       "    function set_focus () {\n",
       "        canvas.focus();\n",
       "        canvas_div.focus();\n",
       "    }\n",
       "\n",
       "    window.setTimeout(set_focus, 100);\n",
       "}\n",
       "\n",
       "mpl.figure.prototype._init_toolbar = function() {\n",
       "    var fig = this;\n",
       "\n",
       "    var nav_element = $('<div/>');\n",
       "    nav_element.attr('style', 'width: 100%');\n",
       "    this.root.append(nav_element);\n",
       "\n",
       "    // Define a callback function for later on.\n",
       "    function toolbar_event(event) {\n",
       "        return fig.toolbar_button_onclick(event['data']);\n",
       "    }\n",
       "    function toolbar_mouse_event(event) {\n",
       "        return fig.toolbar_button_onmouseover(event['data']);\n",
       "    }\n",
       "\n",
       "    for(var toolbar_ind in mpl.toolbar_items) {\n",
       "        var name = mpl.toolbar_items[toolbar_ind][0];\n",
       "        var tooltip = mpl.toolbar_items[toolbar_ind][1];\n",
       "        var image = mpl.toolbar_items[toolbar_ind][2];\n",
       "        var method_name = mpl.toolbar_items[toolbar_ind][3];\n",
       "\n",
       "        if (!name) {\n",
       "            // put a spacer in here.\n",
       "            continue;\n",
       "        }\n",
       "        var button = $('<button/>');\n",
       "        button.addClass('ui-button ui-widget ui-state-default ui-corner-all ' +\n",
       "                        'ui-button-icon-only');\n",
       "        button.attr('role', 'button');\n",
       "        button.attr('aria-disabled', 'false');\n",
       "        button.click(method_name, toolbar_event);\n",
       "        button.mouseover(tooltip, toolbar_mouse_event);\n",
       "\n",
       "        var icon_img = $('<span/>');\n",
       "        icon_img.addClass('ui-button-icon-primary ui-icon');\n",
       "        icon_img.addClass(image);\n",
       "        icon_img.addClass('ui-corner-all');\n",
       "\n",
       "        var tooltip_span = $('<span/>');\n",
       "        tooltip_span.addClass('ui-button-text');\n",
       "        tooltip_span.html(tooltip);\n",
       "\n",
       "        button.append(icon_img);\n",
       "        button.append(tooltip_span);\n",
       "\n",
       "        nav_element.append(button);\n",
       "    }\n",
       "\n",
       "    var fmt_picker_span = $('<span/>');\n",
       "\n",
       "    var fmt_picker = $('<select/>');\n",
       "    fmt_picker.addClass('mpl-toolbar-option ui-widget ui-widget-content');\n",
       "    fmt_picker_span.append(fmt_picker);\n",
       "    nav_element.append(fmt_picker_span);\n",
       "    this.format_dropdown = fmt_picker[0];\n",
       "\n",
       "    for (var ind in mpl.extensions) {\n",
       "        var fmt = mpl.extensions[ind];\n",
       "        var option = $(\n",
       "            '<option/>', {selected: fmt === mpl.default_extension}).html(fmt);\n",
       "        fmt_picker.append(option);\n",
       "    }\n",
       "\n",
       "    // Add hover states to the ui-buttons\n",
       "    $( \".ui-button\" ).hover(\n",
       "        function() { $(this).addClass(\"ui-state-hover\");},\n",
       "        function() { $(this).removeClass(\"ui-state-hover\");}\n",
       "    );\n",
       "\n",
       "    var status_bar = $('<span class=\"mpl-message\"/>');\n",
       "    nav_element.append(status_bar);\n",
       "    this.message = status_bar[0];\n",
       "}\n",
       "\n",
       "mpl.figure.prototype.request_resize = function(x_pixels, y_pixels) {\n",
       "    // Request matplotlib to resize the figure. Matplotlib will then trigger a resize in the client,\n",
       "    // which will in turn request a refresh of the image.\n",
       "    this.send_message('resize', {'width': x_pixels, 'height': y_pixels});\n",
       "}\n",
       "\n",
       "mpl.figure.prototype.send_message = function(type, properties) {\n",
       "    properties['type'] = type;\n",
       "    properties['figure_id'] = this.id;\n",
       "    this.ws.send(JSON.stringify(properties));\n",
       "}\n",
       "\n",
       "mpl.figure.prototype.send_draw_message = function() {\n",
       "    if (!this.waiting) {\n",
       "        this.waiting = true;\n",
       "        this.ws.send(JSON.stringify({type: \"draw\", figure_id: this.id}));\n",
       "    }\n",
       "}\n",
       "\n",
       "\n",
       "mpl.figure.prototype.handle_save = function(fig, msg) {\n",
       "    var format_dropdown = fig.format_dropdown;\n",
       "    var format = format_dropdown.options[format_dropdown.selectedIndex].value;\n",
       "    fig.ondownload(fig, format);\n",
       "}\n",
       "\n",
       "\n",
       "mpl.figure.prototype.handle_resize = function(fig, msg) {\n",
       "    var size = msg['size'];\n",
       "    if (size[0] != fig.canvas.width || size[1] != fig.canvas.height) {\n",
       "        fig._resize_canvas(size[0], size[1]);\n",
       "        fig.send_message(\"refresh\", {});\n",
       "    };\n",
       "}\n",
       "\n",
       "mpl.figure.prototype.handle_rubberband = function(fig, msg) {\n",
       "    var x0 = msg['x0'] / mpl.ratio;\n",
       "    var y0 = (fig.canvas.height - msg['y0']) / mpl.ratio;\n",
       "    var x1 = msg['x1'] / mpl.ratio;\n",
       "    var y1 = (fig.canvas.height - msg['y1']) / mpl.ratio;\n",
       "    x0 = Math.floor(x0) + 0.5;\n",
       "    y0 = Math.floor(y0) + 0.5;\n",
       "    x1 = Math.floor(x1) + 0.5;\n",
       "    y1 = Math.floor(y1) + 0.5;\n",
       "    var min_x = Math.min(x0, x1);\n",
       "    var min_y = Math.min(y0, y1);\n",
       "    var width = Math.abs(x1 - x0);\n",
       "    var height = Math.abs(y1 - y0);\n",
       "\n",
       "    fig.rubberband_context.clearRect(\n",
       "        0, 0, fig.canvas.width / mpl.ratio, fig.canvas.height / mpl.ratio);\n",
       "\n",
       "    fig.rubberband_context.strokeRect(min_x, min_y, width, height);\n",
       "}\n",
       "\n",
       "mpl.figure.prototype.handle_figure_label = function(fig, msg) {\n",
       "    // Updates the figure title.\n",
       "    fig.header.textContent = msg['label'];\n",
       "}\n",
       "\n",
       "mpl.figure.prototype.handle_cursor = function(fig, msg) {\n",
       "    var cursor = msg['cursor'];\n",
       "    switch(cursor)\n",
       "    {\n",
       "    case 0:\n",
       "        cursor = 'pointer';\n",
       "        break;\n",
       "    case 1:\n",
       "        cursor = 'default';\n",
       "        break;\n",
       "    case 2:\n",
       "        cursor = 'crosshair';\n",
       "        break;\n",
       "    case 3:\n",
       "        cursor = 'move';\n",
       "        break;\n",
       "    }\n",
       "    fig.rubberband_canvas.style.cursor = cursor;\n",
       "}\n",
       "\n",
       "mpl.figure.prototype.handle_message = function(fig, msg) {\n",
       "    fig.message.textContent = msg['message'];\n",
       "}\n",
       "\n",
       "mpl.figure.prototype.handle_draw = function(fig, msg) {\n",
       "    // Request the server to send over a new figure.\n",
       "    fig.send_draw_message();\n",
       "}\n",
       "\n",
       "mpl.figure.prototype.handle_image_mode = function(fig, msg) {\n",
       "    fig.image_mode = msg['mode'];\n",
       "}\n",
       "\n",
       "mpl.figure.prototype.updated_canvas_event = function() {\n",
       "    // Called whenever the canvas gets updated.\n",
       "    this.send_message(\"ack\", {});\n",
       "}\n",
       "\n",
       "// A function to construct a web socket function for onmessage handling.\n",
       "// Called in the figure constructor.\n",
       "mpl.figure.prototype._make_on_message_function = function(fig) {\n",
       "    return function socket_on_message(evt) {\n",
       "        if (evt.data instanceof Blob) {\n",
       "            /* FIXME: We get \"Resource interpreted as Image but\n",
       "             * transferred with MIME type text/plain:\" errors on\n",
       "             * Chrome.  But how to set the MIME type?  It doesn't seem\n",
       "             * to be part of the websocket stream */\n",
       "            evt.data.type = \"image/png\";\n",
       "\n",
       "            /* Free the memory for the previous frames */\n",
       "            if (fig.imageObj.src) {\n",
       "                (window.URL || window.webkitURL).revokeObjectURL(\n",
       "                    fig.imageObj.src);\n",
       "            }\n",
       "\n",
       "            fig.imageObj.src = (window.URL || window.webkitURL).createObjectURL(\n",
       "                evt.data);\n",
       "            fig.updated_canvas_event();\n",
       "            fig.waiting = false;\n",
       "            return;\n",
       "        }\n",
       "        else if (typeof evt.data === 'string' && evt.data.slice(0, 21) == \"data:image/png;base64\") {\n",
       "            fig.imageObj.src = evt.data;\n",
       "            fig.updated_canvas_event();\n",
       "            fig.waiting = false;\n",
       "            return;\n",
       "        }\n",
       "\n",
       "        var msg = JSON.parse(evt.data);\n",
       "        var msg_type = msg['type'];\n",
       "\n",
       "        // Call the  \"handle_{type}\" callback, which takes\n",
       "        // the figure and JSON message as its only arguments.\n",
       "        try {\n",
       "            var callback = fig[\"handle_\" + msg_type];\n",
       "        } catch (e) {\n",
       "            console.log(\"No handler for the '\" + msg_type + \"' message type: \", msg);\n",
       "            return;\n",
       "        }\n",
       "\n",
       "        if (callback) {\n",
       "            try {\n",
       "                // console.log(\"Handling '\" + msg_type + \"' message: \", msg);\n",
       "                callback(fig, msg);\n",
       "            } catch (e) {\n",
       "                console.log(\"Exception inside the 'handler_\" + msg_type + \"' callback:\", e, e.stack, msg);\n",
       "            }\n",
       "        }\n",
       "    };\n",
       "}\n",
       "\n",
       "// from http://stackoverflow.com/questions/1114465/getting-mouse-location-in-canvas\n",
       "mpl.findpos = function(e) {\n",
       "    //this section is from http://www.quirksmode.org/js/events_properties.html\n",
       "    var targ;\n",
       "    if (!e)\n",
       "        e = window.event;\n",
       "    if (e.target)\n",
       "        targ = e.target;\n",
       "    else if (e.srcElement)\n",
       "        targ = e.srcElement;\n",
       "    if (targ.nodeType == 3) // defeat Safari bug\n",
       "        targ = targ.parentNode;\n",
       "\n",
       "    // jQuery normalizes the pageX and pageY\n",
       "    // pageX,Y are the mouse positions relative to the document\n",
       "    // offset() returns the position of the element relative to the document\n",
       "    var x = e.pageX - $(targ).offset().left;\n",
       "    var y = e.pageY - $(targ).offset().top;\n",
       "\n",
       "    return {\"x\": x, \"y\": y};\n",
       "};\n",
       "\n",
       "/*\n",
       " * return a copy of an object with only non-object keys\n",
       " * we need this to avoid circular references\n",
       " * http://stackoverflow.com/a/24161582/3208463\n",
       " */\n",
       "function simpleKeys (original) {\n",
       "  return Object.keys(original).reduce(function (obj, key) {\n",
       "    if (typeof original[key] !== 'object')\n",
       "        obj[key] = original[key]\n",
       "    return obj;\n",
       "  }, {});\n",
       "}\n",
       "\n",
       "mpl.figure.prototype.mouse_event = function(event, name) {\n",
       "    var canvas_pos = mpl.findpos(event)\n",
       "\n",
       "    if (name === 'button_press')\n",
       "    {\n",
       "        this.canvas.focus();\n",
       "        this.canvas_div.focus();\n",
       "    }\n",
       "\n",
       "    var x = canvas_pos.x * mpl.ratio;\n",
       "    var y = canvas_pos.y * mpl.ratio;\n",
       "\n",
       "    this.send_message(name, {x: x, y: y, button: event.button,\n",
       "                             step: event.step,\n",
       "                             guiEvent: simpleKeys(event)});\n",
       "\n",
       "    /* This prevents the web browser from automatically changing to\n",
       "     * the text insertion cursor when the button is pressed.  We want\n",
       "     * to control all of the cursor setting manually through the\n",
       "     * 'cursor' event from matplotlib */\n",
       "    event.preventDefault();\n",
       "    return false;\n",
       "}\n",
       "\n",
       "mpl.figure.prototype._key_event_extra = function(event, name) {\n",
       "    // Handle any extra behaviour associated with a key event\n",
       "}\n",
       "\n",
       "mpl.figure.prototype.key_event = function(event, name) {\n",
       "\n",
       "    // Prevent repeat events\n",
       "    if (name == 'key_press')\n",
       "    {\n",
       "        if (event.which === this._key)\n",
       "            return;\n",
       "        else\n",
       "            this._key = event.which;\n",
       "    }\n",
       "    if (name == 'key_release')\n",
       "        this._key = null;\n",
       "\n",
       "    var value = '';\n",
       "    if (event.ctrlKey && event.which != 17)\n",
       "        value += \"ctrl+\";\n",
       "    if (event.altKey && event.which != 18)\n",
       "        value += \"alt+\";\n",
       "    if (event.shiftKey && event.which != 16)\n",
       "        value += \"shift+\";\n",
       "\n",
       "    value += 'k';\n",
       "    value += event.which.toString();\n",
       "\n",
       "    this._key_event_extra(event, name);\n",
       "\n",
       "    this.send_message(name, {key: value,\n",
       "                             guiEvent: simpleKeys(event)});\n",
       "    return false;\n",
       "}\n",
       "\n",
       "mpl.figure.prototype.toolbar_button_onclick = function(name) {\n",
       "    if (name == 'download') {\n",
       "        this.handle_save(this, null);\n",
       "    } else {\n",
       "        this.send_message(\"toolbar_button\", {name: name});\n",
       "    }\n",
       "};\n",
       "\n",
       "mpl.figure.prototype.toolbar_button_onmouseover = function(tooltip) {\n",
       "    this.message.textContent = tooltip;\n",
       "};\n",
       "mpl.toolbar_items = [[\"Home\", \"Reset original view\", \"fa fa-home icon-home\", \"home\"], [\"Back\", \"Back to previous view\", \"fa fa-arrow-left icon-arrow-left\", \"back\"], [\"Forward\", \"Forward to next view\", \"fa fa-arrow-right icon-arrow-right\", \"forward\"], [\"\", \"\", \"\", \"\"], [\"Pan\", \"Pan axes with left mouse, zoom with right\", \"fa fa-arrows icon-move\", \"pan\"], [\"Zoom\", \"Zoom to rectangle\", \"fa fa-square-o icon-check-empty\", \"zoom\"], [\"\", \"\", \"\", \"\"], [\"Download\", \"Download plot\", \"fa fa-floppy-o icon-save\", \"download\"]];\n",
       "\n",
       "mpl.extensions = [\"eps\", \"jpeg\", \"pdf\", \"png\", \"ps\", \"raw\", \"svg\", \"tif\"];\n",
       "\n",
       "mpl.default_extension = \"png\";var comm_websocket_adapter = function(comm) {\n",
       "    // Create a \"websocket\"-like object which calls the given IPython comm\n",
       "    // object with the appropriate methods. Currently this is a non binary\n",
       "    // socket, so there is still some room for performance tuning.\n",
       "    var ws = {};\n",
       "\n",
       "    ws.close = function() {\n",
       "        comm.close()\n",
       "    };\n",
       "    ws.send = function(m) {\n",
       "        //console.log('sending', m);\n",
       "        comm.send(m);\n",
       "    };\n",
       "    // Register the callback with on_msg.\n",
       "    comm.on_msg(function(msg) {\n",
       "        //console.log('receiving', msg['content']['data'], msg);\n",
       "        // Pass the mpl event to the overridden (by mpl) onmessage function.\n",
       "        ws.onmessage(msg['content']['data'])\n",
       "    });\n",
       "    return ws;\n",
       "}\n",
       "\n",
       "mpl.mpl_figure_comm = function(comm, msg) {\n",
       "    // This is the function which gets called when the mpl process\n",
       "    // starts-up an IPython Comm through the \"matplotlib\" channel.\n",
       "\n",
       "    var id = msg.content.data.id;\n",
       "    // Get hold of the div created by the display call when the Comm\n",
       "    // socket was opened in Python.\n",
       "    var element = $(\"#\" + id);\n",
       "    var ws_proxy = comm_websocket_adapter(comm)\n",
       "\n",
       "    function ondownload(figure, format) {\n",
       "        window.open(figure.imageObj.src);\n",
       "    }\n",
       "\n",
       "    var fig = new mpl.figure(id, ws_proxy,\n",
       "                           ondownload,\n",
       "                           element.get(0));\n",
       "\n",
       "    // Call onopen now - mpl needs it, as it is assuming we've passed it a real\n",
       "    // web socket which is closed, not our websocket->open comm proxy.\n",
       "    ws_proxy.onopen();\n",
       "\n",
       "    fig.parent_element = element.get(0);\n",
       "    fig.cell_info = mpl.find_output_cell(\"<div id='\" + id + \"'></div>\");\n",
       "    if (!fig.cell_info) {\n",
       "        console.error(\"Failed to find cell for figure\", id, fig);\n",
       "        return;\n",
       "    }\n",
       "\n",
       "    var output_index = fig.cell_info[2]\n",
       "    var cell = fig.cell_info[0];\n",
       "\n",
       "};\n",
       "\n",
       "mpl.figure.prototype.handle_close = function(fig, msg) {\n",
       "    var width = fig.canvas.width/mpl.ratio\n",
       "    fig.root.unbind('remove')\n",
       "\n",
       "    // Update the output cell to use the data from the current canvas.\n",
       "    fig.push_to_output();\n",
       "    var dataURL = fig.canvas.toDataURL();\n",
       "    // Re-enable the keyboard manager in IPython - without this line, in FF,\n",
       "    // the notebook keyboard shortcuts fail.\n",
       "    IPython.keyboard_manager.enable()\n",
       "    $(fig.parent_element).html('<img src=\"' + dataURL + '\" width=\"' + width + '\">');\n",
       "    fig.close_ws(fig, msg);\n",
       "}\n",
       "\n",
       "mpl.figure.prototype.close_ws = function(fig, msg){\n",
       "    fig.send_message('closing', msg);\n",
       "    // fig.ws.close()\n",
       "}\n",
       "\n",
       "mpl.figure.prototype.push_to_output = function(remove_interactive) {\n",
       "    // Turn the data on the canvas into data in the output cell.\n",
       "    var width = this.canvas.width/mpl.ratio\n",
       "    var dataURL = this.canvas.toDataURL();\n",
       "    this.cell_info[1]['text/html'] = '<img src=\"' + dataURL + '\" width=\"' + width + '\">';\n",
       "}\n",
       "\n",
       "mpl.figure.prototype.updated_canvas_event = function() {\n",
       "    // Tell IPython that the notebook contents must change.\n",
       "    IPython.notebook.set_dirty(true);\n",
       "    this.send_message(\"ack\", {});\n",
       "    var fig = this;\n",
       "    // Wait a second, then push the new image to the DOM so\n",
       "    // that it is saved nicely (might be nice to debounce this).\n",
       "    setTimeout(function () { fig.push_to_output() }, 1000);\n",
       "}\n",
       "\n",
       "mpl.figure.prototype._init_toolbar = function() {\n",
       "    var fig = this;\n",
       "\n",
       "    var nav_element = $('<div/>');\n",
       "    nav_element.attr('style', 'width: 100%');\n",
       "    this.root.append(nav_element);\n",
       "\n",
       "    // Define a callback function for later on.\n",
       "    function toolbar_event(event) {\n",
       "        return fig.toolbar_button_onclick(event['data']);\n",
       "    }\n",
       "    function toolbar_mouse_event(event) {\n",
       "        return fig.toolbar_button_onmouseover(event['data']);\n",
       "    }\n",
       "\n",
       "    for(var toolbar_ind in mpl.toolbar_items){\n",
       "        var name = mpl.toolbar_items[toolbar_ind][0];\n",
       "        var tooltip = mpl.toolbar_items[toolbar_ind][1];\n",
       "        var image = mpl.toolbar_items[toolbar_ind][2];\n",
       "        var method_name = mpl.toolbar_items[toolbar_ind][3];\n",
       "\n",
       "        if (!name) { continue; };\n",
       "\n",
       "        var button = $('<button class=\"btn btn-default\" href=\"#\" title=\"' + name + '\"><i class=\"fa ' + image + ' fa-lg\"></i></button>');\n",
       "        button.click(method_name, toolbar_event);\n",
       "        button.mouseover(tooltip, toolbar_mouse_event);\n",
       "        nav_element.append(button);\n",
       "    }\n",
       "\n",
       "    // Add the status bar.\n",
       "    var status_bar = $('<span class=\"mpl-message\" style=\"text-align:right; float: right;\"/>');\n",
       "    nav_element.append(status_bar);\n",
       "    this.message = status_bar[0];\n",
       "\n",
       "    // Add the close button to the window.\n",
       "    var buttongrp = $('<div class=\"btn-group inline pull-right\"></div>');\n",
       "    var button = $('<button class=\"btn btn-mini btn-primary\" href=\"#\" title=\"Stop Interaction\"><i class=\"fa fa-power-off icon-remove icon-large\"></i></button>');\n",
       "    button.click(function (evt) { fig.handle_close(fig, {}); } );\n",
       "    button.mouseover('Stop Interaction', toolbar_mouse_event);\n",
       "    buttongrp.append(button);\n",
       "    var titlebar = this.root.find($('.ui-dialog-titlebar'));\n",
       "    titlebar.prepend(buttongrp);\n",
       "}\n",
       "\n",
       "mpl.figure.prototype._root_extra_style = function(el){\n",
       "    var fig = this\n",
       "    el.on(\"remove\", function(){\n",
       "\tfig.close_ws(fig, {});\n",
       "    });\n",
       "}\n",
       "\n",
       "mpl.figure.prototype._canvas_extra_style = function(el){\n",
       "    // this is important to make the div 'focusable\n",
       "    el.attr('tabindex', 0)\n",
       "    // reach out to IPython and tell the keyboard manager to turn it's self\n",
       "    // off when our div gets focus\n",
       "\n",
       "    // location in version 3\n",
       "    if (IPython.notebook.keyboard_manager) {\n",
       "        IPython.notebook.keyboard_manager.register_events(el);\n",
       "    }\n",
       "    else {\n",
       "        // location in version 2\n",
       "        IPython.keyboard_manager.register_events(el);\n",
       "    }\n",
       "\n",
       "}\n",
       "\n",
       "mpl.figure.prototype._key_event_extra = function(event, name) {\n",
       "    var manager = IPython.notebook.keyboard_manager;\n",
       "    if (!manager)\n",
       "        manager = IPython.keyboard_manager;\n",
       "\n",
       "    // Check for shift+enter\n",
       "    if (event.shiftKey && event.which == 13) {\n",
       "        this.canvas_div.blur();\n",
       "        // select the cell after this one\n",
       "        var index = IPython.notebook.find_cell_index(this.cell_info[0]);\n",
       "        IPython.notebook.select(index + 1);\n",
       "    }\n",
       "}\n",
       "\n",
       "mpl.figure.prototype.handle_save = function(fig, msg) {\n",
       "    fig.ondownload(fig, null);\n",
       "}\n",
       "\n",
       "\n",
       "mpl.find_output_cell = function(html_output) {\n",
       "    // Return the cell and output element which can be found *uniquely* in the notebook.\n",
       "    // Note - this is a bit hacky, but it is done because the \"notebook_saving.Notebook\"\n",
       "    // IPython event is triggered only after the cells have been serialised, which for\n",
       "    // our purposes (turning an active figure into a static one), is too late.\n",
       "    var cells = IPython.notebook.get_cells();\n",
       "    var ncells = cells.length;\n",
       "    for (var i=0; i<ncells; i++) {\n",
       "        var cell = cells[i];\n",
       "        if (cell.cell_type === 'code'){\n",
       "            for (var j=0; j<cell.output_area.outputs.length; j++) {\n",
       "                var data = cell.output_area.outputs[j];\n",
       "                if (data.data) {\n",
       "                    // IPython >= 3 moved mimebundle to data attribute of output\n",
       "                    data = data.data;\n",
       "                }\n",
       "                if (data['text/html'] == html_output) {\n",
       "                    return [cell, data, j];\n",
       "                }\n",
       "            }\n",
       "        }\n",
       "    }\n",
       "}\n",
       "\n",
       "// Register the function which deals with the matplotlib target/channel.\n",
       "// The kernel may be null if the page has been refreshed.\n",
       "if (IPython.notebook.kernel != null) {\n",
       "    IPython.notebook.kernel.comm_manager.register_target('matplotlib', mpl.mpl_figure_comm);\n",
       "}\n"
      ],
      "text/plain": [
       "<IPython.core.display.Javascript object>"
      ]
     },
     "metadata": {},
     "output_type": "display_data"
    },
    {
     "data": {
      "text/html": [
       "<img src=\"data:image/png;base64,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\" width=\"640\">"
      ],
      "text/plain": [
       "<IPython.core.display.HTML object>"
      ]
     },
     "metadata": {},
     "output_type": "display_data"
    },
    {
     "data": {
      "text/plain": [
       "Text(0, 0.5, 'position')"
      ]
     },
     "execution_count": 93,
     "metadata": {},
     "output_type": "execute_result"
    }
   ],
   "source": [
    "%matplotlib notebook\n",
    "import numpy as np\n",
    "import matplotlib.pyplot as plt\n",
    "\n",
    "nstep = 10000\n",
    "\n",
    "x = 0\n",
    "position = [x] \n",
    "\n",
    "\n",
    "for i in range(nstep):\n",
    "    step = 1\n",
    "    if np.random.uniform(0.,1.) < 0.5: step = -1\n",
    "    x += step\n",
    "    position.append(x)    \n",
    "\n",
    "    \n",
    "plt.plot(position[:nstep])\n",
    "plt.grid()\n",
    "plt.xlabel('step')\n",
    "plt.ylabel('position')\n"
   ]
  },
  {
   "cell_type": "markdown",
   "metadata": {},
   "source": [
    "## Random walk with arrays\n",
    " We now note that the position of the walk is the cumulative sum of random numbers. we can use this to convert the problem to using arrays only"
   ]
  },
  {
   "cell_type": "code",
   "execution_count": 94,
   "metadata": {},
   "outputs": [],
   "source": [
    "\n",
    "import numpy as np\n",
    "import matplotlib.pyplot as plt\n",
    "\n",
    "nsteps = 10000"
   ]
  },
  {
   "cell_type": "markdown",
   "metadata": {},
   "source": [
    " - first we draw the random numbers for all `nsteps` at once, think of it as a coin"
   ]
  },
  {
   "cell_type": "code",
   "execution_count": 95,
   "metadata": {
    "scrolled": true
   },
   "outputs": [
    {
     "name": "stdout",
     "output_type": "stream",
     "text": [
      "[1 1 0 ... 0 1 0]\n",
      "0.5042\n",
      "0.4958\n"
     ]
    }
   ],
   "source": [
    "draws = np.random.randint(0,2, size=nsteps)\n",
    "print(draws)\n",
    "print ( (draws==1).sum()/nsteps )\n",
    "print( (draws<1).sum()/nsteps )"
   ]
  },
  {
   "cell_type": "markdown",
   "metadata": {},
   "source": [
    "Based on the drawn coins, we decide the steps, if positive or negative"
   ]
  },
  {
   "cell_type": "code",
   "execution_count": 96,
   "metadata": {},
   "outputs": [
    {
     "name": "stdout",
     "output_type": "stream",
     "text": [
      "[ 1  1 -1 ... -1  1 -1]\n"
     ]
    }
   ],
   "source": [
    "steps = np.where(draws>0, 1, -1)\n",
    "print(steps)"
   ]
  },
  {
   "cell_type": "markdown",
   "metadata": {},
   "source": [
    "- then we compute the cumulative sum of random numers"
   ]
  },
  {
   "cell_type": "code",
   "execution_count": 101,
   "metadata": {
    "scrolled": true
   },
   "outputs": [
    {
     "name": "stdout",
     "output_type": "stream",
     "text": [
      "[ 1  2  1 ... 84 85 84]\n",
      "84\n"
     ]
    }
   ],
   "source": [
    "walk = (steps).cumsum()\n",
    "print(walk)\n",
    "print(steps.sum())"
   ]
  },
  {
   "cell_type": "markdown",
   "metadata": {},
   "source": [
    "The cumulative sum on an array, sums all values in cells before a given position."
   ]
  },
  {
   "cell_type": "code",
   "execution_count": 109,
   "metadata": {},
   "outputs": [
    {
     "data": {
      "application/javascript": [
       "/* Put everything inside the global mpl namespace */\n",
       "window.mpl = {};\n",
       "\n",
       "\n",
       "mpl.get_websocket_type = function() {\n",
       "    if (typeof(WebSocket) !== 'undefined') {\n",
       "        return WebSocket;\n",
       "    } else if (typeof(MozWebSocket) !== 'undefined') {\n",
       "        return MozWebSocket;\n",
       "    } else {\n",
       "        alert('Your browser does not have WebSocket support. ' +\n",
       "              'Please try Chrome, Safari or Firefox ≥ 6. ' +\n",
       "              'Firefox 4 and 5 are also supported but you ' +\n",
       "              'have to enable WebSockets in about:config.');\n",
       "    };\n",
       "}\n",
       "\n",
       "mpl.figure = function(figure_id, websocket, ondownload, parent_element) {\n",
       "    this.id = figure_id;\n",
       "\n",
       "    this.ws = websocket;\n",
       "\n",
       "    this.supports_binary = (this.ws.binaryType != undefined);\n",
       "\n",
       "    if (!this.supports_binary) {\n",
       "        var warnings = document.getElementById(\"mpl-warnings\");\n",
       "        if (warnings) {\n",
       "            warnings.style.display = 'block';\n",
       "            warnings.textContent = (\n",
       "                \"This browser does not support binary websocket messages. \" +\n",
       "                    \"Performance may be slow.\");\n",
       "        }\n",
       "    }\n",
       "\n",
       "    this.imageObj = new Image();\n",
       "\n",
       "    this.context = undefined;\n",
       "    this.message = undefined;\n",
       "    this.canvas = undefined;\n",
       "    this.rubberband_canvas = undefined;\n",
       "    this.rubberband_context = undefined;\n",
       "    this.format_dropdown = undefined;\n",
       "\n",
       "    this.image_mode = 'full';\n",
       "\n",
       "    this.root = $('<div/>');\n",
       "    this._root_extra_style(this.root)\n",
       "    this.root.attr('style', 'display: inline-block');\n",
       "\n",
       "    $(parent_element).append(this.root);\n",
       "\n",
       "    this._init_header(this);\n",
       "    this._init_canvas(this);\n",
       "    this._init_toolbar(this);\n",
       "\n",
       "    var fig = this;\n",
       "\n",
       "    this.waiting = false;\n",
       "\n",
       "    this.ws.onopen =  function () {\n",
       "            fig.send_message(\"supports_binary\", {value: fig.supports_binary});\n",
       "            fig.send_message(\"send_image_mode\", {});\n",
       "            if (mpl.ratio != 1) {\n",
       "                fig.send_message(\"set_dpi_ratio\", {'dpi_ratio': mpl.ratio});\n",
       "            }\n",
       "            fig.send_message(\"refresh\", {});\n",
       "        }\n",
       "\n",
       "    this.imageObj.onload = function() {\n",
       "            if (fig.image_mode == 'full') {\n",
       "                // Full images could contain transparency (where diff images\n",
       "                // almost always do), so we need to clear the canvas so that\n",
       "                // there is no ghosting.\n",
       "                fig.context.clearRect(0, 0, fig.canvas.width, fig.canvas.height);\n",
       "            }\n",
       "            fig.context.drawImage(fig.imageObj, 0, 0);\n",
       "        };\n",
       "\n",
       "    this.imageObj.onunload = function() {\n",
       "        fig.ws.close();\n",
       "    }\n",
       "\n",
       "    this.ws.onmessage = this._make_on_message_function(this);\n",
       "\n",
       "    this.ondownload = ondownload;\n",
       "}\n",
       "\n",
       "mpl.figure.prototype._init_header = function() {\n",
       "    var titlebar = $(\n",
       "        '<div class=\"ui-dialog-titlebar ui-widget-header ui-corner-all ' +\n",
       "        'ui-helper-clearfix\"/>');\n",
       "    var titletext = $(\n",
       "        '<div class=\"ui-dialog-title\" style=\"width: 100%; ' +\n",
       "        'text-align: center; padding: 3px;\"/>');\n",
       "    titlebar.append(titletext)\n",
       "    this.root.append(titlebar);\n",
       "    this.header = titletext[0];\n",
       "}\n",
       "\n",
       "\n",
       "\n",
       "mpl.figure.prototype._canvas_extra_style = function(canvas_div) {\n",
       "\n",
       "}\n",
       "\n",
       "\n",
       "mpl.figure.prototype._root_extra_style = function(canvas_div) {\n",
       "\n",
       "}\n",
       "\n",
       "mpl.figure.prototype._init_canvas = function() {\n",
       "    var fig = this;\n",
       "\n",
       "    var canvas_div = $('<div/>');\n",
       "\n",
       "    canvas_div.attr('style', 'position: relative; clear: both; outline: 0');\n",
       "\n",
       "    function canvas_keyboard_event(event) {\n",
       "        return fig.key_event(event, event['data']);\n",
       "    }\n",
       "\n",
       "    canvas_div.keydown('key_press', canvas_keyboard_event);\n",
       "    canvas_div.keyup('key_release', canvas_keyboard_event);\n",
       "    this.canvas_div = canvas_div\n",
       "    this._canvas_extra_style(canvas_div)\n",
       "    this.root.append(canvas_div);\n",
       "\n",
       "    var canvas = $('<canvas/>');\n",
       "    canvas.addClass('mpl-canvas');\n",
       "    canvas.attr('style', \"left: 0; top: 0; z-index: 0; outline: 0\")\n",
       "\n",
       "    this.canvas = canvas[0];\n",
       "    this.context = canvas[0].getContext(\"2d\");\n",
       "\n",
       "    var backingStore = this.context.backingStorePixelRatio ||\n",
       "\tthis.context.webkitBackingStorePixelRatio ||\n",
       "\tthis.context.mozBackingStorePixelRatio ||\n",
       "\tthis.context.msBackingStorePixelRatio ||\n",
       "\tthis.context.oBackingStorePixelRatio ||\n",
       "\tthis.context.backingStorePixelRatio || 1;\n",
       "\n",
       "    mpl.ratio = (window.devicePixelRatio || 1) / backingStore;\n",
       "\n",
       "    var rubberband = $('<canvas/>');\n",
       "    rubberband.attr('style', \"position: absolute; left: 0; top: 0; z-index: 1;\")\n",
       "\n",
       "    var pass_mouse_events = true;\n",
       "\n",
       "    canvas_div.resizable({\n",
       "        start: function(event, ui) {\n",
       "            pass_mouse_events = false;\n",
       "        },\n",
       "        resize: function(event, ui) {\n",
       "            fig.request_resize(ui.size.width, ui.size.height);\n",
       "        },\n",
       "        stop: function(event, ui) {\n",
       "            pass_mouse_events = true;\n",
       "            fig.request_resize(ui.size.width, ui.size.height);\n",
       "        },\n",
       "    });\n",
       "\n",
       "    function mouse_event_fn(event) {\n",
       "        if (pass_mouse_events)\n",
       "            return fig.mouse_event(event, event['data']);\n",
       "    }\n",
       "\n",
       "    rubberband.mousedown('button_press', mouse_event_fn);\n",
       "    rubberband.mouseup('button_release', mouse_event_fn);\n",
       "    // Throttle sequential mouse events to 1 every 20ms.\n",
       "    rubberband.mousemove('motion_notify', mouse_event_fn);\n",
       "\n",
       "    rubberband.mouseenter('figure_enter', mouse_event_fn);\n",
       "    rubberband.mouseleave('figure_leave', mouse_event_fn);\n",
       "\n",
       "    canvas_div.on(\"wheel\", function (event) {\n",
       "        event = event.originalEvent;\n",
       "        event['data'] = 'scroll'\n",
       "        if (event.deltaY < 0) {\n",
       "            event.step = 1;\n",
       "        } else {\n",
       "            event.step = -1;\n",
       "        }\n",
       "        mouse_event_fn(event);\n",
       "    });\n",
       "\n",
       "    canvas_div.append(canvas);\n",
       "    canvas_div.append(rubberband);\n",
       "\n",
       "    this.rubberband = rubberband;\n",
       "    this.rubberband_canvas = rubberband[0];\n",
       "    this.rubberband_context = rubberband[0].getContext(\"2d\");\n",
       "    this.rubberband_context.strokeStyle = \"#000000\";\n",
       "\n",
       "    this._resize_canvas = function(width, height) {\n",
       "        // Keep the size of the canvas, canvas container, and rubber band\n",
       "        // canvas in synch.\n",
       "        canvas_div.css('width', width)\n",
       "        canvas_div.css('height', height)\n",
       "\n",
       "        canvas.attr('width', width * mpl.ratio);\n",
       "        canvas.attr('height', height * mpl.ratio);\n",
       "        canvas.attr('style', 'width: ' + width + 'px; height: ' + height + 'px;');\n",
       "\n",
       "        rubberband.attr('width', width);\n",
       "        rubberband.attr('height', height);\n",
       "    }\n",
       "\n",
       "    // Set the figure to an initial 600x600px, this will subsequently be updated\n",
       "    // upon first draw.\n",
       "    this._resize_canvas(600, 600);\n",
       "\n",
       "    // Disable right mouse context menu.\n",
       "    $(this.rubberband_canvas).bind(\"contextmenu\",function(e){\n",
       "        return false;\n",
       "    });\n",
       "\n",
       "    function set_focus () {\n",
       "        canvas.focus();\n",
       "        canvas_div.focus();\n",
       "    }\n",
       "\n",
       "    window.setTimeout(set_focus, 100);\n",
       "}\n",
       "\n",
       "mpl.figure.prototype._init_toolbar = function() {\n",
       "    var fig = this;\n",
       "\n",
       "    var nav_element = $('<div/>');\n",
       "    nav_element.attr('style', 'width: 100%');\n",
       "    this.root.append(nav_element);\n",
       "\n",
       "    // Define a callback function for later on.\n",
       "    function toolbar_event(event) {\n",
       "        return fig.toolbar_button_onclick(event['data']);\n",
       "    }\n",
       "    function toolbar_mouse_event(event) {\n",
       "        return fig.toolbar_button_onmouseover(event['data']);\n",
       "    }\n",
       "\n",
       "    for(var toolbar_ind in mpl.toolbar_items) {\n",
       "        var name = mpl.toolbar_items[toolbar_ind][0];\n",
       "        var tooltip = mpl.toolbar_items[toolbar_ind][1];\n",
       "        var image = mpl.toolbar_items[toolbar_ind][2];\n",
       "        var method_name = mpl.toolbar_items[toolbar_ind][3];\n",
       "\n",
       "        if (!name) {\n",
       "            // put a spacer in here.\n",
       "            continue;\n",
       "        }\n",
       "        var button = $('<button/>');\n",
       "        button.addClass('ui-button ui-widget ui-state-default ui-corner-all ' +\n",
       "                        'ui-button-icon-only');\n",
       "        button.attr('role', 'button');\n",
       "        button.attr('aria-disabled', 'false');\n",
       "        button.click(method_name, toolbar_event);\n",
       "        button.mouseover(tooltip, toolbar_mouse_event);\n",
       "\n",
       "        var icon_img = $('<span/>');\n",
       "        icon_img.addClass('ui-button-icon-primary ui-icon');\n",
       "        icon_img.addClass(image);\n",
       "        icon_img.addClass('ui-corner-all');\n",
       "\n",
       "        var tooltip_span = $('<span/>');\n",
       "        tooltip_span.addClass('ui-button-text');\n",
       "        tooltip_span.html(tooltip);\n",
       "\n",
       "        button.append(icon_img);\n",
       "        button.append(tooltip_span);\n",
       "\n",
       "        nav_element.append(button);\n",
       "    }\n",
       "\n",
       "    var fmt_picker_span = $('<span/>');\n",
       "\n",
       "    var fmt_picker = $('<select/>');\n",
       "    fmt_picker.addClass('mpl-toolbar-option ui-widget ui-widget-content');\n",
       "    fmt_picker_span.append(fmt_picker);\n",
       "    nav_element.append(fmt_picker_span);\n",
       "    this.format_dropdown = fmt_picker[0];\n",
       "\n",
       "    for (var ind in mpl.extensions) {\n",
       "        var fmt = mpl.extensions[ind];\n",
       "        var option = $(\n",
       "            '<option/>', {selected: fmt === mpl.default_extension}).html(fmt);\n",
       "        fmt_picker.append(option);\n",
       "    }\n",
       "\n",
       "    // Add hover states to the ui-buttons\n",
       "    $( \".ui-button\" ).hover(\n",
       "        function() { $(this).addClass(\"ui-state-hover\");},\n",
       "        function() { $(this).removeClass(\"ui-state-hover\");}\n",
       "    );\n",
       "\n",
       "    var status_bar = $('<span class=\"mpl-message\"/>');\n",
       "    nav_element.append(status_bar);\n",
       "    this.message = status_bar[0];\n",
       "}\n",
       "\n",
       "mpl.figure.prototype.request_resize = function(x_pixels, y_pixels) {\n",
       "    // Request matplotlib to resize the figure. Matplotlib will then trigger a resize in the client,\n",
       "    // which will in turn request a refresh of the image.\n",
       "    this.send_message('resize', {'width': x_pixels, 'height': y_pixels});\n",
       "}\n",
       "\n",
       "mpl.figure.prototype.send_message = function(type, properties) {\n",
       "    properties['type'] = type;\n",
       "    properties['figure_id'] = this.id;\n",
       "    this.ws.send(JSON.stringify(properties));\n",
       "}\n",
       "\n",
       "mpl.figure.prototype.send_draw_message = function() {\n",
       "    if (!this.waiting) {\n",
       "        this.waiting = true;\n",
       "        this.ws.send(JSON.stringify({type: \"draw\", figure_id: this.id}));\n",
       "    }\n",
       "}\n",
       "\n",
       "\n",
       "mpl.figure.prototype.handle_save = function(fig, msg) {\n",
       "    var format_dropdown = fig.format_dropdown;\n",
       "    var format = format_dropdown.options[format_dropdown.selectedIndex].value;\n",
       "    fig.ondownload(fig, format);\n",
       "}\n",
       "\n",
       "\n",
       "mpl.figure.prototype.handle_resize = function(fig, msg) {\n",
       "    var size = msg['size'];\n",
       "    if (size[0] != fig.canvas.width || size[1] != fig.canvas.height) {\n",
       "        fig._resize_canvas(size[0], size[1]);\n",
       "        fig.send_message(\"refresh\", {});\n",
       "    };\n",
       "}\n",
       "\n",
       "mpl.figure.prototype.handle_rubberband = function(fig, msg) {\n",
       "    var x0 = msg['x0'] / mpl.ratio;\n",
       "    var y0 = (fig.canvas.height - msg['y0']) / mpl.ratio;\n",
       "    var x1 = msg['x1'] / mpl.ratio;\n",
       "    var y1 = (fig.canvas.height - msg['y1']) / mpl.ratio;\n",
       "    x0 = Math.floor(x0) + 0.5;\n",
       "    y0 = Math.floor(y0) + 0.5;\n",
       "    x1 = Math.floor(x1) + 0.5;\n",
       "    y1 = Math.floor(y1) + 0.5;\n",
       "    var min_x = Math.min(x0, x1);\n",
       "    var min_y = Math.min(y0, y1);\n",
       "    var width = Math.abs(x1 - x0);\n",
       "    var height = Math.abs(y1 - y0);\n",
       "\n",
       "    fig.rubberband_context.clearRect(\n",
       "        0, 0, fig.canvas.width / mpl.ratio, fig.canvas.height / mpl.ratio);\n",
       "\n",
       "    fig.rubberband_context.strokeRect(min_x, min_y, width, height);\n",
       "}\n",
       "\n",
       "mpl.figure.prototype.handle_figure_label = function(fig, msg) {\n",
       "    // Updates the figure title.\n",
       "    fig.header.textContent = msg['label'];\n",
       "}\n",
       "\n",
       "mpl.figure.prototype.handle_cursor = function(fig, msg) {\n",
       "    var cursor = msg['cursor'];\n",
       "    switch(cursor)\n",
       "    {\n",
       "    case 0:\n",
       "        cursor = 'pointer';\n",
       "        break;\n",
       "    case 1:\n",
       "        cursor = 'default';\n",
       "        break;\n",
       "    case 2:\n",
       "        cursor = 'crosshair';\n",
       "        break;\n",
       "    case 3:\n",
       "        cursor = 'move';\n",
       "        break;\n",
       "    }\n",
       "    fig.rubberband_canvas.style.cursor = cursor;\n",
       "}\n",
       "\n",
       "mpl.figure.prototype.handle_message = function(fig, msg) {\n",
       "    fig.message.textContent = msg['message'];\n",
       "}\n",
       "\n",
       "mpl.figure.prototype.handle_draw = function(fig, msg) {\n",
       "    // Request the server to send over a new figure.\n",
       "    fig.send_draw_message();\n",
       "}\n",
       "\n",
       "mpl.figure.prototype.handle_image_mode = function(fig, msg) {\n",
       "    fig.image_mode = msg['mode'];\n",
       "}\n",
       "\n",
       "mpl.figure.prototype.updated_canvas_event = function() {\n",
       "    // Called whenever the canvas gets updated.\n",
       "    this.send_message(\"ack\", {});\n",
       "}\n",
       "\n",
       "// A function to construct a web socket function for onmessage handling.\n",
       "// Called in the figure constructor.\n",
       "mpl.figure.prototype._make_on_message_function = function(fig) {\n",
       "    return function socket_on_message(evt) {\n",
       "        if (evt.data instanceof Blob) {\n",
       "            /* FIXME: We get \"Resource interpreted as Image but\n",
       "             * transferred with MIME type text/plain:\" errors on\n",
       "             * Chrome.  But how to set the MIME type?  It doesn't seem\n",
       "             * to be part of the websocket stream */\n",
       "            evt.data.type = \"image/png\";\n",
       "\n",
       "            /* Free the memory for the previous frames */\n",
       "            if (fig.imageObj.src) {\n",
       "                (window.URL || window.webkitURL).revokeObjectURL(\n",
       "                    fig.imageObj.src);\n",
       "            }\n",
       "\n",
       "            fig.imageObj.src = (window.URL || window.webkitURL).createObjectURL(\n",
       "                evt.data);\n",
       "            fig.updated_canvas_event();\n",
       "            fig.waiting = false;\n",
       "            return;\n",
       "        }\n",
       "        else if (typeof evt.data === 'string' && evt.data.slice(0, 21) == \"data:image/png;base64\") {\n",
       "            fig.imageObj.src = evt.data;\n",
       "            fig.updated_canvas_event();\n",
       "            fig.waiting = false;\n",
       "            return;\n",
       "        }\n",
       "\n",
       "        var msg = JSON.parse(evt.data);\n",
       "        var msg_type = msg['type'];\n",
       "\n",
       "        // Call the  \"handle_{type}\" callback, which takes\n",
       "        // the figure and JSON message as its only arguments.\n",
       "        try {\n",
       "            var callback = fig[\"handle_\" + msg_type];\n",
       "        } catch (e) {\n",
       "            console.log(\"No handler for the '\" + msg_type + \"' message type: \", msg);\n",
       "            return;\n",
       "        }\n",
       "\n",
       "        if (callback) {\n",
       "            try {\n",
       "                // console.log(\"Handling '\" + msg_type + \"' message: \", msg);\n",
       "                callback(fig, msg);\n",
       "            } catch (e) {\n",
       "                console.log(\"Exception inside the 'handler_\" + msg_type + \"' callback:\", e, e.stack, msg);\n",
       "            }\n",
       "        }\n",
       "    };\n",
       "}\n",
       "\n",
       "// from http://stackoverflow.com/questions/1114465/getting-mouse-location-in-canvas\n",
       "mpl.findpos = function(e) {\n",
       "    //this section is from http://www.quirksmode.org/js/events_properties.html\n",
       "    var targ;\n",
       "    if (!e)\n",
       "        e = window.event;\n",
       "    if (e.target)\n",
       "        targ = e.target;\n",
       "    else if (e.srcElement)\n",
       "        targ = e.srcElement;\n",
       "    if (targ.nodeType == 3) // defeat Safari bug\n",
       "        targ = targ.parentNode;\n",
       "\n",
       "    // jQuery normalizes the pageX and pageY\n",
       "    // pageX,Y are the mouse positions relative to the document\n",
       "    // offset() returns the position of the element relative to the document\n",
       "    var x = e.pageX - $(targ).offset().left;\n",
       "    var y = e.pageY - $(targ).offset().top;\n",
       "\n",
       "    return {\"x\": x, \"y\": y};\n",
       "};\n",
       "\n",
       "/*\n",
       " * return a copy of an object with only non-object keys\n",
       " * we need this to avoid circular references\n",
       " * http://stackoverflow.com/a/24161582/3208463\n",
       " */\n",
       "function simpleKeys (original) {\n",
       "  return Object.keys(original).reduce(function (obj, key) {\n",
       "    if (typeof original[key] !== 'object')\n",
       "        obj[key] = original[key]\n",
       "    return obj;\n",
       "  }, {});\n",
       "}\n",
       "\n",
       "mpl.figure.prototype.mouse_event = function(event, name) {\n",
       "    var canvas_pos = mpl.findpos(event)\n",
       "\n",
       "    if (name === 'button_press')\n",
       "    {\n",
       "        this.canvas.focus();\n",
       "        this.canvas_div.focus();\n",
       "    }\n",
       "\n",
       "    var x = canvas_pos.x * mpl.ratio;\n",
       "    var y = canvas_pos.y * mpl.ratio;\n",
       "\n",
       "    this.send_message(name, {x: x, y: y, button: event.button,\n",
       "                             step: event.step,\n",
       "                             guiEvent: simpleKeys(event)});\n",
       "\n",
       "    /* This prevents the web browser from automatically changing to\n",
       "     * the text insertion cursor when the button is pressed.  We want\n",
       "     * to control all of the cursor setting manually through the\n",
       "     * 'cursor' event from matplotlib */\n",
       "    event.preventDefault();\n",
       "    return false;\n",
       "}\n",
       "\n",
       "mpl.figure.prototype._key_event_extra = function(event, name) {\n",
       "    // Handle any extra behaviour associated with a key event\n",
       "}\n",
       "\n",
       "mpl.figure.prototype.key_event = function(event, name) {\n",
       "\n",
       "    // Prevent repeat events\n",
       "    if (name == 'key_press')\n",
       "    {\n",
       "        if (event.which === this._key)\n",
       "            return;\n",
       "        else\n",
       "            this._key = event.which;\n",
       "    }\n",
       "    if (name == 'key_release')\n",
       "        this._key = null;\n",
       "\n",
       "    var value = '';\n",
       "    if (event.ctrlKey && event.which != 17)\n",
       "        value += \"ctrl+\";\n",
       "    if (event.altKey && event.which != 18)\n",
       "        value += \"alt+\";\n",
       "    if (event.shiftKey && event.which != 16)\n",
       "        value += \"shift+\";\n",
       "\n",
       "    value += 'k';\n",
       "    value += event.which.toString();\n",
       "\n",
       "    this._key_event_extra(event, name);\n",
       "\n",
       "    this.send_message(name, {key: value,\n",
       "                             guiEvent: simpleKeys(event)});\n",
       "    return false;\n",
       "}\n",
       "\n",
       "mpl.figure.prototype.toolbar_button_onclick = function(name) {\n",
       "    if (name == 'download') {\n",
       "        this.handle_save(this, null);\n",
       "    } else {\n",
       "        this.send_message(\"toolbar_button\", {name: name});\n",
       "    }\n",
       "};\n",
       "\n",
       "mpl.figure.prototype.toolbar_button_onmouseover = function(tooltip) {\n",
       "    this.message.textContent = tooltip;\n",
       "};\n",
       "mpl.toolbar_items = [[\"Home\", \"Reset original view\", \"fa fa-home icon-home\", \"home\"], [\"Back\", \"Back to previous view\", \"fa fa-arrow-left icon-arrow-left\", \"back\"], [\"Forward\", \"Forward to next view\", \"fa fa-arrow-right icon-arrow-right\", \"forward\"], [\"\", \"\", \"\", \"\"], [\"Pan\", \"Pan axes with left mouse, zoom with right\", \"fa fa-arrows icon-move\", \"pan\"], [\"Zoom\", \"Zoom to rectangle\", \"fa fa-square-o icon-check-empty\", \"zoom\"], [\"\", \"\", \"\", \"\"], [\"Download\", \"Download plot\", \"fa fa-floppy-o icon-save\", \"download\"]];\n",
       "\n",
       "mpl.extensions = [\"eps\", \"jpeg\", \"pdf\", \"png\", \"ps\", \"raw\", \"svg\", \"tif\"];\n",
       "\n",
       "mpl.default_extension = \"png\";var comm_websocket_adapter = function(comm) {\n",
       "    // Create a \"websocket\"-like object which calls the given IPython comm\n",
       "    // object with the appropriate methods. Currently this is a non binary\n",
       "    // socket, so there is still some room for performance tuning.\n",
       "    var ws = {};\n",
       "\n",
       "    ws.close = function() {\n",
       "        comm.close()\n",
       "    };\n",
       "    ws.send = function(m) {\n",
       "        //console.log('sending', m);\n",
       "        comm.send(m);\n",
       "    };\n",
       "    // Register the callback with on_msg.\n",
       "    comm.on_msg(function(msg) {\n",
       "        //console.log('receiving', msg['content']['data'], msg);\n",
       "        // Pass the mpl event to the overridden (by mpl) onmessage function.\n",
       "        ws.onmessage(msg['content']['data'])\n",
       "    });\n",
       "    return ws;\n",
       "}\n",
       "\n",
       "mpl.mpl_figure_comm = function(comm, msg) {\n",
       "    // This is the function which gets called when the mpl process\n",
       "    // starts-up an IPython Comm through the \"matplotlib\" channel.\n",
       "\n",
       "    var id = msg.content.data.id;\n",
       "    // Get hold of the div created by the display call when the Comm\n",
       "    // socket was opened in Python.\n",
       "    var element = $(\"#\" + id);\n",
       "    var ws_proxy = comm_websocket_adapter(comm)\n",
       "\n",
       "    function ondownload(figure, format) {\n",
       "        window.open(figure.imageObj.src);\n",
       "    }\n",
       "\n",
       "    var fig = new mpl.figure(id, ws_proxy,\n",
       "                           ondownload,\n",
       "                           element.get(0));\n",
       "\n",
       "    // Call onopen now - mpl needs it, as it is assuming we've passed it a real\n",
       "    // web socket which is closed, not our websocket->open comm proxy.\n",
       "    ws_proxy.onopen();\n",
       "\n",
       "    fig.parent_element = element.get(0);\n",
       "    fig.cell_info = mpl.find_output_cell(\"<div id='\" + id + \"'></div>\");\n",
       "    if (!fig.cell_info) {\n",
       "        console.error(\"Failed to find cell for figure\", id, fig);\n",
       "        return;\n",
       "    }\n",
       "\n",
       "    var output_index = fig.cell_info[2]\n",
       "    var cell = fig.cell_info[0];\n",
       "\n",
       "};\n",
       "\n",
       "mpl.figure.prototype.handle_close = function(fig, msg) {\n",
       "    var width = fig.canvas.width/mpl.ratio\n",
       "    fig.root.unbind('remove')\n",
       "\n",
       "    // Update the output cell to use the data from the current canvas.\n",
       "    fig.push_to_output();\n",
       "    var dataURL = fig.canvas.toDataURL();\n",
       "    // Re-enable the keyboard manager in IPython - without this line, in FF,\n",
       "    // the notebook keyboard shortcuts fail.\n",
       "    IPython.keyboard_manager.enable()\n",
       "    $(fig.parent_element).html('<img src=\"' + dataURL + '\" width=\"' + width + '\">');\n",
       "    fig.close_ws(fig, msg);\n",
       "}\n",
       "\n",
       "mpl.figure.prototype.close_ws = function(fig, msg){\n",
       "    fig.send_message('closing', msg);\n",
       "    // fig.ws.close()\n",
       "}\n",
       "\n",
       "mpl.figure.prototype.push_to_output = function(remove_interactive) {\n",
       "    // Turn the data on the canvas into data in the output cell.\n",
       "    var width = this.canvas.width/mpl.ratio\n",
       "    var dataURL = this.canvas.toDataURL();\n",
       "    this.cell_info[1]['text/html'] = '<img src=\"' + dataURL + '\" width=\"' + width + '\">';\n",
       "}\n",
       "\n",
       "mpl.figure.prototype.updated_canvas_event = function() {\n",
       "    // Tell IPython that the notebook contents must change.\n",
       "    IPython.notebook.set_dirty(true);\n",
       "    this.send_message(\"ack\", {});\n",
       "    var fig = this;\n",
       "    // Wait a second, then push the new image to the DOM so\n",
       "    // that it is saved nicely (might be nice to debounce this).\n",
       "    setTimeout(function () { fig.push_to_output() }, 1000);\n",
       "}\n",
       "\n",
       "mpl.figure.prototype._init_toolbar = function() {\n",
       "    var fig = this;\n",
       "\n",
       "    var nav_element = $('<div/>');\n",
       "    nav_element.attr('style', 'width: 100%');\n",
       "    this.root.append(nav_element);\n",
       "\n",
       "    // Define a callback function for later on.\n",
       "    function toolbar_event(event) {\n",
       "        return fig.toolbar_button_onclick(event['data']);\n",
       "    }\n",
       "    function toolbar_mouse_event(event) {\n",
       "        return fig.toolbar_button_onmouseover(event['data']);\n",
       "    }\n",
       "\n",
       "    for(var toolbar_ind in mpl.toolbar_items){\n",
       "        var name = mpl.toolbar_items[toolbar_ind][0];\n",
       "        var tooltip = mpl.toolbar_items[toolbar_ind][1];\n",
       "        var image = mpl.toolbar_items[toolbar_ind][2];\n",
       "        var method_name = mpl.toolbar_items[toolbar_ind][3];\n",
       "\n",
       "        if (!name) { continue; };\n",
       "\n",
       "        var button = $('<button class=\"btn btn-default\" href=\"#\" title=\"' + name + '\"><i class=\"fa ' + image + ' fa-lg\"></i></button>');\n",
       "        button.click(method_name, toolbar_event);\n",
       "        button.mouseover(tooltip, toolbar_mouse_event);\n",
       "        nav_element.append(button);\n",
       "    }\n",
       "\n",
       "    // Add the status bar.\n",
       "    var status_bar = $('<span class=\"mpl-message\" style=\"text-align:right; float: right;\"/>');\n",
       "    nav_element.append(status_bar);\n",
       "    this.message = status_bar[0];\n",
       "\n",
       "    // Add the close button to the window.\n",
       "    var buttongrp = $('<div class=\"btn-group inline pull-right\"></div>');\n",
       "    var button = $('<button class=\"btn btn-mini btn-primary\" href=\"#\" title=\"Stop Interaction\"><i class=\"fa fa-power-off icon-remove icon-large\"></i></button>');\n",
       "    button.click(function (evt) { fig.handle_close(fig, {}); } );\n",
       "    button.mouseover('Stop Interaction', toolbar_mouse_event);\n",
       "    buttongrp.append(button);\n",
       "    var titlebar = this.root.find($('.ui-dialog-titlebar'));\n",
       "    titlebar.prepend(buttongrp);\n",
       "}\n",
       "\n",
       "mpl.figure.prototype._root_extra_style = function(el){\n",
       "    var fig = this\n",
       "    el.on(\"remove\", function(){\n",
       "\tfig.close_ws(fig, {});\n",
       "    });\n",
       "}\n",
       "\n",
       "mpl.figure.prototype._canvas_extra_style = function(el){\n",
       "    // this is important to make the div 'focusable\n",
       "    el.attr('tabindex', 0)\n",
       "    // reach out to IPython and tell the keyboard manager to turn it's self\n",
       "    // off when our div gets focus\n",
       "\n",
       "    // location in version 3\n",
       "    if (IPython.notebook.keyboard_manager) {\n",
       "        IPython.notebook.keyboard_manager.register_events(el);\n",
       "    }\n",
       "    else {\n",
       "        // location in version 2\n",
       "        IPython.keyboard_manager.register_events(el);\n",
       "    }\n",
       "\n",
       "}\n",
       "\n",
       "mpl.figure.prototype._key_event_extra = function(event, name) {\n",
       "    var manager = IPython.notebook.keyboard_manager;\n",
       "    if (!manager)\n",
       "        manager = IPython.keyboard_manager;\n",
       "\n",
       "    // Check for shift+enter\n",
       "    if (event.shiftKey && event.which == 13) {\n",
       "        this.canvas_div.blur();\n",
       "        // select the cell after this one\n",
       "        var index = IPython.notebook.find_cell_index(this.cell_info[0]);\n",
       "        IPython.notebook.select(index + 1);\n",
       "    }\n",
       "}\n",
       "\n",
       "mpl.figure.prototype.handle_save = function(fig, msg) {\n",
       "    fig.ondownload(fig, null);\n",
       "}\n",
       "\n",
       "\n",
       "mpl.find_output_cell = function(html_output) {\n",
       "    // Return the cell and output element which can be found *uniquely* in the notebook.\n",
       "    // Note - this is a bit hacky, but it is done because the \"notebook_saving.Notebook\"\n",
       "    // IPython event is triggered only after the cells have been serialised, which for\n",
       "    // our purposes (turning an active figure into a static one), is too late.\n",
       "    var cells = IPython.notebook.get_cells();\n",
       "    var ncells = cells.length;\n",
       "    for (var i=0; i<ncells; i++) {\n",
       "        var cell = cells[i];\n",
       "        if (cell.cell_type === 'code'){\n",
       "            for (var j=0; j<cell.output_area.outputs.length; j++) {\n",
       "                var data = cell.output_area.outputs[j];\n",
       "                if (data.data) {\n",
       "                    // IPython >= 3 moved mimebundle to data attribute of output\n",
       "                    data = data.data;\n",
       "                }\n",
       "                if (data['text/html'] == html_output) {\n",
       "                    return [cell, data, j];\n",
       "                }\n",
       "            }\n",
       "        }\n",
       "    }\n",
       "}\n",
       "\n",
       "// Register the function which deals with the matplotlib target/channel.\n",
       "// The kernel may be null if the page has been refreshed.\n",
       "if (IPython.notebook.kernel != null) {\n",
       "    IPython.notebook.kernel.comm_manager.register_target('matplotlib', mpl.mpl_figure_comm);\n",
       "}\n"
      ],
      "text/plain": [
       "<IPython.core.display.Javascript object>"
      ]
     },
     "metadata": {},
     "output_type": "display_data"
    },
    {
     "data": {
      "text/html": [
       "<img src=\"data:image/png;base64,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\" width=\"640\">"
      ],
      "text/plain": [
       "<IPython.core.display.HTML object>"
      ]
     },
     "metadata": {},
     "output_type": "display_data"
    },
    {
     "data": {
      "text/plain": [
       "Text(0, 0.5, 'position')"
      ]
     },
     "execution_count": 109,
     "metadata": {},
     "output_type": "execute_result"
    }
   ],
   "source": [
    "%matplotlib notebook\n",
    "plt.plot(walk)\n",
    "plt.grid()\n",
    "plt.xlabel('step')\n",
    "plt.ylabel('position')\n",
    "\n"
   ]
  },
  {
   "cell_type": "markdown",
   "metadata": {},
   "source": [
    "\n",
    "finding information about the walk and doing analysis is now trivial.\n",
    "\n",
    "The maximum position is"
   ]
  },
  {
   "cell_type": "code",
   "execution_count": 103,
   "metadata": {},
   "outputs": [
    {
     "name": "stdout",
     "output_type": "stream",
     "text": [
      "90\n",
      "9919\n",
      "10000\n"
     ]
    }
   ],
   "source": [
    "print(walk.max())\n",
    "print(walk.argmax())\n",
    "print(len(walk))"
   ]
  },
  {
   "cell_type": "markdown",
   "metadata": {},
   "source": [
    "`argmax()` provides the first index where the `max()` value has occured. Similarly for the minimum"
   ]
  },
  {
   "cell_type": "code",
   "execution_count": 104,
   "metadata": {},
   "outputs": [
    {
     "name": "stdout",
     "output_type": "stream",
     "text": [
      "-47\n",
      "1716\n",
      "10000\n"
     ]
    }
   ],
   "source": [
    "print(walk.min())\n",
    "print(walk.argmin())\n",
    "print(len(walk))"
   ]
  },
  {
   "cell_type": "markdown",
   "metadata": {},
   "source": [
    "But we want to find the location (positive or negative) with the largest distance. This can be easily done with vector operations"
   ]
  },
  {
   "cell_type": "code",
   "execution_count": 105,
   "metadata": {},
   "outputs": [
    {
     "name": "stdout",
     "output_type": "stream",
     "text": [
      "[ 1  2  1 ... 84 85 84]\n",
      "90\n"
     ]
    }
   ],
   "source": [
    "print(np.abs(walk))\n",
    "print(np.abs(walk).max())"
   ]
  },
  {
   "cell_type": "code",
   "execution_count": 106,
   "metadata": {
    "scrolled": true
   },
   "outputs": [
    {
     "name": "stdout",
     "output_type": "stream",
     "text": [
      "9919\n"
     ]
    }
   ],
   "source": [
    "print(np.abs(walk).argmax())"
   ]
  },
  {
   "cell_type": "markdown",
   "metadata": {},
   "source": [
    "We can also easily find the time at which we cross a certain position. For example we want to find when the position is back to origin. This is done using the boolean arrays"
   ]
  },
  {
   "cell_type": "code",
   "execution_count": 107,
   "metadata": {},
   "outputs": [
    {
     "data": {
      "text/plain": [
       "array([False, False, False, ..., False, False, False])"
      ]
     },
     "execution_count": 107,
     "metadata": {},
     "output_type": "execute_result"
    }
   ],
   "source": [
    "np.abs(walk) == 0"
   ]
  },
  {
   "cell_type": "code",
   "execution_count": 110,
   "metadata": {},
   "outputs": [
    {
     "data": {
      "text/plain": [
       "True"
      ]
     },
     "execution_count": 110,
     "metadata": {},
     "output_type": "execute_result"
    }
   ],
   "source": [
    "(np.abs(walk)==0).max()"
   ]
  },
  {
   "cell_type": "markdown",
   "metadata": {},
   "source": [
    "in a boolean array `max()` corresponds to `True` value. So using `argmax()` we can find when for the first time the particle crosses again the origin"
   ]
  },
  {
   "cell_type": "code",
   "execution_count": 111,
   "metadata": {},
   "outputs": [
    {
     "data": {
      "text/plain": [
       "3"
      ]
     },
     "execution_count": 111,
     "metadata": {},
     "output_type": "execute_result"
    }
   ],
   "source": [
    "(np.abs(walk)==0).argmax()"
   ]
  },
  {
   "cell_type": "markdown",
   "metadata": {},
   "source": [
    "## Simulating many random walks at once\n",
    "\n",
    "We now want to simulate `nexp` random walks and study statistics about number of crossings, maximum distance, etc. Instead of using nested loops, we can simplhy use 2D array to keep track of steps for `nexp` experiments.\n",
    "\n",
    "In fact the only place we change the code, is the extraction of random numbers to decide direction of the random walk."
   ]
  },
  {
   "cell_type": "code",
   "execution_count": null,
   "metadata": {},
   "outputs": [
    {
     "name": "stdout",
     "output_type": "stream",
     "text": [
      "(100000, 100000)\n"
     ]
    }
   ],
   "source": [
    "import numpy as np\n",
    "import matplotlib.pyplot as plt\n",
    "\n",
    "nsteps = 100000\n",
    "nexp = 100000\n",
    "\n",
    "draws = np.random.randint(0,2, size=(nexp,nsteps) )\n",
    "print(draws.shape)\n",
    "\n",
    "steps = np.where(draws>0, 1, -1)\n",
    "print(steps.shape)\n",
    "\n",
    "\n",
    "walks = steps.cumsum(1)\n",
    "print(walks.shape)"
   ]
  },
  {
   "cell_type": "markdown",
   "metadata": {},
   "source": [
    "By calling `cumsum(1)` we summing over the 1-th dimensions, which are the columns. Recall that each row represents and experiment. columns are the draws or the steps for a given experiment. So by summing the steps over the columns, we obtain the random walk for each experiment."
   ]
  },
  {
   "cell_type": "code",
   "execution_count": 113,
   "metadata": {},
   "outputs": [
    {
     "data": {
      "text/plain": [
       "array([[  1,   2,   1, ..., -54, -53, -54],\n",
       "       [  1,   2,   3, ...,  -2,  -3,  -2],\n",
       "       [  1,   2,   1, ...,  28,  29,  28],\n",
       "       ...,\n",
       "       [ -1,   0,  -1, ...,  -4,  -3,  -4],\n",
       "       [  1,   0,   1, ..., -24, -25, -26],\n",
       "       [  1,   2,   3, ..., -12, -13, -14]])"
      ]
     },
     "execution_count": 113,
     "metadata": {},
     "output_type": "execute_result"
    }
   ],
   "source": [
    "walks"
   ]
  },
  {
   "cell_type": "markdown",
   "metadata": {},
   "source": [
    "The maximum distance ever reached in all experiments is "
   ]
  },
  {
   "cell_type": "code",
   "execution_count": 114,
   "metadata": {
    "scrolled": false
   },
   "outputs": [
    {
     "data": {
      "text/plain": [
       "108"
      ]
     },
     "execution_count": 114,
     "metadata": {},
     "output_type": "execute_result"
    }
   ],
   "source": [
    "np.abs(walks).max()"
   ]
  },
  {
   "cell_type": "markdown",
   "metadata": {},
   "source": [
    "We can also find out the maximum distance for each experiment. Thjis is done by using the [`numpy.amax`](https://docs.scipy.org/doc/numpy-1.15.0/reference/generated/numpy.amax.html) function. We want to find the maximum along columns (axis =1 ) for each experiment (row)"
   ]
  },
  {
   "cell_type": "code",
   "execution_count": 115,
   "metadata": {},
   "outputs": [
    {
     "name": "stdout",
     "output_type": "stream",
     "text": [
      "(1000,)\n",
      "[ 57  32  37  54  24  36  36  74  24  28  30  33  43  33  40  45  19  63\n",
      "  16  34  41  29  32  24  40  44  28  18  23  26  36  95  49  33  81  17\n",
      "  51  74  40  19  57  57  48  31  35  32  44  37  42  35  34  27  51  37\n",
      "  26  31  52  23  51  34  79  35  31  28  26  30  43  20  42  49  82  45\n",
      "  32  21  38  43  42  71  39  43  22  54  17  31  63  35  44  42  28  46\n",
      "  26  33  39  32  24  39  47  51  36  52  29  36  29  26  34  34  27  92\n",
      "  25  27  55  17  36  29  58  40  45  28  32  45  37  28  93  41  45  31\n",
      "  43  21  29  38  31  28  38  31  63  64  55  38  82  33  25  90  42  39\n",
      "  32  34  27  46  55  20  33  35  33  41  28  32  27  35  44  28  68  22\n",
      "  22  20  28  33  34  41  52  21  35  38  34  28  38  20  51  46  25  37\n",
      "  42  22  16  27  46  62  44  29  67  26  60  55  37  31  19  52  28  22\n",
      "  50  39  36  29  32  56  60  34  86  15  23  21  69  77  37  42  61  34\n",
      "  20  29  41  22  72  46  85  28  50  28  27  34  17  49  36  55  56  42\n",
      "  69  28  47  32  36  22 108  34  25  42  82  25  23  43  34  19  37  22\n",
      "  53  55  62  33  30  33  34  17  64  39  31  29  42  18  84  35  33  18\n",
      "  25  49  30  41  41  29  41  38  45  17  42  30  26  58  70  22  28  14\n",
      "  40  56  33  87  28  30  31  66  48  36  31  51  42  55  28  44  26  21\n",
      "  37  31  69  28  55  29  28  38  41  37  22  36  42  19  58  60  19  47\n",
      "  33  25  71  28  34  51  53  31  36  78  54  31  39  44  54  26  19  43\n",
      "  57  29  28  56  26  32  30  31  32  23  26  56  24  44  56  41  53  19\n",
      "  35  20  84  28  22  36  35  45  19  33  38  35  71  33  37  38  59  69\n",
      "  80  60  29  51  37  23  46  33  37  47  29  54  38  45  17  41  33  90\n",
      "  45  22  25  34  21  48  23  39  40  30  26  36  38  52  57  33  37  58\n",
      "  51  40  70  40  20  30  49  41  59  42  22  64  23  26  62  22  30  34\n",
      "  24  45  45  30  43  31  68  53  35  45  40  22  26  35  49  43  84  19\n",
      "  94  26  56  42  18  44  29  30  49  40  25  51  49  16  74  16  21  50\n",
      "  66  31  31  40  28  56  41  18  29  18  37  49  25  20  37  24  55  73\n",
      "  31  25  23  33  47  84  23  29  37  90  37  77  88  25  26  20  33  23\n",
      "  76  22  75  31  28  51  39  56  49  39  19  28  22  28  64  35  60  52\n",
      "  60  62  53  41  25  47  23  95  37  32  26  24  24  19  16  66  19  34\n",
      "  51  25  57  41  53  26  25  38  26  77  40  84  37  60  57  40  19  44\n",
      "  32  56  23  24  53  36  28  38  45  30  48  17  48  31  80  26  29  36\n",
      "  62  25  54  73  60  39  29  30  47  33  53  22  26  52  46  26  63  83\n",
      "  47  27  33  46  32  29  17  26  32  27  55  18  39  27  27  25  38  17\n",
      "  43  36  39  53  26  37  22  63  32  47  33  31  33  56  37  65  35  33\n",
      "  19  40  61  25  55  27  39  43  53  74  26  23  60  34  31  88  24  21\n",
      "  20  22  32  40  36 105  22  46  57  51  25  46  42  33  26  33  54  16\n",
      "  30  34  29  32  59  47  60  33  25  43  39  31  27  28  24  29  60  21\n",
      "  21  27  26  30  57  40  35  44  20  38  19  23  68  37  26  22  31  60\n",
      "  16  35  72  44  37  30  29  27  35  34  27  42  36  27  22  53  16  27\n",
      "  39  50  50  49  59  52  46  38  21  24  68  34  27  28  24  40  24  53\n",
      "  26  24  45  57  45  60  36  23  83  38  47  20  98  68  78  27  34  42\n",
      "  59  74  24  34  50  60  50  19  22  39  43  34  28  30  22  35  64  24\n",
      "  31  69  63  43  27  49  51  23  32  17  20  23  43  33  61  63  48  28\n",
      "  37  25  43  23  33  87  31  54  49  65  41  26  27  36  27  36  26  25\n",
      "  23  57  35  81  82  16  36  78  28  25  48  24  23  45  25  27  30  29\n",
      "  48  31  34  38  40  43  47  50  28  59  76  18  53  78  16  48  41  62\n",
      "  39  24  49  56  25  30  69  28  45  40  57  31  25  21  38  41  33  33\n",
      "  18  44  41  40  22  19  41  39  48  41  20  32  21  32  33  26  23  44\n",
      "  30  36  45  20  52  68  54  37  40  38  71  47  39  59  52  17  78  44\n",
      "  20  39  37  28  43  31  72  58  31  79  58  43  46  62  15  50  42  36\n",
      "  23  24  48  42  32  26  27  15  27  83  23  35  19  23  42  40  73  37\n",
      "  19  54  30  31  65  26  41  42  27  67  61  40  61  29  62  30  44  60\n",
      "  76  41  31  24  41  27  24  33  36  26  43  45  23  35  63  64  22  48\n",
      "  26  20  37  48  20  23  26  32  42  43  27  18  42  36  47  16  23  54\n",
      "  28  70  57  56  73  18  37  24  44  44]\n"
     ]
    }
   ],
   "source": [
    "max_experiment = np.amax( np.abs(walks),1   )\n",
    "print(max_experiment.shape)\n",
    "print(max_experiment)"
   ]
  },
  {
   "cell_type": "markdown",
   "metadata": {},
   "source": [
    "For sanity check we see that the maximum distance across experiments is"
   ]
  },
  {
   "cell_type": "code",
   "execution_count": 116,
   "metadata": {},
   "outputs": [
    {
     "name": "stdout",
     "output_type": "stream",
     "text": [
      "max ever:  108  in experiment :  240\n"
     ]
    }
   ],
   "source": [
    "print(\"max ever: \",max_experiment.max(),\" in experiment : \", max_experiment.argmax())"
   ]
  },
  {
   "cell_type": "markdown",
   "metadata": {},
   "source": [
    "which occured in this experiment"
   ]
  },
  {
   "cell_type": "code",
   "execution_count": 117,
   "metadata": {},
   "outputs": [
    {
     "data": {
      "text/plain": [
       "240"
      ]
     },
     "execution_count": 117,
     "metadata": {},
     "output_type": "execute_result"
    }
   ],
   "source": [
    "max_experiment.argmax()"
   ]
  },
  {
   "cell_type": "markdown",
   "metadata": {},
   "source": [
    "Similarly the smallest maximum distance ever reached is"
   ]
  },
  {
   "cell_type": "code",
   "execution_count": 118,
   "metadata": {},
   "outputs": [
    {
     "data": {
      "text/plain": [
       "14"
      ]
     },
     "execution_count": 118,
     "metadata": {},
     "output_type": "execute_result"
    }
   ],
   "source": [
    "max_experiment.min()"
   ]
  },
  {
   "cell_type": "markdown",
   "metadata": {},
   "source": [
    "Finally we make a histogram of the maximum distance ever reached. Wd use\n",
    "- `numpy.amax` funnction to compute the max for each experiment\n",
    "- `set` to create unique list of distances reached\n",
    "- `list` and `count` to compute frequency for each max distance- a dictionary to store the frequency for each max distance\n"
   ]
  },
  {
   "cell_type": "code",
   "execution_count": 119,
   "metadata": {
    "scrolled": false
   },
   "outputs": [
    {
     "data": {
      "application/javascript": [
       "/* Put everything inside the global mpl namespace */\n",
       "window.mpl = {};\n",
       "\n",
       "\n",
       "mpl.get_websocket_type = function() {\n",
       "    if (typeof(WebSocket) !== 'undefined') {\n",
       "        return WebSocket;\n",
       "    } else if (typeof(MozWebSocket) !== 'undefined') {\n",
       "        return MozWebSocket;\n",
       "    } else {\n",
       "        alert('Your browser does not have WebSocket support. ' +\n",
       "              'Please try Chrome, Safari or Firefox ≥ 6. ' +\n",
       "              'Firefox 4 and 5 are also supported but you ' +\n",
       "              'have to enable WebSockets in about:config.');\n",
       "    };\n",
       "}\n",
       "\n",
       "mpl.figure = function(figure_id, websocket, ondownload, parent_element) {\n",
       "    this.id = figure_id;\n",
       "\n",
       "    this.ws = websocket;\n",
       "\n",
       "    this.supports_binary = (this.ws.binaryType != undefined);\n",
       "\n",
       "    if (!this.supports_binary) {\n",
       "        var warnings = document.getElementById(\"mpl-warnings\");\n",
       "        if (warnings) {\n",
       "            warnings.style.display = 'block';\n",
       "            warnings.textContent = (\n",
       "                \"This browser does not support binary websocket messages. \" +\n",
       "                    \"Performance may be slow.\");\n",
       "        }\n",
       "    }\n",
       "\n",
       "    this.imageObj = new Image();\n",
       "\n",
       "    this.context = undefined;\n",
       "    this.message = undefined;\n",
       "    this.canvas = undefined;\n",
       "    this.rubberband_canvas = undefined;\n",
       "    this.rubberband_context = undefined;\n",
       "    this.format_dropdown = undefined;\n",
       "\n",
       "    this.image_mode = 'full';\n",
       "\n",
       "    this.root = $('<div/>');\n",
       "    this._root_extra_style(this.root)\n",
       "    this.root.attr('style', 'display: inline-block');\n",
       "\n",
       "    $(parent_element).append(this.root);\n",
       "\n",
       "    this._init_header(this);\n",
       "    this._init_canvas(this);\n",
       "    this._init_toolbar(this);\n",
       "\n",
       "    var fig = this;\n",
       "\n",
       "    this.waiting = false;\n",
       "\n",
       "    this.ws.onopen =  function () {\n",
       "            fig.send_message(\"supports_binary\", {value: fig.supports_binary});\n",
       "            fig.send_message(\"send_image_mode\", {});\n",
       "            if (mpl.ratio != 1) {\n",
       "                fig.send_message(\"set_dpi_ratio\", {'dpi_ratio': mpl.ratio});\n",
       "            }\n",
       "            fig.send_message(\"refresh\", {});\n",
       "        }\n",
       "\n",
       "    this.imageObj.onload = function() {\n",
       "            if (fig.image_mode == 'full') {\n",
       "                // Full images could contain transparency (where diff images\n",
       "                // almost always do), so we need to clear the canvas so that\n",
       "                // there is no ghosting.\n",
       "                fig.context.clearRect(0, 0, fig.canvas.width, fig.canvas.height);\n",
       "            }\n",
       "            fig.context.drawImage(fig.imageObj, 0, 0);\n",
       "        };\n",
       "\n",
       "    this.imageObj.onunload = function() {\n",
       "        fig.ws.close();\n",
       "    }\n",
       "\n",
       "    this.ws.onmessage = this._make_on_message_function(this);\n",
       "\n",
       "    this.ondownload = ondownload;\n",
       "}\n",
       "\n",
       "mpl.figure.prototype._init_header = function() {\n",
       "    var titlebar = $(\n",
       "        '<div class=\"ui-dialog-titlebar ui-widget-header ui-corner-all ' +\n",
       "        'ui-helper-clearfix\"/>');\n",
       "    var titletext = $(\n",
       "        '<div class=\"ui-dialog-title\" style=\"width: 100%; ' +\n",
       "        'text-align: center; padding: 3px;\"/>');\n",
       "    titlebar.append(titletext)\n",
       "    this.root.append(titlebar);\n",
       "    this.header = titletext[0];\n",
       "}\n",
       "\n",
       "\n",
       "\n",
       "mpl.figure.prototype._canvas_extra_style = function(canvas_div) {\n",
       "\n",
       "}\n",
       "\n",
       "\n",
       "mpl.figure.prototype._root_extra_style = function(canvas_div) {\n",
       "\n",
       "}\n",
       "\n",
       "mpl.figure.prototype._init_canvas = function() {\n",
       "    var fig = this;\n",
       "\n",
       "    var canvas_div = $('<div/>');\n",
       "\n",
       "    canvas_div.attr('style', 'position: relative; clear: both; outline: 0');\n",
       "\n",
       "    function canvas_keyboard_event(event) {\n",
       "        return fig.key_event(event, event['data']);\n",
       "    }\n",
       "\n",
       "    canvas_div.keydown('key_press', canvas_keyboard_event);\n",
       "    canvas_div.keyup('key_release', canvas_keyboard_event);\n",
       "    this.canvas_div = canvas_div\n",
       "    this._canvas_extra_style(canvas_div)\n",
       "    this.root.append(canvas_div);\n",
       "\n",
       "    var canvas = $('<canvas/>');\n",
       "    canvas.addClass('mpl-canvas');\n",
       "    canvas.attr('style', \"left: 0; top: 0; z-index: 0; outline: 0\")\n",
       "\n",
       "    this.canvas = canvas[0];\n",
       "    this.context = canvas[0].getContext(\"2d\");\n",
       "\n",
       "    var backingStore = this.context.backingStorePixelRatio ||\n",
       "\tthis.context.webkitBackingStorePixelRatio ||\n",
       "\tthis.context.mozBackingStorePixelRatio ||\n",
       "\tthis.context.msBackingStorePixelRatio ||\n",
       "\tthis.context.oBackingStorePixelRatio ||\n",
       "\tthis.context.backingStorePixelRatio || 1;\n",
       "\n",
       "    mpl.ratio = (window.devicePixelRatio || 1) / backingStore;\n",
       "\n",
       "    var rubberband = $('<canvas/>');\n",
       "    rubberband.attr('style', \"position: absolute; left: 0; top: 0; z-index: 1;\")\n",
       "\n",
       "    var pass_mouse_events = true;\n",
       "\n",
       "    canvas_div.resizable({\n",
       "        start: function(event, ui) {\n",
       "            pass_mouse_events = false;\n",
       "        },\n",
       "        resize: function(event, ui) {\n",
       "            fig.request_resize(ui.size.width, ui.size.height);\n",
       "        },\n",
       "        stop: function(event, ui) {\n",
       "            pass_mouse_events = true;\n",
       "            fig.request_resize(ui.size.width, ui.size.height);\n",
       "        },\n",
       "    });\n",
       "\n",
       "    function mouse_event_fn(event) {\n",
       "        if (pass_mouse_events)\n",
       "            return fig.mouse_event(event, event['data']);\n",
       "    }\n",
       "\n",
       "    rubberband.mousedown('button_press', mouse_event_fn);\n",
       "    rubberband.mouseup('button_release', mouse_event_fn);\n",
       "    // Throttle sequential mouse events to 1 every 20ms.\n",
       "    rubberband.mousemove('motion_notify', mouse_event_fn);\n",
       "\n",
       "    rubberband.mouseenter('figure_enter', mouse_event_fn);\n",
       "    rubberband.mouseleave('figure_leave', mouse_event_fn);\n",
       "\n",
       "    canvas_div.on(\"wheel\", function (event) {\n",
       "        event = event.originalEvent;\n",
       "        event['data'] = 'scroll'\n",
       "        if (event.deltaY < 0) {\n",
       "            event.step = 1;\n",
       "        } else {\n",
       "            event.step = -1;\n",
       "        }\n",
       "        mouse_event_fn(event);\n",
       "    });\n",
       "\n",
       "    canvas_div.append(canvas);\n",
       "    canvas_div.append(rubberband);\n",
       "\n",
       "    this.rubberband = rubberband;\n",
       "    this.rubberband_canvas = rubberband[0];\n",
       "    this.rubberband_context = rubberband[0].getContext(\"2d\");\n",
       "    this.rubberband_context.strokeStyle = \"#000000\";\n",
       "\n",
       "    this._resize_canvas = function(width, height) {\n",
       "        // Keep the size of the canvas, canvas container, and rubber band\n",
       "        // canvas in synch.\n",
       "        canvas_div.css('width', width)\n",
       "        canvas_div.css('height', height)\n",
       "\n",
       "        canvas.attr('width', width * mpl.ratio);\n",
       "        canvas.attr('height', height * mpl.ratio);\n",
       "        canvas.attr('style', 'width: ' + width + 'px; height: ' + height + 'px;');\n",
       "\n",
       "        rubberband.attr('width', width);\n",
       "        rubberband.attr('height', height);\n",
       "    }\n",
       "\n",
       "    // Set the figure to an initial 600x600px, this will subsequently be updated\n",
       "    // upon first draw.\n",
       "    this._resize_canvas(600, 600);\n",
       "\n",
       "    // Disable right mouse context menu.\n",
       "    $(this.rubberband_canvas).bind(\"contextmenu\",function(e){\n",
       "        return false;\n",
       "    });\n",
       "\n",
       "    function set_focus () {\n",
       "        canvas.focus();\n",
       "        canvas_div.focus();\n",
       "    }\n",
       "\n",
       "    window.setTimeout(set_focus, 100);\n",
       "}\n",
       "\n",
       "mpl.figure.prototype._init_toolbar = function() {\n",
       "    var fig = this;\n",
       "\n",
       "    var nav_element = $('<div/>');\n",
       "    nav_element.attr('style', 'width: 100%');\n",
       "    this.root.append(nav_element);\n",
       "\n",
       "    // Define a callback function for later on.\n",
       "    function toolbar_event(event) {\n",
       "        return fig.toolbar_button_onclick(event['data']);\n",
       "    }\n",
       "    function toolbar_mouse_event(event) {\n",
       "        return fig.toolbar_button_onmouseover(event['data']);\n",
       "    }\n",
       "\n",
       "    for(var toolbar_ind in mpl.toolbar_items) {\n",
       "        var name = mpl.toolbar_items[toolbar_ind][0];\n",
       "        var tooltip = mpl.toolbar_items[toolbar_ind][1];\n",
       "        var image = mpl.toolbar_items[toolbar_ind][2];\n",
       "        var method_name = mpl.toolbar_items[toolbar_ind][3];\n",
       "\n",
       "        if (!name) {\n",
       "            // put a spacer in here.\n",
       "            continue;\n",
       "        }\n",
       "        var button = $('<button/>');\n",
       "        button.addClass('ui-button ui-widget ui-state-default ui-corner-all ' +\n",
       "                        'ui-button-icon-only');\n",
       "        button.attr('role', 'button');\n",
       "        button.attr('aria-disabled', 'false');\n",
       "        button.click(method_name, toolbar_event);\n",
       "        button.mouseover(tooltip, toolbar_mouse_event);\n",
       "\n",
       "        var icon_img = $('<span/>');\n",
       "        icon_img.addClass('ui-button-icon-primary ui-icon');\n",
       "        icon_img.addClass(image);\n",
       "        icon_img.addClass('ui-corner-all');\n",
       "\n",
       "        var tooltip_span = $('<span/>');\n",
       "        tooltip_span.addClass('ui-button-text');\n",
       "        tooltip_span.html(tooltip);\n",
       "\n",
       "        button.append(icon_img);\n",
       "        button.append(tooltip_span);\n",
       "\n",
       "        nav_element.append(button);\n",
       "    }\n",
       "\n",
       "    var fmt_picker_span = $('<span/>');\n",
       "\n",
       "    var fmt_picker = $('<select/>');\n",
       "    fmt_picker.addClass('mpl-toolbar-option ui-widget ui-widget-content');\n",
       "    fmt_picker_span.append(fmt_picker);\n",
       "    nav_element.append(fmt_picker_span);\n",
       "    this.format_dropdown = fmt_picker[0];\n",
       "\n",
       "    for (var ind in mpl.extensions) {\n",
       "        var fmt = mpl.extensions[ind];\n",
       "        var option = $(\n",
       "            '<option/>', {selected: fmt === mpl.default_extension}).html(fmt);\n",
       "        fmt_picker.append(option);\n",
       "    }\n",
       "\n",
       "    // Add hover states to the ui-buttons\n",
       "    $( \".ui-button\" ).hover(\n",
       "        function() { $(this).addClass(\"ui-state-hover\");},\n",
       "        function() { $(this).removeClass(\"ui-state-hover\");}\n",
       "    );\n",
       "\n",
       "    var status_bar = $('<span class=\"mpl-message\"/>');\n",
       "    nav_element.append(status_bar);\n",
       "    this.message = status_bar[0];\n",
       "}\n",
       "\n",
       "mpl.figure.prototype.request_resize = function(x_pixels, y_pixels) {\n",
       "    // Request matplotlib to resize the figure. Matplotlib will then trigger a resize in the client,\n",
       "    // which will in turn request a refresh of the image.\n",
       "    this.send_message('resize', {'width': x_pixels, 'height': y_pixels});\n",
       "}\n",
       "\n",
       "mpl.figure.prototype.send_message = function(type, properties) {\n",
       "    properties['type'] = type;\n",
       "    properties['figure_id'] = this.id;\n",
       "    this.ws.send(JSON.stringify(properties));\n",
       "}\n",
       "\n",
       "mpl.figure.prototype.send_draw_message = function() {\n",
       "    if (!this.waiting) {\n",
       "        this.waiting = true;\n",
       "        this.ws.send(JSON.stringify({type: \"draw\", figure_id: this.id}));\n",
       "    }\n",
       "}\n",
       "\n",
       "\n",
       "mpl.figure.prototype.handle_save = function(fig, msg) {\n",
       "    var format_dropdown = fig.format_dropdown;\n",
       "    var format = format_dropdown.options[format_dropdown.selectedIndex].value;\n",
       "    fig.ondownload(fig, format);\n",
       "}\n",
       "\n",
       "\n",
       "mpl.figure.prototype.handle_resize = function(fig, msg) {\n",
       "    var size = msg['size'];\n",
       "    if (size[0] != fig.canvas.width || size[1] != fig.canvas.height) {\n",
       "        fig._resize_canvas(size[0], size[1]);\n",
       "        fig.send_message(\"refresh\", {});\n",
       "    };\n",
       "}\n",
       "\n",
       "mpl.figure.prototype.handle_rubberband = function(fig, msg) {\n",
       "    var x0 = msg['x0'] / mpl.ratio;\n",
       "    var y0 = (fig.canvas.height - msg['y0']) / mpl.ratio;\n",
       "    var x1 = msg['x1'] / mpl.ratio;\n",
       "    var y1 = (fig.canvas.height - msg['y1']) / mpl.ratio;\n",
       "    x0 = Math.floor(x0) + 0.5;\n",
       "    y0 = Math.floor(y0) + 0.5;\n",
       "    x1 = Math.floor(x1) + 0.5;\n",
       "    y1 = Math.floor(y1) + 0.5;\n",
       "    var min_x = Math.min(x0, x1);\n",
       "    var min_y = Math.min(y0, y1);\n",
       "    var width = Math.abs(x1 - x0);\n",
       "    var height = Math.abs(y1 - y0);\n",
       "\n",
       "    fig.rubberband_context.clearRect(\n",
       "        0, 0, fig.canvas.width / mpl.ratio, fig.canvas.height / mpl.ratio);\n",
       "\n",
       "    fig.rubberband_context.strokeRect(min_x, min_y, width, height);\n",
       "}\n",
       "\n",
       "mpl.figure.prototype.handle_figure_label = function(fig, msg) {\n",
       "    // Updates the figure title.\n",
       "    fig.header.textContent = msg['label'];\n",
       "}\n",
       "\n",
       "mpl.figure.prototype.handle_cursor = function(fig, msg) {\n",
       "    var cursor = msg['cursor'];\n",
       "    switch(cursor)\n",
       "    {\n",
       "    case 0:\n",
       "        cursor = 'pointer';\n",
       "        break;\n",
       "    case 1:\n",
       "        cursor = 'default';\n",
       "        break;\n",
       "    case 2:\n",
       "        cursor = 'crosshair';\n",
       "        break;\n",
       "    case 3:\n",
       "        cursor = 'move';\n",
       "        break;\n",
       "    }\n",
       "    fig.rubberband_canvas.style.cursor = cursor;\n",
       "}\n",
       "\n",
       "mpl.figure.prototype.handle_message = function(fig, msg) {\n",
       "    fig.message.textContent = msg['message'];\n",
       "}\n",
       "\n",
       "mpl.figure.prototype.handle_draw = function(fig, msg) {\n",
       "    // Request the server to send over a new figure.\n",
       "    fig.send_draw_message();\n",
       "}\n",
       "\n",
       "mpl.figure.prototype.handle_image_mode = function(fig, msg) {\n",
       "    fig.image_mode = msg['mode'];\n",
       "}\n",
       "\n",
       "mpl.figure.prototype.updated_canvas_event = function() {\n",
       "    // Called whenever the canvas gets updated.\n",
       "    this.send_message(\"ack\", {});\n",
       "}\n",
       "\n",
       "// A function to construct a web socket function for onmessage handling.\n",
       "// Called in the figure constructor.\n",
       "mpl.figure.prototype._make_on_message_function = function(fig) {\n",
       "    return function socket_on_message(evt) {\n",
       "        if (evt.data instanceof Blob) {\n",
       "            /* FIXME: We get \"Resource interpreted as Image but\n",
       "             * transferred with MIME type text/plain:\" errors on\n",
       "             * Chrome.  But how to set the MIME type?  It doesn't seem\n",
       "             * to be part of the websocket stream */\n",
       "            evt.data.type = \"image/png\";\n",
       "\n",
       "            /* Free the memory for the previous frames */\n",
       "            if (fig.imageObj.src) {\n",
       "                (window.URL || window.webkitURL).revokeObjectURL(\n",
       "                    fig.imageObj.src);\n",
       "            }\n",
       "\n",
       "            fig.imageObj.src = (window.URL || window.webkitURL).createObjectURL(\n",
       "                evt.data);\n",
       "            fig.updated_canvas_event();\n",
       "            fig.waiting = false;\n",
       "            return;\n",
       "        }\n",
       "        else if (typeof evt.data === 'string' && evt.data.slice(0, 21) == \"data:image/png;base64\") {\n",
       "            fig.imageObj.src = evt.data;\n",
       "            fig.updated_canvas_event();\n",
       "            fig.waiting = false;\n",
       "            return;\n",
       "        }\n",
       "\n",
       "        var msg = JSON.parse(evt.data);\n",
       "        var msg_type = msg['type'];\n",
       "\n",
       "        // Call the  \"handle_{type}\" callback, which takes\n",
       "        // the figure and JSON message as its only arguments.\n",
       "        try {\n",
       "            var callback = fig[\"handle_\" + msg_type];\n",
       "        } catch (e) {\n",
       "            console.log(\"No handler for the '\" + msg_type + \"' message type: \", msg);\n",
       "            return;\n",
       "        }\n",
       "\n",
       "        if (callback) {\n",
       "            try {\n",
       "                // console.log(\"Handling '\" + msg_type + \"' message: \", msg);\n",
       "                callback(fig, msg);\n",
       "            } catch (e) {\n",
       "                console.log(\"Exception inside the 'handler_\" + msg_type + \"' callback:\", e, e.stack, msg);\n",
       "            }\n",
       "        }\n",
       "    };\n",
       "}\n",
       "\n",
       "// from http://stackoverflow.com/questions/1114465/getting-mouse-location-in-canvas\n",
       "mpl.findpos = function(e) {\n",
       "    //this section is from http://www.quirksmode.org/js/events_properties.html\n",
       "    var targ;\n",
       "    if (!e)\n",
       "        e = window.event;\n",
       "    if (e.target)\n",
       "        targ = e.target;\n",
       "    else if (e.srcElement)\n",
       "        targ = e.srcElement;\n",
       "    if (targ.nodeType == 3) // defeat Safari bug\n",
       "        targ = targ.parentNode;\n",
       "\n",
       "    // jQuery normalizes the pageX and pageY\n",
       "    // pageX,Y are the mouse positions relative to the document\n",
       "    // offset() returns the position of the element relative to the document\n",
       "    var x = e.pageX - $(targ).offset().left;\n",
       "    var y = e.pageY - $(targ).offset().top;\n",
       "\n",
       "    return {\"x\": x, \"y\": y};\n",
       "};\n",
       "\n",
       "/*\n",
       " * return a copy of an object with only non-object keys\n",
       " * we need this to avoid circular references\n",
       " * http://stackoverflow.com/a/24161582/3208463\n",
       " */\n",
       "function simpleKeys (original) {\n",
       "  return Object.keys(original).reduce(function (obj, key) {\n",
       "    if (typeof original[key] !== 'object')\n",
       "        obj[key] = original[key]\n",
       "    return obj;\n",
       "  }, {});\n",
       "}\n",
       "\n",
       "mpl.figure.prototype.mouse_event = function(event, name) {\n",
       "    var canvas_pos = mpl.findpos(event)\n",
       "\n",
       "    if (name === 'button_press')\n",
       "    {\n",
       "        this.canvas.focus();\n",
       "        this.canvas_div.focus();\n",
       "    }\n",
       "\n",
       "    var x = canvas_pos.x * mpl.ratio;\n",
       "    var y = canvas_pos.y * mpl.ratio;\n",
       "\n",
       "    this.send_message(name, {x: x, y: y, button: event.button,\n",
       "                             step: event.step,\n",
       "                             guiEvent: simpleKeys(event)});\n",
       "\n",
       "    /* This prevents the web browser from automatically changing to\n",
       "     * the text insertion cursor when the button is pressed.  We want\n",
       "     * to control all of the cursor setting manually through the\n",
       "     * 'cursor' event from matplotlib */\n",
       "    event.preventDefault();\n",
       "    return false;\n",
       "}\n",
       "\n",
       "mpl.figure.prototype._key_event_extra = function(event, name) {\n",
       "    // Handle any extra behaviour associated with a key event\n",
       "}\n",
       "\n",
       "mpl.figure.prototype.key_event = function(event, name) {\n",
       "\n",
       "    // Prevent repeat events\n",
       "    if (name == 'key_press')\n",
       "    {\n",
       "        if (event.which === this._key)\n",
       "            return;\n",
       "        else\n",
       "            this._key = event.which;\n",
       "    }\n",
       "    if (name == 'key_release')\n",
       "        this._key = null;\n",
       "\n",
       "    var value = '';\n",
       "    if (event.ctrlKey && event.which != 17)\n",
       "        value += \"ctrl+\";\n",
       "    if (event.altKey && event.which != 18)\n",
       "        value += \"alt+\";\n",
       "    if (event.shiftKey && event.which != 16)\n",
       "        value += \"shift+\";\n",
       "\n",
       "    value += 'k';\n",
       "    value += event.which.toString();\n",
       "\n",
       "    this._key_event_extra(event, name);\n",
       "\n",
       "    this.send_message(name, {key: value,\n",
       "                             guiEvent: simpleKeys(event)});\n",
       "    return false;\n",
       "}\n",
       "\n",
       "mpl.figure.prototype.toolbar_button_onclick = function(name) {\n",
       "    if (name == 'download') {\n",
       "        this.handle_save(this, null);\n",
       "    } else {\n",
       "        this.send_message(\"toolbar_button\", {name: name});\n",
       "    }\n",
       "};\n",
       "\n",
       "mpl.figure.prototype.toolbar_button_onmouseover = function(tooltip) {\n",
       "    this.message.textContent = tooltip;\n",
       "};\n",
       "mpl.toolbar_items = [[\"Home\", \"Reset original view\", \"fa fa-home icon-home\", \"home\"], [\"Back\", \"Back to previous view\", \"fa fa-arrow-left icon-arrow-left\", \"back\"], [\"Forward\", \"Forward to next view\", \"fa fa-arrow-right icon-arrow-right\", \"forward\"], [\"\", \"\", \"\", \"\"], [\"Pan\", \"Pan axes with left mouse, zoom with right\", \"fa fa-arrows icon-move\", \"pan\"], [\"Zoom\", \"Zoom to rectangle\", \"fa fa-square-o icon-check-empty\", \"zoom\"], [\"\", \"\", \"\", \"\"], [\"Download\", \"Download plot\", \"fa fa-floppy-o icon-save\", \"download\"]];\n",
       "\n",
       "mpl.extensions = [\"eps\", \"jpeg\", \"pdf\", \"png\", \"ps\", \"raw\", \"svg\", \"tif\"];\n",
       "\n",
       "mpl.default_extension = \"png\";var comm_websocket_adapter = function(comm) {\n",
       "    // Create a \"websocket\"-like object which calls the given IPython comm\n",
       "    // object with the appropriate methods. Currently this is a non binary\n",
       "    // socket, so there is still some room for performance tuning.\n",
       "    var ws = {};\n",
       "\n",
       "    ws.close = function() {\n",
       "        comm.close()\n",
       "    };\n",
       "    ws.send = function(m) {\n",
       "        //console.log('sending', m);\n",
       "        comm.send(m);\n",
       "    };\n",
       "    // Register the callback with on_msg.\n",
       "    comm.on_msg(function(msg) {\n",
       "        //console.log('receiving', msg['content']['data'], msg);\n",
       "        // Pass the mpl event to the overridden (by mpl) onmessage function.\n",
       "        ws.onmessage(msg['content']['data'])\n",
       "    });\n",
       "    return ws;\n",
       "}\n",
       "\n",
       "mpl.mpl_figure_comm = function(comm, msg) {\n",
       "    // This is the function which gets called when the mpl process\n",
       "    // starts-up an IPython Comm through the \"matplotlib\" channel.\n",
       "\n",
       "    var id = msg.content.data.id;\n",
       "    // Get hold of the div created by the display call when the Comm\n",
       "    // socket was opened in Python.\n",
       "    var element = $(\"#\" + id);\n",
       "    var ws_proxy = comm_websocket_adapter(comm)\n",
       "\n",
       "    function ondownload(figure, format) {\n",
       "        window.open(figure.imageObj.src);\n",
       "    }\n",
       "\n",
       "    var fig = new mpl.figure(id, ws_proxy,\n",
       "                           ondownload,\n",
       "                           element.get(0));\n",
       "\n",
       "    // Call onopen now - mpl needs it, as it is assuming we've passed it a real\n",
       "    // web socket which is closed, not our websocket->open comm proxy.\n",
       "    ws_proxy.onopen();\n",
       "\n",
       "    fig.parent_element = element.get(0);\n",
       "    fig.cell_info = mpl.find_output_cell(\"<div id='\" + id + \"'></div>\");\n",
       "    if (!fig.cell_info) {\n",
       "        console.error(\"Failed to find cell for figure\", id, fig);\n",
       "        return;\n",
       "    }\n",
       "\n",
       "    var output_index = fig.cell_info[2]\n",
       "    var cell = fig.cell_info[0];\n",
       "\n",
       "};\n",
       "\n",
       "mpl.figure.prototype.handle_close = function(fig, msg) {\n",
       "    var width = fig.canvas.width/mpl.ratio\n",
       "    fig.root.unbind('remove')\n",
       "\n",
       "    // Update the output cell to use the data from the current canvas.\n",
       "    fig.push_to_output();\n",
       "    var dataURL = fig.canvas.toDataURL();\n",
       "    // Re-enable the keyboard manager in IPython - without this line, in FF,\n",
       "    // the notebook keyboard shortcuts fail.\n",
       "    IPython.keyboard_manager.enable()\n",
       "    $(fig.parent_element).html('<img src=\"' + dataURL + '\" width=\"' + width + '\">');\n",
       "    fig.close_ws(fig, msg);\n",
       "}\n",
       "\n",
       "mpl.figure.prototype.close_ws = function(fig, msg){\n",
       "    fig.send_message('closing', msg);\n",
       "    // fig.ws.close()\n",
       "}\n",
       "\n",
       "mpl.figure.prototype.push_to_output = function(remove_interactive) {\n",
       "    // Turn the data on the canvas into data in the output cell.\n",
       "    var width = this.canvas.width/mpl.ratio\n",
       "    var dataURL = this.canvas.toDataURL();\n",
       "    this.cell_info[1]['text/html'] = '<img src=\"' + dataURL + '\" width=\"' + width + '\">';\n",
       "}\n",
       "\n",
       "mpl.figure.prototype.updated_canvas_event = function() {\n",
       "    // Tell IPython that the notebook contents must change.\n",
       "    IPython.notebook.set_dirty(true);\n",
       "    this.send_message(\"ack\", {});\n",
       "    var fig = this;\n",
       "    // Wait a second, then push the new image to the DOM so\n",
       "    // that it is saved nicely (might be nice to debounce this).\n",
       "    setTimeout(function () { fig.push_to_output() }, 1000);\n",
       "}\n",
       "\n",
       "mpl.figure.prototype._init_toolbar = function() {\n",
       "    var fig = this;\n",
       "\n",
       "    var nav_element = $('<div/>');\n",
       "    nav_element.attr('style', 'width: 100%');\n",
       "    this.root.append(nav_element);\n",
       "\n",
       "    // Define a callback function for later on.\n",
       "    function toolbar_event(event) {\n",
       "        return fig.toolbar_button_onclick(event['data']);\n",
       "    }\n",
       "    function toolbar_mouse_event(event) {\n",
       "        return fig.toolbar_button_onmouseover(event['data']);\n",
       "    }\n",
       "\n",
       "    for(var toolbar_ind in mpl.toolbar_items){\n",
       "        var name = mpl.toolbar_items[toolbar_ind][0];\n",
       "        var tooltip = mpl.toolbar_items[toolbar_ind][1];\n",
       "        var image = mpl.toolbar_items[toolbar_ind][2];\n",
       "        var method_name = mpl.toolbar_items[toolbar_ind][3];\n",
       "\n",
       "        if (!name) { continue; };\n",
       "\n",
       "        var button = $('<button class=\"btn btn-default\" href=\"#\" title=\"' + name + '\"><i class=\"fa ' + image + ' fa-lg\"></i></button>');\n",
       "        button.click(method_name, toolbar_event);\n",
       "        button.mouseover(tooltip, toolbar_mouse_event);\n",
       "        nav_element.append(button);\n",
       "    }\n",
       "\n",
       "    // Add the status bar.\n",
       "    var status_bar = $('<span class=\"mpl-message\" style=\"text-align:right; float: right;\"/>');\n",
       "    nav_element.append(status_bar);\n",
       "    this.message = status_bar[0];\n",
       "\n",
       "    // Add the close button to the window.\n",
       "    var buttongrp = $('<div class=\"btn-group inline pull-right\"></div>');\n",
       "    var button = $('<button class=\"btn btn-mini btn-primary\" href=\"#\" title=\"Stop Interaction\"><i class=\"fa fa-power-off icon-remove icon-large\"></i></button>');\n",
       "    button.click(function (evt) { fig.handle_close(fig, {}); } );\n",
       "    button.mouseover('Stop Interaction', toolbar_mouse_event);\n",
       "    buttongrp.append(button);\n",
       "    var titlebar = this.root.find($('.ui-dialog-titlebar'));\n",
       "    titlebar.prepend(buttongrp);\n",
       "}\n",
       "\n",
       "mpl.figure.prototype._root_extra_style = function(el){\n",
       "    var fig = this\n",
       "    el.on(\"remove\", function(){\n",
       "\tfig.close_ws(fig, {});\n",
       "    });\n",
       "}\n",
       "\n",
       "mpl.figure.prototype._canvas_extra_style = function(el){\n",
       "    // this is important to make the div 'focusable\n",
       "    el.attr('tabindex', 0)\n",
       "    // reach out to IPython and tell the keyboard manager to turn it's self\n",
       "    // off when our div gets focus\n",
       "\n",
       "    // location in version 3\n",
       "    if (IPython.notebook.keyboard_manager) {\n",
       "        IPython.notebook.keyboard_manager.register_events(el);\n",
       "    }\n",
       "    else {\n",
       "        // location in version 2\n",
       "        IPython.keyboard_manager.register_events(el);\n",
       "    }\n",
       "\n",
       "}\n",
       "\n",
       "mpl.figure.prototype._key_event_extra = function(event, name) {\n",
       "    var manager = IPython.notebook.keyboard_manager;\n",
       "    if (!manager)\n",
       "        manager = IPython.keyboard_manager;\n",
       "\n",
       "    // Check for shift+enter\n",
       "    if (event.shiftKey && event.which == 13) {\n",
       "        this.canvas_div.blur();\n",
       "        // select the cell after this one\n",
       "        var index = IPython.notebook.find_cell_index(this.cell_info[0]);\n",
       "        IPython.notebook.select(index + 1);\n",
       "    }\n",
       "}\n",
       "\n",
       "mpl.figure.prototype.handle_save = function(fig, msg) {\n",
       "    fig.ondownload(fig, null);\n",
       "}\n",
       "\n",
       "\n",
       "mpl.find_output_cell = function(html_output) {\n",
       "    // Return the cell and output element which can be found *uniquely* in the notebook.\n",
       "    // Note - this is a bit hacky, but it is done because the \"notebook_saving.Notebook\"\n",
       "    // IPython event is triggered only after the cells have been serialised, which for\n",
       "    // our purposes (turning an active figure into a static one), is too late.\n",
       "    var cells = IPython.notebook.get_cells();\n",
       "    var ncells = cells.length;\n",
       "    for (var i=0; i<ncells; i++) {\n",
       "        var cell = cells[i];\n",
       "        if (cell.cell_type === 'code'){\n",
       "            for (var j=0; j<cell.output_area.outputs.length; j++) {\n",
       "                var data = cell.output_area.outputs[j];\n",
       "                if (data.data) {\n",
       "                    // IPython >= 3 moved mimebundle to data attribute of output\n",
       "                    data = data.data;\n",
       "                }\n",
       "                if (data['text/html'] == html_output) {\n",
       "                    return [cell, data, j];\n",
       "                }\n",
       "            }\n",
       "        }\n",
       "    }\n",
       "}\n",
       "\n",
       "// Register the function which deals with the matplotlib target/channel.\n",
       "// The kernel may be null if the page has been refreshed.\n",
       "if (IPython.notebook.kernel != null) {\n",
       "    IPython.notebook.kernel.comm_manager.register_target('matplotlib', mpl.mpl_figure_comm);\n",
       "}\n"
      ],
      "text/plain": [
       "<IPython.core.display.Javascript object>"
      ]
     },
     "metadata": {},
     "output_type": "display_data"
    },
    {
     "data": {
      "text/html": [
       "<img src=\"data:image/png;base64,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\" width=\"640\">"
      ],
      "text/plain": [
       "<IPython.core.display.HTML object>"
      ]
     },
     "metadata": {},
     "output_type": "display_data"
    },
    {
     "data": {
      "text/plain": [
       "Text(0, 0.5, 'experiments')"
      ]
     },
     "execution_count": 119,
     "metadata": {},
     "output_type": "execute_result"
    }
   ],
   "source": [
    "max_dict = { i:list(max_experiment).count(i)   for i in set(max_experiment)  }\n",
    "    \n",
    "%matplotlib notebook\n",
    "import matplotlib.pyplot as plt\n",
    "plt.bar( list(max_dict.keys()), list(max_dict.values()), color='blue' ) \n",
    "plt.grid()\n",
    "plt.xlabel('maximum distance')\n",
    "plt.ylabel('experiments')"
   ]
  },
  {
   "cell_type": "markdown",
   "metadata": {},
   "source": [
    "### Computig crossing of a position\n",
    "\n",
    "With booleans arrays we can easily check if the walk ever goes back  to the origin or any given position"
   ]
  },
  {
   "cell_type": "code",
   "execution_count": null,
   "metadata": {},
   "outputs": [],
   "source": [
    "hits_home = (np.abs(walks)==0).any(1)\n"
   ]
  },
  {
   "cell_type": "markdown",
   "metadata": {},
   "source": [
    "Similarly we can check how many times a certain distance has been reached"
   ]
  },
  {
   "cell_type": "code",
   "execution_count": null,
   "metadata": {
    "scrolled": true
   },
   "outputs": [],
   "source": [
    "hits_x = (np.abs(walks)==30).any(1)\n",
    "print(hits_x.sum())"
   ]
  },
  {
   "cell_type": "markdown",
   "metadata": {},
   "source": [
    "Plot a given experiment"
   ]
  },
  {
   "cell_type": "code",
   "execution_count": null,
   "metadata": {},
   "outputs": [],
   "source": [
    "%matplotlib notebook\n",
    "plt.plot(walks[np.random.randint(0,nexp),:])\n",
    "plt.grid()\n",
    "plt.xlabel('step')\n",
    "plt.ylabel('position')"
   ]
  },
  {
   "cell_type": "markdown",
   "metadata": {},
   "source": [
    "Plot the experiment with the smallest maximum distance"
   ]
  },
  {
   "cell_type": "code",
   "execution_count": null,
   "metadata": {
    "scrolled": false
   },
   "outputs": [],
   "source": [
    "%matplotlib notebook\n",
    "plt.plot(walks[max_experiment.argmin(),:])\n",
    "plt.grid()\n",
    "plt.xlabel('step')\n",
    "plt.ylabel('position')"
   ]
  },
  {
   "cell_type": "markdown",
   "metadata": {},
   "source": [
    "Plot the experiment with the largest maximum distance"
   ]
  },
  {
   "cell_type": "code",
   "execution_count": null,
   "metadata": {},
   "outputs": [],
   "source": [
    "%matplotlib notebook\n",
    "plt.plot(walks[max_experiment.argmax(),:])\n",
    "plt.grid()\n",
    "plt.xlabel('step')\n",
    "plt.ylabel('position')"
   ]
  },
  {
   "cell_type": "markdown",
   "metadata": {},
   "source": [
    "### Exercise\n",
    "- use animation to show the experimets in sequence\n",
    "- simulate the random walk in 2D and 3D and compute the fraction of experiments going back to the origin or reaching an arbitrary distance from the origin"
   ]
  },
  {
   "cell_type": "markdown",
   "metadata": {},
   "source": [
    "# I/O with files \n",
    "\n",
    "Today we cover some practical aspects of python that make it a great language for scripting. While the same is possibile with bash and other shells, the OOP aspect of python and its high level semantics make it very easy for a beginner to write their first scripts.\n",
    "\n",
    "- Input/Output with files\n",
    "  - with statement\n",
    "  - parsing lines\n",
    "  - lines as lists\n",
    "  - splitting lines into lists\n",
    "  \n",
    "- json format for storage\n",
    "  - example of json usage\n",
    "  - storing python objects and reading them back\n",
    "  - storing custom python objects\n",
    "   [custom serialize](https://realpython.com/python-json/)\n",
    "  \n",
    "- functions with variable number of arguments\n",
    "  - example of printf\n"
   ]
  },
  {
   "cell_type": "markdown",
   "metadata": {},
   "source": [
    "# File handling\n",
    "\n",
    "Basic I/O with files is almost identical to C, at first.\n",
    "\n",
    "- You need to open a file object on disk before writing information into it\n",
    "- Opening a file can fail\n",
    "  - location does not exist\n",
    "  - no write privilege for the location\n",
    "\n",
    "By default a file is opened in **read** mode"
   ]
  },
  {
   "cell_type": "code",
   "execution_count": null,
   "metadata": {
    "scrolled": false
   },
   "outputs": [],
   "source": [
    "fname = '/tmp/data.txt'\n",
    "f = open(fname)"
   ]
  },
  {
   "cell_type": "markdown",
   "metadata": {},
   "source": [
    "You must specify the **write** mode to store data in a file in output"
   ]
  },
  {
   "cell_type": "code",
   "execution_count": null,
   "metadata": {
    "scrolled": true
   },
   "outputs": [],
   "source": [
    "fname = '/tmp/data.txt'\n",
    "\n",
    "f = open(fname,mode='w')"
   ]
  },
  {
   "cell_type": "markdown",
   "metadata": {},
   "source": [
    "In this case the user does not have write permissions in `/`.\n",
    "\n",
    "Possible modes are:\n",
    "```\n",
    "========= ===============================================================\n",
    "Character Meaning\n",
    "--------- ---------------------------------------------------------------\n",
    "'r'       open for reading (default)\n",
    "'w'       open for writing, truncating the file first\n",
    "'x'       create a new file and open it for writing\n",
    "'a'       open for writing, appending to the end of the file if it exists\n",
    "'b'       binary mode\n",
    "'t'       text mode (default)\n",
    "'+'       open a disk file for updating (reading and writing)\n",
    "========= ===============================================================\n",
    "```\n",
    "So by default a text file is opened in read mode.\n",
    "\n",
    "We now store some values in a file to simulate data.\n",
    "\n",
    "It is important to close the file to make sure all data are flushed from memory to disk and the file handle closed properly"
   ]
  },
  {
   "cell_type": "code",
   "execution_count": null,
   "metadata": {},
   "outputs": [],
   "source": [
    "import os \n",
    "\n",
    "fname = 'data.txt'\n",
    "f = open(fname,'w')\n",
    "\n",
    "f.write('first file in python\\n')\n",
    "    \n",
    "f.close()\n",
    "\n",
    "os.listdir()"
   ]
  },
  {
   "cell_type": "markdown",
   "metadata": {},
   "source": [
    "## getting rid of `close()`\n",
    "\n",
    "To make it less C-like and feel more like python we can get rid of `close()` is usinng the `with` statement"
   ]
  },
  {
   "cell_type": "code",
   "execution_count": null,
   "metadata": {},
   "outputs": [],
   "source": [
    "fname = 'data2.txt'\n",
    "with open(fname,'w') as ofile:\n",
    "  ofile.write('first file in python\\n')\n",
    "\n",
    "os.listdir()"
   ]
  },
  {
   "cell_type": "markdown",
   "metadata": {},
   "source": [
    "`with` makes sure that ofile is an open file handle in the `with` scope. Once it ends you can no more use the handle, because `close()` has been called autmatically"
   ]
  },
  {
   "cell_type": "markdown",
   "metadata": {},
   "source": [
    "## Storing lists and multiple values\n",
    "\n",
    "You can use the C-style output to format and store elements of a list"
   ]
  },
  {
   "cell_type": "code",
   "execution_count": null,
   "metadata": {},
   "outputs": [],
   "source": [
    "import random\n",
    "\n",
    "nevents = 3\n",
    "\n",
    "fname = 'data1.txt'\n",
    "with open(fname,'w') as f:\n",
    "    for i in range(nevents):\n",
    "        measurements = [ random.random() for j in range(10) ]\n",
    "        for val in measurements:\n",
    "            f.write(\"%.3f\\t\"%val)\n",
    "        f.write('\\n')\n"
   ]
  },
  {
   "cell_type": "markdown",
   "metadata": {},
   "source": [
    "A more python-style is to use a new `writelines()` function and comprehensions"
   ]
  },
  {
   "cell_type": "code",
   "execution_count": null,
   "metadata": {},
   "outputs": [],
   "source": [
    "import random\n",
    "\n",
    "nevents = 3\n",
    "\n",
    "fname = 'data2.txt'\n",
    "with open(fname,'w') as f:\n",
    "    for i in range(nevents):\n",
    "        measurements = [ random.random() for j in range(10) ]\n",
    "        f.writelines(\"%.3f\\t\"%val for val in measurements)\n",
    "        f.write('\\n')"
   ]
  },
  {
   "cell_type": "markdown",
   "metadata": {},
   "source": [
    "which can be further reduced"
   ]
  },
  {
   "cell_type": "code",
   "execution_count": null,
   "metadata": {},
   "outputs": [],
   "source": [
    "import random\n",
    "\n",
    "nevents = 3\n",
    "\n",
    "fname = 'data2.txt'\n",
    "with open(fname,'w') as f:\n",
    "    for i in range(nevents):\n",
    "        f.writelines(\"%.3f\\t\"%val for val in [ random.random() for j in range(10) ] )\n",
    "        f.write('\\n')\n"
   ]
  },
  {
   "cell_type": "markdown",
   "metadata": {},
   "source": [
    "## Input from file\n",
    "\n",
    "A file can be read in a single string and then split into lines and columns. "
   ]
  },
  {
   "cell_type": "code",
   "execution_count": null,
   "metadata": {
    "scrolled": true
   },
   "outputs": [],
   "source": [
    "fname = 'data2.txt'\n",
    "\n",
    "f = open(fname)\n",
    "file = f.read()\n",
    "print(file)\n",
    "\n",
    "vals = file.split()\n",
    "print(vals)\n",
    "print(type(vals))"
   ]
  },
  {
   "cell_type": "markdown",
   "metadata": {},
   "source": [
    "You could also read the file as a list of iines, each line marked by a newline `\\n`"
   ]
  },
  {
   "cell_type": "code",
   "execution_count": null,
   "metadata": {},
   "outputs": [],
   "source": [
    "fname = 'data2.txt'\n",
    "lines = [l for l in open(fname)]\n",
    "print(lines)"
   ]
  },
  {
   "cell_type": "markdown",
   "metadata": {},
   "source": [
    "However you note that you have `\\t` and `\\n` as part of the strigf being read in! Fixing this is easy"
   ]
  },
  {
   "cell_type": "code",
   "execution_count": null,
   "metadata": {},
   "outputs": [],
   "source": [
    "fname = 'data2.txt'\n",
    "lines = [l.strip() for l in open(fname)]\n",
    "print(lines)"
   ]
  },
  {
   "cell_type": "markdown",
   "metadata": {},
   "source": [
    "this has removed the `\\n`. We now split each line using `\\t` as the separator"
   ]
  },
  {
   "cell_type": "code",
   "execution_count": null,
   "metadata": {},
   "outputs": [],
   "source": [
    "fname = 'data2.txt'\n",
    "lines = [l.strip() for l in open(fname)]\n",
    "data = [ l.split('\\t') for l in lines ]\n",
    "print(data)\n",
    "print(data[2:])"
   ]
  },
  {
   "cell_type": "markdown",
   "metadata": {},
   "source": [
    "even more concisely"
   ]
  },
  {
   "cell_type": "code",
   "execution_count": null,
   "metadata": {},
   "outputs": [],
   "source": [
    "fname = 'data2.txt'\n",
    "data = [ l.split('\\t') for l in [line.strip() for line in open(fname)] ]\n",
    "print(data)"
   ]
  },
  {
   "cell_type": "markdown",
   "metadata": {},
   "source": [
    "### exercise\n",
    "- change the separator and use `,` or `:` to store and read back data files"
   ]
  },
  {
   "cell_type": "markdown",
   "metadata": {},
   "source": [
    "## Storing Lists, Dicts, and Tuples\n",
    "\n",
    "As you have seen with the example above, there is no automatic writing of objects. So for a dictionary you need to take care of formatting the output file. "
   ]
  },
  {
   "cell_type": "code",
   "execution_count": null,
   "metadata": {},
   "outputs": [],
   "source": [
    "import random\n",
    "\n",
    "datum = {'val':-1.1, 'err':0.2}\n",
    "\n",
    "fname = 'data4.txt'\n",
    "\n",
    "with open(fname,'w') as f:\n",
    "    f.writelines(\"%s\\t\"%v for v in datum.keys())\n",
    "    f.write('\\n')\n",
    "    for i in range(10):\n",
    "        datum['val'] = random.uniform(-3.,3.)\n",
    "        datum['err'] = random.normalvariate(0., 0.2)\n",
    "        f.writelines(\"%.3f\\t\"%val for val in datum.values() )\n",
    "        f.write('\\n')\n"
   ]
  },
  {
   "cell_type": "markdown",
   "metadata": {},
   "source": [
    "### Exercise\n",
    "- use a dictionary to store data for 3 keys of different type\n",
    "- store 100 dictionary instances in file\n",
    "- read back and populate dictionary objects from file"
   ]
  },
  {
   "cell_type": "markdown",
   "metadata": {},
   "source": [
    "## Storing NumPy objects\n",
    "\n",
    "NumPy provides built-in functions to easily store and read ndarrays in binary and text format  without iterating over each element"
   ]
  },
  {
   "cell_type": "code",
   "execution_count": null,
   "metadata": {},
   "outputs": [],
   "source": [
    "import numpy as np\n",
    "import os\n",
    "\n",
    "matrix = np.random.randn(100,10)\n",
    "\n",
    "fname = 'npdata1'\n",
    "np.save(fname+'.npy', matrix)\n",
    "np.savetxt(fname+'.txt', matrix)\n"
   ]
  },
  {
   "cell_type": "markdown",
   "metadata": {},
   "source": [
    "Reading the file is also simple with `load()`"
   ]
  },
  {
   "cell_type": "code",
   "execution_count": null,
   "metadata": {},
   "outputs": [],
   "source": [
    "vals = np.load(fname+'.npy')\n",
    "\n",
    "print(vals.shape)\n",
    "print(vals[:1,])"
   ]
  },
  {
   "cell_type": "markdown",
   "metadata": {},
   "source": [
    "The [Python Data Analysis Library (pandas)](http://pandas.pydata.org) provides even more efficient tools and data formats to handle data for analysis and their storage to file."
   ]
  },
  {
   "cell_type": "markdown",
   "metadata": {},
   "source": [
    "## Data storage with pickle and JSON \n",
    "\n",
    "With NumPy we saw the first example of using the binary format to easy store an array.\n",
    "\n",
    "Previously we had oly saved data in text files by iterating over elements of lists and dictionaries.\n",
    "\n",
    "Python provides a built-in [pickle]() library for easy storage of lists and other built-in python objects in binary format. "
   ]
  },
  {
   "cell_type": "code",
   "execution_count": 1,
   "metadata": {
    "scrolled": true
   },
   "outputs": [
    {
     "data": {
      "text/plain": [
       "['MidpointIntegrator.cc',\n",
       " 'analyser.cpp',\n",
       " 'Parallel.cc',\n",
       " 'Resistor.cc',\n",
       " 'Function1.hh',\n",
       " 'python-03.ipynb',\n",
       " 'Vector3D.cc',\n",
       " 'canvas-points.pdf',\n",
       " 'different-detectors.pdf',\n",
       " 'Constant.cc',\n",
       " 'Calculator.hh',\n",
       " 'tesitng_trees.cpp',\n",
       " 'random_data_generator',\n",
       " 'wgtavg',\n",
       " 'CompositeParticle.o',\n",
       " 'Particle.hh',\n",
       " 'integration_example.cpp',\n",
       " 'lab9.ipynb',\n",
       " 'canvas.eps',\n",
       " 'test_app',\n",
       " 'RandomData.o',\n",
       " 'CompositeSystem.o',\n",
       " 'test_vector3d.cpp',\n",
       " 'Function.cc',\n",
       " '.DS_Store',\n",
       " 'SimpleBody.cc',\n",
       " 'canvas-blue.jpg',\n",
       " 'Exponential1.o',\n",
       " 'etall.pdf',\n",
       " 'Counter.o',\n",
       " 'app',\n",
       " 'codTree_QCD_Pt_1400to1800.root',\n",
       " 'ptall.pdf',\n",
       " 'random_data_generator.cpp',\n",
       " 'readidng_tree.cpp',\n",
       " 'Polynomial.cc',\n",
       " 'computing_methods.xcodeproj',\n",
       " 'InputService.cc',\n",
       " 'Polynomial.o',\n",
       " 'CustomMCIntegrator.cc',\n",
       " 'Counter.cc',\n",
       " 'Result.hh',\n",
       " 'Complex.cc',\n",
       " 'Exponential1.cc',\n",
       " 'Function.hh',\n",
       " 'pickle1.data',\n",
       " 'libMyLib.a',\n",
       " 'SimpleBody.hh',\n",
       " 'prova2.cpp',\n",
       " 'Makefile',\n",
       " 'etagreater.pdf',\n",
       " 'residual-mc.pdf',\n",
       " 'lab8.ipynb',\n",
       " 'ppmass.pdf',\n",
       " 'Polynomial.hh',\n",
       " 'Constant.o',\n",
       " 'CustomMCIntegrator.hh',\n",
       " 'InputService.hh',\n",
       " 'python-02.ipynb',\n",
       " 'true-mass.pdf',\n",
       " 'Complex.hh',\n",
       " 'Exponential1.hh',\n",
       " 'Complex.hh.gch',\n",
       " 'Counter.hh',\n",
       " 'Result.cc',\n",
       " 'MyDict.cxx',\n",
       " 'Function1.cc',\n",
       " 'Resistor.hh',\n",
       " 'Analysis.C',\n",
       " 'MidpointIntegrator.hh',\n",
       " 'Parallel.hh',\n",
       " 'InputService.o',\n",
       " 'data_file.dat',\n",
       " 'opening-angle.pdf',\n",
       " 'app.o',\n",
       " 'Vector3D.hh',\n",
       " 'custom_objects',\n",
       " 'test_random.cpp',\n",
       " 'Calculator.cc',\n",
       " 'residual-mp.pdf',\n",
       " 'Constant.hh',\n",
       " 'phiall.pdf',\n",
       " 'test_complex_class.cpp',\n",
       " 'Particle.cc',\n",
       " 'measured-mass.pdf',\n",
       " 'residuals-mp-tgraph.pdf',\n",
       " 'MidpointIntegrator.o',\n",
       " 'variable_branches.cpp',\n",
       " 'Gauss.cc',\n",
       " 'Datum.o',\n",
       " 'test_tree_app',\n",
       " 'Calculator.o',\n",
       " 'Datum.hh',\n",
       " 'CompositeParticle.hh',\n",
       " 'Resistor.o',\n",
       " 'SimpleBody.o',\n",
       " 'Body.hh',\n",
       " 'massall.pdf',\n",
       " 'reading_test',\n",
       " 'Exponential.cc',\n",
       " 'Datum.h.gch',\n",
       " 'MyDict.o',\n",
       " 'etaless.pdf',\n",
       " 'Particle.o',\n",
       " 'histo_prova',\n",
       " 'histo_prova.cpp',\n",
       " 'Function1.o',\n",
       " 'wgtavg.cpp',\n",
       " 'solar-system-lol.pdf',\n",
       " 'residual-mc-tgraph.pdf',\n",
       " 'Gauss.o',\n",
       " 'CompositeSystem.cc',\n",
       " 'Series.cc',\n",
       " 'RandomData.cc',\n",
       " 'CustomIntegrator.hh',\n",
       " 'variable_branches',\n",
       " 'Counter.hh.gch',\n",
       " '.ipynb_checkpoints',\n",
       " 'custom_objects.cpp',\n",
       " 'Exponential.hh',\n",
       " 'MyDict_rdict.pcm',\n",
       " 'complex_test',\n",
       " 'appComposite.cpp',\n",
       " 'canvas-points.eps',\n",
       " 'lab3.cpp',\n",
       " 'CompositeSystem.hh',\n",
       " 'Series.hh',\n",
       " 'invariant-mass.pdf',\n",
       " 'python.ipynb',\n",
       " 'Vector3D.o',\n",
       " '.git',\n",
       " '.vscode',\n",
       " 'o-sol.pdf',\n",
       " 'CustomMCIntegrator.o',\n",
       " 'solar_system.exe',\n",
       " 'RandomData.hh',\n",
       " 'Parallel.o',\n",
       " 'lab6.cpp',\n",
       " 'particle-tree.root',\n",
       " 'canvas.jpg',\n",
       " 'Series.o',\n",
       " 'Function.o',\n",
       " 'Gauss.hh',\n",
       " 'canvas-blue.eps',\n",
       " 'lab5.cpp',\n",
       " 'Exponential.o',\n",
       " 'Complex.o',\n",
       " 'CompositeParticle.cc',\n",
       " 'Datum.cc',\n",
       " 'CMP.code-workspace',\n",
       " 'Analysis.h',\n",
       " 'Analysis.o',\n",
       " 'Datum.hh.gch',\n",
       " 'app.cpp',\n",
       " 'lab4.cpp']"
      ]
     },
     "execution_count": 1,
     "metadata": {},
     "output_type": "execute_result"
    }
   ],
   "source": [
    "import random\n",
    "import pickle\n",
    "import os\n",
    "\n",
    "datum = {'val':-1.1, 'err':0.2}\n",
    "\n",
    "fname = 'pickle1.data'\n",
    "with open(fname,'wb') as f:\n",
    "    pickle.dump(datum,f)\n",
    "\n",
    "os.listdir()"
   ]
  },
  {
   "cell_type": "markdown",
   "metadata": {},
   "source": [
    "Readig back is also easy"
   ]
  },
  {
   "cell_type": "code",
   "execution_count": 2,
   "metadata": {},
   "outputs": [
    {
     "name": "stdout",
     "output_type": "stream",
     "text": [
      "{'val': -1.1, 'err': 0.2}\n"
     ]
    }
   ],
   "source": [
    "\n",
    "fname = 'pickle1.data'\n",
    "with open(fname,'rb') as f:\n",
    "    indata = pickle.load(f)\n",
    "\n",
    "print(indata)\n"
   ]
  },
  {
   "cell_type": "markdown",
   "metadata": {},
   "source": [
    "## JSON \n",
    "\n",
    "However, a commonly used format for data storage that is cross platform and cross language is [JSON (JavaScript Object Notation](https://www.json.org).\n",
    "\n",
    "The JSON librray in python allows you to convert python objects (including your custom classes) into JSON for storage.\n",
    "\n",
    "Converting or enconding an object into JSON is commonly called **serialization**. Converting from JSON to python objects is referred to as **deserialization**. For  more details and introduction see this nice webpage on [working with JSON](https://realpython.com/python-json/). \n",
    "\n",
    "Here is an example of dictionary and list stored in JSON files.\n",
    "\n",
    "There are two functions commonly used\n",
    "- `dump()`: convert an object into JSON and possibly write to file\n",
    "- `dumps()` note the extra **s**: converto to JSON string but cannot interact with file\n",
    "The two functions are identical except for the file interaction."
   ]
  },
  {
   "cell_type": "code",
   "execution_count": null,
   "metadata": {
    "scrolled": true
   },
   "outputs": [],
   "source": [
    "import json\n",
    "import os\n",
    "\n",
    "datum = {'val':-1.1, 'err':0.2}\n",
    "\n",
    "x = json.dumps(datum)\n",
    "print(x)\n",
    "\n",
    "data = [z for z in range(10)]\n",
    "y = json.dumps(data)\n",
    "\n",
    "print(y)\n",
    "\n",
    "with open('data.json','w') as of:\n",
    "    json.dump([datum, data], of)\n",
    " \n",
    "os.listdir()"
   ]
  },
  {
   "cell_type": "markdown",
   "metadata": {},
   "source": [
    "Now we read back or deserialize the data from file"
   ]
  },
  {
   "cell_type": "code",
   "execution_count": null,
   "metadata": {
    "scrolled": true
   },
   "outputs": [],
   "source": [
    "with open('data.json') as infile:\n",
    "    indata = json.load(infile)\n",
    "print(indata)\n",
    "datum = indata[0]\n",
    "data = indata[1]\n",
    "print(datum, data)"
   ]
  },
  {
   "cell_type": "markdown",
   "metadata": {},
   "source": [
    "# Functions with arbitrary number of arguments\n",
    "\n",
    "As you have seen, `print()` function can have a variable number of arguments. The same behaviour can easily be defined for any custom defined function for both positioal and keyword arguments\n",
    "\n",
    "## positional arguments\n",
    "\n",
    "Additional arguments are taken via the special `*arg` argument which is a tuple of additional positional arguments"
   ]
  },
  {
   "cell_type": "code",
   "execution_count": null,
   "metadata": {},
   "outputs": [],
   "source": [
    "def myfunc(a, *arg):\n",
    "    print(\"positional arguments: %s %s\"%(a,arg))\n",
    "    if len(arg):\n",
    "        for x in arg:\n",
    "            print('[%s]\\t'%x)\n",
    "        print('\\n')\n",
    "\n",
    "myfunc(1.1)\n",
    "myfunc('ciao')\n",
    "myfunc(-0.2, 0.3, 'ciao')\n",
    "myfunc(-0.2, 0.3, 'ciao', 'hello', -2, 100)"
   ]
  },
  {
   "cell_type": "markdown",
   "metadata": {},
   "source": [
    "## keyword arguments\n",
    "\n",
    "For optional keyword arguments the `**kargs` feature is used"
   ]
  },
  {
   "cell_type": "code",
   "execution_count": null,
   "metadata": {},
   "outputs": [],
   "source": [
    "def myf2(a,mu=0.0, sig=0.1, **karg):\n",
    "    print(\"a: %s\"%(a))\n",
    "    print(\"keyword arguments: %s %s %s\"%(mu,sig,karg))\n",
    "    if len(karg):\n",
    "        for x in karg:\n",
    "            print('[%s]\\t'%x)\n",
    "            \n",
    "        print('\\n')\n",
    "myf2(0.1)\n",
    "myf2(0.3, sig=0.5)\n",
    "myf2(0.3, color='red')\n",
    "myf2(0.3, color='red', mu=0.6)"
   ]
  },
  {
   "cell_type": "markdown",
   "metadata": {},
   "source": [
    "The additional keyword arguments are stored as a dictionary."
   ]
  },
  {
   "cell_type": "code",
   "execution_count": null,
   "metadata": {},
   "outputs": [],
   "source": [
    "def myf3(a,mu=0.0, sig=0.1, **karg):\n",
    "    print(\"a: %s\"%(a))\n",
    "    print(\"keyword arguments: %s %s %s\"%(mu,sig,karg))\n",
    "    if len(karg):\n",
    "        for x in karg.keys():\n",
    "            print('[%s = %s]\\t'%(x, karg[x]))\n",
    "        print('\\n')\n",
    "myf3(0.1)\n",
    "myf3(0.3, color='red', mu=0.6)"
   ]
  },
  {
   "cell_type": "markdown",
   "metadata": {},
   "source": [
    "You can also combine both positional and keyword arguments for the most generic function"
   ]
  },
  {
   "cell_type": "code",
   "execution_count": null,
   "metadata": {},
   "outputs": [],
   "source": [
    "def myf4(a,*arg, mu=0.0, sig=0.1, **karg):\n",
    "    print(\"function called\")\n",
    "    print(\"positional a: %s %s\"%(a,arg))\n",
    "    if len(arg):\n",
    "        for x in arg:\n",
    "            print('[%s]\\t'%x)\n",
    "        print('\\n')\n",
    "    print(\"keyword: %s %s %s\"%(mu,sig,karg))    \n",
    "    if len(karg):\n",
    "        for x in karg.keys():\n",
    "            print('[%s = %s]\\t'%(x, karg[x]))\n",
    "        print('\\n')\n",
    "    print('\\n')\n",
    "myf4(-0.1)\n",
    "myf4(-0.1,10.1)\n",
    "myf4(-0.1,mu=10.1)"
   ]
  },
  {
   "cell_type": "code",
   "execution_count": null,
   "metadata": {},
   "outputs": [],
   "source": [
    "myf4(0.3,'x','y', 0.9, color='red', mu=0.6, thick=1.1, fill='true')"
   ]
  },
  {
   "cell_type": "markdown",
   "metadata": {},
   "source": [
    "## Command line arguments for python programs\n",
    "\n",
    "The sys module gives easy access to command line arguments as a list. An example is in [app1.py](examples/app1.py)"
   ]
  },
  {
   "cell_type": "code",
   "execution_count": null,
   "metadata": {},
   "outputs": [],
   "source": [
    "# %load examples/app1.py\n",
    "import sys, os\n",
    "\n",
    "print(\"Running \"+__file__)\n",
    "\n",
    "print(\"Running \"+os.path.basename(__file__))\n",
    "\n",
    "\n",
    "print(\"program called with %d arguments\"%len(sys.argv))\n",
    "\n",
    "for a in sys.argv:\n",
    "    print(a)\n"
   ]
  }
 ],
 "metadata": {
  "kernelspec": {
   "display_name": "Python 3",
   "language": "python",
   "name": "python3"
  },
  "language_info": {
   "codemirror_mode": {
    "name": "ipython",
    "version": 3
   },
   "file_extension": ".py",
   "mimetype": "text/x-python",
   "name": "python",
   "nbconvert_exporter": "python",
   "pygments_lexer": "ipython3",
   "version": "3.8.2"
  }
 },
 "nbformat": 4,
 "nbformat_minor": 2
}
